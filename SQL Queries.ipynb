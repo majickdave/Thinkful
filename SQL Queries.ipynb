{
 "cells": [
  {
   "cell_type": "markdown",
   "metadata": {},
   "source": [
    "1. The ID's and durations for all trips of duration greater than 500, ordered by duration.\n",
    "\n",
    "SELECT \n",
    "    trip_id,\n",
    "    duration\n",
    "FROM \n",
    "    trips\n",
    "WHERE\n",
    "    duration > 500\n",
    "ORDER BY duration\n",
    "\n",
    "2. Every column of the stations table for station id 84.\n",
    "\n",
    "SELECT *\n",
    "FROM \n",
    "    stations\n",
    "WHERE\n",
    "    station_id = 84\n",
    "\n",
    "3. The min temperatures of all the occurrences of rain in zip 94301.\n",
    "\n",
    "SELECT \n",
    "    MinTemperatureF\n",
    "FROM\n",
    "    weather\n",
    "WHERE\n",
    "    ZIP = 94301 AND \n",
    "    Events like 'Rain'"
   ]
  }
 ],
 "metadata": {
  "kernelspec": {
   "display_name": "Python 3",
   "language": "python",
   "name": "python3"
  },
  "language_info": {
   "codemirror_mode": {
    "name": "ipython",
    "version": 3
   },
   "file_extension": ".py",
   "mimetype": "text/x-python",
   "name": "python",
   "nbconvert_exporter": "python",
   "pygments_lexer": "ipython3",
   "version": "3.6.4"
  }
 },
 "nbformat": 4,
 "nbformat_minor": 2
}
