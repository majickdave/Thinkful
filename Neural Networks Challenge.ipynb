{
 "cells": [
  {
   "cell_type": "markdown",
   "metadata": {},
   "source": [
    "# Dataset Overview\n",
    "This dataset contains observations detailing the results of professional boxing bouts. The data was originally scraped from BoxRec.com and contains key features such as demographic/physical characteristics of each boxer, boxer's professional record, and data particular to this bout such as scores from judges and the end result.\n",
    "\n",
    "The dataset was found on Kaggle and can be accessed below:\n",
    "https://www.kaggle.com/slonsky/boxing-bouts\n",
    "\n",
    "Dataset contains approximately 387k observations across 26 columns (features)."
   ]
  },
  {
   "cell_type": "code",
   "execution_count": 13,
   "metadata": {},
   "outputs": [],
   "source": [
    "import numpy as np\n",
    "import pandas as pd\n",
    "import matplotlib.pyplot as plt\n",
    "from sklearn.neural_network import MLPClassifier\n",
    "from sklearn.model_selection import cross_val_score\n",
    "from sklearn import ensemble\n",
    "import matplotlib.pyplot as plt\n",
    "import seaborn as sns\n",
    "\n",
    "%matplotlib inline"
   ]
  },
  {
   "cell_type": "markdown",
   "metadata": {},
   "source": [
    "# Read Data In, Get a Feel for Characteristics"
   ]
  },
  {
   "cell_type": "code",
   "execution_count": 14,
   "metadata": {},
   "outputs": [],
   "source": [
    "boxing = pd.read_csv('boxing.csv')"
   ]
  },
  {
   "cell_type": "code",
   "execution_count": 15,
   "metadata": {},
   "outputs": [
    {
     "data": {
      "text/plain": [
       "(387427, 26)"
      ]
     },
     "execution_count": 15,
     "metadata": {},
     "output_type": "execute_result"
    }
   ],
   "source": [
    "boxing.shape"
   ]
  },
  {
   "cell_type": "code",
   "execution_count": 16,
   "metadata": {},
   "outputs": [
    {
     "data": {
      "text/plain": [
       "Index(['age_A', 'age_B', 'height_A', 'height_B', 'reach_A', 'reach_B',\n",
       "       'stance_A', 'stance_B', 'weight_A', 'weight_B', 'won_A', 'won_B',\n",
       "       'lost_A', 'lost_B', 'drawn_A', 'drawn_B', 'kos_A', 'kos_B', 'result',\n",
       "       'decision', 'judge1_A', 'judge1_B', 'judge2_A', 'judge2_B', 'judge3_A',\n",
       "       'judge3_B'],\n",
       "      dtype='object')"
      ]
     },
     "execution_count": 16,
     "metadata": {},
     "output_type": "execute_result"
    }
   ],
   "source": [
    "boxing.columns"
   ]
  },
  {
   "cell_type": "code",
   "execution_count": 17,
   "metadata": {},
   "outputs": [
    {
     "data": {
      "text/plain": [
       "age_A       float64\n",
       "age_B       float64\n",
       "height_A    float64\n",
       "height_B    float64\n",
       "reach_A     float64\n",
       "reach_B     float64\n",
       "stance_A     object\n",
       "stance_B     object\n",
       "weight_A    float64\n",
       "weight_B    float64\n",
       "won_A         int64\n",
       "won_B         int64\n",
       "lost_A        int64\n",
       "lost_B        int64\n",
       "drawn_A       int64\n",
       "drawn_B       int64\n",
       "kos_A         int64\n",
       "kos_B       float64\n",
       "result       object\n",
       "decision     object\n",
       "judge1_A    float64\n",
       "judge1_B    float64\n",
       "judge2_A    float64\n",
       "judge2_B    float64\n",
       "judge3_A    float64\n",
       "judge3_B    float64\n",
       "dtype: object"
      ]
     },
     "execution_count": 17,
     "metadata": {},
     "output_type": "execute_result"
    }
   ],
   "source": [
    "boxing.dtypes"
   ]
  },
  {
   "cell_type": "markdown",
   "metadata": {},
   "source": [
    "# Exploratory Analysis"
   ]
  },
  {
   "cell_type": "code",
   "execution_count": 18,
   "metadata": {},
   "outputs": [
    {
     "data": {
      "text/html": [
       "<div>\n",
       "<style scoped>\n",
       "    .dataframe tbody tr th:only-of-type {\n",
       "        vertical-align: middle;\n",
       "    }\n",
       "\n",
       "    .dataframe tbody tr th {\n",
       "        vertical-align: top;\n",
       "    }\n",
       "\n",
       "    .dataframe thead th {\n",
       "        text-align: right;\n",
       "    }\n",
       "</style>\n",
       "<table border=\"1\" class=\"dataframe\">\n",
       "  <thead>\n",
       "    <tr style=\"text-align: right;\">\n",
       "      <th></th>\n",
       "      <th>age_A</th>\n",
       "      <th>age_B</th>\n",
       "      <th>height_A</th>\n",
       "      <th>height_B</th>\n",
       "      <th>reach_A</th>\n",
       "      <th>reach_B</th>\n",
       "      <th>stance_A</th>\n",
       "      <th>stance_B</th>\n",
       "      <th>weight_A</th>\n",
       "      <th>weight_B</th>\n",
       "      <th>...</th>\n",
       "      <th>kos_A</th>\n",
       "      <th>kos_B</th>\n",
       "      <th>result</th>\n",
       "      <th>decision</th>\n",
       "      <th>judge1_A</th>\n",
       "      <th>judge1_B</th>\n",
       "      <th>judge2_A</th>\n",
       "      <th>judge2_B</th>\n",
       "      <th>judge3_A</th>\n",
       "      <th>judge3_B</th>\n",
       "    </tr>\n",
       "  </thead>\n",
       "  <tbody>\n",
       "    <tr>\n",
       "      <th>0</th>\n",
       "      <td>35.0</td>\n",
       "      <td>27.0</td>\n",
       "      <td>179.0</td>\n",
       "      <td>175.0</td>\n",
       "      <td>178.0</td>\n",
       "      <td>179.0</td>\n",
       "      <td>orthodox</td>\n",
       "      <td>orthodox</td>\n",
       "      <td>160.0</td>\n",
       "      <td>160.0</td>\n",
       "      <td>...</td>\n",
       "      <td>33</td>\n",
       "      <td>34.0</td>\n",
       "      <td>draw</td>\n",
       "      <td>SD</td>\n",
       "      <td>110.0</td>\n",
       "      <td>118.0</td>\n",
       "      <td>115.0</td>\n",
       "      <td>113.0</td>\n",
       "      <td>114.0</td>\n",
       "      <td>114.0</td>\n",
       "    </tr>\n",
       "    <tr>\n",
       "      <th>1</th>\n",
       "      <td>26.0</td>\n",
       "      <td>31.0</td>\n",
       "      <td>175.0</td>\n",
       "      <td>185.0</td>\n",
       "      <td>179.0</td>\n",
       "      <td>185.0</td>\n",
       "      <td>orthodox</td>\n",
       "      <td>orthodox</td>\n",
       "      <td>164.0</td>\n",
       "      <td>164.0</td>\n",
       "      <td>...</td>\n",
       "      <td>34</td>\n",
       "      <td>32.0</td>\n",
       "      <td>win_A</td>\n",
       "      <td>UD</td>\n",
       "      <td>120.0</td>\n",
       "      <td>108.0</td>\n",
       "      <td>120.0</td>\n",
       "      <td>108.0</td>\n",
       "      <td>120.0</td>\n",
       "      <td>108.0</td>\n",
       "    </tr>\n",
       "    <tr>\n",
       "      <th>2</th>\n",
       "      <td>28.0</td>\n",
       "      <td>26.0</td>\n",
       "      <td>176.0</td>\n",
       "      <td>175.0</td>\n",
       "      <td>NaN</td>\n",
       "      <td>179.0</td>\n",
       "      <td>orthodox</td>\n",
       "      <td>orthodox</td>\n",
       "      <td>154.0</td>\n",
       "      <td>154.0</td>\n",
       "      <td>...</td>\n",
       "      <td>13</td>\n",
       "      <td>33.0</td>\n",
       "      <td>win_B</td>\n",
       "      <td>KO</td>\n",
       "      <td>NaN</td>\n",
       "      <td>NaN</td>\n",
       "      <td>NaN</td>\n",
       "      <td>NaN</td>\n",
       "      <td>NaN</td>\n",
       "      <td>NaN</td>\n",
       "    </tr>\n",
       "    <tr>\n",
       "      <th>3</th>\n",
       "      <td>25.0</td>\n",
       "      <td>29.0</td>\n",
       "      <td>175.0</td>\n",
       "      <td>174.0</td>\n",
       "      <td>179.0</td>\n",
       "      <td>180.0</td>\n",
       "      <td>orthodox</td>\n",
       "      <td>orthodox</td>\n",
       "      <td>155.0</td>\n",
       "      <td>155.0</td>\n",
       "      <td>...</td>\n",
       "      <td>32</td>\n",
       "      <td>19.0</td>\n",
       "      <td>win_A</td>\n",
       "      <td>KO</td>\n",
       "      <td>47.0</td>\n",
       "      <td>48.0</td>\n",
       "      <td>49.0</td>\n",
       "      <td>46.0</td>\n",
       "      <td>48.0</td>\n",
       "      <td>47.0</td>\n",
       "    </tr>\n",
       "    <tr>\n",
       "      <th>4</th>\n",
       "      <td>25.0</td>\n",
       "      <td>35.0</td>\n",
       "      <td>175.0</td>\n",
       "      <td>170.0</td>\n",
       "      <td>179.0</td>\n",
       "      <td>170.0</td>\n",
       "      <td>orthodox</td>\n",
       "      <td>orthodox</td>\n",
       "      <td>155.0</td>\n",
       "      <td>NaN</td>\n",
       "      <td>...</td>\n",
       "      <td>32</td>\n",
       "      <td>33.0</td>\n",
       "      <td>win_A</td>\n",
       "      <td>UD</td>\n",
       "      <td>118.0</td>\n",
       "      <td>110.0</td>\n",
       "      <td>119.0</td>\n",
       "      <td>109.0</td>\n",
       "      <td>117.0</td>\n",
       "      <td>111.0</td>\n",
       "    </tr>\n",
       "    <tr>\n",
       "      <th>5</th>\n",
       "      <td>24.0</td>\n",
       "      <td>31.0</td>\n",
       "      <td>175.0</td>\n",
       "      <td>175.0</td>\n",
       "      <td>179.0</td>\n",
       "      <td>178.0</td>\n",
       "      <td>orthodox</td>\n",
       "      <td>orthodox</td>\n",
       "      <td>NaN</td>\n",
       "      <td>NaN</td>\n",
       "      <td>...</td>\n",
       "      <td>31</td>\n",
       "      <td>28.0</td>\n",
       "      <td>win_A</td>\n",
       "      <td>KO</td>\n",
       "      <td>NaN</td>\n",
       "      <td>NaN</td>\n",
       "      <td>NaN</td>\n",
       "      <td>NaN</td>\n",
       "      <td>NaN</td>\n",
       "      <td>NaN</td>\n",
       "    </tr>\n",
       "    <tr>\n",
       "      <th>6</th>\n",
       "      <td>23.0</td>\n",
       "      <td>31.0</td>\n",
       "      <td>175.0</td>\n",
       "      <td>175.0</td>\n",
       "      <td>179.0</td>\n",
       "      <td>188.0</td>\n",
       "      <td>orthodox</td>\n",
       "      <td>orthodox</td>\n",
       "      <td>155.0</td>\n",
       "      <td>155.0</td>\n",
       "      <td>...</td>\n",
       "      <td>31</td>\n",
       "      <td>12.0</td>\n",
       "      <td>win_A</td>\n",
       "      <td>SD</td>\n",
       "      <td>115.0</td>\n",
       "      <td>113.0</td>\n",
       "      <td>117.0</td>\n",
       "      <td>111.0</td>\n",
       "      <td>113.0</td>\n",
       "      <td>115.0</td>\n",
       "    </tr>\n",
       "    <tr>\n",
       "      <th>7</th>\n",
       "      <td>23.0</td>\n",
       "      <td>31.0</td>\n",
       "      <td>175.0</td>\n",
       "      <td>177.0</td>\n",
       "      <td>179.0</td>\n",
       "      <td>175.0</td>\n",
       "      <td>orthodox</td>\n",
       "      <td>orthodox</td>\n",
       "      <td>155.0</td>\n",
       "      <td>NaN</td>\n",
       "      <td>...</td>\n",
       "      <td>30</td>\n",
       "      <td>18.0</td>\n",
       "      <td>win_A</td>\n",
       "      <td>TKO</td>\n",
       "      <td>89.0</td>\n",
       "      <td>82.0</td>\n",
       "      <td>88.0</td>\n",
       "      <td>83.0</td>\n",
       "      <td>89.0</td>\n",
       "      <td>82.0</td>\n",
       "    </tr>\n",
       "    <tr>\n",
       "      <th>8</th>\n",
       "      <td>36.0</td>\n",
       "      <td>23.0</td>\n",
       "      <td>173.0</td>\n",
       "      <td>175.0</td>\n",
       "      <td>183.0</td>\n",
       "      <td>179.0</td>\n",
       "      <td>orthodox</td>\n",
       "      <td>orthodox</td>\n",
       "      <td>152.0</td>\n",
       "      <td>NaN</td>\n",
       "      <td>...</td>\n",
       "      <td>26</td>\n",
       "      <td>30.0</td>\n",
       "      <td>win_A</td>\n",
       "      <td>MD</td>\n",
       "      <td>116.0</td>\n",
       "      <td>112.0</td>\n",
       "      <td>114.0</td>\n",
       "      <td>114.0</td>\n",
       "      <td>117.0</td>\n",
       "      <td>111.0</td>\n",
       "    </tr>\n",
       "    <tr>\n",
       "      <th>9</th>\n",
       "      <td>27.0</td>\n",
       "      <td>22.0</td>\n",
       "      <td>177.0</td>\n",
       "      <td>175.0</td>\n",
       "      <td>183.0</td>\n",
       "      <td>179.0</td>\n",
       "      <td>southpaw</td>\n",
       "      <td>southpaw</td>\n",
       "      <td>NaN</td>\n",
       "      <td>NaN</td>\n",
       "      <td>...</td>\n",
       "      <td>14</td>\n",
       "      <td>30.0</td>\n",
       "      <td>win_B</td>\n",
       "      <td>UD</td>\n",
       "      <td>112.0</td>\n",
       "      <td>115.0</td>\n",
       "      <td>109.0</td>\n",
       "      <td>118.0</td>\n",
       "      <td>111.0</td>\n",
       "      <td>116.0</td>\n",
       "    </tr>\n",
       "  </tbody>\n",
       "</table>\n",
       "<p>10 rows × 26 columns</p>\n",
       "</div>"
      ],
      "text/plain": [
       "   age_A  age_B  height_A  height_B  reach_A  reach_B  stance_A  stance_B  \\\n",
       "0   35.0   27.0     179.0     175.0    178.0    179.0  orthodox  orthodox   \n",
       "1   26.0   31.0     175.0     185.0    179.0    185.0  orthodox  orthodox   \n",
       "2   28.0   26.0     176.0     175.0      NaN    179.0  orthodox  orthodox   \n",
       "3   25.0   29.0     175.0     174.0    179.0    180.0  orthodox  orthodox   \n",
       "4   25.0   35.0     175.0     170.0    179.0    170.0  orthodox  orthodox   \n",
       "5   24.0   31.0     175.0     175.0    179.0    178.0  orthodox  orthodox   \n",
       "6   23.0   31.0     175.0     175.0    179.0    188.0  orthodox  orthodox   \n",
       "7   23.0   31.0     175.0     177.0    179.0    175.0  orthodox  orthodox   \n",
       "8   36.0   23.0     173.0     175.0    183.0    179.0  orthodox  orthodox   \n",
       "9   27.0   22.0     177.0     175.0    183.0    179.0  southpaw  southpaw   \n",
       "\n",
       "   weight_A  weight_B   ...     kos_A  kos_B  result  decision  judge1_A  \\\n",
       "0     160.0     160.0   ...        33   34.0    draw        SD     110.0   \n",
       "1     164.0     164.0   ...        34   32.0   win_A        UD     120.0   \n",
       "2     154.0     154.0   ...        13   33.0   win_B        KO       NaN   \n",
       "3     155.0     155.0   ...        32   19.0   win_A        KO      47.0   \n",
       "4     155.0       NaN   ...        32   33.0   win_A        UD     118.0   \n",
       "5       NaN       NaN   ...        31   28.0   win_A        KO       NaN   \n",
       "6     155.0     155.0   ...        31   12.0   win_A        SD     115.0   \n",
       "7     155.0       NaN   ...        30   18.0   win_A       TKO      89.0   \n",
       "8     152.0       NaN   ...        26   30.0   win_A        MD     116.0   \n",
       "9       NaN       NaN   ...        14   30.0   win_B        UD     112.0   \n",
       "\n",
       "   judge1_B  judge2_A  judge2_B judge3_A judge3_B  \n",
       "0     118.0     115.0     113.0    114.0    114.0  \n",
       "1     108.0     120.0     108.0    120.0    108.0  \n",
       "2       NaN       NaN       NaN      NaN      NaN  \n",
       "3      48.0      49.0      46.0     48.0     47.0  \n",
       "4     110.0     119.0     109.0    117.0    111.0  \n",
       "5       NaN       NaN       NaN      NaN      NaN  \n",
       "6     113.0     117.0     111.0    113.0    115.0  \n",
       "7      82.0      88.0      83.0     89.0     82.0  \n",
       "8     112.0     114.0     114.0    117.0    111.0  \n",
       "9     115.0     109.0     118.0    111.0    116.0  \n",
       "\n",
       "[10 rows x 26 columns]"
      ]
     },
     "execution_count": 18,
     "metadata": {},
     "output_type": "execute_result"
    }
   ],
   "source": [
    "boxing.head(10)"
   ]
  },
  {
   "cell_type": "code",
   "execution_count": 19,
   "metadata": {},
   "outputs": [
    {
     "data": {
      "text/html": [
       "<div>\n",
       "<style scoped>\n",
       "    .dataframe tbody tr th:only-of-type {\n",
       "        vertical-align: middle;\n",
       "    }\n",
       "\n",
       "    .dataframe tbody tr th {\n",
       "        vertical-align: top;\n",
       "    }\n",
       "\n",
       "    .dataframe thead th {\n",
       "        text-align: right;\n",
       "    }\n",
       "</style>\n",
       "<table border=\"1\" class=\"dataframe\">\n",
       "  <thead>\n",
       "    <tr style=\"text-align: right;\">\n",
       "      <th></th>\n",
       "      <th>age_A</th>\n",
       "      <th>age_B</th>\n",
       "      <th>height_A</th>\n",
       "      <th>height_B</th>\n",
       "      <th>reach_A</th>\n",
       "      <th>reach_B</th>\n",
       "      <th>weight_A</th>\n",
       "      <th>weight_B</th>\n",
       "      <th>won_A</th>\n",
       "      <th>won_B</th>\n",
       "      <th>...</th>\n",
       "      <th>drawn_A</th>\n",
       "      <th>drawn_B</th>\n",
       "      <th>kos_A</th>\n",
       "      <th>kos_B</th>\n",
       "      <th>judge1_A</th>\n",
       "      <th>judge1_B</th>\n",
       "      <th>judge2_A</th>\n",
       "      <th>judge2_B</th>\n",
       "      <th>judge3_A</th>\n",
       "      <th>judge3_B</th>\n",
       "    </tr>\n",
       "  </thead>\n",
       "  <tbody>\n",
       "    <tr>\n",
       "      <th>count</th>\n",
       "      <td>352888.000000</td>\n",
       "      <td>257935.000000</td>\n",
       "      <td>249246.000000</td>\n",
       "      <td>134640.000000</td>\n",
       "      <td>112342.000000</td>\n",
       "      <td>37873.000000</td>\n",
       "      <td>135573.000000</td>\n",
       "      <td>130358.000000</td>\n",
       "      <td>387427.000000</td>\n",
       "      <td>387427.000000</td>\n",
       "      <td>...</td>\n",
       "      <td>387427.000000</td>\n",
       "      <td>387427.000000</td>\n",
       "      <td>387427.000000</td>\n",
       "      <td>387348.000000</td>\n",
       "      <td>52248.000000</td>\n",
       "      <td>52060.000000</td>\n",
       "      <td>70371.000000</td>\n",
       "      <td>70032.000000</td>\n",
       "      <td>61231.000000</td>\n",
       "      <td>61023.000000</td>\n",
       "    </tr>\n",
       "    <tr>\n",
       "      <th>mean</th>\n",
       "      <td>24.416041</td>\n",
       "      <td>26.583345</td>\n",
       "      <td>172.786657</td>\n",
       "      <td>172.882657</td>\n",
       "      <td>178.848605</td>\n",
       "      <td>179.001030</td>\n",
       "      <td>146.340636</td>\n",
       "      <td>147.089484</td>\n",
       "      <td>23.108438</td>\n",
       "      <td>15.159080</td>\n",
       "      <td>...</td>\n",
       "      <td>2.826481</td>\n",
       "      <td>2.636375</td>\n",
       "      <td>10.338887</td>\n",
       "      <td>6.234735</td>\n",
       "      <td>62.778901</td>\n",
       "      <td>59.509700</td>\n",
       "      <td>59.560941</td>\n",
       "      <td>56.570411</td>\n",
       "      <td>60.784276</td>\n",
       "      <td>57.995215</td>\n",
       "    </tr>\n",
       "    <tr>\n",
       "      <th>std</th>\n",
       "      <td>6.523590</td>\n",
       "      <td>11.823224</td>\n",
       "      <td>9.130127</td>\n",
       "      <td>9.430631</td>\n",
       "      <td>12.002404</td>\n",
       "      <td>14.867537</td>\n",
       "      <td>30.240142</td>\n",
       "      <td>30.624890</td>\n",
       "      <td>27.629901</td>\n",
       "      <td>19.938137</td>\n",
       "      <td>...</td>\n",
       "      <td>5.584610</td>\n",
       "      <td>5.027003</td>\n",
       "      <td>12.392049</td>\n",
       "      <td>8.750690</td>\n",
       "      <td>30.337580</td>\n",
       "      <td>29.285058</td>\n",
       "      <td>31.021367</td>\n",
       "      <td>30.260935</td>\n",
       "      <td>31.910461</td>\n",
       "      <td>31.170590</td>\n",
       "    </tr>\n",
       "    <tr>\n",
       "      <th>min</th>\n",
       "      <td>-74.000000</td>\n",
       "      <td>-74.000000</td>\n",
       "      <td>2.000000</td>\n",
       "      <td>15.000000</td>\n",
       "      <td>5.000000</td>\n",
       "      <td>1.000000</td>\n",
       "      <td>10.000000</td>\n",
       "      <td>2.000000</td>\n",
       "      <td>0.000000</td>\n",
       "      <td>0.000000</td>\n",
       "      <td>...</td>\n",
       "      <td>0.000000</td>\n",
       "      <td>0.000000</td>\n",
       "      <td>0.000000</td>\n",
       "      <td>0.000000</td>\n",
       "      <td>0.000000</td>\n",
       "      <td>1.000000</td>\n",
       "      <td>0.000000</td>\n",
       "      <td>0.000000</td>\n",
       "      <td>0.000000</td>\n",
       "      <td>1.000000</td>\n",
       "    </tr>\n",
       "    <tr>\n",
       "      <th>25%</th>\n",
       "      <td>21.000000</td>\n",
       "      <td>23.000000</td>\n",
       "      <td>166.000000</td>\n",
       "      <td>167.000000</td>\n",
       "      <td>170.000000</td>\n",
       "      <td>171.000000</td>\n",
       "      <td>125.000000</td>\n",
       "      <td>126.000000</td>\n",
       "      <td>5.000000</td>\n",
       "      <td>2.000000</td>\n",
       "      <td>...</td>\n",
       "      <td>0.000000</td>\n",
       "      <td>0.000000</td>\n",
       "      <td>2.000000</td>\n",
       "      <td>0.000000</td>\n",
       "      <td>39.000000</td>\n",
       "      <td>37.000000</td>\n",
       "      <td>39.000000</td>\n",
       "      <td>36.000000</td>\n",
       "      <td>39.000000</td>\n",
       "      <td>36.000000</td>\n",
       "    </tr>\n",
       "    <tr>\n",
       "      <th>50%</th>\n",
       "      <td>24.000000</td>\n",
       "      <td>26.000000</td>\n",
       "      <td>173.000000</td>\n",
       "      <td>173.000000</td>\n",
       "      <td>178.000000</td>\n",
       "      <td>178.000000</td>\n",
       "      <td>140.000000</td>\n",
       "      <td>140.000000</td>\n",
       "      <td>14.000000</td>\n",
       "      <td>8.000000</td>\n",
       "      <td>...</td>\n",
       "      <td>1.000000</td>\n",
       "      <td>1.000000</td>\n",
       "      <td>6.000000</td>\n",
       "      <td>3.000000</td>\n",
       "      <td>59.000000</td>\n",
       "      <td>54.000000</td>\n",
       "      <td>58.000000</td>\n",
       "      <td>54.000000</td>\n",
       "      <td>58.000000</td>\n",
       "      <td>54.000000</td>\n",
       "    </tr>\n",
       "    <tr>\n",
       "      <th>75%</th>\n",
       "      <td>27.000000</td>\n",
       "      <td>30.000000</td>\n",
       "      <td>178.000000</td>\n",
       "      <td>179.000000</td>\n",
       "      <td>185.000000</td>\n",
       "      <td>185.000000</td>\n",
       "      <td>160.000000</td>\n",
       "      <td>160.000000</td>\n",
       "      <td>31.000000</td>\n",
       "      <td>21.000000</td>\n",
       "      <td>...</td>\n",
       "      <td>3.000000</td>\n",
       "      <td>3.000000</td>\n",
       "      <td>14.000000</td>\n",
       "      <td>9.000000</td>\n",
       "      <td>80.000000</td>\n",
       "      <td>79.000000</td>\n",
       "      <td>80.000000</td>\n",
       "      <td>75.000000</td>\n",
       "      <td>80.000000</td>\n",
       "      <td>78.000000</td>\n",
       "    </tr>\n",
       "    <tr>\n",
       "      <th>max</th>\n",
       "      <td>1818.000000</td>\n",
       "      <td>2016.000000</td>\n",
       "      <td>255.000000</td>\n",
       "      <td>255.000000</td>\n",
       "      <td>456.000000</td>\n",
       "      <td>456.000000</td>\n",
       "      <td>363.000000</td>\n",
       "      <td>450.000000</td>\n",
       "      <td>332.000000</td>\n",
       "      <td>251.000000</td>\n",
       "      <td>...</td>\n",
       "      <td>77.000000</td>\n",
       "      <td>76.000000</td>\n",
       "      <td>131.000000</td>\n",
       "      <td>128.000000</td>\n",
       "      <td>540.000000</td>\n",
       "      <td>291.000000</td>\n",
       "      <td>299.000000</td>\n",
       "      <td>294.000000</td>\n",
       "      <td>300.000000</td>\n",
       "      <td>295.000000</td>\n",
       "    </tr>\n",
       "  </tbody>\n",
       "</table>\n",
       "<p>8 rows × 22 columns</p>\n",
       "</div>"
      ],
      "text/plain": [
       "               age_A          age_B       height_A       height_B  \\\n",
       "count  352888.000000  257935.000000  249246.000000  134640.000000   \n",
       "mean       24.416041      26.583345     172.786657     172.882657   \n",
       "std         6.523590      11.823224       9.130127       9.430631   \n",
       "min       -74.000000     -74.000000       2.000000      15.000000   \n",
       "25%        21.000000      23.000000     166.000000     167.000000   \n",
       "50%        24.000000      26.000000     173.000000     173.000000   \n",
       "75%        27.000000      30.000000     178.000000     179.000000   \n",
       "max      1818.000000    2016.000000     255.000000     255.000000   \n",
       "\n",
       "             reach_A       reach_B       weight_A       weight_B  \\\n",
       "count  112342.000000  37873.000000  135573.000000  130358.000000   \n",
       "mean      178.848605    179.001030     146.340636     147.089484   \n",
       "std        12.002404     14.867537      30.240142      30.624890   \n",
       "min         5.000000      1.000000      10.000000       2.000000   \n",
       "25%       170.000000    171.000000     125.000000     126.000000   \n",
       "50%       178.000000    178.000000     140.000000     140.000000   \n",
       "75%       185.000000    185.000000     160.000000     160.000000   \n",
       "max       456.000000    456.000000     363.000000     450.000000   \n",
       "\n",
       "               won_A          won_B      ...             drawn_A  \\\n",
       "count  387427.000000  387427.000000      ...       387427.000000   \n",
       "mean       23.108438      15.159080      ...            2.826481   \n",
       "std        27.629901      19.938137      ...            5.584610   \n",
       "min         0.000000       0.000000      ...            0.000000   \n",
       "25%         5.000000       2.000000      ...            0.000000   \n",
       "50%        14.000000       8.000000      ...            1.000000   \n",
       "75%        31.000000      21.000000      ...            3.000000   \n",
       "max       332.000000     251.000000      ...           77.000000   \n",
       "\n",
       "             drawn_B          kos_A          kos_B      judge1_A  \\\n",
       "count  387427.000000  387427.000000  387348.000000  52248.000000   \n",
       "mean        2.636375      10.338887       6.234735     62.778901   \n",
       "std         5.027003      12.392049       8.750690     30.337580   \n",
       "min         0.000000       0.000000       0.000000      0.000000   \n",
       "25%         0.000000       2.000000       0.000000     39.000000   \n",
       "50%         1.000000       6.000000       3.000000     59.000000   \n",
       "75%         3.000000      14.000000       9.000000     80.000000   \n",
       "max        76.000000     131.000000     128.000000    540.000000   \n",
       "\n",
       "           judge1_B      judge2_A      judge2_B      judge3_A      judge3_B  \n",
       "count  52060.000000  70371.000000  70032.000000  61231.000000  61023.000000  \n",
       "mean      59.509700     59.560941     56.570411     60.784276     57.995215  \n",
       "std       29.285058     31.021367     30.260935     31.910461     31.170590  \n",
       "min        1.000000      0.000000      0.000000      0.000000      1.000000  \n",
       "25%       37.000000     39.000000     36.000000     39.000000     36.000000  \n",
       "50%       54.000000     58.000000     54.000000     58.000000     54.000000  \n",
       "75%       79.000000     80.000000     75.000000     80.000000     78.000000  \n",
       "max      291.000000    299.000000    294.000000    300.000000    295.000000  \n",
       "\n",
       "[8 rows x 22 columns]"
      ]
     },
     "execution_count": 19,
     "metadata": {},
     "output_type": "execute_result"
    }
   ],
   "source": [
    "boxing.describe()"
   ]
  },
  {
   "cell_type": "code",
   "execution_count": 20,
   "metadata": {},
   "outputs": [
    {
     "data": {
      "image/png": "[encoded data removed]",
      "text/plain": [
       "<matplotlib.figure.Figure at 0x1a1ddee4e0>"
      ]
     },
     "metadata": {},
     "output_type": "display_data"
    },
    {
     "data": {
      "image/png": "[encoded data removed]",
      "text/plain": [
       "<matplotlib.figure.Figure at 0x1a1e53fd30>"
      ]
     },
     "metadata": {},
     "output_type": "display_data"
    },
    {
     "data": {
      "image/png": "[encoded data removed]",
      "text/plain": [
       "<matplotlib.figure.Figure at 0x1a1e0cfc18>"
      ]
     },
     "metadata": {},
     "output_type": "display_data"
    },
    {
     "data": {
      "image/png": "[encoded data removed]",
      "text/plain": [
       "<matplotlib.figure.Figure at 0x1a1de90da0>"
      ]
     },
     "metadata": {},
     "output_type": "display_data"
    },
    {
     "data": {
      "image/png": "[encoded data removed]",
      "text/plain": [
       "<matplotlib.figure.Figure at 0x1a1a54f2b0>"
      ]
     },
     "metadata": {},
     "output_type": "display_data"
    },
    {
     "data": {
      "image/png": "[encoded data removed]",
      "text/plain": [
       "<matplotlib.figure.Figure at 0x1a1ebf6550>"
      ]
     },
     "metadata": {},
     "output_type": "display_data"
    },
    {
     "data": {
      "image/png": "[encoded data removed]",
      "text/plain": [
       "<matplotlib.figure.Figure at 0x1a1ec1a8d0>"
      ]
     },
     "metadata": {},
     "output_type": "display_data"
    },
    {
     "data": {
      "image/png": "[encoded data removed]",
      "text/plain": [
       "<matplotlib.figure.Figure at 0x1a1ef6eb38>"
      ]
     },
     "metadata": {},
     "output_type": "display_data"
    },
    {
     "data": {
      "image/png": "[encoded data removed]",
      "text/plain": [
       "<matplotlib.figure.Figure at 0x1a1efebf28>"
      ]
     },
     "metadata": {},
     "output_type": "display_data"
    },
    {
     "data": {
      "image/png": "[encoded data removed]",
      "text/plain": [
       "<matplotlib.figure.Figure at 0x1a1ef55400>"
      ]
     },
     "metadata": {},
     "output_type": "display_data"
    },
    {
     "data": {
      "image/png": "[encoded data removed]",
      "text/plain": [
       "<matplotlib.figure.Figure at 0x1a1ddee278>"
      ]
     },
     "metadata": {},
     "output_type": "display_data"
    },
    {
     "data": {
      "image/png": "[encoded data removed]",
      "text/plain": [
       "<matplotlib.figure.Figure at 0x1a1e64cb70>"
      ]
     },
     "metadata": {},
     "output_type": "display_data"
    },
    {
     "data": {
      "image/png": "[encoded data removed]",
      "text/plain": [
       "<matplotlib.figure.Figure at 0x1a19d843c8>"
      ]
     },
     "metadata": {},
     "output_type": "display_data"
    },
    {
     "data": {
      "image/png": "[encoded data removed]",
      "text/plain": [
       "<matplotlib.figure.Figure at 0x1a1eab3160>"
      ]
     },
     "metadata": {},
     "output_type": "display_data"
    },
    {
     "data": {
      "image/png": "[encoded data removed]",
      "text/plain": [
       "<matplotlib.figure.Figure at 0x1a195c0d30>"
      ]
     },
     "metadata": {},
     "output_type": "display_data"
    }
   ],
   "source": [
    "# Plot histograms for all continuous data\n",
    "for col in boxing.dtypes[boxing.dtypes == 'float64'].index:\n",
    "    boxing[col].hist()\n",
    "    plt.title(col + \" Distribution\")\n",
    "    plt.xlabel(col + \" Values\")\n",
    "    plt.ylabel(\"Count\")\n",
    "    plt.show()"
   ]
  },
  {
   "cell_type": "markdown",
   "metadata": {},
   "source": [
    "# Data Cleaning"
   ]
  },
  {
   "cell_type": "code",
   "execution_count": 21,
   "metadata": {},
   "outputs": [
    {
     "name": "stdout",
     "output_type": "stream",
     "text": [
      "age_A        34539\n",
      "age_B       129492\n",
      "height_A    138181\n",
      "height_B    252787\n",
      "reach_A     275085\n",
      "reach_B     349554\n",
      "stance_A    156418\n",
      "stance_B    156418\n",
      "weight_A    251854\n",
      "weight_B    257069\n",
      "won_A            0\n",
      "won_B            0\n",
      "lost_A           0\n",
      "lost_B           0\n",
      "drawn_A          0\n",
      "drawn_B          0\n",
      "kos_A            0\n",
      "kos_B           79\n",
      "result           0\n",
      "decision         0\n",
      "judge1_A    335179\n",
      "judge1_B    335367\n",
      "judge2_A    317056\n",
      "judge2_B    317395\n",
      "judge3_A    326196\n",
      "judge3_B    326404\n",
      "dtype: int64\n"
     ]
    }
   ],
   "source": [
    "#Determine missing values across dataframe\n",
    "\n",
    "missing_values_count = boxing.isnull().sum()\n",
    "print(missing_values_count)"
   ]
  },
  {
   "cell_type": "code",
   "execution_count": 22,
   "metadata": {},
   "outputs": [],
   "source": [
    "#Drop NaNs\n",
    "boxing = boxing.dropna()"
   ]
  },
  {
   "cell_type": "code",
   "execution_count": 23,
   "metadata": {},
   "outputs": [
    {
     "data": {
      "text/plain": [
       "(2853, 26)"
      ]
     },
     "execution_count": 23,
     "metadata": {},
     "output_type": "execute_result"
    }
   ],
   "source": [
    "#Final input shape\n",
    "boxing.shape"
   ]
  },
  {
   "cell_type": "code",
   "execution_count": null,
   "metadata": {},
   "outputs": [],
   "source": []
  },
  {
   "cell_type": "markdown",
   "metadata": {},
   "source": [
    "# Instantiate and Run MLP Classifier Model"
   ]
  },
  {
   "cell_type": "code",
   "execution_count": 24,
   "metadata": {},
   "outputs": [],
   "source": [
    "#Take sample of boxing DataFrame for modeling purposes (computational complexity)\n",
    "boxing = boxing.sample(1000)\n",
    "\n",
    "#Establish X and Y\n",
    "X = boxing.drop(['stance_A', 'stance_B', 'result', 'decision'], 1)\n",
    "\n",
    "# Create dummies separately. Don't create for 'result' as this will be our Y.\n",
    "stance_A = pd.get_dummies(boxing.stance_A)\n",
    "stance_B = pd.get_dummies(boxing.stance_B)\n",
    "decision = pd.get_dummies(boxing.decision)\n",
    "\n",
    "#Concat with other variables\n",
    "X = pd.concat([X, stance_A, stance_B, decision], axis=1)\n",
    "\n",
    "#Establish Y\n",
    "Y = boxing.result"
   ]
  },
  {
   "cell_type": "markdown",
   "metadata": {},
   "source": [
    "# Predicting the result of the bout"
   ]
  },
  {
   "cell_type": "code",
   "execution_count": 38,
   "metadata": {},
   "outputs": [
    {
     "data": {
      "text/plain": [
       "win_A    0.815\n",
       "win_B    0.143\n",
       "draw     0.042\n",
       "Name: result, dtype: float64"
      ]
     },
     "execution_count": 38,
     "metadata": {},
     "output_type": "execute_result"
    }
   ],
   "source": [
    "Y.value_counts()/len(Y)"
   ]
  },
  {
   "cell_type": "markdown",
   "metadata": {},
   "source": [
    "**First, run MLP with 3 layers"
   ]
  },
  {
   "cell_type": "code",
   "execution_count": 30,
   "metadata": {},
   "outputs": [
    {
     "name": "stdout",
     "output_type": "stream",
     "text": [
      "Percentage accuracy for 3 layered MLP:\n",
      "0.831\n",
      "Cross-Validation Score:\n",
      "[0.80597015 0.81094527 0.88       0.81909548 0.81909548]\n",
      "Program Executed in 1.56\n"
     ]
    }
   ],
   "source": [
    "# Establish and fit the model, with 3 layers\n",
    "\n",
    "import timeit\n",
    "start = timeit.default_timer()\n",
    "\n",
    "mlp = MLPClassifier(hidden_layer_sizes=(100, 100, 100))\n",
    "mlp.fit(X, Y)\n",
    "\n",
    "#Scoring\n",
    "print('Percentage accuracy for 3 layered MLP:')\n",
    "print(mlp.score(X, Y))\n",
    "\n",
    "#Evaluate\n",
    "print('Cross-Validation Score:')\n",
    "print(cross_val_score(mlp, X, Y, cv=5))\n",
    "\n",
    "#Print time\n",
    "stop = timeit.default_timer()\n",
    "execution_time = stop - start\n",
    "print('Program Executed in {}'.format(round(execution_time, 2)))"
   ]
  },
  {
   "cell_type": "markdown",
   "metadata": {},
   "source": [
    "**Second, run MLP with 5 layers and different activation function ('logistic)"
   ]
  },
  {
   "cell_type": "code",
   "execution_count": 31,
   "metadata": {},
   "outputs": [
    {
     "name": "stdout",
     "output_type": "stream",
     "text": [
      "Percentage accuracy for 5 layered MLP and Logistic Activiation Function:\n",
      "0.815\n",
      "Cross-Validation Score:\n",
      "[0.81094527 0.81094527 0.815      0.81909548 0.81909548]\n",
      "Program Executed in 1.73\n"
     ]
    }
   ],
   "source": [
    "# Establish and fit the model, with 5 layers and logistic activation function\n",
    "\n",
    "import timeit\n",
    "start = timeit.default_timer()\n",
    "\n",
    "mlp = MLPClassifier(hidden_layer_sizes=(100, 100, 100, 100, 100), activation='logistic')\n",
    "mlp.fit(X, Y)\n",
    "\n",
    "#Scoring\n",
    "print('Percentage accuracy for 5 layered MLP and Logistic Activiation Function:')\n",
    "print(mlp.score(X, Y))\n",
    "\n",
    "#Evaluate\n",
    "print('Cross-Validation Score:')\n",
    "print(cross_val_score(mlp, X, Y, cv=5))\n",
    "\n",
    "#Print time\n",
    "stop = timeit.default_timer()\n",
    "execution_time = stop - start\n",
    "print('Program Executed in {}'.format(round(execution_time, 2)))"
   ]
  },
  {
   "cell_type": "markdown",
   "metadata": {},
   "source": [
    "**Third, run MLP with 10 layers and alpha of 0.3"
   ]
  },
  {
   "cell_type": "code",
   "execution_count": 32,
   "metadata": {},
   "outputs": [
    {
     "name": "stdout",
     "output_type": "stream",
     "text": [
      "Percentage accuracy for 10 layered MLP and Alpha = 0.3:\n",
      "0.834\n",
      "Cross-Validation Score:\n",
      "[0.81094527 0.81094527 0.815      0.81909548 0.81909548]\n",
      "Program Executed in 7.43\n"
     ]
    }
   ],
   "source": [
    "# Establish and fit the model, with 10 layers and alpha = 0.3\n",
    "\n",
    "import timeit\n",
    "start = timeit.default_timer()\n",
    "\n",
    "mlp = MLPClassifier(hidden_layer_sizes=(100, 100, 100, 100, 100, 100, 100, 100, 100, 100), alpha=0.3)\n",
    "mlp.fit(X, Y)\n",
    "\n",
    "#Scoring\n",
    "print('Percentage accuracy for 10 layered MLP and Alpha = 0.3:')\n",
    "print(mlp.score(X, Y))\n",
    "\n",
    "#Evaluate\n",
    "print('Cross-Validation Score:')\n",
    "print(cross_val_score(mlp, X, Y, cv=5))\n",
    "\n",
    "#Print time\n",
    "stop = timeit.default_timer()\n",
    "execution_time = stop - start\n",
    "print('Program Executed in {}'.format(round(execution_time, 2)))"
   ]
  },
  {
   "cell_type": "markdown",
   "metadata": {},
   "source": [
    "**Fourth, run MLP with only 5 layers, with each being 1000 perceptrons wide. Other parameters standardized"
   ]
  },
  {
   "cell_type": "code",
   "execution_count": 37,
   "metadata": {},
   "outputs": [
    {
     "name": "stdout",
     "output_type": "stream",
     "text": [
      "Percentage accuracy for 20 layered MLP:\n",
      "0.821\n",
      "Cross-Validation Score:\n",
      "[0.81094527 0.81094527 0.825      0.81909548 0.81909548]\n",
      "Program Executed in 142.53\n"
     ]
    }
   ],
   "source": [
    "# Establish and fit the model, with 5 layers (each 1000 wide)\n",
    "\n",
    "import timeit\n",
    "start = timeit.default_timer()\n",
    "\n",
    "mlp = MLPClassifier(hidden_layer_sizes=(1000, 1000, 1000, 1000, 1000))\n",
    "mlp.fit(X, Y)\n",
    "\n",
    "#Scoring\n",
    "print('Percentage accuracy for 20 layered MLP:')\n",
    "print(mlp.score(X, Y))\n",
    "\n",
    "#Evaluate\n",
    "print('Cross-Validation Score:')\n",
    "print(cross_val_score(mlp, X, Y, cv=5))\n",
    "\n",
    "#Print time\n",
    "stop = timeit.default_timer()\n",
    "execution_time = stop - start\n",
    "print('Program Executed in {}'.format(round(execution_time, 2)))"
   ]
  },
  {
   "cell_type": "markdown",
   "metadata": {},
   "source": [
    "# Instantiate and Run Gradient Boosting Classifier Model"
   ]
  },
  {
   "cell_type": "code",
   "execution_count": 33,
   "metadata": {},
   "outputs": [
    {
     "name": "stdout",
     "output_type": "stream",
     "text": [
      "Percentage accuracy for Gradient Boosting Classifier:\n",
      "0.991\n",
      "Cross-Validation Score:\n",
      "[0.92039801 0.88557214 0.925      0.90954774 0.92964824]\n",
      "Program Executed in 2.9\n"
     ]
    }
   ],
   "source": [
    "#Establish and fit the model, standard parameters for gradient boosting classifier\n",
    "\n",
    "import timeit\n",
    "start = timeit.default_timer()\n",
    "\n",
    "clf = ensemble.GradientBoostingClassifier()\n",
    "clf.fit(X, Y)\n",
    "\n",
    "#Scoring\n",
    "print('Percentage accuracy for Gradient Boosting Classifier:')\n",
    "print(clf.score(X, Y))\n",
    "\n",
    "#Evaluate\n",
    "print('Cross-Validation Score:')\n",
    "print(cross_val_score(clf, X, Y, cv=5))\n",
    "\n",
    "#Print time\n",
    "stop = timeit.default_timer()\n",
    "execution_time = stop - start\n",
    "print('Program Executed in {}'.format(round(execution_time, 2)))"
   ]
  },
  {
   "cell_type": "markdown",
   "metadata": {},
   "source": [
    "# Compare the Two Models"
   ]
  },
  {
   "cell_type": "markdown",
   "metadata": {},
   "source": [
    "Overall, the gradient boosting classifier provided the highest prediction accuracy, but overfitting was observed. I found that the overall best performing model was the MLP with 5 layers (each 100 perceptrons wide) and an activation function of 'logistic'. This model instantiated, ran on the training data, and conducted cross-validation in 1.73 seconds."
   ]
  }
 ],
 "metadata": {
  "kernelspec": {
   "display_name": "Python 3",
   "language": "python",
   "name": "python3"
  },
  "language_info": {
   "codemirror_mode": {
    "name": "ipython",
    "version": 3
   },
   "file_extension": ".py",
   "mimetype": "text/x-python",
   "name": "python",
   "nbconvert_exporter": "python",
   "pygments_lexer": "ipython3",
   "version": "3.6.4"
  }
 },
 "nbformat": 4,
 "nbformat_minor": 2
}
