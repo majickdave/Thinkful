{
 "cells": [
  {
   "cell_type": "markdown",
   "metadata": {},
   "source": [
    "Beware of Monty Hall Challenge\n",
    "\n",
    "To begin, you pick a door. At the time of that selection, there is a 1/3 chance of picking the correct door. After the host picks another door to reveal a dud, should you change your selection to the other door?\n",
    "\n",
    "Based on Bayes' rule and the ideas of \"prior probability\" and \"posterior probability\", you have a 1/2 chance to select the correct door at that point in time, whereas your odds were 1/3 previously. \n",
    "\n",
    "Original\n",
    "    P(Dud) = 2/3\n",
    "    P(Prize) = 1/3\n",
    "\n",
    "Updated\n",
    "    P(Dud) = 1/2\n",
    "    P(Prize) = 1/2"
   ]
  }
 ],
 "metadata": {
  "kernelspec": {
   "display_name": "Python 3",
   "language": "python",
   "name": "python3"
  },
  "language_info": {
   "codemirror_mode": {
    "name": "ipython",
    "version": 3
   },
   "file_extension": ".py",
   "mimetype": "text/x-python",
   "name": "python",
   "nbconvert_exporter": "python",
   "pygments_lexer": "ipython3",
   "version": "3.6.4"
  }
 },
 "nbformat": 4,
 "nbformat_minor": 2
}
