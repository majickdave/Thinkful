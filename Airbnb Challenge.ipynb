{
 "cells": [
  {
   "cell_type": "markdown",
   "metadata": {},
   "source": [
    "1 What's the most expensive listing? What else can you tell me about the listing?\n",
    "\n",
    "SELECT \n",
    "\tid,\n",
    "\tname,\n",
    "\tneighbourhood,\n",
    "\tlatitude,\n",
    "\tlongitude,\n",
    "\troom_type,\n",
    "\tnumber_of_reviews,\n",
    "\tMAX(price)\n",
    "FROM listings_summary\n",
    "\n",
    "**It is a 2BR downtown condominium with parking included on U Street NW near Howard University. Further, the entire unit is available, there are currently 0 reviews, and the nightly asking price is $999.**\n",
    "\n",
    "\n",
    "2 What neighborhoods seem to be the most popular?\n",
    "\n",
    "SELECT \n",
    "\tneighbourhood_cleansed,\n",
    "\tSUM(reviews_per_month) reviews_per_month\n",
    "FROM \n",
    "\tlistings_detail\n",
    "GROUP BY neighbourhood_cleansed\n",
    "ORDER BY reviews_per_month DESC\n",
    "\n",
    "\n",
    "3 What time of year is the cheapest time to go to your city? What about the busiest?\n",
    "\n",
    "SELECT \n",
    "\tSTRFTIME('%m', date) as \"month\",\n",
    "\tAVG(LTRIM(price, '$')) price\n",
    "FROM \n",
    "\tcalendar\n",
    "WHERE \n",
    "\tavailable like 't'\n",
    "GROUP BY 1\n",
    "ORDER BY PRICE\n",
    "\n",
    "**Appears that the winter months are the most cost-effective time to visit (February, January, December).**\n",
    "\n",
    "SELECT \n",
    "\tSTRFTIME('%m', date) as \"month\",\n",
    "\tCOUNT(*)\n",
    "FROM \n",
    "\tcalendar\n",
    "WHERE \n",
    "\tavailable = 't'\n",
    "GROUP BY 1\n",
    "ORDER BY COUNT(*) DESC \n",
    "\n",
    "**Busiest months seem to be the summer months (July and August).**"
   ]
  },
  {
   "cell_type": "code",
   "execution_count": null,
   "metadata": {},
   "outputs": [],
   "source": []
  }
 ],
 "metadata": {
  "kernelspec": {
   "display_name": "Python 3",
   "language": "python",
   "name": "python3"
  },
  "language_info": {
   "codemirror_mode": {
    "name": "ipython",
    "version": 3
   },
   "file_extension": ".py",
   "mimetype": "text/x-python",
   "name": "python",
   "nbconvert_exporter": "python",
   "pygments_lexer": "ipython3",
   "version": "3.6.5"
  }
 },
 "nbformat": 4,
 "nbformat_minor": 2
}
