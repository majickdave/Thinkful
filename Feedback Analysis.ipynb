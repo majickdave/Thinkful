{
 "cells": [
  {
   "cell_type": "markdown",
   "metadata": {},
   "source": [
    "**Overview**\n",
    "\n",
    "Will be using a Naive Bayes Classifier on Yelp review data, in order to determine if feedback was 'positive' or 'negative'. This will require feature engineering in order to produce the most accurate classifier. "
   ]
  },
  {
   "cell_type": "code",
   "execution_count": 233,
   "metadata": {},
   "outputs": [],
   "source": [
    "%matplotlib inline\n",
    "import numpy as np\n",
    "import pandas as pd\n",
    "import scipy\n",
    "import sklearn\n",
    "import matplotlib.pyplot as plt\n",
    "import seaborn as sns"
   ]
  },
  {
   "cell_type": "code",
   "execution_count": 234,
   "metadata": {},
   "outputs": [],
   "source": [
    "#Read text file in and assign own headers\n",
    "\n",
    "yelp_raw = pd.read_csv('yelp_labelled.txt', delimiter= '\\t', header=None)\n",
    "yelp_raw.columns = ['Review', 'Positive or Negative']"
   ]
  },
  {
   "cell_type": "code",
   "execution_count": 235,
   "metadata": {},
   "outputs": [
    {
     "data": {
      "text/html": [
       "<div>\n",
       "<style scoped>\n",
       "    .dataframe tbody tr th:only-of-type {\n",
       "        vertical-align: middle;\n",
       "    }\n",
       "\n",
       "    .dataframe tbody tr th {\n",
       "        vertical-align: top;\n",
       "    }\n",
       "\n",
       "    .dataframe thead th {\n",
       "        text-align: right;\n",
       "    }\n",
       "</style>\n",
       "<table border=\"1\" class=\"dataframe\">\n",
       "  <thead>\n",
       "    <tr style=\"text-align: right;\">\n",
       "      <th></th>\n",
       "      <th>Review</th>\n",
       "      <th>Positive or Negative</th>\n",
       "    </tr>\n",
       "  </thead>\n",
       "  <tbody>\n",
       "    <tr>\n",
       "      <th>0</th>\n",
       "      <td>Wow... Loved this place.</td>\n",
       "      <td>1</td>\n",
       "    </tr>\n",
       "    <tr>\n",
       "      <th>1</th>\n",
       "      <td>Crust is not good.</td>\n",
       "      <td>0</td>\n",
       "    </tr>\n",
       "    <tr>\n",
       "      <th>2</th>\n",
       "      <td>Not tasty and the texture was just nasty.</td>\n",
       "      <td>0</td>\n",
       "    </tr>\n",
       "    <tr>\n",
       "      <th>3</th>\n",
       "      <td>Stopped by during the late May bank holiday of...</td>\n",
       "      <td>1</td>\n",
       "    </tr>\n",
       "    <tr>\n",
       "      <th>4</th>\n",
       "      <td>The selection on the menu was great and so wer...</td>\n",
       "      <td>1</td>\n",
       "    </tr>\n",
       "  </tbody>\n",
       "</table>\n",
       "</div>"
      ],
      "text/plain": [
       "                                              Review  Positive or Negative\n",
       "0                           Wow... Loved this place.                     1\n",
       "1                                 Crust is not good.                     0\n",
       "2          Not tasty and the texture was just nasty.                     0\n",
       "3  Stopped by during the late May bank holiday of...                     1\n",
       "4  The selection on the menu was great and so wer...                     1"
      ]
     },
     "execution_count": 235,
     "metadata": {},
     "output_type": "execute_result"
    }
   ],
   "source": [
    "#Take a look at the data\n",
    "\n",
    "yelp_raw.head(5)"
   ]
  },
  {
   "cell_type": "code",
   "execution_count": 236,
   "metadata": {},
   "outputs": [
    {
     "data": {
      "text/plain": [
       "0                               Wow... Loved this place.\n",
       "1                                     Crust is not good.\n",
       "2              Not tasty and the texture was just nasty.\n",
       "3      Stopped by during the late May bank holiday of...\n",
       "4      The selection on the menu was great and so wer...\n",
       "5         Now I am getting angry and I want my damn pho.\n",
       "6                  Honeslty it didn't taste THAT fresh.)\n",
       "7      The potatoes were like rubber and you could te...\n",
       "8                              The fries were great too.\n",
       "9                                         A great touch.\n",
       "10                              Service was very prompt.\n",
       "11                                    Would not go back.\n",
       "12     The cashier had no care what so ever on what I...\n",
       "13     I tried the Cape Cod ravoli, chicken,with cran...\n",
       "14     I was disgusted because I was pretty sure that...\n",
       "15     I was shocked because no signs indicate cash o...\n",
       "16                                   Highly recommended.\n",
       "17                Waitress was a little slow in service.\n",
       "18     This place is not worth your time, let alone V...\n",
       "19                                  did not like at all.\n",
       "20                                   The Burrittos Blah!\n",
       "21                                    The food, amazing.\n",
       "22                                 Service is also cute.\n",
       "23     I could care less... The interior is just beau...\n",
       "24                                    So they performed.\n",
       "25     That's right....the red velvet cake.....ohhh t...\n",
       "26            - They never brought a salad we asked for.\n",
       "27     This hole in the wall has great Mexican street...\n",
       "28     Took an hour to get our food only 4 tables in ...\n",
       "29                     The worst was the salmon sashimi.\n",
       "                             ...                        \n",
       "970    I immediately said I wanted to talk to the man...\n",
       "971                      The ambiance isn't much better.\n",
       "972    Unfortunately, it only set us up for disapppoi...\n",
       "973                                The food wasn't good.\n",
       "974    Your servers suck, wait, correction, our serve...\n",
       "975        What happened next was pretty....off putting.\n",
       "976    too bad cause I know it's family owned, I real...\n",
       "977                 Overpriced for what you are getting.\n",
       "978                 I vomited in the bathroom mid lunch.\n",
       "979    I kept looking at the time and it had soon bec...\n",
       "980    I have been to very few places to eat that und...\n",
       "981    We started with the tuna sashimi which was bro...\n",
       "982                              Food was below average.\n",
       "983    It sure does beat the nachos at the movies but...\n",
       "984         All in all, Ha Long Bay was a bit of a flop.\n",
       "985    The problem I have is that they charge $11.99 ...\n",
       "986    Shrimp- When I unwrapped it (I live only 1/2 a...\n",
       "987       It lacked flavor, seemed undercooked, and dry.\n",
       "988    It really is impressive that the place hasn't ...\n",
       "989    I would avoid this place if you are staying in...\n",
       "990    The refried beans that came with my meal were ...\n",
       "991           Spend your money and time some place else.\n",
       "992    A lady at the table next to us found a live gr...\n",
       "993              the presentation of the food was awful.\n",
       "994             I can't tell you how disappointed I was.\n",
       "995    I think food should have flavor and texture an...\n",
       "996                             Appetite instantly gone.\n",
       "997    Overall I was not impressed and would not go b...\n",
       "998    The whole experience was underwhelming, and I ...\n",
       "999    Then, as if I hadn't wasted enough of my life ...\n",
       "Name: Review, Length: 1000, dtype: object"
      ]
     },
     "execution_count": 236,
     "metadata": {},
     "output_type": "execute_result"
    }
   ],
   "source": [
    "yelp_raw['Review'].astype(str)"
   ]
  },
  {
   "cell_type": "code",
   "execution_count": 237,
   "metadata": {},
   "outputs": [],
   "source": [
    "#First, make everything lower case\n",
    "\n",
    "yelp_raw['Review'] = yelp_raw['Review'].apply(lambda x: str(x).lower())"
   ]
  },
  {
   "cell_type": "code",
   "execution_count": 238,
   "metadata": {},
   "outputs": [],
   "source": [
    "#Extract all special characters\n",
    "\n",
    "def GetSpecialChar(x):\n",
    "    special_characters = []\n",
    "    for char in x:\n",
    "        if char.isalpha() == False:\n",
    "            special_characters.append(char)\n",
    "    return special_characters"
   ]
  },
  {
   "cell_type": "code",
   "execution_count": 239,
   "metadata": {},
   "outputs": [],
   "source": [
    "#Create a column in the dataframe with the special characters from each row\n",
    "\n",
    "yelp_raw['SpecialCharacters'] = yelp_raw['Review'].apply(lambda x : GetSpecialChar(x))"
   ]
  },
  {
   "cell_type": "code",
   "execution_count": 240,
   "metadata": {},
   "outputs": [],
   "source": [
    "#Now work to get unique list\n",
    "\n",
    "special_characters = []\n",
    "for row in yelp_raw['SpecialCharacters']:\n",
    "    for char in row:\n",
    "        special_characters.append(char)"
   ]
  },
  {
   "cell_type": "code",
   "execution_count": 217,
   "metadata": {},
   "outputs": [
    {
     "data": {
      "text/plain": [
       "{' ',\n",
       " '!',\n",
       " '\"',\n",
       " '$',\n",
       " '%',\n",
       " '&',\n",
       " \"'\",\n",
       " '(',\n",
       " ')',\n",
       " '*',\n",
       " '+',\n",
       " ',',\n",
       " '-',\n",
       " '.',\n",
       " '/',\n",
       " '0',\n",
       " '1',\n",
       " '2',\n",
       " '3',\n",
       " '4',\n",
       " '5',\n",
       " '6',\n",
       " '7',\n",
       " '8',\n",
       " '9',\n",
       " ':',\n",
       " ';',\n",
       " '?'}"
      ]
     },
     "execution_count": 217,
     "metadata": {},
     "output_type": "execute_result"
    }
   ],
   "source": [
    "#Let's see our list\n",
    "\n",
    "set(special_characters)"
   ]
  },
  {
   "cell_type": "code",
   "execution_count": 242,
   "metadata": {},
   "outputs": [],
   "source": [
    "#Remove special characters from Review column\n",
    "\n",
    "special_characters_list = [',', '\\'', '.', '/', '\"', '\\'', '*', '-', '&', '%', '$', '(', ')', ':', ';', '?', '!', '+', '0', '1', '2', '3', '4', '5', '6', '7', '8', '9']\n",
    "\n",
    "\n",
    "for char in special_characters_list:\n",
    "    for char in row:\n",
    "        yelp_raw['Review'] = yelp_raw['Review'].str.replace(char, ' ')"
   ]
  },
  {
   "cell_type": "code",
   "execution_count": 243,
   "metadata": {},
   "outputs": [
    {
     "data": {
      "text/plain": [
       "0                               wow    loved this place \n",
       "1                                     crust is not good \n",
       "2              not tasty and the texture was just nasty \n",
       "3      stopped by during the late may bank holiday of...\n",
       "4      the selection on the menu was great and so wer...\n",
       "5         now i am getting angry and i want my damn pho \n",
       "6                  honeslty it didn t taste that fresh )\n",
       "7      the potatoes were like rubber and you could te...\n",
       "8                              the fries were great too \n",
       "9                                         a great touch \n",
       "10                              service was very prompt \n",
       "11                                    would not go back \n",
       "12     the cashier had no care what so ever on what i...\n",
       "13     i tried the cape cod ravoli  chicken with cran...\n",
       "14     i was disgusted because i was pretty sure that...\n",
       "15     i was shocked because no signs indicate cash o...\n",
       "16                                   highly recommended \n",
       "17                waitress was a little slow in service \n",
       "18     this place is not worth your time  let alone v...\n",
       "19                                  did not like at all \n",
       "20                                   the burrittos blah!\n",
       "21                                    the food  amazing \n",
       "22                                 service is also cute \n",
       "23     i could care less    the interior is just beau...\n",
       "24                                    so they performed \n",
       "25     that s right    the red velvet cake     ohhh t...\n",
       "26            - they never brought a salad we asked for \n",
       "27     this hole in the wall has great mexican street...\n",
       "28     took an hour to get our food only 4 tables in ...\n",
       "29                     the worst was the salmon sashimi \n",
       "                             ...                        \n",
       "970    i immediately said i wanted to talk to the man...\n",
       "971                      the ambiance isn t much better \n",
       "972    unfortunately  it only set us up for disapppoi...\n",
       "973                                the food wasn t good \n",
       "974    your servers suck  wait  correction  our serve...\n",
       "975        what happened next was pretty    off putting \n",
       "976    too bad cause i know it s family owned  i real...\n",
       "977                 overpriced for what you are getting \n",
       "978                 i vomited in the bathroom mid lunch \n",
       "979    i kept looking at the time and it had soon bec...\n",
       "980    i have been to very few places to eat that und...\n",
       "981    we started with the tuna sashimi which was bro...\n",
       "982                              food was below average \n",
       "983    it sure does beat the nachos at the movies but...\n",
       "984         all in all  ha long bay was a bit of a flop \n",
       "985    the problem i have is that they charge $11 99 ...\n",
       "986    shrimp- when i unwrapped it (i live only 1/2 a...\n",
       "987       it lacked flavor  seemed undercooked  and dry \n",
       "988    it really is impressive that the place hasn t ...\n",
       "989    i would avoid this place if you are staying in...\n",
       "990    the refried beans that came with my meal were ...\n",
       "991           spend your money and time some place else \n",
       "992    a lady at the table next to us found a live gr...\n",
       "993              the presentation of the food was awful \n",
       "994             i can t tell you how disappointed i was \n",
       "995    i think food should have flavor and texture an...\n",
       "996                             appetite instantly gone \n",
       "997    overall i was not impressed and would not go b...\n",
       "998    the whole experience was underwhelming  and i ...\n",
       "999    then  as if i hadn t wasted enough of my life ...\n",
       "Name: Review, Length: 1000, dtype: object"
      ]
     },
     "execution_count": 243,
     "metadata": {},
     "output_type": "execute_result"
    }
   ],
   "source": [
    "yelp_raw['Review']"
   ]
  },
  {
   "cell_type": "code",
   "execution_count": 131,
   "metadata": {},
   "outputs": [],
   "source": [
    "#New column that splits reviews\n",
    "yelp_raw['ReviewSplit'] = yelp_raw['Review'].apply(lambda x: str(x).split())"
   ]
  },
  {
   "cell_type": "code",
   "execution_count": 132,
   "metadata": {},
   "outputs": [],
   "source": [
    "#Now get a unique count of each word in all reviews. First create 'counts' variable.\n",
    "\n",
    "from collections import Counter\n",
    "counts = yelp_raw.ReviewSplit.map(Counter).sum()"
   ]
  },
  {
   "cell_type": "code",
   "execution_count": 133,
   "metadata": {},
   "outputs": [
    {
     "data": {
      "text/plain": [
       "[('the', 582),\n",
       " ('and', 388),\n",
       " ('i', 303),\n",
       " ('was', 292),\n",
       " ('a', 237),\n",
       " ('to', 216),\n",
       " ('is', 171),\n",
       " ('this', 142),\n",
       " ('of', 125),\n",
       " ('not', 115),\n",
       " ('it', 110),\n",
       " ('for', 107),\n",
       " ('in', 104),\n",
       " ('food', 92),\n",
       " ('we', 79),\n",
       " ('place', 77),\n",
       " ('very', 74),\n",
       " ('my', 72),\n",
       " ('with', 71),\n",
       " ('so', 66),\n",
       " ('had', 66),\n",
       " ('be', 66),\n",
       " ('that', 62),\n",
       " ('are', 62),\n",
       " ('good', 62),\n",
       " ('were', 61),\n",
       " ('but', 61),\n",
       " ('have', 61),\n",
       " ('great', 57),\n",
       " ('you', 56),\n",
       " ('they', 56),\n",
       " ('service', 56),\n",
       " ('at', 55),\n",
       " ('on', 54),\n",
       " ('like', 45),\n",
       " ('our', 41),\n",
       " ('go', 40),\n",
       " ('will', 37),\n",
       " ('back', 36),\n",
       " ('here', 36),\n",
       " ('as', 36),\n",
       " ('time', 35),\n",
       " ('all', 35),\n",
       " ('just', 34),\n",
       " ('really', 33),\n",
       " ('an', 32),\n",
       " ('their', 31),\n",
       " ('if', 30),\n",
       " ('would', 28),\n",
       " ('there', 28),\n",
       " ('your', 25),\n",
       " ('never', 25),\n",
       " (\"don't\", 25),\n",
       " ('only', 24),\n",
       " ('been', 23),\n",
       " ('no', 23),\n",
       " ('what', 23),\n",
       " ('ever', 23),\n",
       " ('also', 23),\n",
       " ('best', 23),\n",
       " ('good.', 22),\n",
       " ('from', 22),\n",
       " ('by', 21),\n",
       " ('-', 21),\n",
       " ('one', 21),\n",
       " ('place.', 20),\n",
       " ('which', 20),\n",
       " ('some', 20),\n",
       " ('came', 20),\n",
       " ('out', 20),\n",
       " ('when', 20),\n",
       " (\"i've\", 20),\n",
       " (\"i'm\", 20),\n",
       " ('up', 19),\n",
       " ('pretty', 19),\n",
       " ('did', 19),\n",
       " ('get', 19),\n",
       " ('nice', 19),\n",
       " ('or', 19),\n",
       " (\"won't\", 19),\n",
       " ('back.', 18),\n",
       " ('friendly', 18),\n",
       " ('he', 18),\n",
       " ('food.', 18),\n",
       " ('much', 18),\n",
       " ('definitely', 18),\n",
       " ('got', 18),\n",
       " ('going', 18),\n",
       " ('love', 18),\n",
       " ('restaurant', 17),\n",
       " ('first', 17),\n",
       " ('eat', 17),\n",
       " (\"it's\", 17),\n",
       " ('about', 17),\n",
       " ('even', 17),\n",
       " ('it.', 16),\n",
       " ('could', 16),\n",
       " ('service.', 16),\n",
       " ('think', 16),\n",
       " ('more', 16)]"
      ]
     },
     "execution_count": 133,
     "metadata": {},
     "output_type": "execute_result"
    }
   ],
   "source": [
    "counts.most_common(100)"
   ]
  },
  {
   "cell_type": "code",
   "execution_count": 134,
   "metadata": {},
   "outputs": [],
   "source": [
    "#Create keywords list to form the basis of our Naive Bayes Classifier\n",
    "\n",
    "keywords = ['worst', 'slow', 'pricey', 'poor', 'bad', 'rude', 'disappointed', \n",
    "            'avoid', 'nasty', 'sick', 'average', 'not', 'terrible', 'wait','but',\n",
    "            'good', 'like', 'great', 'definitely', 'don\\'t', 'recommend', 'didn\\'t',\n",
    "           'love', 'nice', 'friendly', 'better', 'never', 'always', 'still', 'feel',\n",
    "           'very', 'worth', 'until', 'suggest', 'portions']\n",
    "\n",
    "for key in keywords:\n",
    "    yelp_raw[str(key)] = yelp_raw.Review.str.contains(\n",
    "        ' ' + str(key) + ' ',\n",
    "        case=False)"
   ]
  },
  {
   "cell_type": "markdown",
   "metadata": {},
   "source": [
    "**Note:** Since one of the main assumptions of the Naive Bayes Classifier is that the variables are independent of eachother, let's look at a correlation matrix to see if this is the case."
   ]
  },
  {
   "cell_type": "code",
   "execution_count": 135,
   "metadata": {},
   "outputs": [
    {
     "data": {
      "image/png": "[encoded data removed]",
      "text/plain": [
       "<matplotlib.figure.Figure at 0x114864048>"
      ]
     },
     "metadata": {},
     "output_type": "display_data"
    }
   ],
   "source": [
    "#Correlation matrix with sns.heatmap\n",
    "\n",
    "# Set up the matplotlib figure.\n",
    "f, ax = plt.subplots(figsize=(18, 15))\n",
    "\n",
    "sns.heatmap(yelp_raw.corr())\n",
    "plt.show()"
   ]
  },
  {
   "cell_type": "markdown",
   "metadata": {},
   "source": [
    "This matrix should be good enough. Ideally, we would want no correlation whatsoever. However, although there is some correlation across the board, there is none greater than 0.25 and that should still yield strong results."
   ]
  },
  {
   "cell_type": "code",
   "execution_count": 136,
   "metadata": {},
   "outputs": [],
   "source": [
    "#Before we actually run the model we have to build out our training data. Specify an outcome (y or dependent variable) and \n",
    "#the inputs (x or independent variables). We'll do that below under the variables data and target\n",
    "\n",
    "data = yelp_raw[keywords]\n",
    "target = yelp_raw['Positive or Negative']"
   ]
  },
  {
   "cell_type": "code",
   "execution_count": 137,
   "metadata": {},
   "outputs": [
    {
     "name": "stdout",
     "output_type": "stream",
     "text": [
      "Number of mislabeled points out of a total 1000 points : 335\n"
     ]
    }
   ],
   "source": [
    "#Since data is binary / boolean, need to import the Bernoulli classifier.\n",
    "from sklearn.naive_bayes import BernoulliNB\n",
    "from sklearn.feature_selection import RFE\n",
    "\n",
    "# Instantiate our model and store it in a new variable.\n",
    "NB_Model = BernoulliNB()\n",
    "\n",
    "# Fit our model to the data.\n",
    "NB_Model.fit(data, target)\n",
    "\n",
    "# Classify, storing the result in a new variable.\n",
    "positive_predictor = NB_Model.predict(data)\n",
    "\n",
    "# Display our results.\n",
    "print(\"Number of mislabeled points out of a total {} points : {}\".format(\n",
    "    data.shape[0],\n",
    "    (target != positive_predictor).sum()))"
   ]
  },
  {
   "cell_type": "code",
   "execution_count": 138,
   "metadata": {},
   "outputs": [
    {
     "data": {
      "text/plain": [
       "array([[213, 287],\n",
       "       [ 48, 452]])"
      ]
     },
     "execution_count": 138,
     "metadata": {},
     "output_type": "execute_result"
    }
   ],
   "source": [
    "#Confusion matrix to better understand results\n",
    "\n",
    "from sklearn.metrics import confusion_matrix\n",
    "confusion_matrix(target, positive_predictor)"
   ]
  },
  {
   "cell_type": "markdown",
   "metadata": {},
   "source": [
    "Top row signifies correctly classifying positive reviews\n",
    "Bottom row signifies correctly classifying negative reviews\n",
    "\n",
    "1. Sensitivity is the percentage of positives correctly identified, in our case 287/500 or 57.4%. This shows how good we are at catching positives, or how sensitive our model is to identifying positives.\n",
    "\n",
    "2. Specificity is just the opposite, the percentage of negatives correctly identified, 452/500 or 90.4%.\n",
    "\n",
    "Type 1 Error: False Positive (false alarm) - 287\n",
    "Type 2 Error: False Negative (miss) - 48"
   ]
  },
  {
   "cell_type": "markdown",
   "metadata": {},
   "source": [
    "### Conducting backward pass to see how important each feature is"
   ]
  },
  {
   "cell_type": "code",
   "execution_count": 141,
   "metadata": {},
   "outputs": [],
   "source": [
    "yelp_revised = yelp_raw.iloc[:, 3:len(yelp_raw.columns)]"
   ]
  },
  {
   "cell_type": "code",
   "execution_count": 142,
   "metadata": {},
   "outputs": [
    {
     "name": "stdout",
     "output_type": "stream",
     "text": [
      "Number of mislabeled points out of a total 1000 points when dropping worst : 342\n",
      "Accuracy 65.8\n",
      "Number of mislabeled points out of a total 1000 points when dropping slow : 339\n",
      "Accuracy 66.1\n",
      "Number of mislabeled points out of a total 1000 points when dropping pricey : 336\n",
      "Accuracy 66.4\n",
      "Number of mislabeled points out of a total 1000 points when dropping poor : 340\n",
      "Accuracy 66.0\n",
      "Number of mislabeled points out of a total 1000 points when dropping bad : 340\n",
      "Accuracy 66.0\n",
      "Number of mislabeled points out of a total 1000 points when dropping rude : 338\n",
      "Accuracy 66.19999999999999\n",
      "Number of mislabeled points out of a total 1000 points when dropping disappointed : 342\n",
      "Accuracy 65.8\n",
      "Number of mislabeled points out of a total 1000 points when dropping avoid : 338\n",
      "Accuracy 66.19999999999999\n",
      "Number of mislabeled points out of a total 1000 points when dropping nasty : 336\n",
      "Accuracy 66.4\n",
      "Number of mislabeled points out of a total 1000 points when dropping sick : 338\n",
      "Accuracy 66.19999999999999\n",
      "Number of mislabeled points out of a total 1000 points when dropping average : 336\n",
      "Accuracy 66.4\n",
      "Number of mislabeled points out of a total 1000 points when dropping not : 381\n",
      "Accuracy 61.9\n",
      "Number of mislabeled points out of a total 1000 points when dropping terrible : 336\n",
      "Accuracy 66.4\n",
      "Number of mislabeled points out of a total 1000 points when dropping wait : 336\n",
      "Accuracy 66.4\n",
      "Number of mislabeled points out of a total 1000 points when dropping but : 344\n",
      "Accuracy 65.6\n",
      "Number of mislabeled points out of a total 1000 points when dropping good : 336\n",
      "Accuracy 66.4\n",
      "Number of mislabeled points out of a total 1000 points when dropping like : 338\n",
      "Accuracy 66.19999999999999\n",
      "Number of mislabeled points out of a total 1000 points when dropping great : 337\n",
      "Accuracy 66.3\n",
      "Number of mislabeled points out of a total 1000 points when dropping definitely : 335\n",
      "Accuracy 66.5\n",
      "Number of mislabeled points out of a total 1000 points when dropping don't : 346\n",
      "Accuracy 65.4\n",
      "Number of mislabeled points out of a total 1000 points when dropping recommend : 335\n",
      "Accuracy 66.5\n",
      "Number of mislabeled points out of a total 1000 points when dropping didn't : 338\n",
      "Accuracy 66.19999999999999\n",
      "Number of mislabeled points out of a total 1000 points when dropping love : 334\n",
      "Accuracy 66.6\n",
      "Number of mislabeled points out of a total 1000 points when dropping nice : 335\n",
      "Accuracy 66.5\n",
      "Number of mislabeled points out of a total 1000 points when dropping friendly : 334\n",
      "Accuracy 66.6\n",
      "Number of mislabeled points out of a total 1000 points when dropping better : 340\n",
      "Accuracy 66.0\n",
      "Number of mislabeled points out of a total 1000 points when dropping never : 348\n",
      "Accuracy 65.2\n",
      "Number of mislabeled points out of a total 1000 points when dropping always : 336\n",
      "Accuracy 66.4\n",
      "Number of mislabeled points out of a total 1000 points when dropping still : 335\n",
      "Accuracy 66.5\n",
      "Number of mislabeled points out of a total 1000 points when dropping feel : 334\n",
      "Accuracy 66.6\n",
      "Number of mislabeled points out of a total 1000 points when dropping very : 338\n",
      "Accuracy 66.19999999999999\n",
      "Number of mislabeled points out of a total 1000 points when dropping worth : 335\n",
      "Accuracy 66.5\n",
      "Number of mislabeled points out of a total 1000 points when dropping until : 336\n",
      "Accuracy 66.4\n",
      "Number of mislabeled points out of a total 1000 points when dropping suggest : 335\n",
      "Accuracy 66.5\n",
      "Number of mislabeled points out of a total 1000 points when dropping portions : 335\n",
      "Accuracy 66.5\n"
     ]
    }
   ],
   "source": [
    "for i in range(len(yelp_revised.columns)):\n",
    "    #Create two slices and combine them\n",
    "    first_slice = pd.DataFrame(yelp_revised.iloc[:, 0:i])\n",
    "    second_slice = pd.DataFrame(yelp_revised.iloc[:, (i+1):len(yelp_revised.columns)])\n",
    "    subset = pd.concat([first_slice, second_slice], axis=1)\n",
    "    \n",
    "    #Train model\n",
    "    NB_Model = BernoulliNB()\n",
    "    NB_Model.fit(subset, target)\n",
    "    positive_predictor = NB_Model.predict(subset)\n",
    "    \n",
    "    #Print results for each column\n",
    "    colnames = yelp_revised.columns[i]\n",
    "    print(\"Number of mislabeled points out of a total {} points when dropping {} : {}\".format(subset.shape[0], colnames, (target != positive_predictor).sum()))\n",
    "    print(\"Accuracy {}\".format(100 - ((target != positive_predictor).sum()/subset.shape[0]) * 100)) #I added this so you can view the accuracy as a percentage"
   ]
  },
  {
   "cell_type": "markdown",
   "metadata": {},
   "source": [
    "### Using Recursive Feature Selection to Rank Features"
   ]
  },
  {
   "cell_type": "code",
   "execution_count": 121,
   "metadata": {},
   "outputs": [],
   "source": [
    "# Pass any estimator to the RFE constructor\n",
    "selector = RFE(NB_Model)\n",
    "selector = selector.fit(data, target)"
   ]
  },
  {
   "cell_type": "code",
   "execution_count": 122,
   "metadata": {},
   "outputs": [
    {
     "name": "stdout",
     "output_type": "stream",
     "text": [
      "[ 1  1  1  1  1  1  1  1  1  1  1 14  1  1 16 19 12 17  9  1  7  4 11 13\n",
      " 15  1  2 10  8  5 18  6  1  1  3]\n"
     ]
    }
   ],
   "source": [
    "print(selector.ranking_)"
   ]
  },
  {
   "cell_type": "code",
   "execution_count": 123,
   "metadata": {},
   "outputs": [
    {
     "data": {
      "text/html": [
       "<div>\n",
       "<style scoped>\n",
       "    .dataframe tbody tr th:only-of-type {\n",
       "        vertical-align: middle;\n",
       "    }\n",
       "\n",
       "    .dataframe tbody tr th {\n",
       "        vertical-align: top;\n",
       "    }\n",
       "\n",
       "    .dataframe thead th {\n",
       "        text-align: right;\n",
       "    }\n",
       "</style>\n",
       "<table border=\"1\" class=\"dataframe\">\n",
       "  <thead>\n",
       "    <tr style=\"text-align: right;\">\n",
       "      <th></th>\n",
       "      <th>Features</th>\n",
       "      <th>Ranking</th>\n",
       "    </tr>\n",
       "  </thead>\n",
       "  <tbody>\n",
       "    <tr>\n",
       "      <th>0</th>\n",
       "      <td>worst</td>\n",
       "      <td>1</td>\n",
       "    </tr>\n",
       "    <tr>\n",
       "      <th>25</th>\n",
       "      <td>better</td>\n",
       "      <td>1</td>\n",
       "    </tr>\n",
       "    <tr>\n",
       "      <th>13</th>\n",
       "      <td>wait</td>\n",
       "      <td>1</td>\n",
       "    </tr>\n",
       "    <tr>\n",
       "      <th>12</th>\n",
       "      <td>terrible</td>\n",
       "      <td>1</td>\n",
       "    </tr>\n",
       "    <tr>\n",
       "      <th>32</th>\n",
       "      <td>until</td>\n",
       "      <td>1</td>\n",
       "    </tr>\n",
       "    <tr>\n",
       "      <th>10</th>\n",
       "      <td>average</td>\n",
       "      <td>1</td>\n",
       "    </tr>\n",
       "    <tr>\n",
       "      <th>9</th>\n",
       "      <td>sick</td>\n",
       "      <td>1</td>\n",
       "    </tr>\n",
       "    <tr>\n",
       "      <th>19</th>\n",
       "      <td>don't</td>\n",
       "      <td>1</td>\n",
       "    </tr>\n",
       "    <tr>\n",
       "      <th>8</th>\n",
       "      <td>nasty</td>\n",
       "      <td>1</td>\n",
       "    </tr>\n",
       "    <tr>\n",
       "      <th>6</th>\n",
       "      <td>disappointed</td>\n",
       "      <td>1</td>\n",
       "    </tr>\n",
       "    <tr>\n",
       "      <th>5</th>\n",
       "      <td>rude</td>\n",
       "      <td>1</td>\n",
       "    </tr>\n",
       "    <tr>\n",
       "      <th>4</th>\n",
       "      <td>bad</td>\n",
       "      <td>1</td>\n",
       "    </tr>\n",
       "    <tr>\n",
       "      <th>3</th>\n",
       "      <td>poor</td>\n",
       "      <td>1</td>\n",
       "    </tr>\n",
       "    <tr>\n",
       "      <th>2</th>\n",
       "      <td>pricey</td>\n",
       "      <td>1</td>\n",
       "    </tr>\n",
       "    <tr>\n",
       "      <th>1</th>\n",
       "      <td>slow</td>\n",
       "      <td>1</td>\n",
       "    </tr>\n",
       "    <tr>\n",
       "      <th>7</th>\n",
       "      <td>avoid</td>\n",
       "      <td>1</td>\n",
       "    </tr>\n",
       "    <tr>\n",
       "      <th>33</th>\n",
       "      <td>suggest</td>\n",
       "      <td>1</td>\n",
       "    </tr>\n",
       "    <tr>\n",
       "      <th>26</th>\n",
       "      <td>never</td>\n",
       "      <td>2</td>\n",
       "    </tr>\n",
       "    <tr>\n",
       "      <th>34</th>\n",
       "      <td>portions</td>\n",
       "      <td>3</td>\n",
       "    </tr>\n",
       "    <tr>\n",
       "      <th>21</th>\n",
       "      <td>didn't</td>\n",
       "      <td>4</td>\n",
       "    </tr>\n",
       "    <tr>\n",
       "      <th>29</th>\n",
       "      <td>feel</td>\n",
       "      <td>5</td>\n",
       "    </tr>\n",
       "    <tr>\n",
       "      <th>31</th>\n",
       "      <td>worth</td>\n",
       "      <td>6</td>\n",
       "    </tr>\n",
       "    <tr>\n",
       "      <th>20</th>\n",
       "      <td>recommend</td>\n",
       "      <td>7</td>\n",
       "    </tr>\n",
       "    <tr>\n",
       "      <th>28</th>\n",
       "      <td>still</td>\n",
       "      <td>8</td>\n",
       "    </tr>\n",
       "    <tr>\n",
       "      <th>18</th>\n",
       "      <td>definitely</td>\n",
       "      <td>9</td>\n",
       "    </tr>\n",
       "    <tr>\n",
       "      <th>27</th>\n",
       "      <td>always</td>\n",
       "      <td>10</td>\n",
       "    </tr>\n",
       "    <tr>\n",
       "      <th>22</th>\n",
       "      <td>love</td>\n",
       "      <td>11</td>\n",
       "    </tr>\n",
       "    <tr>\n",
       "      <th>16</th>\n",
       "      <td>like</td>\n",
       "      <td>12</td>\n",
       "    </tr>\n",
       "    <tr>\n",
       "      <th>23</th>\n",
       "      <td>nice</td>\n",
       "      <td>13</td>\n",
       "    </tr>\n",
       "    <tr>\n",
       "      <th>11</th>\n",
       "      <td>not</td>\n",
       "      <td>14</td>\n",
       "    </tr>\n",
       "    <tr>\n",
       "      <th>24</th>\n",
       "      <td>friendly</td>\n",
       "      <td>15</td>\n",
       "    </tr>\n",
       "    <tr>\n",
       "      <th>14</th>\n",
       "      <td>but</td>\n",
       "      <td>16</td>\n",
       "    </tr>\n",
       "    <tr>\n",
       "      <th>17</th>\n",
       "      <td>great</td>\n",
       "      <td>17</td>\n",
       "    </tr>\n",
       "    <tr>\n",
       "      <th>30</th>\n",
       "      <td>very</td>\n",
       "      <td>18</td>\n",
       "    </tr>\n",
       "    <tr>\n",
       "      <th>15</th>\n",
       "      <td>good</td>\n",
       "      <td>19</td>\n",
       "    </tr>\n",
       "  </tbody>\n",
       "</table>\n",
       "</div>"
      ],
      "text/plain": [
       "        Features  Ranking\n",
       "0          worst        1\n",
       "25        better        1\n",
       "13          wait        1\n",
       "12      terrible        1\n",
       "32         until        1\n",
       "10       average        1\n",
       "9           sick        1\n",
       "19         don't        1\n",
       "8          nasty        1\n",
       "6   disappointed        1\n",
       "5           rude        1\n",
       "4            bad        1\n",
       "3           poor        1\n",
       "2         pricey        1\n",
       "1           slow        1\n",
       "7          avoid        1\n",
       "33       suggest        1\n",
       "26         never        2\n",
       "34      portions        3\n",
       "21        didn't        4\n",
       "29          feel        5\n",
       "31         worth        6\n",
       "20     recommend        7\n",
       "28         still        8\n",
       "18    definitely        9\n",
       "27        always       10\n",
       "22          love       11\n",
       "16          like       12\n",
       "23          nice       13\n",
       "11           not       14\n",
       "24      friendly       15\n",
       "14           but       16\n",
       "17         great       17\n",
       "30          very       18\n",
       "15          good       19"
      ]
     },
     "execution_count": 123,
     "metadata": {},
     "output_type": "execute_result"
    }
   ],
   "source": [
    "#Now turn into a dataframe so you can sort by rank\n",
    "rankings = pd.DataFrame({'Features': data.columns, 'Ranking' : selector.ranking_})\n",
    "rankings.sort_values('Ranking')"
   ]
  },
  {
   "cell_type": "markdown",
   "metadata": {},
   "source": [
    "### Applying same model to IMDB data"
   ]
  },
  {
   "cell_type": "code",
   "execution_count": null,
   "metadata": {},
   "outputs": [],
   "source": [
    "#Try the same model on another dataset - IMDB\n",
    "\n",
    "imdb_raw = pd.read_csv('imdb_labelled.txt', delimiter= '\\t', header=None)\n",
    "imdb_raw.columns = ['Review', 'Positive or Negative']"
   ]
  },
  {
   "cell_type": "code",
   "execution_count": null,
   "metadata": {},
   "outputs": [],
   "source": [
    "#Use same as before\n",
    "#Create keywords list to form the basis of our Naive Bayes Classifier\n",
    "\n",
    "keywords = ['worst', 'slow', 'pricey', 'poor', 'bad', 'rude', 'disappointed', \n",
    "            'avoid', 'nasty', 'sick', 'average', 'not', 'terrible', 'wait','but',\n",
    "            'good', 'like', 'great', 'definitely', 'don\\'t', 'recommend', 'didn\\'t',\n",
    "           'love', 'nice', 'friendly', 'better', 'never', 'always', 'still', 'feel',\n",
    "           'very', 'worth', 'until', 'suggest', 'portions']\n",
    "\n",
    "for key in keywords:\n",
    "    imdb_raw[str(key)] = imdb_raw.Review.str.contains(\n",
    "        ' ' + str(key) + ' ',\n",
    "        case=False)"
   ]
  },
  {
   "cell_type": "code",
   "execution_count": null,
   "metadata": {},
   "outputs": [],
   "source": [
    "#Setup data and target\n",
    "\n",
    "data_imdb = imdb_raw[keywords]\n",
    "target_imdb = imdb_raw['Positive or Negative']"
   ]
  },
  {
   "cell_type": "code",
   "execution_count": null,
   "metadata": {},
   "outputs": [],
   "source": [
    "# Instantiate our model and store it in a new variable.\n",
    "NB_Model_imdb = BernoulliNB()\n",
    "\n",
    "# Fit our model to the data.\n",
    "NB_Model_imdb.fit(data_imdb, target_imdb)\n",
    "\n",
    "# Classify, storing the result in a new variable.\n",
    "positive_predictor_imdb = NB_Model_imdb.predict(data_imdb)\n",
    "\n",
    "# Display our results.\n",
    "print(\"Number of mislabeled points out of a total {} points : {}\".format(\n",
    "    data_imdb.shape[0],\n",
    "    (target_imdb != positive_predictor_imdb).sum()))"
   ]
  },
  {
   "cell_type": "markdown",
   "metadata": {},
   "source": [
    "**Takeaway:** Did not perform as well as it did with the Yelp review data. This makes sense as some of the adjectives in my previous model were more closely related to food than to movies."
   ]
  }
 ],
 "metadata": {
  "kernelspec": {
   "display_name": "Python 3",
   "language": "python",
   "name": "python3"
  },
  "language_info": {
   "codemirror_mode": {
    "name": "ipython",
    "version": 3
   },
   "file_extension": ".py",
   "mimetype": "text/x-python",
   "name": "python",
   "nbconvert_exporter": "python",
   "pygments_lexer": "ipython3",
   "version": "3.6.4"
  }
 },
 "nbformat": 4,
 "nbformat_minor": 2
}
