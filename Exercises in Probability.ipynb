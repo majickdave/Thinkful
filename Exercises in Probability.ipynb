{
 "cells": [
  {
   "cell_type": "code",
   "execution_count": 20,
   "metadata": {},
   "outputs": [
    {
     "name": "stdout",
     "output_type": "stream",
     "text": [
      "['T', 'T', 'T', 'T', 'T', 'T', 'H', 'T', 'T', 'T', 'H', 'H', 'T', 'H', 'H', 'H', 'H', 'H', 'H', 'H', 'H', 'H', 'T', 'H', 'T', 'T', 'T', 'T', 'T', 'T', 'H', 'T', 'H', 'H', 'T', 'T', 'H', 'H', 'T', 'H', 'H', 'T', 'H', 'H', 'T', 'T', 'H', 'H', 'T', 'T', 'T', 'T', 'T', 'H', 'H', 'T', 'T', 'H', 'T', 'T', 'H', 'T', 'H', 'T', 'H', 'H', 'T', 'H', 'T', 'H', 'H', 'T', 'H', 'H', 'H', 'H', 'H', 'H', 'T', 'T', 'H', 'H', 'H', 'H', 'T', 'H', 'H', 'H', 'T', 'T', 'H', 'T', 'T', 'H', 'H', 'T', 'H', 'T', 'T', 'H']\n"
     ]
    }
   ],
   "source": [
    "import random\n",
    "\n",
    "def coin_toss(flips):\n",
    "    results = []\n",
    "    for flip in range(flips):\n",
    "        flip = random.randint(0,1)\n",
    "        if flip == 0:\n",
    "            results.append(\"H\")\n",
    "        else:\n",
    "            results.append(\"T\")\n",
    "    print(results)\n",
    "\n",
    "coin_toss(100)"
   ]
  },
  {
   "cell_type": "code",
   "execution_count": 14,
   "metadata": {},
   "outputs": [
    {
     "data": {
      "text/plain": [
       "0.06"
      ]
     },
     "execution_count": 14,
     "metadata": {},
     "output_type": "execute_result"
    }
   ],
   "source": [
    "# 1. The probability of getting one of the following patterns: 'HTTH', 'HHHH', or 'TTHH'\n",
    "#    is the same as any other pattern because each event is independent. \n",
    "\n",
    "prob = .5**4\n",
    "round(prob, 2)"
   ]
  },
  {
   "cell_type": "code",
   "execution_count": 17,
   "metadata": {},
   "outputs": [
    {
     "data": {
      "text/plain": [
       "0.53"
      ]
     },
     "execution_count": 17,
     "metadata": {},
     "output_type": "execute_result"
    }
   ],
   "source": [
    "# 2. List of people has 24 women and 21 men. If probability of choosing a man is 21/45, what is the\n",
    "#    probability of choosing a woman?\n",
    "\n",
    "women = 24\n",
    "men = 21\n",
    "prob_women = women/(women + men)\n",
    "round(prob_women,2)"
   ]
  },
  {
   "cell_type": "code",
   "execution_count": 19,
   "metadata": {},
   "outputs": [
    {
     "data": {
      "text/plain": [
       "0.0005"
      ]
     },
     "execution_count": 19,
     "metadata": {},
     "output_type": "execute_result"
    }
   ],
   "source": [
    "# 3. The probability that Bernice will travel by plane sometime in the next year is 10%. \n",
    "#    The probability of a plane crash at any time is .005%. What is the probability that\n",
    "#    Bernice will be in a plane crash sometime in the next year?\n",
    "\n",
    "bernice = .1\n",
    "crash = .005\n",
    "prob_bernice_crash = bernice * crash\n",
    "prob_bernice_crash"
   ]
  },
  {
   "cell_type": "code",
   "execution_count": null,
   "metadata": {},
   "outputs": [],
   "source": [
    "# 4. A data scientist wants to study the behavior of users on the company website. \n",
    "#    Each time a user clicks on a link on the website, there is a 5% chance that the \n",
    "#    user will be asked to complete a short survey about their behavior on the website. \n",
    "#    The data scientist uses the survey data to conclude that, on average, users spend \n",
    "#    15 minutes surfing the company website before moving on to other things. What is \n",
    "#    wrong with this conclusion?\n",
    "\n",
    "The more times a person clicks on the website, the more likely they are to be asked to \n",
    "complete the survey. By the time a survey is requested, the person would probably have been\n",
    "on there a lot longer. This is an example of selection bias."
   ]
  }
 ],
 "metadata": {
  "kernelspec": {
   "display_name": "Python 3",
   "language": "python",
   "name": "python3"
  },
  "language_info": {
   "codemirror_mode": {
    "name": "ipython",
    "version": 3
   },
   "file_extension": ".py",
   "mimetype": "text/x-python",
   "name": "python",
   "nbconvert_exporter": "python",
   "pygments_lexer": "ipython3",
   "version": "3.6.4"
  }
 },
 "nbformat": 4,
 "nbformat_minor": 2
}
