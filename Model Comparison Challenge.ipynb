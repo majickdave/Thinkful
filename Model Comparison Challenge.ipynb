{
 "cells": [
  {
   "cell_type": "markdown",
   "metadata": {},
   "source": [
    "### Overview of the Dataset\n",
    "The dataset contains aggregate individual statistics for 67 NBA seasons. It includes basic box-score attributes such as points, assists, rebounds etc. The data was originally scraped from basketball reference.\n",
    "\n",
    "The dataset includes 24691 observations across 51 columns.\n",
    "\n",
    "https://www.kaggle.com/drgilermo/nba-players-stats/data"
   ]
  },
  {
   "cell_type": "code",
   "execution_count": 12,
   "metadata": {},
   "outputs": [],
   "source": [
    "import math\n",
    "import warnings\n",
    "\n",
    "from IPython.display import display\n",
    "from matplotlib import pyplot as plt\n",
    "import numpy as np\n",
    "import pandas as pd\n",
    "import seaborn as sns\n",
    "from sklearn import linear_model\n",
    "import statsmodels.formula.api as smf\n",
    "from statsmodels.sandbox.regression.predstd import wls_prediction_std\n",
    "\n",
    "# Display preferences.\n",
    "%matplotlib inline\n",
    "pd.options.display.float_format = '{:.3f}'.format\n",
    "\n",
    "# Suppress annoying harmless error.\n",
    "warnings.filterwarnings(\n",
    "    action=\"ignore\",\n",
    "    module=\"scipy\",\n",
    "    message=\"^internal gelsd\")"
   ]
  },
  {
   "cell_type": "markdown",
   "metadata": {},
   "source": [
    "### Read data in and get a feel for the variables, shape and data types"
   ]
  },
  {
   "cell_type": "code",
   "execution_count": 13,
   "metadata": {},
   "outputs": [],
   "source": [
    "player_stats = pd.read_csv('Seasons_Stats.csv')"
   ]
  },
  {
   "cell_type": "code",
   "execution_count": 14,
   "metadata": {},
   "outputs": [
    {
     "data": {
      "text/html": [
       "<div>\n",
       "<style scoped>\n",
       "    .dataframe tbody tr th:only-of-type {\n",
       "        vertical-align: middle;\n",
       "    }\n",
       "\n",
       "    .dataframe tbody tr th {\n",
       "        vertical-align: top;\n",
       "    }\n",
       "\n",
       "    .dataframe thead th {\n",
       "        text-align: right;\n",
       "    }\n",
       "</style>\n",
       "<table border=\"1\" class=\"dataframe\">\n",
       "  <thead>\n",
       "    <tr style=\"text-align: right;\">\n",
       "      <th></th>\n",
       "      <th>Unnamed: 0</th>\n",
       "      <th>Year</th>\n",
       "      <th>Player</th>\n",
       "      <th>Pos</th>\n",
       "      <th>Age</th>\n",
       "      <th>Tm</th>\n",
       "      <th>G</th>\n",
       "      <th>GS</th>\n",
       "      <th>MP</th>\n",
       "      <th>PER</th>\n",
       "      <th>...</th>\n",
       "      <th>FT%</th>\n",
       "      <th>ORB</th>\n",
       "      <th>DRB</th>\n",
       "      <th>TRB</th>\n",
       "      <th>AST</th>\n",
       "      <th>STL</th>\n",
       "      <th>BLK</th>\n",
       "      <th>TOV</th>\n",
       "      <th>PF</th>\n",
       "      <th>PTS</th>\n",
       "    </tr>\n",
       "  </thead>\n",
       "  <tbody>\n",
       "    <tr>\n",
       "      <th>0</th>\n",
       "      <td>0</td>\n",
       "      <td>1950.000</td>\n",
       "      <td>Curly Armstrong</td>\n",
       "      <td>G-F</td>\n",
       "      <td>31.000</td>\n",
       "      <td>FTW</td>\n",
       "      <td>63.000</td>\n",
       "      <td>nan</td>\n",
       "      <td>nan</td>\n",
       "      <td>nan</td>\n",
       "      <td>...</td>\n",
       "      <td>0.705</td>\n",
       "      <td>nan</td>\n",
       "      <td>nan</td>\n",
       "      <td>nan</td>\n",
       "      <td>176.000</td>\n",
       "      <td>nan</td>\n",
       "      <td>nan</td>\n",
       "      <td>nan</td>\n",
       "      <td>217.000</td>\n",
       "      <td>458.000</td>\n",
       "    </tr>\n",
       "    <tr>\n",
       "      <th>1</th>\n",
       "      <td>1</td>\n",
       "      <td>1950.000</td>\n",
       "      <td>Cliff Barker</td>\n",
       "      <td>SG</td>\n",
       "      <td>29.000</td>\n",
       "      <td>INO</td>\n",
       "      <td>49.000</td>\n",
       "      <td>nan</td>\n",
       "      <td>nan</td>\n",
       "      <td>nan</td>\n",
       "      <td>...</td>\n",
       "      <td>0.708</td>\n",
       "      <td>nan</td>\n",
       "      <td>nan</td>\n",
       "      <td>nan</td>\n",
       "      <td>109.000</td>\n",
       "      <td>nan</td>\n",
       "      <td>nan</td>\n",
       "      <td>nan</td>\n",
       "      <td>99.000</td>\n",
       "      <td>279.000</td>\n",
       "    </tr>\n",
       "    <tr>\n",
       "      <th>2</th>\n",
       "      <td>2</td>\n",
       "      <td>1950.000</td>\n",
       "      <td>Leo Barnhorst</td>\n",
       "      <td>SF</td>\n",
       "      <td>25.000</td>\n",
       "      <td>CHS</td>\n",
       "      <td>67.000</td>\n",
       "      <td>nan</td>\n",
       "      <td>nan</td>\n",
       "      <td>nan</td>\n",
       "      <td>...</td>\n",
       "      <td>0.698</td>\n",
       "      <td>nan</td>\n",
       "      <td>nan</td>\n",
       "      <td>nan</td>\n",
       "      <td>140.000</td>\n",
       "      <td>nan</td>\n",
       "      <td>nan</td>\n",
       "      <td>nan</td>\n",
       "      <td>192.000</td>\n",
       "      <td>438.000</td>\n",
       "    </tr>\n",
       "    <tr>\n",
       "      <th>3</th>\n",
       "      <td>3</td>\n",
       "      <td>1950.000</td>\n",
       "      <td>Ed Bartels</td>\n",
       "      <td>F</td>\n",
       "      <td>24.000</td>\n",
       "      <td>TOT</td>\n",
       "      <td>15.000</td>\n",
       "      <td>nan</td>\n",
       "      <td>nan</td>\n",
       "      <td>nan</td>\n",
       "      <td>...</td>\n",
       "      <td>0.559</td>\n",
       "      <td>nan</td>\n",
       "      <td>nan</td>\n",
       "      <td>nan</td>\n",
       "      <td>20.000</td>\n",
       "      <td>nan</td>\n",
       "      <td>nan</td>\n",
       "      <td>nan</td>\n",
       "      <td>29.000</td>\n",
       "      <td>63.000</td>\n",
       "    </tr>\n",
       "    <tr>\n",
       "      <th>4</th>\n",
       "      <td>4</td>\n",
       "      <td>1950.000</td>\n",
       "      <td>Ed Bartels</td>\n",
       "      <td>F</td>\n",
       "      <td>24.000</td>\n",
       "      <td>DNN</td>\n",
       "      <td>13.000</td>\n",
       "      <td>nan</td>\n",
       "      <td>nan</td>\n",
       "      <td>nan</td>\n",
       "      <td>...</td>\n",
       "      <td>0.548</td>\n",
       "      <td>nan</td>\n",
       "      <td>nan</td>\n",
       "      <td>nan</td>\n",
       "      <td>20.000</td>\n",
       "      <td>nan</td>\n",
       "      <td>nan</td>\n",
       "      <td>nan</td>\n",
       "      <td>27.000</td>\n",
       "      <td>59.000</td>\n",
       "    </tr>\n",
       "  </tbody>\n",
       "</table>\n",
       "<p>5 rows × 53 columns</p>\n",
       "</div>"
      ],
      "text/plain": [
       "   Unnamed: 0     Year           Player  Pos    Age   Tm      G  GS  MP  PER  \\\n",
       "0           0 1950.000  Curly Armstrong  G-F 31.000  FTW 63.000 nan nan  nan   \n",
       "1           1 1950.000     Cliff Barker   SG 29.000  INO 49.000 nan nan  nan   \n",
       "2           2 1950.000    Leo Barnhorst   SF 25.000  CHS 67.000 nan nan  nan   \n",
       "3           3 1950.000       Ed Bartels    F 24.000  TOT 15.000 nan nan  nan   \n",
       "4           4 1950.000       Ed Bartels    F 24.000  DNN 13.000 nan nan  nan   \n",
       "\n",
       "    ...     FT%  ORB  DRB  TRB     AST  STL  BLK  TOV      PF     PTS  \n",
       "0   ...   0.705  nan  nan  nan 176.000  nan  nan  nan 217.000 458.000  \n",
       "1   ...   0.708  nan  nan  nan 109.000  nan  nan  nan  99.000 279.000  \n",
       "2   ...   0.698  nan  nan  nan 140.000  nan  nan  nan 192.000 438.000  \n",
       "3   ...   0.559  nan  nan  nan  20.000  nan  nan  nan  29.000  63.000  \n",
       "4   ...   0.548  nan  nan  nan  20.000  nan  nan  nan  27.000  59.000  \n",
       "\n",
       "[5 rows x 53 columns]"
      ]
     },
     "execution_count": 14,
     "metadata": {},
     "output_type": "execute_result"
    }
   ],
   "source": [
    "player_stats.head(5)"
   ]
  },
  {
   "cell_type": "code",
   "execution_count": 15,
   "metadata": {},
   "outputs": [],
   "source": [
    "player_stats.drop(columns=['Unnamed: 0', 'Year'], inplace=True)"
   ]
  },
  {
   "cell_type": "code",
   "execution_count": 16,
   "metadata": {},
   "outputs": [
    {
     "data": {
      "text/html": [
       "<div>\n",
       "<style scoped>\n",
       "    .dataframe tbody tr th:only-of-type {\n",
       "        vertical-align: middle;\n",
       "    }\n",
       "\n",
       "    .dataframe tbody tr th {\n",
       "        vertical-align: top;\n",
       "    }\n",
       "\n",
       "    .dataframe thead th {\n",
       "        text-align: right;\n",
       "    }\n",
       "</style>\n",
       "<table border=\"1\" class=\"dataframe\">\n",
       "  <thead>\n",
       "    <tr style=\"text-align: right;\">\n",
       "      <th></th>\n",
       "      <th>Age</th>\n",
       "      <th>G</th>\n",
       "      <th>GS</th>\n",
       "      <th>MP</th>\n",
       "      <th>PER</th>\n",
       "      <th>TS%</th>\n",
       "      <th>3PAr</th>\n",
       "      <th>FTr</th>\n",
       "      <th>ORB%</th>\n",
       "      <th>DRB%</th>\n",
       "      <th>...</th>\n",
       "      <th>FT%</th>\n",
       "      <th>ORB</th>\n",
       "      <th>DRB</th>\n",
       "      <th>TRB</th>\n",
       "      <th>AST</th>\n",
       "      <th>STL</th>\n",
       "      <th>BLK</th>\n",
       "      <th>TOV</th>\n",
       "      <th>PF</th>\n",
       "      <th>PTS</th>\n",
       "    </tr>\n",
       "  </thead>\n",
       "  <tbody>\n",
       "    <tr>\n",
       "      <th>count</th>\n",
       "      <td>24616.000</td>\n",
       "      <td>24624.000</td>\n",
       "      <td>18233.000</td>\n",
       "      <td>24138.000</td>\n",
       "      <td>24101.000</td>\n",
       "      <td>24538.000</td>\n",
       "      <td>18839.000</td>\n",
       "      <td>24525.000</td>\n",
       "      <td>20792.000</td>\n",
       "      <td>20792.000</td>\n",
       "      <td>...</td>\n",
       "      <td>23766.000</td>\n",
       "      <td>20797.000</td>\n",
       "      <td>20797.000</td>\n",
       "      <td>24312.000</td>\n",
       "      <td>24624.000</td>\n",
       "      <td>20797.000</td>\n",
       "      <td>20797.000</td>\n",
       "      <td>19645.000</td>\n",
       "      <td>24624.000</td>\n",
       "      <td>24624.000</td>\n",
       "    </tr>\n",
       "    <tr>\n",
       "      <th>mean</th>\n",
       "      <td>26.664</td>\n",
       "      <td>50.837</td>\n",
       "      <td>23.593</td>\n",
       "      <td>1209.720</td>\n",
       "      <td>12.479</td>\n",
       "      <td>0.493</td>\n",
       "      <td>0.159</td>\n",
       "      <td>0.325</td>\n",
       "      <td>6.182</td>\n",
       "      <td>13.709</td>\n",
       "      <td>...</td>\n",
       "      <td>0.719</td>\n",
       "      <td>62.189</td>\n",
       "      <td>147.199</td>\n",
       "      <td>224.637</td>\n",
       "      <td>114.853</td>\n",
       "      <td>39.897</td>\n",
       "      <td>24.470</td>\n",
       "      <td>73.940</td>\n",
       "      <td>116.339</td>\n",
       "      <td>510.116</td>\n",
       "    </tr>\n",
       "    <tr>\n",
       "      <th>std</th>\n",
       "      <td>3.842</td>\n",
       "      <td>26.496</td>\n",
       "      <td>28.632</td>\n",
       "      <td>941.147</td>\n",
       "      <td>6.039</td>\n",
       "      <td>0.094</td>\n",
       "      <td>0.187</td>\n",
       "      <td>0.219</td>\n",
       "      <td>4.873</td>\n",
       "      <td>6.636</td>\n",
       "      <td>...</td>\n",
       "      <td>0.142</td>\n",
       "      <td>67.325</td>\n",
       "      <td>145.922</td>\n",
       "      <td>228.190</td>\n",
       "      <td>135.864</td>\n",
       "      <td>38.713</td>\n",
       "      <td>36.935</td>\n",
       "      <td>67.714</td>\n",
       "      <td>84.792</td>\n",
       "      <td>492.923</td>\n",
       "    </tr>\n",
       "    <tr>\n",
       "      <th>min</th>\n",
       "      <td>18.000</td>\n",
       "      <td>1.000</td>\n",
       "      <td>0.000</td>\n",
       "      <td>0.000</td>\n",
       "      <td>-90.600</td>\n",
       "      <td>0.000</td>\n",
       "      <td>0.000</td>\n",
       "      <td>0.000</td>\n",
       "      <td>0.000</td>\n",
       "      <td>0.000</td>\n",
       "      <td>...</td>\n",
       "      <td>0.000</td>\n",
       "      <td>0.000</td>\n",
       "      <td>0.000</td>\n",
       "      <td>0.000</td>\n",
       "      <td>0.000</td>\n",
       "      <td>0.000</td>\n",
       "      <td>0.000</td>\n",
       "      <td>0.000</td>\n",
       "      <td>0.000</td>\n",
       "      <td>0.000</td>\n",
       "    </tr>\n",
       "    <tr>\n",
       "      <th>25%</th>\n",
       "      <td>24.000</td>\n",
       "      <td>27.000</td>\n",
       "      <td>0.000</td>\n",
       "      <td>340.000</td>\n",
       "      <td>9.800</td>\n",
       "      <td>0.458</td>\n",
       "      <td>0.005</td>\n",
       "      <td>0.208</td>\n",
       "      <td>2.600</td>\n",
       "      <td>8.800</td>\n",
       "      <td>...</td>\n",
       "      <td>0.657</td>\n",
       "      <td>12.000</td>\n",
       "      <td>33.000</td>\n",
       "      <td>51.000</td>\n",
       "      <td>19.000</td>\n",
       "      <td>9.000</td>\n",
       "      <td>3.000</td>\n",
       "      <td>18.000</td>\n",
       "      <td>39.000</td>\n",
       "      <td>106.000</td>\n",
       "    </tr>\n",
       "    <tr>\n",
       "      <th>50%</th>\n",
       "      <td>26.000</td>\n",
       "      <td>58.000</td>\n",
       "      <td>8.000</td>\n",
       "      <td>1053.000</td>\n",
       "      <td>12.700</td>\n",
       "      <td>0.506</td>\n",
       "      <td>0.064</td>\n",
       "      <td>0.296</td>\n",
       "      <td>5.400</td>\n",
       "      <td>12.700</td>\n",
       "      <td>...</td>\n",
       "      <td>0.743</td>\n",
       "      <td>38.000</td>\n",
       "      <td>106.000</td>\n",
       "      <td>159.000</td>\n",
       "      <td>68.000</td>\n",
       "      <td>29.000</td>\n",
       "      <td>11.000</td>\n",
       "      <td>55.000</td>\n",
       "      <td>109.000</td>\n",
       "      <td>364.000</td>\n",
       "    </tr>\n",
       "    <tr>\n",
       "      <th>75%</th>\n",
       "      <td>29.000</td>\n",
       "      <td>75.000</td>\n",
       "      <td>45.000</td>\n",
       "      <td>1971.000</td>\n",
       "      <td>15.600</td>\n",
       "      <td>0.544</td>\n",
       "      <td>0.288</td>\n",
       "      <td>0.400</td>\n",
       "      <td>9.000</td>\n",
       "      <td>18.100</td>\n",
       "      <td>...</td>\n",
       "      <td>0.808</td>\n",
       "      <td>91.000</td>\n",
       "      <td>212.000</td>\n",
       "      <td>322.000</td>\n",
       "      <td>160.000</td>\n",
       "      <td>60.000</td>\n",
       "      <td>29.000</td>\n",
       "      <td>112.000</td>\n",
       "      <td>182.000</td>\n",
       "      <td>778.000</td>\n",
       "    </tr>\n",
       "    <tr>\n",
       "      <th>max</th>\n",
       "      <td>44.000</td>\n",
       "      <td>88.000</td>\n",
       "      <td>83.000</td>\n",
       "      <td>3882.000</td>\n",
       "      <td>129.100</td>\n",
       "      <td>1.136</td>\n",
       "      <td>1.000</td>\n",
       "      <td>6.000</td>\n",
       "      <td>100.000</td>\n",
       "      <td>100.000</td>\n",
       "      <td>...</td>\n",
       "      <td>1.000</td>\n",
       "      <td>587.000</td>\n",
       "      <td>1111.000</td>\n",
       "      <td>2149.000</td>\n",
       "      <td>1164.000</td>\n",
       "      <td>301.000</td>\n",
       "      <td>456.000</td>\n",
       "      <td>464.000</td>\n",
       "      <td>386.000</td>\n",
       "      <td>4029.000</td>\n",
       "    </tr>\n",
       "  </tbody>\n",
       "</table>\n",
       "<p>8 rows × 48 columns</p>\n",
       "</div>"
      ],
      "text/plain": [
       "            Age         G        GS        MP       PER       TS%      3PAr  \\\n",
       "count 24616.000 24624.000 18233.000 24138.000 24101.000 24538.000 18839.000   \n",
       "mean     26.664    50.837    23.593  1209.720    12.479     0.493     0.159   \n",
       "std       3.842    26.496    28.632   941.147     6.039     0.094     0.187   \n",
       "min      18.000     1.000     0.000     0.000   -90.600     0.000     0.000   \n",
       "25%      24.000    27.000     0.000   340.000     9.800     0.458     0.005   \n",
       "50%      26.000    58.000     8.000  1053.000    12.700     0.506     0.064   \n",
       "75%      29.000    75.000    45.000  1971.000    15.600     0.544     0.288   \n",
       "max      44.000    88.000    83.000  3882.000   129.100     1.136     1.000   \n",
       "\n",
       "            FTr      ORB%      DRB%    ...          FT%       ORB       DRB  \\\n",
       "count 24525.000 20792.000 20792.000    ...    23766.000 20797.000 20797.000   \n",
       "mean      0.325     6.182    13.709    ...        0.719    62.189   147.199   \n",
       "std       0.219     4.873     6.636    ...        0.142    67.325   145.922   \n",
       "min       0.000     0.000     0.000    ...        0.000     0.000     0.000   \n",
       "25%       0.208     2.600     8.800    ...        0.657    12.000    33.000   \n",
       "50%       0.296     5.400    12.700    ...        0.743    38.000   106.000   \n",
       "75%       0.400     9.000    18.100    ...        0.808    91.000   212.000   \n",
       "max       6.000   100.000   100.000    ...        1.000   587.000  1111.000   \n",
       "\n",
       "            TRB       AST       STL       BLK       TOV        PF       PTS  \n",
       "count 24312.000 24624.000 20797.000 20797.000 19645.000 24624.000 24624.000  \n",
       "mean    224.637   114.853    39.897    24.470    73.940   116.339   510.116  \n",
       "std     228.190   135.864    38.713    36.935    67.714    84.792   492.923  \n",
       "min       0.000     0.000     0.000     0.000     0.000     0.000     0.000  \n",
       "25%      51.000    19.000     9.000     3.000    18.000    39.000   106.000  \n",
       "50%     159.000    68.000    29.000    11.000    55.000   109.000   364.000  \n",
       "75%     322.000   160.000    60.000    29.000   112.000   182.000   778.000  \n",
       "max    2149.000  1164.000   301.000   456.000   464.000   386.000  4029.000  \n",
       "\n",
       "[8 rows x 48 columns]"
      ]
     },
     "execution_count": 16,
     "metadata": {},
     "output_type": "execute_result"
    }
   ],
   "source": [
    "player_stats.describe()"
   ]
  },
  {
   "cell_type": "code",
   "execution_count": 17,
   "metadata": {},
   "outputs": [
    {
     "data": {
      "text/plain": [
       "(24691, 51)"
      ]
     },
     "execution_count": 17,
     "metadata": {},
     "output_type": "execute_result"
    }
   ],
   "source": [
    "player_stats.shape"
   ]
  },
  {
   "cell_type": "code",
   "execution_count": 18,
   "metadata": {},
   "outputs": [
    {
     "data": {
      "text/plain": [
       "Player     object\n",
       "Pos        object\n",
       "Age       float64\n",
       "Tm         object\n",
       "G         float64\n",
       "GS        float64\n",
       "MP        float64\n",
       "PER       float64\n",
       "TS%       float64\n",
       "3PAr      float64\n",
       "FTr       float64\n",
       "ORB%      float64\n",
       "DRB%      float64\n",
       "TRB%      float64\n",
       "AST%      float64\n",
       "STL%      float64\n",
       "BLK%      float64\n",
       "TOV%      float64\n",
       "USG%      float64\n",
       "blanl     float64\n",
       "OWS       float64\n",
       "DWS       float64\n",
       "WS        float64\n",
       "WS/48     float64\n",
       "blank2    float64\n",
       "OBPM      float64\n",
       "DBPM      float64\n",
       "BPM       float64\n",
       "VORP      float64\n",
       "FG        float64\n",
       "FGA       float64\n",
       "FG%       float64\n",
       "3P        float64\n",
       "3PA       float64\n",
       "3P%       float64\n",
       "2P        float64\n",
       "2PA       float64\n",
       "2P%       float64\n",
       "eFG%      float64\n",
       "FT        float64\n",
       "FTA       float64\n",
       "FT%       float64\n",
       "ORB       float64\n",
       "DRB       float64\n",
       "TRB       float64\n",
       "AST       float64\n",
       "STL       float64\n",
       "BLK       float64\n",
       "TOV       float64\n",
       "PF        float64\n",
       "PTS       float64\n",
       "dtype: object"
      ]
     },
     "execution_count": 18,
     "metadata": {},
     "output_type": "execute_result"
    }
   ],
   "source": [
    "player_stats.dtypes"
   ]
  },
  {
   "cell_type": "markdown",
   "metadata": {},
   "source": [
    "### Determine presence of missing values and remove from columns of interest"
   ]
  },
  {
   "cell_type": "code",
   "execution_count": 19,
   "metadata": {},
   "outputs": [
    {
     "name": "stdout",
     "output_type": "stream",
     "text": [
      "Player       67\n",
      "Pos          67\n",
      "Age          75\n",
      "Tm           67\n",
      "G            67\n",
      "GS         6458\n",
      "MP          553\n",
      "PER         590\n",
      "TS%         153\n",
      "3PAr       5852\n",
      "FTr         166\n",
      "ORB%       3899\n",
      "DRB%       3899\n",
      "TRB%       3120\n",
      "AST%       2136\n",
      "STL%       3899\n",
      "BLK%       3899\n",
      "TOV%       5109\n",
      "USG%       5051\n",
      "blanl     24691\n",
      "OWS         106\n",
      "DWS         106\n",
      "WS          106\n",
      "WS/48       590\n",
      "blank2    24691\n",
      "OBPM       3894\n",
      "DBPM       3894\n",
      "BPM        3894\n",
      "VORP       3894\n",
      "FG           67\n",
      "FGA          67\n",
      "FG%         166\n",
      "3P         5764\n",
      "3PA        5764\n",
      "3P%        9275\n",
      "2P           67\n",
      "2PA          67\n",
      "2P%         195\n",
      "eFG%        166\n",
      "FT           67\n",
      "FTA          67\n",
      "FT%         925\n",
      "ORB        3894\n",
      "DRB        3894\n",
      "TRB         379\n",
      "AST          67\n",
      "STL        3894\n",
      "BLK        3894\n",
      "TOV        5046\n",
      "PF           67\n",
      "PTS          67\n",
      "dtype: int64\n"
     ]
    }
   ],
   "source": [
    "#Create variable to find missing values across all columns\n",
    "\n",
    "missing_values_count = player_stats.isnull().sum()\n",
    "print(missing_values_count)"
   ]
  },
  {
   "cell_type": "code",
   "execution_count": 47,
   "metadata": {},
   "outputs": [],
   "source": [
    "#Drop NaN's in the columns we care most about\n",
    "\n",
    "player_stats = player_stats.dropna(subset=['PTS', 'FGA', 'FTA', 'AST', 'PF'])"
   ]
  },
  {
   "cell_type": "markdown",
   "metadata": {},
   "source": [
    "### Exploratory Analysis"
   ]
  },
  {
   "cell_type": "markdown",
   "metadata": {},
   "source": [
    "**Start with the variable, points (PTS)**"
   ]
  },
  {
   "cell_type": "code",
   "execution_count": 22,
   "metadata": {},
   "outputs": [
    {
     "data": {
      "image/png": "[encoded data removed]",
      "text/plain": [
       "<matplotlib.figure.Figure at 0x1a175ee940>"
      ]
     },
     "metadata": {},
     "output_type": "display_data"
    }
   ],
   "source": [
    "#First, look at Points\n",
    "\n",
    "sns.distplot(player_stats['PTS'])\n",
    "plt.title('Distribution of Points')\n",
    "plt.show()"
   ]
  },
  {
   "cell_type": "code",
   "execution_count": 26,
   "metadata": {},
   "outputs": [
    {
     "data": {
      "image/png": "[encoded data removed]",
      "text/plain": [
       "<matplotlib.figure.Figure at 0x1a175339e8>"
      ]
     },
     "metadata": {},
     "output_type": "display_data"
    }
   ],
   "source": [
    "sns.boxplot(x=player_stats[\"PTS\"])\n",
    "plt.title('Distribution of Points')\n",
    "plt.show()"
   ]
  },
  {
   "cell_type": "code",
   "execution_count": 35,
   "metadata": {},
   "outputs": [
    {
     "data": {
      "text/plain": [
       "count   24624.000\n",
       "mean      510.116\n",
       "std       492.923\n",
       "min         0.000\n",
       "25%       106.000\n",
       "50%       364.000\n",
       "75%       778.000\n",
       "max      4029.000\n",
       "Name: PTS, dtype: float64"
      ]
     },
     "execution_count": 35,
     "metadata": {},
     "output_type": "execute_result"
    }
   ],
   "source": [
    "player_stats['PTS'].describe()"
   ]
  },
  {
   "cell_type": "markdown",
   "metadata": {},
   "source": [
    "**Next, look at Field Goals Attempted (FGA)**"
   ]
  },
  {
   "cell_type": "code",
   "execution_count": 27,
   "metadata": {},
   "outputs": [
    {
     "data": {
      "image/png": "[encoded data removed]",
      "text/plain": [
       "<matplotlib.figure.Figure at 0x1a179fa908>"
      ]
     },
     "metadata": {},
     "output_type": "display_data"
    }
   ],
   "source": [
    "#Second, look at Field Goals Attempted\n",
    "\n",
    "sns.distplot(player_stats['FGA'])\n",
    "plt.title('Distribution of Field Goals Attempted')\n",
    "plt.show()"
   ]
  },
  {
   "cell_type": "code",
   "execution_count": 28,
   "metadata": {},
   "outputs": [
    {
     "data": {
      "image/png": "[encoded data removed]",
      "text/plain": [
       "<matplotlib.figure.Figure at 0x1a1755eb38>"
      ]
     },
     "metadata": {},
     "output_type": "display_data"
    }
   ],
   "source": [
    "sns.boxplot(x=player_stats[\"FGA\"])\n",
    "plt.title('Distribution of Field Goals Attempted')\n",
    "plt.show()"
   ]
  },
  {
   "cell_type": "code",
   "execution_count": 34,
   "metadata": {},
   "outputs": [
    {
     "data": {
      "text/plain": [
       "count   24624.000\n",
       "mean      430.646\n",
       "std       397.625\n",
       "min         0.000\n",
       "25%        99.000\n",
       "50%       321.000\n",
       "75%       661.000\n",
       "max      3159.000\n",
       "Name: FGA, dtype: float64"
      ]
     },
     "execution_count": 34,
     "metadata": {},
     "output_type": "execute_result"
    }
   ],
   "source": [
    "player_stats['FGA'].describe()"
   ]
  },
  {
   "cell_type": "markdown",
   "metadata": {},
   "source": [
    "**Next, look at Free Throws Attempted (FTA)**"
   ]
  },
  {
   "cell_type": "code",
   "execution_count": 29,
   "metadata": {},
   "outputs": [
    {
     "data": {
      "image/png": "[encoded data removed]",
      "text/plain": [
       "<matplotlib.figure.Figure at 0x1a15ed1710>"
      ]
     },
     "metadata": {},
     "output_type": "display_data"
    }
   ],
   "source": [
    "#Third, look at Free Throws Attempted\n",
    "\n",
    "sns.distplot(player_stats['FTA'])\n",
    "plt.title('Distribution of Free Throws Attempted')\n",
    "plt.show()"
   ]
  },
  {
   "cell_type": "code",
   "execution_count": 30,
   "metadata": {},
   "outputs": [
    {
     "data": {
      "image/png": "[encoded data removed]",
      "text/plain": [
       "<matplotlib.figure.Figure at 0x1a17c25898>"
      ]
     },
     "metadata": {},
     "output_type": "display_data"
    }
   ],
   "source": [
    "sns.boxplot(x=player_stats[\"FTA\"])\n",
    "plt.title('Distribution of Free Throws Attempted')\n",
    "plt.show()"
   ]
  },
  {
   "cell_type": "code",
   "execution_count": 36,
   "metadata": {},
   "outputs": [
    {
     "data": {
      "text/plain": [
       "count   24624.000\n",
       "mean      136.775\n",
       "std       146.079\n",
       "min         0.000\n",
       "25%        27.000\n",
       "50%        88.000\n",
       "75%       201.000\n",
       "max      1363.000\n",
       "Name: FTA, dtype: float64"
      ]
     },
     "execution_count": 36,
     "metadata": {},
     "output_type": "execute_result"
    }
   ],
   "source": [
    "player_stats['FTA'].describe()"
   ]
  },
  {
   "cell_type": "markdown",
   "metadata": {},
   "source": [
    "**Next, Assists**"
   ]
  },
  {
   "cell_type": "code",
   "execution_count": 61,
   "metadata": {},
   "outputs": [
    {
     "data": {
      "image/png": "[encoded data removed]",
      "text/plain": [
       "<matplotlib.figure.Figure at 0x112334b00>"
      ]
     },
     "metadata": {},
     "output_type": "display_data"
    }
   ],
   "source": [
    "#Fourth, look at Assists\n",
    "\n",
    "sns.distplot(player_stats['AST'])\n",
    "plt.title('Distribution of Assists')\n",
    "plt.show()"
   ]
  },
  {
   "cell_type": "code",
   "execution_count": 60,
   "metadata": {},
   "outputs": [
    {
     "data": {
      "image/png": "[encoded data removed]",
      "text/plain": [
       "<matplotlib.figure.Figure at 0x1a25916b70>"
      ]
     },
     "metadata": {},
     "output_type": "display_data"
    }
   ],
   "source": [
    "sns.boxplot(x=player_stats[\"AST\"])\n",
    "plt.title('Distribution of Assists')\n",
    "plt.show()"
   ]
  },
  {
   "cell_type": "code",
   "execution_count": 59,
   "metadata": {},
   "outputs": [
    {
     "data": {
      "text/plain": [
       "count   24624.000\n",
       "mean      114.853\n",
       "std       135.864\n",
       "min         0.000\n",
       "25%        19.000\n",
       "50%        68.000\n",
       "75%       160.000\n",
       "max      1164.000\n",
       "Name: AST, dtype: float64"
      ]
     },
     "execution_count": 59,
     "metadata": {},
     "output_type": "execute_result"
    }
   ],
   "source": [
    "player_stats['AST'].describe()"
   ]
  },
  {
   "cell_type": "markdown",
   "metadata": {},
   "source": [
    "**Finally, Personal Fouls**"
   ]
  },
  {
   "cell_type": "code",
   "execution_count": 104,
   "metadata": {},
   "outputs": [
    {
     "data": {
      "image/png": "[encoded data removed]",
      "text/plain": [
       "<matplotlib.figure.Figure at 0x1a258fab00>"
      ]
     },
     "metadata": {},
     "output_type": "display_data"
    }
   ],
   "source": [
    "#Fifth, look at Personal Fouls\n",
    "\n",
    "sns.distplot(player_stats['PF'])\n",
    "plt.title('Distribution of Personal Fouls')\n",
    "plt.show()"
   ]
  },
  {
   "cell_type": "code",
   "execution_count": 105,
   "metadata": {},
   "outputs": [
    {
     "data": {
      "image/png": "[encoded data removed]",
      "text/plain": [
       "<matplotlib.figure.Figure at 0x1a1988ee80>"
      ]
     },
     "metadata": {},
     "output_type": "display_data"
    }
   ],
   "source": [
    "sns.boxplot(x=player_stats[\"PF\"])\n",
    "plt.title('Distribution of Personal Fouls')\n",
    "plt.show()"
   ]
  },
  {
   "cell_type": "code",
   "execution_count": 106,
   "metadata": {},
   "outputs": [
    {
     "data": {
      "text/plain": [
       "count   20040.000\n",
       "mean       95.470\n",
       "std        76.142\n",
       "min         0.000\n",
       "25%        29.000\n",
       "50%        81.000\n",
       "75%       148.000\n",
       "max       379.000\n",
       "Name: PF, dtype: float64"
      ]
     },
     "execution_count": 106,
     "metadata": {},
     "output_type": "execute_result"
    }
   ],
   "source": [
    "player_stats['PF'].describe()"
   ]
  },
  {
   "cell_type": "markdown",
   "metadata": {},
   "source": [
    "### Remove outliers/skewness based on the above"
   ]
  },
  {
   "cell_type": "markdown",
   "metadata": {},
   "source": [
    "**Primarily looking at removing the top 5 to 10%, based on distributions**"
   ]
  },
  {
   "cell_type": "code",
   "execution_count": 63,
   "metadata": {},
   "outputs": [
    {
     "data": {
      "text/plain": [
       "1518.0"
      ]
     },
     "execution_count": 63,
     "metadata": {},
     "output_type": "execute_result"
    }
   ],
   "source": [
    "#Starting with Points\n",
    "player_stats['PTS'].quantile(0.95)"
   ]
  },
  {
   "cell_type": "code",
   "execution_count": 64,
   "metadata": {},
   "outputs": [],
   "source": [
    "player_stats = player_stats[player_stats['PTS'] < 1518]"
   ]
  },
  {
   "cell_type": "code",
   "execution_count": 65,
   "metadata": {},
   "outputs": [
    {
     "data": {
      "text/plain": [
       "1025.0"
      ]
     },
     "execution_count": 65,
     "metadata": {},
     "output_type": "execute_result"
    }
   ],
   "source": [
    "#Next Field Goals Attempted\n",
    "player_stats['FGA'].quantile(0.95)"
   ]
  },
  {
   "cell_type": "code",
   "execution_count": 66,
   "metadata": {},
   "outputs": [],
   "source": [
    "player_stats = player_stats[player_stats['FGA'] < 1025]"
   ]
  },
  {
   "cell_type": "code",
   "execution_count": 67,
   "metadata": {},
   "outputs": [
    {
     "data": {
      "text/plain": [
       "311.0"
      ]
     },
     "execution_count": 67,
     "metadata": {},
     "output_type": "execute_result"
    }
   ],
   "source": [
    "#Next Free Throws Attempted\n",
    "player_stats['FTA'].quantile(0.95)"
   ]
  },
  {
   "cell_type": "code",
   "execution_count": 68,
   "metadata": {},
   "outputs": [],
   "source": [
    "player_stats = player_stats[player_stats['FTA'] < 311]"
   ]
  },
  {
   "cell_type": "code",
   "execution_count": 69,
   "metadata": {},
   "outputs": [
    {
     "data": {
      "text/plain": [
       "306.0"
      ]
     },
     "execution_count": 69,
     "metadata": {},
     "output_type": "execute_result"
    }
   ],
   "source": [
    "#Finally Assists\n",
    "player_stats['AST'].quantile(0.95)"
   ]
  },
  {
   "cell_type": "code",
   "execution_count": 70,
   "metadata": {},
   "outputs": [],
   "source": [
    "player_stats = player_stats[player_stats['AST'] < 306]"
   ]
  },
  {
   "cell_type": "markdown",
   "metadata": {},
   "source": [
    "### Define, run and validate multivariate regression model"
   ]
  },
  {
   "cell_type": "markdown",
   "metadata": {},
   "source": [
    "**Model Equation:** Points (PTS) = Field Goals Attempted (FGA) + Assists (AST) + Personal Fouls (PF)"
   ]
  },
  {
   "cell_type": "code",
   "execution_count": 115,
   "metadata": {},
   "outputs": [
    {
     "name": "stdout",
     "output_type": "stream",
     "text": [
      "\n",
      "Coefficients: \n",
      " [ 1.13408418 -0.03941859  0.14299544]\n",
      "\n",
      "Intercept: \n",
      " -7.415568695323373\n",
      "\n",
      "R-squared:\n",
      "0.9731498322141118\n"
     ]
    }
   ],
   "source": [
    "# Instantiate and fit our model.\n",
    "regression = linear_model.LinearRegression()\n",
    "Y = player_stats['PTS']\n",
    "X = player_stats[['FGA', 'AST', 'PF']]\n",
    "regression.fit(X, Y)\n",
    "\n",
    "# Inspect the results.\n",
    "print('\\nCoefficients: \\n', regression.coef_)\n",
    "print('\\nIntercept: \\n', regression.intercept_)\n",
    "print('\\nR-squared:')\n",
    "print(regression.score(X, Y))"
   ]
  },
  {
   "cell_type": "code",
   "execution_count": 116,
   "metadata": {},
   "outputs": [],
   "source": [
    "# Use a ~ to represent an '=' from the functional form\n",
    "linear_formula = 'PTS ~ FGA+AST+PF'\n",
    "\n",
    "# Fit the model to our data using the formula.\n",
    "lm = smf.ols(formula=linear_formula, data=player_stats).fit()"
   ]
  },
  {
   "cell_type": "code",
   "execution_count": 117,
   "metadata": {},
   "outputs": [
    {
     "data": {
      "text/plain": [
       "Intercept   0.000\n",
       "FGA         0.000\n",
       "AST         0.000\n",
       "PF          0.000\n",
       "dtype: float64"
      ]
     },
     "execution_count": 117,
     "metadata": {},
     "output_type": "execute_result"
    }
   ],
   "source": [
    "lm.pvalues"
   ]
  },
  {
   "cell_type": "markdown",
   "metadata": {},
   "source": [
    "### Working through Multivariate Regression Assumptions"
   ]
  },
  {
   "cell_type": "markdown",
   "metadata": {},
   "source": [
    "**Assumption One:** Linear Relationship with all variables"
   ]
  },
  {
   "cell_type": "code",
   "execution_count": 118,
   "metadata": {},
   "outputs": [
    {
     "data": {
      "image/png": "[encoded data removed]",
      "text/plain": [
       "<matplotlib.figure.Figure at 0x1a1939eba8>"
      ]
     },
     "metadata": {},
     "output_type": "display_data"
    }
   ],
   "source": [
    "sns.regplot(x='PTS', y='FGA', data=player_stats)\n",
    "plt.title('Points vs. Field Goals Attempted')\n",
    "plt.show()"
   ]
  },
  {
   "cell_type": "code",
   "execution_count": 119,
   "metadata": {},
   "outputs": [
    {
     "data": {
      "image/png": "[encoded data removed]",
      "text/plain": [
       "<matplotlib.figure.Figure at 0x1a26e004e0>"
      ]
     },
     "metadata": {},
     "output_type": "display_data"
    }
   ],
   "source": [
    "sns.regplot(x='PTS', y='AST', data=player_stats)\n",
    "plt.title('Points vs. Assists')\n",
    "plt.show()"
   ]
  },
  {
   "cell_type": "code",
   "execution_count": 120,
   "metadata": {},
   "outputs": [
    {
     "data": {
      "image/png": "[encoded data removed]",
      "text/plain": [
       "<matplotlib.figure.Figure at 0x1a27df3048>"
      ]
     },
     "metadata": {},
     "output_type": "display_data"
    }
   ],
   "source": [
    "sns.regplot(x='PTS', y='PF', data=player_stats)\n",
    "plt.title('Points vs. Personal Fouls')\n",
    "plt.show()"
   ]
  },
  {
   "cell_type": "markdown",
   "metadata": {},
   "source": [
    "**Assumption Two:** Multivariate Normality"
   ]
  },
  {
   "cell_type": "code",
   "execution_count": 121,
   "metadata": {},
   "outputs": [
    {
     "data": {
      "image/png": "[encoded data removed]",
      "text/plain": [
       "<matplotlib.figure.Figure at 0x1a19ae1978>"
      ]
     },
     "metadata": {},
     "output_type": "display_data"
    }
   ],
   "source": [
    "# Extract predicted values.\n",
    "predicted = regression.predict(X).ravel()\n",
    "actual = player_stats['PTS']\n",
    "\n",
    "# Calculate the error, also called the residual.\n",
    "residual = actual - predicted\n",
    "\n",
    "sns.distplot(residual)\n",
    "plt.title('Residual Counts')\n",
    "plt.show()"
   ]
  },
  {
   "cell_type": "markdown",
   "metadata": {},
   "source": [
    "**Assumption Three:** Homoscedasticity"
   ]
  },
  {
   "cell_type": "code",
   "execution_count": 122,
   "metadata": {},
   "outputs": [
    {
     "data": {
      "image/png": "[encoded data removed]",
      "text/plain": [
       "<matplotlib.figure.Figure at 0x1a19ae8898>"
      ]
     },
     "metadata": {},
     "output_type": "display_data"
    }
   ],
   "source": [
    "#Plotting residual vs. predicted\n",
    "\n",
    "sns.regplot(x=predicted, y=residual, fit_reg=False)\n",
    "plt.xlabel('Predicted')\n",
    "plt.ylabel('Residual')\n",
    "plt.axhline(y=0)\n",
    "plt.title('Residual vs. Predicted')\n",
    "plt.show()"
   ]
  },
  {
   "cell_type": "markdown",
   "metadata": {},
   "source": [
    "**Assumption Four:** Low Multicollinearity"
   ]
  },
  {
   "cell_type": "code",
   "execution_count": 123,
   "metadata": {},
   "outputs": [
    {
     "data": {
      "text/html": [
       "<div>\n",
       "<style scoped>\n",
       "    .dataframe tbody tr th:only-of-type {\n",
       "        vertical-align: middle;\n",
       "    }\n",
       "\n",
       "    .dataframe tbody tr th {\n",
       "        vertical-align: top;\n",
       "    }\n",
       "\n",
       "    .dataframe thead th {\n",
       "        text-align: right;\n",
       "    }\n",
       "</style>\n",
       "<table border=\"1\" class=\"dataframe\">\n",
       "  <thead>\n",
       "    <tr style=\"text-align: right;\">\n",
       "      <th></th>\n",
       "      <th>FGA</th>\n",
       "      <th>AST</th>\n",
       "      <th>PF</th>\n",
       "    </tr>\n",
       "  </thead>\n",
       "  <tbody>\n",
       "    <tr>\n",
       "      <th>FGA</th>\n",
       "      <td>1.000</td>\n",
       "      <td>0.747</td>\n",
       "      <td>0.813</td>\n",
       "    </tr>\n",
       "    <tr>\n",
       "      <th>AST</th>\n",
       "      <td>0.747</td>\n",
       "      <td>1.000</td>\n",
       "      <td>0.599</td>\n",
       "    </tr>\n",
       "    <tr>\n",
       "      <th>PF</th>\n",
       "      <td>0.813</td>\n",
       "      <td>0.599</td>\n",
       "      <td>1.000</td>\n",
       "    </tr>\n",
       "  </tbody>\n",
       "</table>\n",
       "</div>"
      ],
      "text/plain": [
       "      FGA   AST    PF\n",
       "FGA 1.000 0.747 0.813\n",
       "AST 0.747 1.000 0.599\n",
       "PF  0.813 0.599 1.000"
      ]
     },
     "metadata": {},
     "output_type": "display_data"
    }
   ],
   "source": [
    "correlation_matrix = X.corr()\n",
    "display(correlation_matrix)"
   ]
  },
  {
   "cell_type": "code",
   "execution_count": 125,
   "metadata": {},
   "outputs": [
    {
     "data": {
      "text/plain": [
       "array([0.9262666 , 0.97658073, 0.9795706 , 0.97989828, 0.97737098])"
      ]
     },
     "execution_count": 125,
     "metadata": {},
     "output_type": "execute_result"
    }
   ],
   "source": [
    "from sklearn.model_selection import cross_val_score\n",
    "cross_val_score(regression, X, Y, cv=5)"
   ]
  },
  {
   "cell_type": "markdown",
   "metadata": {},
   "source": [
    "### Now let's build a KNN Regression Model based off the same data"
   ]
  },
  {
   "cell_type": "markdown",
   "metadata": {},
   "source": [
    "**First, unweighted**"
   ]
  },
  {
   "cell_type": "code",
   "execution_count": 126,
   "metadata": {},
   "outputs": [
    {
     "data": {
      "text/plain": [
       "KNeighborsRegressor(algorithm='auto', leaf_size=30, metric='minkowski',\n",
       "          metric_params=None, n_jobs=1, n_neighbors=10, p=2,\n",
       "          weights='uniform')"
      ]
     },
     "execution_count": 126,
     "metadata": {},
     "output_type": "execute_result"
    }
   ],
   "source": [
    "from sklearn import neighbors\n",
    "\n",
    "# Build our model.\n",
    "knn = neighbors.KNeighborsRegressor(n_neighbors=10)\n",
    "knn.fit(X, Y)"
   ]
  },
  {
   "cell_type": "markdown",
   "metadata": {},
   "source": [
    "**Second, weighted**"
   ]
  },
  {
   "cell_type": "code",
   "execution_count": 127,
   "metadata": {},
   "outputs": [
    {
     "data": {
      "text/plain": [
       "KNeighborsRegressor(algorithm='auto', leaf_size=30, metric='minkowski',\n",
       "          metric_params=None, n_jobs=1, n_neighbors=10, p=2,\n",
       "          weights='distance')"
      ]
     },
     "execution_count": 127,
     "metadata": {},
     "output_type": "execute_result"
    }
   ],
   "source": [
    "from sklearn import neighbors\n",
    "\n",
    "# Build our model.\n",
    "knn_w = neighbors.KNeighborsRegressor(n_neighbors=10, weights='distance')\n",
    "knn_w.fit(X, Y)"
   ]
  },
  {
   "cell_type": "code",
   "execution_count": 128,
   "metadata": {},
   "outputs": [
    {
     "name": "stdout",
     "output_type": "stream",
     "text": [
      "Unweighted Accuracy: 0.97 (+/- 0.04)\n",
      "Weighted Accuracy: 0.97 (+/- 0.04)\n"
     ]
    }
   ],
   "source": [
    "from sklearn.model_selection import cross_val_score\n",
    "\n",
    "score = cross_val_score(knn, X, Y, cv=5)\n",
    "print(\"Unweighted Accuracy: %0.2f (+/- %0.2f)\" % (score.mean(), score.std() * 2))\n",
    "\n",
    "score_w = cross_val_score(knn_w, X, Y, cv=5)\n",
    "print(\"Weighted Accuracy: %0.2f (+/- %0.2f)\" % (score_w.mean(), score_w.std() * 2))"
   ]
  },
  {
   "cell_type": "markdown",
   "metadata": {},
   "source": [
    "**Takeaway:** In this example, both of our models (Multivariate vs. KNN) performed at about the same rate. Additionally, the weighted vs. unweighted versions of our KNN regression performed at the same rate as well. I think that due to the high concentration of values and correlation between variables, the weight did not make a difference."
   ]
  }
 ],
 "metadata": {
  "kernelspec": {
   "display_name": "Python 3",
   "language": "python",
   "name": "python3"
  },
  "language_info": {
   "codemirror_mode": {
    "name": "ipython",
    "version": 3
   },
   "file_extension": ".py",
   "mimetype": "text/x-python",
   "name": "python",
   "nbconvert_exporter": "python",
   "pygments_lexer": "ipython3",
   "version": "3.6.4"
  }
 },
 "nbformat": 4,
 "nbformat_minor": 2
}
