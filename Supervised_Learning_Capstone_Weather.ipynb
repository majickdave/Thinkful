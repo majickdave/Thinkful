{
 "cells": [
  {
   "cell_type": "markdown",
   "metadata": {},
   "source": [
    "## Dataset Overview\n",
    "This dataset provides daily weather information for Australia, dating back to 2008. Each observation represents a single day in a given location. The data provided relates to weather conditions throughout the day such as wind and wind direction, temperature, humidity, pressure, whether it rained today and whether or not it rained the following day.\n",
    "\n",
    "The dataset contains **145,460 observations across 24 columns** and can be found at the link below:\n",
    "\n",
    "https://www.kaggle.com/jsphyg/weather-dataset-rattle-package"
   ]
  },
  {
   "cell_type": "code",
   "execution_count": 46,
   "metadata": {},
   "outputs": [],
   "source": [
    "import pandas as pd\n",
    "import numpy as np\n",
    "import matplotlib.pyplot as plt\n",
    "import seaborn as sns\n",
    "import scipy\n",
    "from sklearn import ensemble\n",
    "from sklearn import linear_model\n",
    "from sklearn.linear_model import LogisticRegression\n",
    "from sklearn.svm import SVR\n",
    "from sklearn.svm import SVC\n",
    "from sklearn.neighbors import KNeighborsClassifier\n",
    "from sklearn.naive_bayes import BernoulliNB\n",
    "from sklearn.naive_bayes import GaussianNB\n",
    "from sklearn.naive_bayes import MultinomialNB\n",
    "from sklearn import preprocessing\n",
    "from sklearn.model_selection import cross_val_score\n",
    "from sklearn.metrics import confusion_matrix\n",
    "from sklearn.feature_selection import RFE\n",
    "\n",
    "%matplotlib inline"
   ]
  },
  {
   "cell_type": "markdown",
   "metadata": {},
   "source": [
    "## Read dataset in and begin investigating its properties"
   ]
  },
  {
   "cell_type": "code",
   "execution_count": 3,
   "metadata": {},
   "outputs": [],
   "source": [
    "weather = pd.read_csv('weatherAUS.csv')"
   ]
  },
  {
   "cell_type": "code",
   "execution_count": 4,
   "metadata": {},
   "outputs": [
    {
     "data": {
      "text/plain": [
       "(145460, 24)"
      ]
     },
     "execution_count": 4,
     "metadata": {},
     "output_type": "execute_result"
    }
   ],
   "source": [
    "weather.shape"
   ]
  },
  {
   "cell_type": "code",
   "execution_count": 5,
   "metadata": {},
   "outputs": [
    {
     "data": {
      "text/plain": [
       "Index(['Date', 'Location', 'MinTemp', 'MaxTemp', 'Rainfall', 'Evaporation',\n",
       "       'Sunshine', 'WindGustDir', 'WindGustSpeed', 'WindDir9am', 'WindDir3pm',\n",
       "       'WindSpeed9am', 'WindSpeed3pm', 'Humidity9am', 'Humidity3pm',\n",
       "       'Pressure9am', 'Pressure3pm', 'Cloud9am', 'Cloud3pm', 'Temp9am',\n",
       "       'Temp3pm', 'RainToday', 'RISK_MM', 'RainTomorrow'],\n",
       "      dtype='object')"
      ]
     },
     "execution_count": 5,
     "metadata": {},
     "output_type": "execute_result"
    }
   ],
   "source": [
    "weather.columns"
   ]
  },
  {
   "cell_type": "code",
   "execution_count": 6,
   "metadata": {},
   "outputs": [
    {
     "data": {
      "text/html": [
       "<div>\n",
       "<style scoped>\n",
       "    .dataframe tbody tr th:only-of-type {\n",
       "        vertical-align: middle;\n",
       "    }\n",
       "\n",
       "    .dataframe tbody tr th {\n",
       "        vertical-align: top;\n",
       "    }\n",
       "\n",
       "    .dataframe thead th {\n",
       "        text-align: right;\n",
       "    }\n",
       "</style>\n",
       "<table border=\"1\" class=\"dataframe\">\n",
       "  <thead>\n",
       "    <tr style=\"text-align: right;\">\n",
       "      <th></th>\n",
       "      <th>Date</th>\n",
       "      <th>Location</th>\n",
       "      <th>MinTemp</th>\n",
       "      <th>MaxTemp</th>\n",
       "      <th>Rainfall</th>\n",
       "      <th>Evaporation</th>\n",
       "      <th>Sunshine</th>\n",
       "      <th>WindGustDir</th>\n",
       "      <th>WindGustSpeed</th>\n",
       "      <th>WindDir9am</th>\n",
       "      <th>...</th>\n",
       "      <th>Humidity3pm</th>\n",
       "      <th>Pressure9am</th>\n",
       "      <th>Pressure3pm</th>\n",
       "      <th>Cloud9am</th>\n",
       "      <th>Cloud3pm</th>\n",
       "      <th>Temp9am</th>\n",
       "      <th>Temp3pm</th>\n",
       "      <th>RainToday</th>\n",
       "      <th>RISK_MM</th>\n",
       "      <th>RainTomorrow</th>\n",
       "    </tr>\n",
       "  </thead>\n",
       "  <tbody>\n",
       "    <tr>\n",
       "      <th>0</th>\n",
       "      <td>2008-12-01</td>\n",
       "      <td>Albury</td>\n",
       "      <td>13.4</td>\n",
       "      <td>22.9</td>\n",
       "      <td>0.6</td>\n",
       "      <td>NaN</td>\n",
       "      <td>NaN</td>\n",
       "      <td>W</td>\n",
       "      <td>44.0</td>\n",
       "      <td>W</td>\n",
       "      <td>...</td>\n",
       "      <td>22.0</td>\n",
       "      <td>1007.7</td>\n",
       "      <td>1007.1</td>\n",
       "      <td>8.0</td>\n",
       "      <td>NaN</td>\n",
       "      <td>16.9</td>\n",
       "      <td>21.8</td>\n",
       "      <td>No</td>\n",
       "      <td>0.0</td>\n",
       "      <td>No</td>\n",
       "    </tr>\n",
       "    <tr>\n",
       "      <th>1</th>\n",
       "      <td>2008-12-02</td>\n",
       "      <td>Albury</td>\n",
       "      <td>7.4</td>\n",
       "      <td>25.1</td>\n",
       "      <td>0.0</td>\n",
       "      <td>NaN</td>\n",
       "      <td>NaN</td>\n",
       "      <td>WNW</td>\n",
       "      <td>44.0</td>\n",
       "      <td>NNW</td>\n",
       "      <td>...</td>\n",
       "      <td>25.0</td>\n",
       "      <td>1010.6</td>\n",
       "      <td>1007.8</td>\n",
       "      <td>NaN</td>\n",
       "      <td>NaN</td>\n",
       "      <td>17.2</td>\n",
       "      <td>24.3</td>\n",
       "      <td>No</td>\n",
       "      <td>0.0</td>\n",
       "      <td>No</td>\n",
       "    </tr>\n",
       "    <tr>\n",
       "      <th>2</th>\n",
       "      <td>2008-12-03</td>\n",
       "      <td>Albury</td>\n",
       "      <td>12.9</td>\n",
       "      <td>25.7</td>\n",
       "      <td>0.0</td>\n",
       "      <td>NaN</td>\n",
       "      <td>NaN</td>\n",
       "      <td>WSW</td>\n",
       "      <td>46.0</td>\n",
       "      <td>W</td>\n",
       "      <td>...</td>\n",
       "      <td>30.0</td>\n",
       "      <td>1007.6</td>\n",
       "      <td>1008.7</td>\n",
       "      <td>NaN</td>\n",
       "      <td>2.0</td>\n",
       "      <td>21.0</td>\n",
       "      <td>23.2</td>\n",
       "      <td>No</td>\n",
       "      <td>0.0</td>\n",
       "      <td>No</td>\n",
       "    </tr>\n",
       "    <tr>\n",
       "      <th>3</th>\n",
       "      <td>2008-12-04</td>\n",
       "      <td>Albury</td>\n",
       "      <td>9.2</td>\n",
       "      <td>28.0</td>\n",
       "      <td>0.0</td>\n",
       "      <td>NaN</td>\n",
       "      <td>NaN</td>\n",
       "      <td>NE</td>\n",
       "      <td>24.0</td>\n",
       "      <td>SE</td>\n",
       "      <td>...</td>\n",
       "      <td>16.0</td>\n",
       "      <td>1017.6</td>\n",
       "      <td>1012.8</td>\n",
       "      <td>NaN</td>\n",
       "      <td>NaN</td>\n",
       "      <td>18.1</td>\n",
       "      <td>26.5</td>\n",
       "      <td>No</td>\n",
       "      <td>1.0</td>\n",
       "      <td>No</td>\n",
       "    </tr>\n",
       "    <tr>\n",
       "      <th>4</th>\n",
       "      <td>2008-12-05</td>\n",
       "      <td>Albury</td>\n",
       "      <td>17.5</td>\n",
       "      <td>32.3</td>\n",
       "      <td>1.0</td>\n",
       "      <td>NaN</td>\n",
       "      <td>NaN</td>\n",
       "      <td>W</td>\n",
       "      <td>41.0</td>\n",
       "      <td>ENE</td>\n",
       "      <td>...</td>\n",
       "      <td>33.0</td>\n",
       "      <td>1010.8</td>\n",
       "      <td>1006.0</td>\n",
       "      <td>7.0</td>\n",
       "      <td>8.0</td>\n",
       "      <td>17.8</td>\n",
       "      <td>29.7</td>\n",
       "      <td>No</td>\n",
       "      <td>0.2</td>\n",
       "      <td>No</td>\n",
       "    </tr>\n",
       "  </tbody>\n",
       "</table>\n",
       "<p>5 rows × 24 columns</p>\n",
       "</div>"
      ],
      "text/plain": [
       "         Date Location  MinTemp  MaxTemp  Rainfall  Evaporation  Sunshine  \\\n",
       "0  2008-12-01   Albury     13.4     22.9       0.6          NaN       NaN   \n",
       "1  2008-12-02   Albury      7.4     25.1       0.0          NaN       NaN   \n",
       "2  2008-12-03   Albury     12.9     25.7       0.0          NaN       NaN   \n",
       "3  2008-12-04   Albury      9.2     28.0       0.0          NaN       NaN   \n",
       "4  2008-12-05   Albury     17.5     32.3       1.0          NaN       NaN   \n",
       "\n",
       "  WindGustDir  WindGustSpeed WindDir9am      ...      Humidity3pm  \\\n",
       "0           W           44.0          W      ...             22.0   \n",
       "1         WNW           44.0        NNW      ...             25.0   \n",
       "2         WSW           46.0          W      ...             30.0   \n",
       "3          NE           24.0         SE      ...             16.0   \n",
       "4           W           41.0        ENE      ...             33.0   \n",
       "\n",
       "   Pressure9am  Pressure3pm  Cloud9am  Cloud3pm  Temp9am  Temp3pm  RainToday  \\\n",
       "0       1007.7       1007.1       8.0       NaN     16.9     21.8         No   \n",
       "1       1010.6       1007.8       NaN       NaN     17.2     24.3         No   \n",
       "2       1007.6       1008.7       NaN       2.0     21.0     23.2         No   \n",
       "3       1017.6       1012.8       NaN       NaN     18.1     26.5         No   \n",
       "4       1010.8       1006.0       7.0       8.0     17.8     29.7         No   \n",
       "\n",
       "   RISK_MM  RainTomorrow  \n",
       "0      0.0            No  \n",
       "1      0.0            No  \n",
       "2      0.0            No  \n",
       "3      1.0            No  \n",
       "4      0.2            No  \n",
       "\n",
       "[5 rows x 24 columns]"
      ]
     },
     "execution_count": 6,
     "metadata": {},
     "output_type": "execute_result"
    }
   ],
   "source": [
    "pd.options.display.max_rows = 999\n",
    "weather.head(5)"
   ]
  },
  {
   "cell_type": "code",
   "execution_count": 7,
   "metadata": {},
   "outputs": [
    {
     "data": {
      "text/html": [
       "<div>\n",
       "<style scoped>\n",
       "    .dataframe tbody tr th:only-of-type {\n",
       "        vertical-align: middle;\n",
       "    }\n",
       "\n",
       "    .dataframe tbody tr th {\n",
       "        vertical-align: top;\n",
       "    }\n",
       "\n",
       "    .dataframe thead th {\n",
       "        text-align: right;\n",
       "    }\n",
       "</style>\n",
       "<table border=\"1\" class=\"dataframe\">\n",
       "  <thead>\n",
       "    <tr style=\"text-align: right;\">\n",
       "      <th></th>\n",
       "      <th>MinTemp</th>\n",
       "      <th>MaxTemp</th>\n",
       "      <th>Rainfall</th>\n",
       "      <th>Evaporation</th>\n",
       "      <th>Sunshine</th>\n",
       "      <th>WindGustSpeed</th>\n",
       "      <th>WindSpeed9am</th>\n",
       "      <th>WindSpeed3pm</th>\n",
       "      <th>Humidity9am</th>\n",
       "      <th>Humidity3pm</th>\n",
       "      <th>Pressure9am</th>\n",
       "      <th>Pressure3pm</th>\n",
       "      <th>Cloud9am</th>\n",
       "      <th>Cloud3pm</th>\n",
       "      <th>Temp9am</th>\n",
       "      <th>Temp3pm</th>\n",
       "      <th>RISK_MM</th>\n",
       "    </tr>\n",
       "  </thead>\n",
       "  <tbody>\n",
       "    <tr>\n",
       "      <th>count</th>\n",
       "      <td>143975.000000</td>\n",
       "      <td>144199.000000</td>\n",
       "      <td>142199.000000</td>\n",
       "      <td>82670.000000</td>\n",
       "      <td>75625.000000</td>\n",
       "      <td>135197.000000</td>\n",
       "      <td>143693.000000</td>\n",
       "      <td>142398.000000</td>\n",
       "      <td>142806.000000</td>\n",
       "      <td>140953.000000</td>\n",
       "      <td>130395.00000</td>\n",
       "      <td>130432.000000</td>\n",
       "      <td>89572.000000</td>\n",
       "      <td>86102.000000</td>\n",
       "      <td>143693.000000</td>\n",
       "      <td>141851.00000</td>\n",
       "      <td>142193.000000</td>\n",
       "    </tr>\n",
       "    <tr>\n",
       "      <th>mean</th>\n",
       "      <td>12.194034</td>\n",
       "      <td>23.221348</td>\n",
       "      <td>2.360918</td>\n",
       "      <td>5.468232</td>\n",
       "      <td>7.611178</td>\n",
       "      <td>40.035230</td>\n",
       "      <td>14.043426</td>\n",
       "      <td>18.662657</td>\n",
       "      <td>68.880831</td>\n",
       "      <td>51.539116</td>\n",
       "      <td>1017.64994</td>\n",
       "      <td>1015.255889</td>\n",
       "      <td>4.447461</td>\n",
       "      <td>4.509930</td>\n",
       "      <td>16.990631</td>\n",
       "      <td>21.68339</td>\n",
       "      <td>2.360682</td>\n",
       "    </tr>\n",
       "    <tr>\n",
       "      <th>std</th>\n",
       "      <td>6.398495</td>\n",
       "      <td>7.119049</td>\n",
       "      <td>8.478060</td>\n",
       "      <td>4.193704</td>\n",
       "      <td>3.785483</td>\n",
       "      <td>13.607062</td>\n",
       "      <td>8.915375</td>\n",
       "      <td>8.809800</td>\n",
       "      <td>19.029164</td>\n",
       "      <td>20.795902</td>\n",
       "      <td>7.10653</td>\n",
       "      <td>7.037414</td>\n",
       "      <td>2.887159</td>\n",
       "      <td>2.720357</td>\n",
       "      <td>6.488753</td>\n",
       "      <td>6.93665</td>\n",
       "      <td>8.477969</td>\n",
       "    </tr>\n",
       "    <tr>\n",
       "      <th>min</th>\n",
       "      <td>-8.500000</td>\n",
       "      <td>-4.800000</td>\n",
       "      <td>0.000000</td>\n",
       "      <td>0.000000</td>\n",
       "      <td>0.000000</td>\n",
       "      <td>6.000000</td>\n",
       "      <td>0.000000</td>\n",
       "      <td>0.000000</td>\n",
       "      <td>0.000000</td>\n",
       "      <td>0.000000</td>\n",
       "      <td>980.50000</td>\n",
       "      <td>977.100000</td>\n",
       "      <td>0.000000</td>\n",
       "      <td>0.000000</td>\n",
       "      <td>-7.200000</td>\n",
       "      <td>-5.40000</td>\n",
       "      <td>0.000000</td>\n",
       "    </tr>\n",
       "    <tr>\n",
       "      <th>25%</th>\n",
       "      <td>7.600000</td>\n",
       "      <td>17.900000</td>\n",
       "      <td>0.000000</td>\n",
       "      <td>2.600000</td>\n",
       "      <td>4.800000</td>\n",
       "      <td>31.000000</td>\n",
       "      <td>7.000000</td>\n",
       "      <td>13.000000</td>\n",
       "      <td>57.000000</td>\n",
       "      <td>37.000000</td>\n",
       "      <td>1012.90000</td>\n",
       "      <td>1010.400000</td>\n",
       "      <td>1.000000</td>\n",
       "      <td>2.000000</td>\n",
       "      <td>12.300000</td>\n",
       "      <td>16.60000</td>\n",
       "      <td>0.000000</td>\n",
       "    </tr>\n",
       "    <tr>\n",
       "      <th>50%</th>\n",
       "      <td>12.000000</td>\n",
       "      <td>22.600000</td>\n",
       "      <td>0.000000</td>\n",
       "      <td>4.800000</td>\n",
       "      <td>8.400000</td>\n",
       "      <td>39.000000</td>\n",
       "      <td>13.000000</td>\n",
       "      <td>19.000000</td>\n",
       "      <td>70.000000</td>\n",
       "      <td>52.000000</td>\n",
       "      <td>1017.60000</td>\n",
       "      <td>1015.200000</td>\n",
       "      <td>5.000000</td>\n",
       "      <td>5.000000</td>\n",
       "      <td>16.700000</td>\n",
       "      <td>21.10000</td>\n",
       "      <td>0.000000</td>\n",
       "    </tr>\n",
       "    <tr>\n",
       "      <th>75%</th>\n",
       "      <td>16.900000</td>\n",
       "      <td>28.200000</td>\n",
       "      <td>0.800000</td>\n",
       "      <td>7.400000</td>\n",
       "      <td>10.600000</td>\n",
       "      <td>48.000000</td>\n",
       "      <td>19.000000</td>\n",
       "      <td>24.000000</td>\n",
       "      <td>83.000000</td>\n",
       "      <td>66.000000</td>\n",
       "      <td>1022.40000</td>\n",
       "      <td>1020.000000</td>\n",
       "      <td>7.000000</td>\n",
       "      <td>7.000000</td>\n",
       "      <td>21.600000</td>\n",
       "      <td>26.40000</td>\n",
       "      <td>0.800000</td>\n",
       "    </tr>\n",
       "    <tr>\n",
       "      <th>max</th>\n",
       "      <td>33.900000</td>\n",
       "      <td>48.100000</td>\n",
       "      <td>371.000000</td>\n",
       "      <td>145.000000</td>\n",
       "      <td>14.500000</td>\n",
       "      <td>135.000000</td>\n",
       "      <td>130.000000</td>\n",
       "      <td>87.000000</td>\n",
       "      <td>100.000000</td>\n",
       "      <td>100.000000</td>\n",
       "      <td>1041.00000</td>\n",
       "      <td>1039.600000</td>\n",
       "      <td>9.000000</td>\n",
       "      <td>9.000000</td>\n",
       "      <td>40.200000</td>\n",
       "      <td>46.70000</td>\n",
       "      <td>371.000000</td>\n",
       "    </tr>\n",
       "  </tbody>\n",
       "</table>\n",
       "</div>"
      ],
      "text/plain": [
       "             MinTemp        MaxTemp       Rainfall   Evaporation  \\\n",
       "count  143975.000000  144199.000000  142199.000000  82670.000000   \n",
       "mean       12.194034      23.221348       2.360918      5.468232   \n",
       "std         6.398495       7.119049       8.478060      4.193704   \n",
       "min        -8.500000      -4.800000       0.000000      0.000000   \n",
       "25%         7.600000      17.900000       0.000000      2.600000   \n",
       "50%        12.000000      22.600000       0.000000      4.800000   \n",
       "75%        16.900000      28.200000       0.800000      7.400000   \n",
       "max        33.900000      48.100000     371.000000    145.000000   \n",
       "\n",
       "           Sunshine  WindGustSpeed   WindSpeed9am   WindSpeed3pm  \\\n",
       "count  75625.000000  135197.000000  143693.000000  142398.000000   \n",
       "mean       7.611178      40.035230      14.043426      18.662657   \n",
       "std        3.785483      13.607062       8.915375       8.809800   \n",
       "min        0.000000       6.000000       0.000000       0.000000   \n",
       "25%        4.800000      31.000000       7.000000      13.000000   \n",
       "50%        8.400000      39.000000      13.000000      19.000000   \n",
       "75%       10.600000      48.000000      19.000000      24.000000   \n",
       "max       14.500000     135.000000     130.000000      87.000000   \n",
       "\n",
       "         Humidity9am    Humidity3pm   Pressure9am    Pressure3pm  \\\n",
       "count  142806.000000  140953.000000  130395.00000  130432.000000   \n",
       "mean       68.880831      51.539116    1017.64994    1015.255889   \n",
       "std        19.029164      20.795902       7.10653       7.037414   \n",
       "min         0.000000       0.000000     980.50000     977.100000   \n",
       "25%        57.000000      37.000000    1012.90000    1010.400000   \n",
       "50%        70.000000      52.000000    1017.60000    1015.200000   \n",
       "75%        83.000000      66.000000    1022.40000    1020.000000   \n",
       "max       100.000000     100.000000    1041.00000    1039.600000   \n",
       "\n",
       "           Cloud9am      Cloud3pm        Temp9am       Temp3pm        RISK_MM  \n",
       "count  89572.000000  86102.000000  143693.000000  141851.00000  142193.000000  \n",
       "mean       4.447461      4.509930      16.990631      21.68339       2.360682  \n",
       "std        2.887159      2.720357       6.488753       6.93665       8.477969  \n",
       "min        0.000000      0.000000      -7.200000      -5.40000       0.000000  \n",
       "25%        1.000000      2.000000      12.300000      16.60000       0.000000  \n",
       "50%        5.000000      5.000000      16.700000      21.10000       0.000000  \n",
       "75%        7.000000      7.000000      21.600000      26.40000       0.800000  \n",
       "max        9.000000      9.000000      40.200000      46.70000     371.000000  "
      ]
     },
     "execution_count": 7,
     "metadata": {},
     "output_type": "execute_result"
    }
   ],
   "source": [
    "weather.describe()"
   ]
  },
  {
   "cell_type": "markdown",
   "metadata": {},
   "source": [
    "## Exploratory Analysis"
   ]
  },
  {
   "cell_type": "code",
   "execution_count": 8,
   "metadata": {},
   "outputs": [
    {
     "data": {
      "image/png": "[encoded data removed]",
      "text/plain": [
       "<matplotlib.figure.Figure at 0x10a606358>"
      ]
     },
     "metadata": {},
     "output_type": "display_data"
    },
    {
     "name": "stdout",
     "output_type": "stream",
     "text": [
      "count    143975.000000\n",
      "mean         12.194034\n",
      "std           6.398495\n",
      "min          -8.500000\n",
      "25%           7.600000\n",
      "50%          12.000000\n",
      "75%          16.900000\n",
      "max          33.900000\n",
      "Name: MinTemp, dtype: float64\n",
      "count    144199.000000\n",
      "mean         23.221348\n",
      "std           7.119049\n",
      "min          -4.800000\n",
      "25%          17.900000\n",
      "50%          22.600000\n",
      "75%          28.200000\n",
      "max          48.100000\n",
      "Name: MaxTemp, dtype: float64\n"
     ]
    }
   ],
   "source": [
    "#Start with MinTemp and MaxTemp\n",
    "\n",
    "plt.figure(figsize=[20,5])\n",
    "\n",
    "plt.subplot(1,3,1)\n",
    "sns.boxplot(x=weather[\"MinTemp\"])\n",
    "plt.title('Distribution of Minimum Temperature')\n",
    "\n",
    "plt.subplot(1,3,2)\n",
    "sns.boxplot(x=weather[\"MaxTemp\"])\n",
    "plt.title('Distribution of Maximum Temperature')\n",
    "plt.show()\n",
    "\n",
    "print(weather['MinTemp'].describe())\n",
    "print(weather['MaxTemp'].describe())"
   ]
  },
  {
   "cell_type": "code",
   "execution_count": 9,
   "metadata": {},
   "outputs": [
    {
     "data": {
      "image/png": "[encoded data removed]",
      "text/plain": [
       "<matplotlib.figure.Figure at 0x10a6060b8>"
      ]
     },
     "metadata": {},
     "output_type": "display_data"
    }
   ],
   "source": [
    "#Next look at Wind Speed\n",
    "\n",
    "plt.figure(figsize=[20,5])\n",
    "\n",
    "plt.subplot(1,3,1)\n",
    "sns.distplot(weather['WindSpeed9am'].dropna())\n",
    "plt.title('Distribution of Wind Speed at 9 am')\n",
    "\n",
    "plt.subplot(1,3,2)\n",
    "sns.distplot(weather['WindSpeed3pm'].dropna())\n",
    "plt.title('Distribution of Wind Speed at 3 pm')\n",
    "plt.show()"
   ]
  },
  {
   "cell_type": "code",
   "execution_count": 10,
   "metadata": {},
   "outputs": [
    {
     "data": {
      "image/png": "[encoded data removed]",
      "text/plain": [
       "<matplotlib.figure.Figure at 0x10ad007f0>"
      ]
     },
     "metadata": {},
     "output_type": "display_data"
    }
   ],
   "source": [
    "#Next look at Humidity\n",
    "\n",
    "plt.figure(figsize=[20,5])\n",
    "\n",
    "plt.subplot(1,3,1)\n",
    "sns.distplot(weather['Humidity9am'].dropna())\n",
    "plt.title('Distribution of Humidity at 9 am')\n",
    "\n",
    "plt.subplot(1,3,2)\n",
    "sns.distplot(weather['Humidity3pm'].dropna())\n",
    "plt.title('Distribution of Humidity at 3 pm')\n",
    "plt.show()"
   ]
  },
  {
   "cell_type": "code",
   "execution_count": 11,
   "metadata": {},
   "outputs": [
    {
     "data": {
      "image/png": "[encoded data removed]",
      "text/plain": [
       "<matplotlib.figure.Figure at 0x10ade8d68>"
      ]
     },
     "metadata": {},
     "output_type": "display_data"
    }
   ],
   "source": [
    "#Next, look at cloudiness\n",
    "\n",
    "plt.figure(figsize=[20,5])\n",
    "\n",
    "plt.subplot(1,3,1)\n",
    "sns.countplot(x=weather['Cloud9am'].dropna(), data=weather)\n",
    "plt.title('Distribution of Cloudiness at 9 am')\n",
    "\n",
    "\n",
    "plt.subplot(1,3,2)\n",
    "sns.countplot(x=weather['Cloud3pm'].dropna(), data=weather)\n",
    "plt.title('Distribution of Cloudiness at 3 pm')\n",
    "plt.show()"
   ]
  },
  {
   "cell_type": "code",
   "execution_count": 12,
   "metadata": {},
   "outputs": [
    {
     "data": {
      "image/png": "[encoded data removed]",
      "text/plain": [
       "<matplotlib.figure.Figure at 0x10ad0ee80>"
      ]
     },
     "metadata": {},
     "output_type": "display_data"
    }
   ],
   "source": [
    "#Next, look at air pressure\n",
    "\n",
    "plt.figure(figsize=[20,5])\n",
    "\n",
    "plt.subplot(1,3,1)\n",
    "sns.distplot(weather['Pressure9am'].dropna())\n",
    "plt.title('Distribution of Air Pressure at 9 am')\n",
    "\n",
    "plt.subplot(1,3,2)\n",
    "sns.distplot(weather['Pressure3pm'].dropna())\n",
    "plt.title('Distribution of Air Pressure at 3 pm')\n",
    "plt.show()"
   ]
  },
  {
   "cell_type": "code",
   "execution_count": 13,
   "metadata": {},
   "outputs": [
    {
     "data": {
      "image/png": "[encoded data removed]",
      "text/plain": [
       "<matplotlib.figure.Figure at 0x10adc5e80>"
      ]
     },
     "metadata": {},
     "output_type": "display_data"
    },
    {
     "name": "stdout",
     "output_type": "stream",
     "text": [
      "count    142193.000000\n",
      "mean          2.360682\n",
      "std           8.477969\n",
      "min           0.000000\n",
      "25%           0.000000\n",
      "50%           0.000000\n",
      "75%           0.800000\n",
      "max         371.000000\n",
      "Name: RISK_MM, dtype: float64\n"
     ]
    }
   ],
   "source": [
    "#Finally, look at Risk of Rain\n",
    "sns.distplot(weather['RISK_MM'].dropna())\n",
    "plt.title('Distribution of Risk of Rain')\n",
    "plt.show()\n",
    "print(weather['RISK_MM'].describe())"
   ]
  },
  {
   "cell_type": "code",
   "execution_count": 14,
   "metadata": {},
   "outputs": [
    {
     "data": {
      "image/png": "[encoded data removed]",
      "text/plain": [
       "<matplotlib.figure.Figure at 0x1041192e8>"
      ]
     },
     "metadata": {},
     "output_type": "display_data"
    }
   ],
   "source": [
    "#Now look at Rain Today and whether or not it rained the next day (Rain Tomorrow)\n",
    "sns.countplot(x='RainToday', hue='RainTomorrow', data=weather)\n",
    "plt.title('Rain Today vs. Rain Tomorrow')\n",
    "plt.xlabel('Did it Rain Today?')\n",
    "plt.show()"
   ]
  },
  {
   "cell_type": "code",
   "execution_count": 35,
   "metadata": {},
   "outputs": [
    {
     "data": {
      "image/png": "[encoded data removed]",
      "text/plain": [
       "<matplotlib.figure.Figure at 0x10b219b38>"
      ]
     },
     "metadata": {},
     "output_type": "display_data"
    }
   ],
   "source": [
    "#Correlation matrix with sns.heatmap\n",
    "\n",
    "# Set up the matplotlib figure.\n",
    "f, ax = plt.subplots(figsize=(25, 25))\n",
    "\n",
    "sns.heatmap(weather.corr())\n",
    "plt.xticks(size=20)\n",
    "plt.yticks(size=20)\n",
    "plt.show()"
   ]
  },
  {
   "cell_type": "markdown",
   "metadata": {},
   "source": [
    "## Data Cleaning"
   ]
  },
  {
   "cell_type": "code",
   "execution_count": 15,
   "metadata": {},
   "outputs": [
    {
     "name": "stdout",
     "output_type": "stream",
     "text": [
      "Date                 0\n",
      "Location             0\n",
      "MinTemp           1485\n",
      "MaxTemp           1261\n",
      "Rainfall          3261\n",
      "Evaporation      62790\n",
      "Sunshine         69835\n",
      "WindGustDir      10326\n",
      "WindGustSpeed    10263\n",
      "WindDir9am       10566\n",
      "WindDir3pm        4228\n",
      "WindSpeed9am      1767\n",
      "WindSpeed3pm      3062\n",
      "Humidity9am       2654\n",
      "Humidity3pm       4507\n",
      "Pressure9am      15065\n",
      "Pressure3pm      15028\n",
      "Cloud9am         55888\n",
      "Cloud3pm         59358\n",
      "Temp9am           1767\n",
      "Temp3pm           3609\n",
      "RainToday         3261\n",
      "RISK_MM           3267\n",
      "RainTomorrow      3267\n",
      "dtype: int64\n"
     ]
    }
   ],
   "source": [
    "#Determine missing values across dataframe\n",
    "\n",
    "missing_values_count = weather.isnull().sum()\n",
    "print(missing_values_count)"
   ]
  },
  {
   "cell_type": "code",
   "execution_count": 16,
   "metadata": {},
   "outputs": [],
   "source": [
    "#Drop all NaNs\n",
    "weather = weather.dropna()"
   ]
  },
  {
   "cell_type": "markdown",
   "metadata": {},
   "source": [
    "## Feature Selection / Engineering"
   ]
  },
  {
   "cell_type": "code",
   "execution_count": 17,
   "metadata": {},
   "outputs": [],
   "source": [
    "#Change RainToday & RainTomorrow to binary\n",
    "weather['RainToday'] = np.where((weather['RainToday'] == 'Yes'), 1, 0) #Rain = 1, No Rain = 0\n",
    "weather['RainTomorrow'] = np.where((weather['RainTomorrow'] == 'Yes'), 1, 0) #Rain = 1, No Rain = 0"
   ]
  },
  {
   "cell_type": "code",
   "execution_count": 18,
   "metadata": {},
   "outputs": [
    {
     "data": {
      "text/plain": [
       "12.6"
      ]
     },
     "execution_count": 18,
     "metadata": {},
     "output_type": "execute_result"
    }
   ],
   "source": [
    "#Get rid of skewness/outliers in Risk of Rain\n",
    "weather['RISK_MM'].quantile(0.95)"
   ]
  },
  {
   "cell_type": "code",
   "execution_count": 19,
   "metadata": {},
   "outputs": [],
   "source": [
    "#Transform Risk of Rain based on quantile method above\n",
    "weather = weather[weather['RISK_MM'] <= 13]"
   ]
  },
  {
   "cell_type": "markdown",
   "metadata": {},
   "source": [
    "## Define Research Question"
   ]
  },
  {
   "cell_type": "markdown",
   "metadata": {},
   "source": [
    "**Background:**It seems that the public is always blaming the \"weatherman\" when a prediction proves to be false. Inaccurate predictions can be quite impactful, from ruining plans or events to causing dangerous road conditions. Being able to predict, to a very high degree of certainty, whether or not certain weather conditions will occur would be an extremely useful model.\n",
    "\n",
    "**Research Question:**Will it rain tomorrow?\n",
    "\n",
    "**Methodology:**First determine baseline accuracy, then use a number of different classification models to fit our data and predict accuracy. Based on the results, refine and tune in order to achieve the highest accuracy, in both training and test data. "
   ]
  },
  {
   "cell_type": "markdown",
   "metadata": {},
   "source": [
    "## Create Repeatable Functions for Each Model Type"
   ]
  },
  {
   "cell_type": "code",
   "execution_count": 20,
   "metadata": {},
   "outputs": [],
   "source": [
    "#Establish X and Y\n",
    "#Use pd.get_dummies for X because WindGustDir, WindDir9am, WindDir3pm are categorical\n",
    "\n",
    "X = weather.drop(['RainTomorrow'], 1)\n",
    "X = pd.get_dummies(X)\n",
    "Y = weather.RainTomorrow"
   ]
  },
  {
   "cell_type": "markdown",
   "metadata": {},
   "source": [
    "## Naive Bayes"
   ]
  },
  {
   "cell_type": "code",
   "execution_count": 21,
   "metadata": {},
   "outputs": [],
   "source": [
    "#Create Function\n",
    "\n",
    "def NB_Model(model):\n",
    "        if model == 'Bernoulli':\n",
    "            NB_Model = BernoulliNB()\n",
    "            NB_Model.fit(X, Y)\n",
    "            positive_pred = NB_Model.predict(X)\n",
    "            print('\\n Percentage accuracy for Bernoulli Naive Bayes')\n",
    "            print(str(NB_Model.score(X, Y)*100) + '%')\n",
    "            print('\\n Cross-Validation Score')\n",
    "            print(cross_val_score(NB_Model, X, Y, cv=5))\n",
    "            print('\\n Confusion Matrix')\n",
    "            display(confusion_matrix(Y, positive_pred))\n",
    "        \n",
    "        elif model == 'Gaussian':\n",
    "            NB_Model = GaussianNB()\n",
    "            NB_Model.fit(X, Y)\n",
    "            positive_pred = NB_Model.predict(X)\n",
    "            print('\\n Percentage accuracy for Gaussian Naive Bayes')\n",
    "            print(str(NB_Model.score(X, Y)*100) + '%')\n",
    "            print('\\n Cross-Validation Score')\n",
    "            print(cross_val_score(NB_Model, X, Y, cv=5))\n",
    "            print('\\n Confusion Matrix')\n",
    "            display(confusion_matrix(Y, positive_pred))\n",
    "\n",
    "        else:\n",
    "            NB_Model = MultinomialNB()\n",
    "            NB_Model.fit(X, Y)\n",
    "            positive_pred = NB_Model.predict(X)\n",
    "            print('\\n Percentage accuracy for Multinomial Naive Bayes')\n",
    "            print(str(NB_Model.score(X, Y)*100) + '%')\n",
    "            print('\\n Cross-Validation Score')\n",
    "            print(cross_val_score(NB_Model, X, Y, cv=5))\n",
    "            print('\\n Confusion Matrix')\n",
    "            display(confusion_matrix(Y, positive_pred))"
   ]
  },
  {
   "cell_type": "markdown",
   "metadata": {},
   "source": [
    "## K-Nearest Neighbors"
   ]
  },
  {
   "cell_type": "code",
   "execution_count": 29,
   "metadata": {},
   "outputs": [],
   "source": [
    "#Create function\n",
    "\n",
    "def KNN_Model(k, weight):\n",
    "    KNN = KNeighborsClassifier(n_neighbors=k, weights=weight)\n",
    "    KNN.fit(X, Y)\n",
    "    positive_pred = KNN.predict(X)\n",
    "    print('\\n Percentage accuracy for K Nearest Neighbors Classifier')\n",
    "    print(str(KNN.score(X, Y)*100) + '%')\n",
    "    print('\\n Cross-Validation Score')\n",
    "    print(cross_val_score(KNN, X, Y, cv=5))\n",
    "    print('\\n Confusion Matrix')\n",
    "    display(confusion_matrix(Y, positive_pred))"
   ]
  },
  {
   "cell_type": "markdown",
   "metadata": {},
   "source": [
    "## Random Forest"
   ]
  },
  {
   "cell_type": "code",
   "execution_count": 23,
   "metadata": {},
   "outputs": [],
   "source": [
    "#Create function\n",
    "\n",
    "def RFC_Model(trees, criteria, num_features, depth):\n",
    "    rfc = ensemble.RandomForestClassifier(n_estimators=trees, criterion=criteria, max_features=num_features, max_depth=depth)\n",
    "    rfc.fit(X, Y)\n",
    "    positive_pred = rfc.predict(X)\n",
    "    print('\\n Percentage accuracy for Random Forest Classifier')\n",
    "    print(str(rfc.score(X, Y)*100) + '%')\n",
    "    print('\\n Cross-Validation Score')\n",
    "    print(cross_val_score(rfc, X, Y, cv=5))\n",
    "    print('\\n Confusion Matrix')\n",
    "    display(confusion_matrix(Y, positive_pred))"
   ]
  },
  {
   "cell_type": "markdown",
   "metadata": {},
   "source": [
    "## Logistic Regression"
   ]
  },
  {
   "cell_type": "code",
   "execution_count": 42,
   "metadata": {},
   "outputs": [],
   "source": [
    "#Create function\n",
    "\n",
    "def Logistic_Reg_Model(regularization, alpha):\n",
    "    if regularization == 'l1':\n",
    "        lr_lasso = LogisticRegression(penalty=regularization, C=alpha)\n",
    "        lr_lasso.fit(X, Y)\n",
    "        positive_pred = lr_lasso.predict(X)\n",
    "        print('\\n Percentage accuracy for Lasso Logistic Regression')\n",
    "        print(str(lr_lasso.score(X, Y)*100) + '%')\n",
    "        print('\\n Cross-Validation Score')\n",
    "        print(cross_val_score(lr_lasso, X, Y, cv=5))\n",
    "        print('\\n Confusion Matrix')\n",
    "        display(confusion_matrix(Y, positive_pred))\n",
    "        \n",
    "    elif regularization == 'l2' and alpha == 1e9:\n",
    "        lr_regular = LogisticRegression(penalty=regularization, C=alpha)\n",
    "        lr_regular.fit(X, Y)\n",
    "        positive_pred = lr_regular.predict(X)\n",
    "        print('\\n Percentage accuracy for Logistic Regression')\n",
    "        print(str(lr_regular.score(X, Y)*100) + '%')\n",
    "        print('\\n Cross-Validation Score')\n",
    "        print(cross_val_score(lr_regular, X, Y, cv=5))\n",
    "        print('\\n Confusion Matrix')\n",
    "        display(confusion_matrix(Y, positive_pred))\n",
    "    else:\n",
    "        lr_ridge = LogisticRegression(penalty=regularization, C=alpha)\n",
    "        lr_ridge.fit(X, Y)\n",
    "        positive_pred = lr_ridge.predict(X)\n",
    "        print('\\n Percentage accuracy for Ridge Logistic Regression')\n",
    "        print(str(lr_ridge.score(X, Y)*100) + '%')\n",
    "        print('\\n Cross-Validation Score')\n",
    "        print(cross_val_score(lr_ridge, X, Y, cv=5))\n",
    "        print('\\n Confusion Matrix')\n",
    "        display(confusion_matrix(Y, positive_pred))"
   ]
  },
  {
   "cell_type": "markdown",
   "metadata": {},
   "source": [
    "## Support Vector Classifer"
   ]
  },
  {
   "cell_type": "code",
   "execution_count": 25,
   "metadata": {},
   "outputs": [],
   "source": [
    "#Create function\n",
    "\n",
    "def SVC_Model(c, kernel_type):\n",
    "    svm = SVC(C=c, kernel=kernel_type)\n",
    "    svm.fit(X, Y)\n",
    "    positive_pred = svm.predict(X)\n",
    "    print('\\n Percentage accuracy for SVM')\n",
    "    print(str(svm.score(X, Y)*100) + '%')\n",
    "    print('\\n Cross-Validation Score')\n",
    "    print(cross_val_score(svm, X, Y, cv=5))\n",
    "    print('\\n Confusion Matrix')\n",
    "    display(confusion_matrix(Y, positive_pred))"
   ]
  },
  {
   "cell_type": "markdown",
   "metadata": {},
   "source": [
    "## Gradient Boosting"
   ]
  },
  {
   "cell_type": "code",
   "execution_count": 30,
   "metadata": {},
   "outputs": [],
   "source": [
    "#Create function\n",
    "\n",
    "def Gradient_Boost_Model(estimators, depth, loss_function, sampling):\n",
    "    clf = ensemble.GradientBoostingClassifier(n_estimators=estimators, max_depth=depth, loss=loss_function, subsample=sampling)\n",
    "    clf.fit(X, Y)\n",
    "    positive_pred = clf.predict(X)\n",
    "    print('\\n Percentage accuracy for Gradient Boosting Classifier')\n",
    "    print(str(clf.score(X, Y)*100) + '%')\n",
    "    print('\\n Cross-Validation Score')\n",
    "    print(cross_val_score(clf, X, Y, cv=5))\n",
    "    print('\\n Confusion Matrix')\n",
    "    display(confusion_matrix(Y, positive_pred))"
   ]
  },
  {
   "cell_type": "markdown",
   "metadata": {},
   "source": [
    "## Run Initial Models, Default Parameters"
   ]
  },
  {
   "cell_type": "code",
   "execution_count": 27,
   "metadata": {},
   "outputs": [],
   "source": [
    "#Use a sample so that our models will run without using too much computing power\n",
    "weather = weather.sample(n = 10000)\n",
    "\n",
    "#Reestablish X and Y\n",
    "X = weather.drop(['RainTomorrow'], 1)\n",
    "X = pd.get_dummies(X)\n",
    "Y = weather.RainTomorrow"
   ]
  },
  {
   "cell_type": "code",
   "execution_count": 28,
   "metadata": {},
   "outputs": [
    {
     "name": "stdout",
     "output_type": "stream",
     "text": [
      "Baseline accuracy for Rain Tomorrow is: 18.0%\n"
     ]
    }
   ],
   "source": [
    "#Calculate baseline accuracy for RainTomorrow\n",
    "RainTomorrow_total = weather['RainTomorrow'].sum()\n",
    "print('Baseline accuracy for Rain Tomorrow is: ' + str(round((RainTomorrow_total/weather.shape[0])*100, 2)) + '%')"
   ]
  },
  {
   "cell_type": "code",
   "execution_count": 43,
   "metadata": {},
   "outputs": [
    {
     "name": "stdout",
     "output_type": "stream",
     "text": [
      "\n",
      " Percentage accuracy for Bernoulli Naive Bayes\n",
      "88.52%\n",
      "\n",
      " Cross-Validation Score\n",
      "[0.855 0.855 0.865 0.869 0.849]\n",
      "\n",
      " Confusion Matrix\n"
     ]
    },
    {
     "data": {
      "text/plain": [
       "array([[7527,  673],\n",
       "       [ 475, 1325]])"
      ]
     },
     "metadata": {},
     "output_type": "display_data"
    },
    {
     "name": "stdout",
     "output_type": "stream",
     "text": [
      "\n",
      "\n",
      "\n",
      "\n",
      " Percentage accuracy for K Nearest Neighbors Classifier\n",
      "90.75999999999999%\n",
      "\n",
      " Cross-Validation Score\n",
      "[0.8615 0.877  0.8695 0.876  0.8765]\n",
      "\n",
      " Confusion Matrix\n"
     ]
    },
    {
     "data": {
      "text/plain": [
       "array([[8054,  146],\n",
       "       [ 778, 1022]])"
      ]
     },
     "metadata": {},
     "output_type": "display_data"
    },
    {
     "name": "stdout",
     "output_type": "stream",
     "text": [
      "\n",
      "\n",
      "\n",
      "\n",
      " Percentage accuracy for Random Forest Classifier\n",
      "99.75%\n",
      "\n",
      " Cross-Validation Score\n",
      "[0.97   0.929  0.967  0.96   0.9455]\n",
      "\n",
      " Confusion Matrix\n"
     ]
    },
    {
     "data": {
      "text/plain": [
       "array([[8199,    1],\n",
       "       [  24, 1776]])"
      ]
     },
     "metadata": {},
     "output_type": "display_data"
    },
    {
     "name": "stdout",
     "output_type": "stream",
     "text": [
      "\n",
      "\n",
      "\n",
      "\n",
      " Percentage accuracy for Logistic Regression\n",
      "100.0%\n",
      "\n",
      " Cross-Validation Score\n",
      "[0.9975 0.9995 0.998  0.9975 1.    ]\n",
      "\n",
      " Confusion Matrix\n"
     ]
    },
    {
     "data": {
      "text/plain": [
       "array([[8200,    0],\n",
       "       [   0, 1800]])"
      ]
     },
     "metadata": {},
     "output_type": "display_data"
    },
    {
     "name": "stdout",
     "output_type": "stream",
     "text": [
      "\n",
      "\n",
      "\n",
      "\n",
      " Percentage accuracy for Lasso Logistic Regression\n",
      "100.0%\n",
      "\n",
      " Cross-Validation Score\n",
      "[1. 1. 1. 1. 1.]\n",
      "\n",
      " Confusion Matrix\n"
     ]
    },
    {
     "data": {
      "text/plain": [
       "array([[8200,    0],\n",
       "       [   0, 1800]])"
      ]
     },
     "metadata": {},
     "output_type": "display_data"
    },
    {
     "name": "stdout",
     "output_type": "stream",
     "text": [
      "\n",
      "\n",
      "\n",
      "\n",
      " Percentage accuracy for Ridge Logistic Regression\n",
      "100.0%\n",
      "\n",
      " Cross-Validation Score\n",
      "[0.999  0.9995 0.9975 0.9975 1.    ]\n",
      "\n",
      " Confusion Matrix\n"
     ]
    },
    {
     "data": {
      "text/plain": [
       "array([[8200,    0],\n",
       "       [   0, 1800]])"
      ]
     },
     "metadata": {},
     "output_type": "display_data"
    },
    {
     "name": "stdout",
     "output_type": "stream",
     "text": [
      "\n",
      "\n",
      "\n",
      "\n",
      " Percentage accuracy for SVM\n",
      "95.69%\n",
      "\n",
      " Cross-Validation Score\n",
      "[0.9515 0.953  0.946  0.9495 0.952 ]\n",
      "\n",
      " Confusion Matrix\n"
     ]
    },
    {
     "data": {
      "text/plain": [
       "array([[8189,   11],\n",
       "       [ 420, 1380]])"
      ]
     },
     "metadata": {},
     "output_type": "display_data"
    },
    {
     "name": "stdout",
     "output_type": "stream",
     "text": [
      "\n",
      "\n",
      "\n",
      "\n",
      " Percentage accuracy for Gradient Boosting Classifier\n",
      "100.0%\n",
      "\n",
      " Cross-Validation Score\n",
      "[1. 1. 1. 1. 1.]\n",
      "\n",
      " Confusion Matrix\n"
     ]
    },
    {
     "data": {
      "text/plain": [
       "array([[8200,    0],\n",
       "       [   0, 1800]])"
      ]
     },
     "metadata": {},
     "output_type": "display_data"
    }
   ],
   "source": [
    "#Run all models with default criteria, with returns in between so we can easily read\n",
    "\n",
    "#Bernoulli Naive Bayes\n",
    "NB_Model('Bernoulli')\n",
    "print('\\n\\n')\n",
    "\n",
    "#K-Nearest Neighbors\n",
    "KNN_Model(5, 'uniform')\n",
    "print('\\n\\n')\n",
    "\n",
    "#Random Forest\n",
    "RFC_Model(10, 'gini', 'auto', None)\n",
    "print('\\n\\n')\n",
    "\n",
    "#Plain Logistic Regression\n",
    "Logistic_Reg_Model('l2', 1e9)\n",
    "print('\\n\\n')\n",
    "\n",
    "#Lasso Logistic Regression\n",
    "Logistic_Reg_Model('l1', 1.0)\n",
    "print('\\n\\n')\n",
    "\n",
    "#Ridge Logistic Regression\n",
    "Logistic_Reg_Model('l2', 1.0)\n",
    "print('\\n\\n')\n",
    "\n",
    "#Support Vector Classifier\n",
    "SVC_Model(1.0, 'rbf')\n",
    "print('\\n\\n')\n",
    "\n",
    "#Gradient boost classifier\n",
    "Gradient_Boost_Model(100, 3, 'deviance', 1.0)"
   ]
  },
  {
   "cell_type": "markdown",
   "metadata": {},
   "source": [
    "## Use Recursive Feature Selection to Determine Most Important Features from Our Most\n",
    "## Successful Models"
   ]
  },
  {
   "cell_type": "code",
   "execution_count": 41,
   "metadata": {},
   "outputs": [],
   "source": [
    "#Create function for RFE\n",
    "\n",
    "def recursive_feat_selection(model):\n",
    "    selector = RFE(model)\n",
    "    selector = selector.fit(X, Y)\n",
    "    rankings = pd.DataFrame({'Features': X.columns, 'Ranking' : selector.ranking_})\n",
    "    display(rankings.sort_values('Ranking'))"
   ]
  },
  {
   "cell_type": "code",
   "execution_count": null,
   "metadata": {},
   "outputs": [
    {
     "name": "stdout",
     "output_type": "stream",
     "text": [
      "Recursive Feature Selection for Lasso Logistic Regression\n"
     ]
    }
   ],
   "source": [
    "#Use RFE on our top three models - lasso logistic regression, ridge logistic regression,\n",
    "#gradient boosting\n",
    "\n",
    "lr_lasso = LogisticRegression(penalty='l1', C=1.0)\n",
    "lr_lasso.fit(X, Y)\n",
    "print('Recursive Feature Selection for Lasso Logistic Regression')\n",
    "recursive_feat_selection(lr_lasso)\n",
    "print('\\n\\n')\n",
    "\n",
    "lr_ridge = LogisticRegression(penalty='l2', C=1.0)\n",
    "lr_ridge.fit(X, Y)\n",
    "print('Recursive Feature Selection for Ridge Logistic Regression')\n",
    "recursive_feat_selection(lr_ridge)\n",
    "print('\\n\\n')\n",
    "\n",
    "clf = ensemble.GradientBoostingClassifier(n_estimators=100, max_depth=3, loss='deviance', subsample=1)\n",
    "clf.fit(X, Y)\n",
    "print('Recursive Feature Selection for Gradient Boosting')\n",
    "print(clf.feature_importances_)"
   ]
  },
  {
   "cell_type": "code",
   "execution_count": null,
   "metadata": {},
   "outputs": [],
   "source": []
  }
 ],
 "metadata": {
  "kernelspec": {
   "display_name": "Python 3",
   "language": "python",
   "name": "python3"
  },
  "language_info": {
   "codemirror_mode": {
    "name": "ipython",
    "version": 3
   },
   "file_extension": ".py",
   "mimetype": "text/x-python",
   "name": "python",
   "nbconvert_exporter": "python",
   "pygments_lexer": "ipython3",
   "version": "3.6.4"
  }
 },
 "nbformat": 4,
 "nbformat_minor": 2
}
