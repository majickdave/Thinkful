{
 "cells": [
  {
   "cell_type": "code",
   "execution_count": 4,
   "metadata": {},
   "outputs": [
    {
     "name": "stdout",
     "output_type": "stream",
     "text": [
      "0.1044\n",
      "0.09960000000000002\n"
     ]
    }
   ],
   "source": [
    "#A diagnostic test has a 98% probability of giving a positive result when applied to a \n",
    "#person suffering from Thripshaw's Disease, and 10% probability of giving a (false) positive\n",
    "#when applied to a non-sufferer. It is estimated that 0.5 % of the population are sufferers.\n",
    "#Suppose that the test is now administered to a person whose disease status is unknown. \n",
    "#Calculate the probability that the test will:\n",
    "\n",
    "#P(A | B) = P(B | A) * P(A) / [P(A)*P(B|A) + P(A~)*P(B|A~)]\n",
    "\n",
    "#Background from Curriculum:\n",
    "#   Probability of a positive test given being infected is 99.99%, the test goes both ways\n",
    "#   in terms of false positives and negatives. \n",
    "#P(Infected| Positive Test) = P(Positive Test| Infected) * P(Infected) / \n",
    "#[P(Infected)*P(Positive Test|Infected) + P(Inverse of Infected)*P(Inverse of Positive Test|Infected)]*\n",
    "\n",
    "#= .9999 * .000001/(.000001*.9999 + .999999*.0001) = .0099 or .99%\n",
    "\n",
    "#1. Be positive\n",
    "    #P(A or Infected) = .005\n",
    "    #P(B|A) = .98\n",
    "    #P(B or positive test) = unknown\n",
    "pos = (.005) * (.98) + (.995) * (.1)\n",
    "print(pos)\n",
    "\n",
    "#2. Correctly diagnose a sufferer of Thripshaw's\n",
    "    #This is the same as P(B|A) above\n",
    ".98\n",
    "\n",
    "#3. Correctly identify a non-sufferer of Thripshaw's\n",
    ".9\n",
    "\n",
    "#4. Misclassify the person\n",
    "print(1-(.98*.005 + .9*.995))\n",
    "\n"
   ]
  },
  {
   "cell_type": "code",
   "execution_count": null,
   "metadata": {},
   "outputs": [],
   "source": []
  }
 ],
 "metadata": {
  "kernelspec": {
   "display_name": "Python 3",
   "language": "python",
   "name": "python3"
  },
  "language_info": {
   "codemirror_mode": {
    "name": "ipython",
    "version": 3
   },
   "file_extension": ".py",
   "mimetype": "text/x-python",
   "name": "python",
   "nbconvert_exporter": "python",
   "pygments_lexer": "ipython3",
   "version": "3.6.4"
  }
 },
 "nbformat": 4,
 "nbformat_minor": 2
}
