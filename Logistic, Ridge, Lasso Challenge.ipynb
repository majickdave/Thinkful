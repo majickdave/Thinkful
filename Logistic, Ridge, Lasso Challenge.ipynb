{
 "cells": [
  {
   "cell_type": "markdown",
   "metadata": {},
   "source": [
    "### Dataset Overview\n",
    "This dataset details FBI crime rates in Virginia for 2013. Specifically, the dataset includes variables such as population, violent crime, murder, rape, robbery, aggravated assault, property crime, burglary, larceny-theft, motor vehicle theft, and arson.\n",
    "\n",
    "A link to the dataset can be found here: https://ucr.fbi.gov/crime-in-the-u.s/2013/crime-in-the-u.s.-2013/tables/table-8/table-8-state-cuts/table_8_offenses_known_to_law_enforcement_virginia_by_city_2013.xls\n",
    "\n",
    "Dataset contains 149 observations across 12 columns"
   ]
  },
  {
   "cell_type": "code",
   "execution_count": 92,
   "metadata": {},
   "outputs": [],
   "source": [
    "import pandas as pd\n",
    "import numpy as np\n",
    "import matplotlib.pyplot as plt\n",
    "import seaborn as sns\n",
    "from sklearn import ensemble\n",
    "from sklearn import linear_model\n",
    "from sklearn.linear_model import LogisticRegression\n",
    "from sklearn.model_selection import cross_val_score\n",
    "%matplotlib inline"
   ]
  },
  {
   "cell_type": "markdown",
   "metadata": {},
   "source": [
    "### Read data in, take a look, and clean it"
   ]
  },
  {
   "cell_type": "code",
   "execution_count": 81,
   "metadata": {},
   "outputs": [],
   "source": [
    "va_crime = pd.read_csv('va_crime_2013.csv', skiprows=4)"
   ]
  },
  {
   "cell_type": "code",
   "execution_count": 82,
   "metadata": {},
   "outputs": [
    {
     "data": {
      "text/html": [
       "<div>\n",
       "<style scoped>\n",
       "    .dataframe tbody tr th:only-of-type {\n",
       "        vertical-align: middle;\n",
       "    }\n",
       "\n",
       "    .dataframe tbody tr th {\n",
       "        vertical-align: top;\n",
       "    }\n",
       "\n",
       "    .dataframe thead th {\n",
       "        text-align: right;\n",
       "    }\n",
       "</style>\n",
       "<table border=\"1\" class=\"dataframe\">\n",
       "  <thead>\n",
       "    <tr style=\"text-align: right;\">\n",
       "      <th></th>\n",
       "      <th>City</th>\n",
       "      <th>Population</th>\n",
       "      <th>Violent_Crime</th>\n",
       "      <th>Murder</th>\n",
       "      <th>Rape</th>\n",
       "      <th>Robbery</th>\n",
       "      <th>Aggravated_Assault</th>\n",
       "      <th>Property_Crime</th>\n",
       "      <th>Burglary</th>\n",
       "      <th>Larceny_Theft</th>\n",
       "      <th>Motor_Vehicle_Theft</th>\n",
       "      <th>Arson</th>\n",
       "      <th>Unnamed: 12</th>\n",
       "    </tr>\n",
       "  </thead>\n",
       "  <tbody>\n",
       "    <tr>\n",
       "      <th>0</th>\n",
       "      <td>Abingdon</td>\n",
       "      <td>8,186</td>\n",
       "      <td>10</td>\n",
       "      <td>0.0</td>\n",
       "      <td>3.0</td>\n",
       "      <td>1.0</td>\n",
       "      <td>6.0</td>\n",
       "      <td>233</td>\n",
       "      <td>20</td>\n",
       "      <td>198</td>\n",
       "      <td>15.0</td>\n",
       "      <td>4.0</td>\n",
       "      <td>NaN</td>\n",
       "    </tr>\n",
       "    <tr>\n",
       "      <th>1</th>\n",
       "      <td>Alexandria</td>\n",
       "      <td>148,519</td>\n",
       "      <td>258</td>\n",
       "      <td>5.0</td>\n",
       "      <td>21.0</td>\n",
       "      <td>118.0</td>\n",
       "      <td>114.0</td>\n",
       "      <td>2,967</td>\n",
       "      <td>249</td>\n",
       "      <td>2,427</td>\n",
       "      <td>291.0</td>\n",
       "      <td>13.0</td>\n",
       "      <td>NaN</td>\n",
       "    </tr>\n",
       "    <tr>\n",
       "      <th>2</th>\n",
       "      <td>Altavista</td>\n",
       "      <td>3,486</td>\n",
       "      <td>8</td>\n",
       "      <td>0.0</td>\n",
       "      <td>0.0</td>\n",
       "      <td>2.0</td>\n",
       "      <td>6.0</td>\n",
       "      <td>56</td>\n",
       "      <td>4</td>\n",
       "      <td>52</td>\n",
       "      <td>0.0</td>\n",
       "      <td>0.0</td>\n",
       "      <td>NaN</td>\n",
       "    </tr>\n",
       "    <tr>\n",
       "      <th>3</th>\n",
       "      <td>Amherst</td>\n",
       "      <td>2,223</td>\n",
       "      <td>2</td>\n",
       "      <td>0.0</td>\n",
       "      <td>2.0</td>\n",
       "      <td>0.0</td>\n",
       "      <td>0.0</td>\n",
       "      <td>27</td>\n",
       "      <td>6</td>\n",
       "      <td>19</td>\n",
       "      <td>2.0</td>\n",
       "      <td>0.0</td>\n",
       "      <td>NaN</td>\n",
       "    </tr>\n",
       "    <tr>\n",
       "      <th>4</th>\n",
       "      <td>Appalachia</td>\n",
       "      <td>1,728</td>\n",
       "      <td>12</td>\n",
       "      <td>0.0</td>\n",
       "      <td>2.0</td>\n",
       "      <td>2.0</td>\n",
       "      <td>8.0</td>\n",
       "      <td>77</td>\n",
       "      <td>25</td>\n",
       "      <td>51</td>\n",
       "      <td>1.0</td>\n",
       "      <td>0.0</td>\n",
       "      <td>NaN</td>\n",
       "    </tr>\n",
       "    <tr>\n",
       "      <th>5</th>\n",
       "      <td>Ashland</td>\n",
       "      <td>7,310</td>\n",
       "      <td>26</td>\n",
       "      <td>0.0</td>\n",
       "      <td>1.0</td>\n",
       "      <td>8.0</td>\n",
       "      <td>17.0</td>\n",
       "      <td>246</td>\n",
       "      <td>14</td>\n",
       "      <td>221</td>\n",
       "      <td>11.0</td>\n",
       "      <td>1.0</td>\n",
       "      <td>NaN</td>\n",
       "    </tr>\n",
       "    <tr>\n",
       "      <th>6</th>\n",
       "      <td>Bedford</td>\n",
       "      <td>5,894</td>\n",
       "      <td>12</td>\n",
       "      <td>0.0</td>\n",
       "      <td>4.0</td>\n",
       "      <td>3.0</td>\n",
       "      <td>5.0</td>\n",
       "      <td>237</td>\n",
       "      <td>26</td>\n",
       "      <td>199</td>\n",
       "      <td>12.0</td>\n",
       "      <td>0.0</td>\n",
       "      <td>NaN</td>\n",
       "    </tr>\n",
       "    <tr>\n",
       "      <th>7</th>\n",
       "      <td>Berryville</td>\n",
       "      <td>4,290</td>\n",
       "      <td>5</td>\n",
       "      <td>0.0</td>\n",
       "      <td>2.0</td>\n",
       "      <td>1.0</td>\n",
       "      <td>2.0</td>\n",
       "      <td>80</td>\n",
       "      <td>7</td>\n",
       "      <td>72</td>\n",
       "      <td>1.0</td>\n",
       "      <td>0.0</td>\n",
       "      <td>NaN</td>\n",
       "    </tr>\n",
       "    <tr>\n",
       "      <th>8</th>\n",
       "      <td>Big Stone Gap</td>\n",
       "      <td>5,568</td>\n",
       "      <td>17</td>\n",
       "      <td>0.0</td>\n",
       "      <td>5.0</td>\n",
       "      <td>0.0</td>\n",
       "      <td>12.0</td>\n",
       "      <td>203</td>\n",
       "      <td>21</td>\n",
       "      <td>176</td>\n",
       "      <td>6.0</td>\n",
       "      <td>2.0</td>\n",
       "      <td>NaN</td>\n",
       "    </tr>\n",
       "    <tr>\n",
       "      <th>9</th>\n",
       "      <td>Blacksburg</td>\n",
       "      <td>42,603</td>\n",
       "      <td>31</td>\n",
       "      <td>0.0</td>\n",
       "      <td>7.0</td>\n",
       "      <td>4.0</td>\n",
       "      <td>20.0</td>\n",
       "      <td>523</td>\n",
       "      <td>91</td>\n",
       "      <td>417</td>\n",
       "      <td>15.0</td>\n",
       "      <td>8.0</td>\n",
       "      <td>NaN</td>\n",
       "    </tr>\n",
       "  </tbody>\n",
       "</table>\n",
       "</div>"
      ],
      "text/plain": [
       "            City Population Violent_Crime  Murder  Rape  Robbery  \\\n",
       "0       Abingdon      8,186            10     0.0   3.0      1.0   \n",
       "1     Alexandria    148,519           258     5.0  21.0    118.0   \n",
       "2      Altavista      3,486             8     0.0   0.0      2.0   \n",
       "3        Amherst      2,223             2     0.0   2.0      0.0   \n",
       "4     Appalachia      1,728            12     0.0   2.0      2.0   \n",
       "5        Ashland      7,310            26     0.0   1.0      8.0   \n",
       "6        Bedford      5,894            12     0.0   4.0      3.0   \n",
       "7     Berryville      4,290             5     0.0   2.0      1.0   \n",
       "8  Big Stone Gap      5,568            17     0.0   5.0      0.0   \n",
       "9     Blacksburg     42,603            31     0.0   7.0      4.0   \n",
       "\n",
       "   Aggravated_Assault Property_Crime Burglary Larceny_Theft  \\\n",
       "0                 6.0            233       20           198   \n",
       "1               114.0          2,967      249         2,427   \n",
       "2                 6.0             56        4            52   \n",
       "3                 0.0             27        6            19   \n",
       "4                 8.0             77       25            51   \n",
       "5                17.0            246       14           221   \n",
       "6                 5.0            237       26           199   \n",
       "7                 2.0             80        7            72   \n",
       "8                12.0            203       21           176   \n",
       "9                20.0            523       91           417   \n",
       "\n",
       "   Motor_Vehicle_Theft  Arson  Unnamed: 12  \n",
       "0                 15.0    4.0          NaN  \n",
       "1                291.0   13.0          NaN  \n",
       "2                  0.0    0.0          NaN  \n",
       "3                  2.0    0.0          NaN  \n",
       "4                  1.0    0.0          NaN  \n",
       "5                 11.0    1.0          NaN  \n",
       "6                 12.0    0.0          NaN  \n",
       "7                  1.0    0.0          NaN  \n",
       "8                  6.0    2.0          NaN  \n",
       "9                 15.0    8.0          NaN  "
      ]
     },
     "execution_count": 82,
     "metadata": {},
     "output_type": "execute_result"
    }
   ],
   "source": [
    "va_crime.head(10)"
   ]
  },
  {
   "cell_type": "code",
   "execution_count": 83,
   "metadata": {},
   "outputs": [],
   "source": [
    "#Drop empty column\n",
    "va_crime.drop(va_crime.columns[len(va_crime.columns)-1], axis=1, inplace=True)"
   ]
  },
  {
   "cell_type": "code",
   "execution_count": 84,
   "metadata": {},
   "outputs": [
    {
     "name": "stdout",
     "output_type": "stream",
     "text": [
      "City                   0\n",
      "Population             2\n",
      "Violent_Crime          2\n",
      "Murder                 2\n",
      "Rape                   2\n",
      "Robbery                2\n",
      "Aggravated_Assault     2\n",
      "Property_Crime         2\n",
      "Burglary               2\n",
      "Larceny_Theft          2\n",
      "Motor_Vehicle_Theft    2\n",
      "Arson                  2\n",
      "dtype: int64\n"
     ]
    }
   ],
   "source": [
    "#Determine missing values across dataframe\n",
    "missing_values_count = va_crime.isnull().sum()\n",
    "print(missing_values_count)"
   ]
  },
  {
   "cell_type": "code",
   "execution_count": 85,
   "metadata": {},
   "outputs": [],
   "source": [
    "#Drop missing values\n",
    "va_crime = va_crime.dropna()"
   ]
  },
  {
   "cell_type": "code",
   "execution_count": 86,
   "metadata": {},
   "outputs": [
    {
     "data": {
      "text/html": [
       "<div>\n",
       "<style scoped>\n",
       "    .dataframe tbody tr th:only-of-type {\n",
       "        vertical-align: middle;\n",
       "    }\n",
       "\n",
       "    .dataframe tbody tr th {\n",
       "        vertical-align: top;\n",
       "    }\n",
       "\n",
       "    .dataframe thead th {\n",
       "        text-align: right;\n",
       "    }\n",
       "</style>\n",
       "<table border=\"1\" class=\"dataframe\">\n",
       "  <thead>\n",
       "    <tr style=\"text-align: right;\">\n",
       "      <th></th>\n",
       "      <th>Murder</th>\n",
       "      <th>Rape</th>\n",
       "      <th>Robbery</th>\n",
       "      <th>Aggravated_Assault</th>\n",
       "      <th>Motor_Vehicle_Theft</th>\n",
       "      <th>Arson</th>\n",
       "    </tr>\n",
       "  </thead>\n",
       "  <tbody>\n",
       "    <tr>\n",
       "      <th>count</th>\n",
       "      <td>149.000000</td>\n",
       "      <td>149.000000</td>\n",
       "      <td>149.000000</td>\n",
       "      <td>149.000000</td>\n",
       "      <td>149.000000</td>\n",
       "      <td>149.000000</td>\n",
       "    </tr>\n",
       "    <tr>\n",
       "      <th>mean</th>\n",
       "      <td>1.295302</td>\n",
       "      <td>6.919463</td>\n",
       "      <td>20.234899</td>\n",
       "      <td>36.194631</td>\n",
       "      <td>32.496644</td>\n",
       "      <td>3.255034</td>\n",
       "    </tr>\n",
       "    <tr>\n",
       "      <th>std</th>\n",
       "      <td>4.781020</td>\n",
       "      <td>18.423882</td>\n",
       "      <td>72.760008</td>\n",
       "      <td>111.625561</td>\n",
       "      <td>115.290973</td>\n",
       "      <td>11.478625</td>\n",
       "    </tr>\n",
       "    <tr>\n",
       "      <th>min</th>\n",
       "      <td>0.000000</td>\n",
       "      <td>0.000000</td>\n",
       "      <td>0.000000</td>\n",
       "      <td>0.000000</td>\n",
       "      <td>0.000000</td>\n",
       "      <td>0.000000</td>\n",
       "    </tr>\n",
       "    <tr>\n",
       "      <th>25%</th>\n",
       "      <td>0.000000</td>\n",
       "      <td>0.000000</td>\n",
       "      <td>0.000000</td>\n",
       "      <td>0.000000</td>\n",
       "      <td>0.000000</td>\n",
       "      <td>0.000000</td>\n",
       "    </tr>\n",
       "    <tr>\n",
       "      <th>50%</th>\n",
       "      <td>0.000000</td>\n",
       "      <td>1.000000</td>\n",
       "      <td>0.000000</td>\n",
       "      <td>4.000000</td>\n",
       "      <td>2.000000</td>\n",
       "      <td>0.000000</td>\n",
       "    </tr>\n",
       "    <tr>\n",
       "      <th>75%</th>\n",
       "      <td>0.000000</td>\n",
       "      <td>4.000000</td>\n",
       "      <td>6.000000</td>\n",
       "      <td>13.000000</td>\n",
       "      <td>11.000000</td>\n",
       "      <td>1.000000</td>\n",
       "    </tr>\n",
       "    <tr>\n",
       "      <th>max</th>\n",
       "      <td>37.000000</td>\n",
       "      <td>140.000000</td>\n",
       "      <td>624.000000</td>\n",
       "      <td>842.000000</td>\n",
       "      <td>938.000000</td>\n",
       "      <td>99.000000</td>\n",
       "    </tr>\n",
       "  </tbody>\n",
       "</table>\n",
       "</div>"
      ],
      "text/plain": [
       "           Murder        Rape     Robbery  Aggravated_Assault  \\\n",
       "count  149.000000  149.000000  149.000000          149.000000   \n",
       "mean     1.295302    6.919463   20.234899           36.194631   \n",
       "std      4.781020   18.423882   72.760008          111.625561   \n",
       "min      0.000000    0.000000    0.000000            0.000000   \n",
       "25%      0.000000    0.000000    0.000000            0.000000   \n",
       "50%      0.000000    1.000000    0.000000            4.000000   \n",
       "75%      0.000000    4.000000    6.000000           13.000000   \n",
       "max     37.000000  140.000000  624.000000          842.000000   \n",
       "\n",
       "       Motor_Vehicle_Theft       Arson  \n",
       "count           149.000000  149.000000  \n",
       "mean             32.496644    3.255034  \n",
       "std             115.290973   11.478625  \n",
       "min               0.000000    0.000000  \n",
       "25%               0.000000    0.000000  \n",
       "50%               2.000000    0.000000  \n",
       "75%              11.000000    1.000000  \n",
       "max             938.000000   99.000000  "
      ]
     },
     "execution_count": 86,
     "metadata": {},
     "output_type": "execute_result"
    }
   ],
   "source": [
    "#Describe the data\n",
    "va_crime.describe()"
   ]
  },
  {
   "cell_type": "code",
   "execution_count": 87,
   "metadata": {},
   "outputs": [
    {
     "data": {
      "text/plain": [
       "City                    object\n",
       "Population              object\n",
       "Violent_Crime           object\n",
       "Murder                 float64\n",
       "Rape                   float64\n",
       "Robbery                float64\n",
       "Aggravated_Assault     float64\n",
       "Property_Crime          object\n",
       "Burglary                object\n",
       "Larceny_Theft           object\n",
       "Motor_Vehicle_Theft    float64\n",
       "Arson                  float64\n",
       "dtype: object"
      ]
     },
     "execution_count": 87,
     "metadata": {},
     "output_type": "execute_result"
    }
   ],
   "source": [
    "va_crime.dtypes"
   ]
  },
  {
   "cell_type": "code",
   "execution_count": 88,
   "metadata": {},
   "outputs": [],
   "source": [
    "#Define function to strip comma when there is one\n",
    "def remove_comma_convert_int(x):\n",
    "    str(x)\n",
    "    if x.find(',') != -1:\n",
    "        return int(x.replace(',', ''))\n",
    "    else:\n",
    "        return int(x)"
   ]
  },
  {
   "cell_type": "code",
   "execution_count": 89,
   "metadata": {},
   "outputs": [],
   "source": [
    "#Apply remove_comma_convert_int function to all approprirate columns\n",
    "\n",
    "va_crime['Population'] = va_crime['Population'].apply(remove_comma_convert_int)\n",
    "va_crime['Violent_Crime'] = va_crime['Violent_Crime'].apply(remove_comma_convert_int)\n",
    "va_crime['Property_Crime'] = va_crime['Property_Crime'].apply(remove_comma_convert_int)\n",
    "va_crime['Burglary'] = va_crime['Burglary'].apply(remove_comma_convert_int)\n",
    "va_crime['Larceny_Theft'] = va_crime['Larceny_Theft'].apply(remove_comma_convert_int)"
   ]
  },
  {
   "cell_type": "code",
   "execution_count": 90,
   "metadata": {},
   "outputs": [],
   "source": [
    "#Convert float columns to int\n",
    "\n",
    "va_crime['Murder'] = va_crime['Murder'].astype(int)\n",
    "va_crime['Rape'] = va_crime['Rape'].astype(int)\n",
    "va_crime['Robbery'] = va_crime['Robbery'].astype(int)\n",
    "va_crime['Aggravated_Assault'] = va_crime['Aggravated_Assault'].astype(int)\n",
    "va_crime['Motor_Vehicle_Theft'] = va_crime['Motor_Vehicle_Theft'].astype(int)\n",
    "va_crime['Arson'] = va_crime['Arson'].astype(int)"
   ]
  },
  {
   "cell_type": "markdown",
   "metadata": {},
   "source": [
    "### Engineer additional features"
   ]
  },
  {
   "cell_type": "code",
   "execution_count": null,
   "metadata": {},
   "outputs": [],
   "source": [
    "#Popuation_Squared"
   ]
  },
  {
   "cell_type": "code",
   "execution_count": null,
   "metadata": {},
   "outputs": [],
   "source": [
    "#Theft - Sum or Multiplication of Robbery, Larceny_Theft, Motor_Vehicle_Theft"
   ]
  },
  {
   "cell_type": "code",
   "execution_count": null,
   "metadata": {},
   "outputs": [],
   "source": [
    "#Log of Population"
   ]
  },
  {
   "cell_type": "code",
   "execution_count": null,
   "metadata": {},
   "outputs": [],
   "source": [
    "#Establish outcome variable (convert to binary) and independent variables"
   ]
  },
  {
   "cell_type": "code",
   "execution_count": null,
   "metadata": {},
   "outputs": [],
   "source": []
  },
  {
   "cell_type": "markdown",
   "metadata": {},
   "source": [
    "### Define our model equation\n"
   ]
  },
  {
   "cell_type": "markdown",
   "metadata": {},
   "source": [
    "### Regular Logistic Regression Model"
   ]
  },
  {
   "cell_type": "code",
   "execution_count": null,
   "metadata": {},
   "outputs": [],
   "source": [
    "# Declare a logistic regression classifier, using penalty 'l1' to indicate lasso\n",
    "lr = LogisticRegression(penalty='l1')\n",
    "y = df['admit']\n",
    "X = df[['gpa', 'gre']]\n",
    "\n",
    "# Fit the model.\n",
    "fit = lr.fit(X, y)\n",
    "\n",
    "# Display.\n",
    "print('Coefficients')\n",
    "print(fit.coef_)\n",
    "print(fit.intercept_)\n",
    "pred_y_sklearn = lr.predict(X)\n",
    "\n",
    "print('\\n Accuracy by admission status')\n",
    "print(pd.crosstab(pred_y_sklearn, y))\n",
    "\n",
    "print('\\n Percentage accuracy')\n",
    "print(lr.score(X, y))"
   ]
  },
  {
   "cell_type": "code",
   "execution_count": null,
   "metadata": {},
   "outputs": [],
   "source": [
    "#Cross-Validation\n",
    "\n"
   ]
  },
  {
   "cell_type": "markdown",
   "metadata": {},
   "source": [
    "### Lasso Logistic Regression Model"
   ]
  },
  {
   "cell_type": "code",
   "execution_count": null,
   "metadata": {},
   "outputs": [],
   "source": [
    "# Declare a logistic regression classifier, using penalty 'l1' to indicate lasso\n",
    "lr = LogisticRegression(penalty='l1')\n",
    "y = df['admit']\n",
    "X = df[['gpa', 'gre']]\n",
    "\n",
    "# Fit the model.\n",
    "fit = lr.fit(X, y)\n",
    "\n",
    "# Display.\n",
    "print('Coefficients')\n",
    "print(fit.coef_)\n",
    "print(fit.intercept_)\n",
    "pred_y_sklearn = lr.predict(X)\n",
    "\n",
    "print('\\n Accuracy by admission status')\n",
    "print(pd.crosstab(pred_y_sklearn, y))\n",
    "\n",
    "print('\\n Percentage accuracy')\n",
    "print(lr.score(X, y))"
   ]
  },
  {
   "cell_type": "code",
   "execution_count": null,
   "metadata": {},
   "outputs": [],
   "source": [
    "#Cross-Validation\n",
    "\n"
   ]
  },
  {
   "cell_type": "markdown",
   "metadata": {},
   "source": [
    "### Ridge Logistic Regression Model"
   ]
  },
  {
   "cell_type": "code",
   "execution_count": null,
   "metadata": {},
   "outputs": [],
   "source": [
    "# Declare a logistic regression classifier, using penalty 'l2' to indicate ridge\n",
    "lr = LogisticRegression(penalty='l2')\n",
    "y = df['admit']\n",
    "X = df[['gpa', 'gre']]\n",
    "\n",
    "# Fit the model.\n",
    "fit = lr.fit(X, y)\n",
    "\n",
    "# Display.\n",
    "print('Coefficients')\n",
    "print(fit.coef_)\n",
    "print(fit.intercept_)\n",
    "pred_y_sklearn = lr.predict(X)\n",
    "\n",
    "print('\\n Accuracy by admission status')\n",
    "print(pd.crosstab(pred_y_sklearn, y))\n",
    "\n",
    "print('\\n Percentage accuracy')\n",
    "print(lr.score(X, y))"
   ]
  },
  {
   "cell_type": "code",
   "execution_count": null,
   "metadata": {},
   "outputs": [],
   "source": [
    "#Cross-Validation\n",
    "\n"
   ]
  },
  {
   "cell_type": "markdown",
   "metadata": {},
   "source": [
    "### Evaluation of All Three Models"
   ]
  },
  {
   "cell_type": "code",
   "execution_count": null,
   "metadata": {},
   "outputs": [],
   "source": []
  }
 ],
 "metadata": {
  "kernelspec": {
   "display_name": "Python 3",
   "language": "python",
   "name": "python3"
  },
  "language_info": {
   "codemirror_mode": {
    "name": "ipython",
    "version": 3
   },
   "file_extension": ".py",
   "mimetype": "text/x-python",
   "name": "python",
   "nbconvert_exporter": "python",
   "pygments_lexer": "ipython3",
   "version": "3.6.4"
  }
 },
 "nbformat": 4,
 "nbformat_minor": 2
}
