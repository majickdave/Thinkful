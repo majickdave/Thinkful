{
 "cells": [
  {
   "cell_type": "markdown",
   "metadata": {},
   "source": [
    "### Dataset Overview\n",
    "This dataset details FBI crime rates in Virginia for 2013. Specifically, the dataset includes variables such as population, violent crime, murder, rape, robbery, aggravated assault, property crime, burglary, larceny-theft, motor vehicle theft, and arson.\n",
    "\n",
    "A link to the dataset can be found here: https://ucr.fbi.gov/crime-in-the-u.s/2013/crime-in-the-u.s.-2013/tables/table-8/table-8-state-cuts/table_8_offenses_known_to_law_enforcement_virginia_by_city_2013.xls\n",
    "\n",
    "Dataset contains 149 observations across 12 columns"
   ]
  },
  {
   "cell_type": "code",
   "execution_count": 148,
   "metadata": {},
   "outputs": [],
   "source": [
    "import pandas as pd\n",
    "import numpy as np\n",
    "import matplotlib.pyplot as plt\n",
    "import seaborn as sns\n",
    "from sklearn import ensemble\n",
    "from sklearn import linear_model\n",
    "from sklearn.linear_model import LogisticRegression\n",
    "from sklearn.model_selection import cross_val_score\n",
    "%matplotlib inline"
   ]
  },
  {
   "cell_type": "markdown",
   "metadata": {},
   "source": [
    "### Read data in, take a look, and clean it"
   ]
  },
  {
   "cell_type": "code",
   "execution_count": 149,
   "metadata": {},
   "outputs": [],
   "source": [
    "va_crime = pd.read_csv('va_crime_2013.csv', skiprows=4)"
   ]
  },
  {
   "cell_type": "code",
   "execution_count": 150,
   "metadata": {},
   "outputs": [
    {
     "data": {
      "text/html": [
       "<div>\n",
       "<style scoped>\n",
       "    .dataframe tbody tr th:only-of-type {\n",
       "        vertical-align: middle;\n",
       "    }\n",
       "\n",
       "    .dataframe tbody tr th {\n",
       "        vertical-align: top;\n",
       "    }\n",
       "\n",
       "    .dataframe thead th {\n",
       "        text-align: right;\n",
       "    }\n",
       "</style>\n",
       "<table border=\"1\" class=\"dataframe\">\n",
       "  <thead>\n",
       "    <tr style=\"text-align: right;\">\n",
       "      <th></th>\n",
       "      <th>City</th>\n",
       "      <th>Population</th>\n",
       "      <th>Violent_Crime</th>\n",
       "      <th>Murder</th>\n",
       "      <th>Rape</th>\n",
       "      <th>Robbery</th>\n",
       "      <th>Aggravated_Assault</th>\n",
       "      <th>Property_Crime</th>\n",
       "      <th>Burglary</th>\n",
       "      <th>Larceny_Theft</th>\n",
       "      <th>Motor_Vehicle_Theft</th>\n",
       "      <th>Arson</th>\n",
       "      <th>Unnamed: 12</th>\n",
       "    </tr>\n",
       "  </thead>\n",
       "  <tbody>\n",
       "    <tr>\n",
       "      <th>0</th>\n",
       "      <td>Abingdon</td>\n",
       "      <td>8,186</td>\n",
       "      <td>10</td>\n",
       "      <td>0.0</td>\n",
       "      <td>3.0</td>\n",
       "      <td>1.0</td>\n",
       "      <td>6.0</td>\n",
       "      <td>233</td>\n",
       "      <td>20</td>\n",
       "      <td>198</td>\n",
       "      <td>15.0</td>\n",
       "      <td>4.0</td>\n",
       "      <td>NaN</td>\n",
       "    </tr>\n",
       "    <tr>\n",
       "      <th>1</th>\n",
       "      <td>Alexandria</td>\n",
       "      <td>148,519</td>\n",
       "      <td>258</td>\n",
       "      <td>5.0</td>\n",
       "      <td>21.0</td>\n",
       "      <td>118.0</td>\n",
       "      <td>114.0</td>\n",
       "      <td>2,967</td>\n",
       "      <td>249</td>\n",
       "      <td>2,427</td>\n",
       "      <td>291.0</td>\n",
       "      <td>13.0</td>\n",
       "      <td>NaN</td>\n",
       "    </tr>\n",
       "    <tr>\n",
       "      <th>2</th>\n",
       "      <td>Altavista</td>\n",
       "      <td>3,486</td>\n",
       "      <td>8</td>\n",
       "      <td>0.0</td>\n",
       "      <td>0.0</td>\n",
       "      <td>2.0</td>\n",
       "      <td>6.0</td>\n",
       "      <td>56</td>\n",
       "      <td>4</td>\n",
       "      <td>52</td>\n",
       "      <td>0.0</td>\n",
       "      <td>0.0</td>\n",
       "      <td>NaN</td>\n",
       "    </tr>\n",
       "    <tr>\n",
       "      <th>3</th>\n",
       "      <td>Amherst</td>\n",
       "      <td>2,223</td>\n",
       "      <td>2</td>\n",
       "      <td>0.0</td>\n",
       "      <td>2.0</td>\n",
       "      <td>0.0</td>\n",
       "      <td>0.0</td>\n",
       "      <td>27</td>\n",
       "      <td>6</td>\n",
       "      <td>19</td>\n",
       "      <td>2.0</td>\n",
       "      <td>0.0</td>\n",
       "      <td>NaN</td>\n",
       "    </tr>\n",
       "    <tr>\n",
       "      <th>4</th>\n",
       "      <td>Appalachia</td>\n",
       "      <td>1,728</td>\n",
       "      <td>12</td>\n",
       "      <td>0.0</td>\n",
       "      <td>2.0</td>\n",
       "      <td>2.0</td>\n",
       "      <td>8.0</td>\n",
       "      <td>77</td>\n",
       "      <td>25</td>\n",
       "      <td>51</td>\n",
       "      <td>1.0</td>\n",
       "      <td>0.0</td>\n",
       "      <td>NaN</td>\n",
       "    </tr>\n",
       "    <tr>\n",
       "      <th>5</th>\n",
       "      <td>Ashland</td>\n",
       "      <td>7,310</td>\n",
       "      <td>26</td>\n",
       "      <td>0.0</td>\n",
       "      <td>1.0</td>\n",
       "      <td>8.0</td>\n",
       "      <td>17.0</td>\n",
       "      <td>246</td>\n",
       "      <td>14</td>\n",
       "      <td>221</td>\n",
       "      <td>11.0</td>\n",
       "      <td>1.0</td>\n",
       "      <td>NaN</td>\n",
       "    </tr>\n",
       "    <tr>\n",
       "      <th>6</th>\n",
       "      <td>Bedford</td>\n",
       "      <td>5,894</td>\n",
       "      <td>12</td>\n",
       "      <td>0.0</td>\n",
       "      <td>4.0</td>\n",
       "      <td>3.0</td>\n",
       "      <td>5.0</td>\n",
       "      <td>237</td>\n",
       "      <td>26</td>\n",
       "      <td>199</td>\n",
       "      <td>12.0</td>\n",
       "      <td>0.0</td>\n",
       "      <td>NaN</td>\n",
       "    </tr>\n",
       "    <tr>\n",
       "      <th>7</th>\n",
       "      <td>Berryville</td>\n",
       "      <td>4,290</td>\n",
       "      <td>5</td>\n",
       "      <td>0.0</td>\n",
       "      <td>2.0</td>\n",
       "      <td>1.0</td>\n",
       "      <td>2.0</td>\n",
       "      <td>80</td>\n",
       "      <td>7</td>\n",
       "      <td>72</td>\n",
       "      <td>1.0</td>\n",
       "      <td>0.0</td>\n",
       "      <td>NaN</td>\n",
       "    </tr>\n",
       "    <tr>\n",
       "      <th>8</th>\n",
       "      <td>Big Stone Gap</td>\n",
       "      <td>5,568</td>\n",
       "      <td>17</td>\n",
       "      <td>0.0</td>\n",
       "      <td>5.0</td>\n",
       "      <td>0.0</td>\n",
       "      <td>12.0</td>\n",
       "      <td>203</td>\n",
       "      <td>21</td>\n",
       "      <td>176</td>\n",
       "      <td>6.0</td>\n",
       "      <td>2.0</td>\n",
       "      <td>NaN</td>\n",
       "    </tr>\n",
       "    <tr>\n",
       "      <th>9</th>\n",
       "      <td>Blacksburg</td>\n",
       "      <td>42,603</td>\n",
       "      <td>31</td>\n",
       "      <td>0.0</td>\n",
       "      <td>7.0</td>\n",
       "      <td>4.0</td>\n",
       "      <td>20.0</td>\n",
       "      <td>523</td>\n",
       "      <td>91</td>\n",
       "      <td>417</td>\n",
       "      <td>15.0</td>\n",
       "      <td>8.0</td>\n",
       "      <td>NaN</td>\n",
       "    </tr>\n",
       "  </tbody>\n",
       "</table>\n",
       "</div>"
      ],
      "text/plain": [
       "            City Population Violent_Crime  Murder  Rape  Robbery  \\\n",
       "0       Abingdon      8,186            10     0.0   3.0      1.0   \n",
       "1     Alexandria    148,519           258     5.0  21.0    118.0   \n",
       "2      Altavista      3,486             8     0.0   0.0      2.0   \n",
       "3        Amherst      2,223             2     0.0   2.0      0.0   \n",
       "4     Appalachia      1,728            12     0.0   2.0      2.0   \n",
       "5        Ashland      7,310            26     0.0   1.0      8.0   \n",
       "6        Bedford      5,894            12     0.0   4.0      3.0   \n",
       "7     Berryville      4,290             5     0.0   2.0      1.0   \n",
       "8  Big Stone Gap      5,568            17     0.0   5.0      0.0   \n",
       "9     Blacksburg     42,603            31     0.0   7.0      4.0   \n",
       "\n",
       "   Aggravated_Assault Property_Crime Burglary Larceny_Theft  \\\n",
       "0                 6.0            233       20           198   \n",
       "1               114.0          2,967      249         2,427   \n",
       "2                 6.0             56        4            52   \n",
       "3                 0.0             27        6            19   \n",
       "4                 8.0             77       25            51   \n",
       "5                17.0            246       14           221   \n",
       "6                 5.0            237       26           199   \n",
       "7                 2.0             80        7            72   \n",
       "8                12.0            203       21           176   \n",
       "9                20.0            523       91           417   \n",
       "\n",
       "   Motor_Vehicle_Theft  Arson  Unnamed: 12  \n",
       "0                 15.0    4.0          NaN  \n",
       "1                291.0   13.0          NaN  \n",
       "2                  0.0    0.0          NaN  \n",
       "3                  2.0    0.0          NaN  \n",
       "4                  1.0    0.0          NaN  \n",
       "5                 11.0    1.0          NaN  \n",
       "6                 12.0    0.0          NaN  \n",
       "7                  1.0    0.0          NaN  \n",
       "8                  6.0    2.0          NaN  \n",
       "9                 15.0    8.0          NaN  "
      ]
     },
     "execution_count": 150,
     "metadata": {},
     "output_type": "execute_result"
    }
   ],
   "source": [
    "va_crime.head(10)"
   ]
  },
  {
   "cell_type": "code",
   "execution_count": 151,
   "metadata": {},
   "outputs": [],
   "source": [
    "#Drop empty column\n",
    "va_crime.drop(va_crime.columns[len(va_crime.columns)-1], axis=1, inplace=True)"
   ]
  },
  {
   "cell_type": "code",
   "execution_count": 152,
   "metadata": {},
   "outputs": [
    {
     "name": "stdout",
     "output_type": "stream",
     "text": [
      "City                   0\n",
      "Population             2\n",
      "Violent_Crime          2\n",
      "Murder                 2\n",
      "Rape                   2\n",
      "Robbery                2\n",
      "Aggravated_Assault     2\n",
      "Property_Crime         2\n",
      "Burglary               2\n",
      "Larceny_Theft          2\n",
      "Motor_Vehicle_Theft    2\n",
      "Arson                  2\n",
      "dtype: int64\n"
     ]
    }
   ],
   "source": [
    "#Determine missing values across dataframe\n",
    "missing_values_count = va_crime.isnull().sum()\n",
    "print(missing_values_count)"
   ]
  },
  {
   "cell_type": "code",
   "execution_count": 153,
   "metadata": {},
   "outputs": [],
   "source": [
    "#Drop missing values\n",
    "va_crime = va_crime.dropna()"
   ]
  },
  {
   "cell_type": "code",
   "execution_count": 154,
   "metadata": {},
   "outputs": [
    {
     "data": {
      "text/html": [
       "<div>\n",
       "<style scoped>\n",
       "    .dataframe tbody tr th:only-of-type {\n",
       "        vertical-align: middle;\n",
       "    }\n",
       "\n",
       "    .dataframe tbody tr th {\n",
       "        vertical-align: top;\n",
       "    }\n",
       "\n",
       "    .dataframe thead th {\n",
       "        text-align: right;\n",
       "    }\n",
       "</style>\n",
       "<table border=\"1\" class=\"dataframe\">\n",
       "  <thead>\n",
       "    <tr style=\"text-align: right;\">\n",
       "      <th></th>\n",
       "      <th>Murder</th>\n",
       "      <th>Rape</th>\n",
       "      <th>Robbery</th>\n",
       "      <th>Aggravated_Assault</th>\n",
       "      <th>Motor_Vehicle_Theft</th>\n",
       "      <th>Arson</th>\n",
       "    </tr>\n",
       "  </thead>\n",
       "  <tbody>\n",
       "    <tr>\n",
       "      <th>count</th>\n",
       "      <td>149.000000</td>\n",
       "      <td>149.000000</td>\n",
       "      <td>149.000000</td>\n",
       "      <td>149.000000</td>\n",
       "      <td>149.000000</td>\n",
       "      <td>149.000000</td>\n",
       "    </tr>\n",
       "    <tr>\n",
       "      <th>mean</th>\n",
       "      <td>1.295302</td>\n",
       "      <td>6.919463</td>\n",
       "      <td>20.234899</td>\n",
       "      <td>36.194631</td>\n",
       "      <td>32.496644</td>\n",
       "      <td>3.255034</td>\n",
       "    </tr>\n",
       "    <tr>\n",
       "      <th>std</th>\n",
       "      <td>4.781020</td>\n",
       "      <td>18.423882</td>\n",
       "      <td>72.760008</td>\n",
       "      <td>111.625561</td>\n",
       "      <td>115.290973</td>\n",
       "      <td>11.478625</td>\n",
       "    </tr>\n",
       "    <tr>\n",
       "      <th>min</th>\n",
       "      <td>0.000000</td>\n",
       "      <td>0.000000</td>\n",
       "      <td>0.000000</td>\n",
       "      <td>0.000000</td>\n",
       "      <td>0.000000</td>\n",
       "      <td>0.000000</td>\n",
       "    </tr>\n",
       "    <tr>\n",
       "      <th>25%</th>\n",
       "      <td>0.000000</td>\n",
       "      <td>0.000000</td>\n",
       "      <td>0.000000</td>\n",
       "      <td>0.000000</td>\n",
       "      <td>0.000000</td>\n",
       "      <td>0.000000</td>\n",
       "    </tr>\n",
       "    <tr>\n",
       "      <th>50%</th>\n",
       "      <td>0.000000</td>\n",
       "      <td>1.000000</td>\n",
       "      <td>0.000000</td>\n",
       "      <td>4.000000</td>\n",
       "      <td>2.000000</td>\n",
       "      <td>0.000000</td>\n",
       "    </tr>\n",
       "    <tr>\n",
       "      <th>75%</th>\n",
       "      <td>0.000000</td>\n",
       "      <td>4.000000</td>\n",
       "      <td>6.000000</td>\n",
       "      <td>13.000000</td>\n",
       "      <td>11.000000</td>\n",
       "      <td>1.000000</td>\n",
       "    </tr>\n",
       "    <tr>\n",
       "      <th>max</th>\n",
       "      <td>37.000000</td>\n",
       "      <td>140.000000</td>\n",
       "      <td>624.000000</td>\n",
       "      <td>842.000000</td>\n",
       "      <td>938.000000</td>\n",
       "      <td>99.000000</td>\n",
       "    </tr>\n",
       "  </tbody>\n",
       "</table>\n",
       "</div>"
      ],
      "text/plain": [
       "           Murder        Rape     Robbery  Aggravated_Assault  \\\n",
       "count  149.000000  149.000000  149.000000          149.000000   \n",
       "mean     1.295302    6.919463   20.234899           36.194631   \n",
       "std      4.781020   18.423882   72.760008          111.625561   \n",
       "min      0.000000    0.000000    0.000000            0.000000   \n",
       "25%      0.000000    0.000000    0.000000            0.000000   \n",
       "50%      0.000000    1.000000    0.000000            4.000000   \n",
       "75%      0.000000    4.000000    6.000000           13.000000   \n",
       "max     37.000000  140.000000  624.000000          842.000000   \n",
       "\n",
       "       Motor_Vehicle_Theft       Arson  \n",
       "count           149.000000  149.000000  \n",
       "mean             32.496644    3.255034  \n",
       "std             115.290973   11.478625  \n",
       "min               0.000000    0.000000  \n",
       "25%               0.000000    0.000000  \n",
       "50%               2.000000    0.000000  \n",
       "75%              11.000000    1.000000  \n",
       "max             938.000000   99.000000  "
      ]
     },
     "execution_count": 154,
     "metadata": {},
     "output_type": "execute_result"
    }
   ],
   "source": [
    "#Describe the data\n",
    "va_crime.describe()"
   ]
  },
  {
   "cell_type": "code",
   "execution_count": 155,
   "metadata": {},
   "outputs": [
    {
     "data": {
      "text/plain": [
       "City                    object\n",
       "Population              object\n",
       "Violent_Crime           object\n",
       "Murder                 float64\n",
       "Rape                   float64\n",
       "Robbery                float64\n",
       "Aggravated_Assault     float64\n",
       "Property_Crime          object\n",
       "Burglary                object\n",
       "Larceny_Theft           object\n",
       "Motor_Vehicle_Theft    float64\n",
       "Arson                  float64\n",
       "dtype: object"
      ]
     },
     "execution_count": 155,
     "metadata": {},
     "output_type": "execute_result"
    }
   ],
   "source": [
    "va_crime.dtypes"
   ]
  },
  {
   "cell_type": "code",
   "execution_count": 156,
   "metadata": {},
   "outputs": [],
   "source": [
    "#Define function to strip comma when there is one\n",
    "def remove_comma_convert_int(x):\n",
    "    str(x)\n",
    "    if x.find(',') != -1:\n",
    "        return int(x.replace(',', ''))\n",
    "    else:\n",
    "        return int(x)"
   ]
  },
  {
   "cell_type": "code",
   "execution_count": 157,
   "metadata": {},
   "outputs": [],
   "source": [
    "#Apply remove_comma_convert_int function to all approprirate columns\n",
    "\n",
    "va_crime['Population'] = va_crime['Population'].apply(remove_comma_convert_int)\n",
    "va_crime['Violent_Crime'] = va_crime['Violent_Crime'].apply(remove_comma_convert_int)\n",
    "va_crime['Property_Crime'] = va_crime['Property_Crime'].apply(remove_comma_convert_int)\n",
    "va_crime['Burglary'] = va_crime['Burglary'].apply(remove_comma_convert_int)\n",
    "va_crime['Larceny_Theft'] = va_crime['Larceny_Theft'].apply(remove_comma_convert_int)"
   ]
  },
  {
   "cell_type": "code",
   "execution_count": 158,
   "metadata": {},
   "outputs": [],
   "source": [
    "#Convert float columns to int\n",
    "\n",
    "va_crime['Murder'] = va_crime['Murder'].astype(int)\n",
    "va_crime['Rape'] = va_crime['Rape'].astype(int)\n",
    "va_crime['Robbery'] = va_crime['Robbery'].astype(int)\n",
    "va_crime['Aggravated_Assault'] = va_crime['Aggravated_Assault'].astype(int)\n",
    "va_crime['Motor_Vehicle_Theft'] = va_crime['Motor_Vehicle_Theft'].astype(int)\n",
    "va_crime['Arson'] = va_crime['Arson'].astype(int)"
   ]
  },
  {
   "cell_type": "markdown",
   "metadata": {},
   "source": [
    "### Engineer additional features"
   ]
  },
  {
   "cell_type": "code",
   "execution_count": 159,
   "metadata": {},
   "outputs": [],
   "source": [
    "#Popuation_Squared\n",
    "va_crime['Population_Squared'] = va_crime['Population']**2"
   ]
  },
  {
   "cell_type": "code",
   "execution_count": 160,
   "metadata": {},
   "outputs": [],
   "source": [
    "#General Theft - Multiply Robbery, Larceny_Theft, Motor_Vehicle_Theft\n",
    "va_crime['General_Theft'] = va_crime['Robbery'] * va_crime['Larceny_Theft'] * va_crime['Motor_Vehicle_Theft']"
   ]
  },
  {
   "cell_type": "code",
   "execution_count": 161,
   "metadata": {},
   "outputs": [],
   "source": [
    "#Log of Population\n",
    "va_crime['Population_Log'] = np.log(va_crime['Population'])"
   ]
  },
  {
   "cell_type": "code",
   "execution_count": 162,
   "metadata": {},
   "outputs": [],
   "source": [
    "#Establish outcome variable (convert to binary)\n",
    "\n",
    "va_crime['Rape'] = np.where((va_crime['Rape'] > 0), 1, 0)"
   ]
  },
  {
   "cell_type": "code",
   "execution_count": 163,
   "metadata": {},
   "outputs": [
    {
     "data": {
      "text/html": [
       "<div>\n",
       "<style scoped>\n",
       "    .dataframe tbody tr th:only-of-type {\n",
       "        vertical-align: middle;\n",
       "    }\n",
       "\n",
       "    .dataframe tbody tr th {\n",
       "        vertical-align: top;\n",
       "    }\n",
       "\n",
       "    .dataframe thead th {\n",
       "        text-align: right;\n",
       "    }\n",
       "</style>\n",
       "<table border=\"1\" class=\"dataframe\">\n",
       "  <thead>\n",
       "    <tr style=\"text-align: right;\">\n",
       "      <th></th>\n",
       "      <th>City</th>\n",
       "      <th>Population</th>\n",
       "      <th>Violent_Crime</th>\n",
       "      <th>Murder</th>\n",
       "      <th>Rape</th>\n",
       "      <th>Robbery</th>\n",
       "      <th>Aggravated_Assault</th>\n",
       "      <th>Property_Crime</th>\n",
       "      <th>Burglary</th>\n",
       "      <th>Larceny_Theft</th>\n",
       "      <th>Motor_Vehicle_Theft</th>\n",
       "      <th>Arson</th>\n",
       "      <th>Population_Squared</th>\n",
       "      <th>General_Theft</th>\n",
       "      <th>Population_Log</th>\n",
       "    </tr>\n",
       "  </thead>\n",
       "  <tbody>\n",
       "    <tr>\n",
       "      <th>0</th>\n",
       "      <td>Abingdon</td>\n",
       "      <td>8186</td>\n",
       "      <td>10</td>\n",
       "      <td>0</td>\n",
       "      <td>1</td>\n",
       "      <td>1</td>\n",
       "      <td>6</td>\n",
       "      <td>233</td>\n",
       "      <td>20</td>\n",
       "      <td>198</td>\n",
       "      <td>15</td>\n",
       "      <td>4</td>\n",
       "      <td>67010596</td>\n",
       "      <td>2970</td>\n",
       "      <td>9.010181</td>\n",
       "    </tr>\n",
       "    <tr>\n",
       "      <th>1</th>\n",
       "      <td>Alexandria</td>\n",
       "      <td>148519</td>\n",
       "      <td>258</td>\n",
       "      <td>5</td>\n",
       "      <td>1</td>\n",
       "      <td>118</td>\n",
       "      <td>114</td>\n",
       "      <td>2967</td>\n",
       "      <td>249</td>\n",
       "      <td>2427</td>\n",
       "      <td>291</td>\n",
       "      <td>13</td>\n",
       "      <td>22057893361</td>\n",
       "      <td>83338326</td>\n",
       "      <td>11.908468</td>\n",
       "    </tr>\n",
       "    <tr>\n",
       "      <th>2</th>\n",
       "      <td>Altavista</td>\n",
       "      <td>3486</td>\n",
       "      <td>8</td>\n",
       "      <td>0</td>\n",
       "      <td>0</td>\n",
       "      <td>2</td>\n",
       "      <td>6</td>\n",
       "      <td>56</td>\n",
       "      <td>4</td>\n",
       "      <td>52</td>\n",
       "      <td>0</td>\n",
       "      <td>0</td>\n",
       "      <td>12152196</td>\n",
       "      <td>0</td>\n",
       "      <td>8.156510</td>\n",
       "    </tr>\n",
       "    <tr>\n",
       "      <th>3</th>\n",
       "      <td>Amherst</td>\n",
       "      <td>2223</td>\n",
       "      <td>2</td>\n",
       "      <td>0</td>\n",
       "      <td>1</td>\n",
       "      <td>0</td>\n",
       "      <td>0</td>\n",
       "      <td>27</td>\n",
       "      <td>6</td>\n",
       "      <td>19</td>\n",
       "      <td>2</td>\n",
       "      <td>0</td>\n",
       "      <td>4941729</td>\n",
       "      <td>0</td>\n",
       "      <td>7.706613</td>\n",
       "    </tr>\n",
       "    <tr>\n",
       "      <th>4</th>\n",
       "      <td>Appalachia</td>\n",
       "      <td>1728</td>\n",
       "      <td>12</td>\n",
       "      <td>0</td>\n",
       "      <td>1</td>\n",
       "      <td>2</td>\n",
       "      <td>8</td>\n",
       "      <td>77</td>\n",
       "      <td>25</td>\n",
       "      <td>51</td>\n",
       "      <td>1</td>\n",
       "      <td>0</td>\n",
       "      <td>2985984</td>\n",
       "      <td>102</td>\n",
       "      <td>7.454720</td>\n",
       "    </tr>\n",
       "  </tbody>\n",
       "</table>\n",
       "</div>"
      ],
      "text/plain": [
       "         City  Population  Violent_Crime  Murder  Rape  Robbery  \\\n",
       "0    Abingdon        8186             10       0     1        1   \n",
       "1  Alexandria      148519            258       5     1      118   \n",
       "2   Altavista        3486              8       0     0        2   \n",
       "3     Amherst        2223              2       0     1        0   \n",
       "4  Appalachia        1728             12       0     1        2   \n",
       "\n",
       "   Aggravated_Assault  Property_Crime  Burglary  Larceny_Theft  \\\n",
       "0                   6             233        20            198   \n",
       "1                 114            2967       249           2427   \n",
       "2                   6              56         4             52   \n",
       "3                   0              27         6             19   \n",
       "4                   8              77        25             51   \n",
       "\n",
       "   Motor_Vehicle_Theft  Arson  Population_Squared  General_Theft  \\\n",
       "0                   15      4            67010596           2970   \n",
       "1                  291     13         22057893361       83338326   \n",
       "2                    0      0            12152196              0   \n",
       "3                    2      0             4941729              0   \n",
       "4                    1      0             2985984            102   \n",
       "\n",
       "   Population_Log  \n",
       "0        9.010181  \n",
       "1       11.908468  \n",
       "2        8.156510  \n",
       "3        7.706613  \n",
       "4        7.454720  "
      ]
     },
     "execution_count": 163,
     "metadata": {},
     "output_type": "execute_result"
    }
   ],
   "source": [
    "#Let's take a look at our new and improved dataframe\n",
    "\n",
    "va_crime.head(5)"
   ]
  },
  {
   "cell_type": "code",
   "execution_count": 164,
   "metadata": {},
   "outputs": [
    {
     "name": "stdout",
     "output_type": "stream",
     "text": [
      "Baseline accuracy for Rape is: 58.39%\n"
     ]
    }
   ],
   "source": [
    "rape_total = va_crime['Rape'].sum()\n",
    "print('Baseline accuracy for Rape is: ' + str(round((rape_total/va_crime.shape[0])*100, 2)) + '%')"
   ]
  },
  {
   "cell_type": "markdown",
   "metadata": {},
   "source": [
    "### Let's start building our models - Goal is to achieve higher accuracy than the baseline of approximately 58%"
   ]
  },
  {
   "cell_type": "markdown",
   "metadata": {},
   "source": [
    "## Regular Logistic Regression Model\n",
    "Let's begin by using all features, with the exception of City. "
   ]
  },
  {
   "cell_type": "code",
   "execution_count": 165,
   "metadata": {},
   "outputs": [],
   "source": [
    "#Create dataframe slice for features\n",
    "va_crime_features = va_crime.iloc[:,1:len(va_crime.columns)]"
   ]
  },
  {
   "cell_type": "code",
   "execution_count": 166,
   "metadata": {},
   "outputs": [],
   "source": [
    "#Drop rape from features dataframe\n",
    "va_crime_features.drop('Rape', axis=1, inplace=True)"
   ]
  },
  {
   "cell_type": "code",
   "execution_count": 167,
   "metadata": {},
   "outputs": [
    {
     "name": "stdout",
     "output_type": "stream",
     "text": [
      "Coefficients\n",
      "[[ 1.43931676e-12  1.36713605e-14  5.56832204e-17  2.47772853e-15\n",
      "   7.06201725e-15  1.05936608e-13  1.18467259e-14  9.05329733e-14\n",
      "   3.55690849e-15  4.11551641e-16  1.55662430e-08  1.27395495e-11\n",
      "  -4.49826359e-15]]\n",
      "[-7.81976176e-16]\n",
      "\n",
      " Accuracy\n",
      "Rape    0   1\n",
      "row_0        \n",
      "1      62  87\n",
      "\n",
      " Percentage accuracy\n",
      "58.38926174496645%\n"
     ]
    }
   ],
   "source": [
    "# Declare a logistic regression classifier\n",
    "lr = LogisticRegression()\n",
    "Y = va_crime['Rape']\n",
    "X = va_crime_features\n",
    "\n",
    "# Fit the model.\n",
    "fit = lr.fit(X, Y)\n",
    "\n",
    "# Display.\n",
    "print('Coefficients')\n",
    "print(fit.coef_)\n",
    "print(fit.intercept_)\n",
    "pred_y_sklearn = lr.predict(X)\n",
    "\n",
    "print('\\n Accuracy')\n",
    "print(pd.crosstab(pred_y_sklearn, Y))\n",
    "\n",
    "print('\\n Percentage accuracy')\n",
    "print(str(lr.score(X, Y)*100) + '%')"
   ]
  },
  {
   "cell_type": "markdown",
   "metadata": {},
   "source": [
    "Our model has predicted Rape for every city in our dataset. This means that it is performing exactly the same as our baseline on our training data."
   ]
  },
  {
   "cell_type": "code",
   "execution_count": 168,
   "metadata": {},
   "outputs": [
    {
     "data": {
      "text/plain": [
       "array([0.5625    , 0.5625    , 0.6       , 0.6       , 0.6       ,\n",
       "       0.6       , 0.6       , 0.57142857, 0.57142857, 0.57142857])"
      ]
     },
     "metadata": {},
     "output_type": "display_data"
    }
   ],
   "source": [
    "#Cross-Validation\n",
    "\n",
    "display(cross_val_score(lr, va_crime_features, va_crime['Rape'], cv=10))"
   ]
  },
  {
   "cell_type": "markdown",
   "metadata": {},
   "source": [
    "For our test data on the other hand, we see a bit higher success rate, shown through the cross-validation above."
   ]
  },
  {
   "cell_type": "markdown",
   "metadata": {},
   "source": [
    "## Lasso Logistic Regression Model"
   ]
  },
  {
   "cell_type": "code",
   "execution_count": 177,
   "metadata": {},
   "outputs": [
    {
     "name": "stdout",
     "output_type": "stream",
     "text": [
      "Coefficients\n",
      "[[-5.01013942e-05  2.90894454e+00  0.00000000e+00 -1.85459175e+00\n",
      "  -2.64309664e+00 -2.08196294e-03  2.22824987e-02 -3.47162246e-03\n",
      "   3.99909813e-02  0.00000000e+00 -3.14284531e-09 -1.31276180e-07\n",
      "  -4.21234264e-01]]\n",
      "[0.]\n",
      "\n",
      " Accuracy\n",
      "Rape    0   1\n",
      "row_0        \n",
      "0      61   2\n",
      "1       1  85\n",
      "\n",
      " Percentage accuracy\n",
      "97.98657718120806%\n"
     ]
    }
   ],
   "source": [
    "# Declare a logistic regression classifier, using penalty 'l1' to indicate lasso\n",
    "lr_lasso = LogisticRegression(penalty='l1')\n",
    "Y = va_crime['Rape']\n",
    "X = va_crime_features\n",
    "\n",
    "# Fit the model.\n",
    "fit = lr_lasso.fit(X, Y)\n",
    "\n",
    "# Display.\n",
    "print('Coefficients')\n",
    "print(fit.coef_)\n",
    "print(fit.intercept_)\n",
    "pred_y_sklearn_lasso = lr_lasso.predict(X)\n",
    "\n",
    "print('\\n Accuracy')\n",
    "print(pd.crosstab(pred_y_sklearn_lasso, Y))\n",
    "\n",
    "print('\\n Percentage accuracy')\n",
    "print(str(lr_lasso.score(X, Y)*100) + '%')"
   ]
  },
  {
   "cell_type": "code",
   "execution_count": 178,
   "metadata": {},
   "outputs": [
    {
     "data": {
      "text/plain": [
       "array([0.875     , 0.9375    , 0.93333333, 0.86666667, 0.6       ,\n",
       "       0.8       , 0.8       , 1.        , 0.78571429, 0.92857143])"
      ]
     },
     "metadata": {},
     "output_type": "display_data"
    }
   ],
   "source": [
    "#Cross-Validation\n",
    "\n",
    "display(cross_val_score(lr_lasso, va_crime_features, va_crime['Rape'], cv=10))"
   ]
  },
  {
   "cell_type": "markdown",
   "metadata": {},
   "source": [
    "During cross-validation, we see a lot of fluctuation for our lasso logistic regression model. Later on we will redo our feature set after a recursive feature selection process."
   ]
  },
  {
   "cell_type": "code",
   "execution_count": 184,
   "metadata": {},
   "outputs": [
    {
     "data": {
      "text/plain": [
       "0.9127380952380953"
      ]
     },
     "execution_count": 184,
     "metadata": {},
     "output_type": "execute_result"
    }
   ],
   "source": [
    "#Cross-Validation for revised lasso\n",
    "\n",
    "lasso_score = cross_val_score(lr_lasso, va_crime_features_revised, va_crime['Rape'], cv=10)\n",
    "lasso_score.mean()"
   ]
  },
  {
   "cell_type": "markdown",
   "metadata": {},
   "source": [
    "## Ridge Logistic Regression Model"
   ]
  },
  {
   "cell_type": "code",
   "execution_count": 142,
   "metadata": {},
   "outputs": [
    {
     "name": "stdout",
     "output_type": "stream",
     "text": [
      "Coefficients\n",
      "[[ 1.43931676e-12  1.36713605e-14  5.56832204e-17  2.47772853e-15\n",
      "   7.06201725e-15  1.05936608e-13  1.18467259e-14  9.05329733e-14\n",
      "   3.55690849e-15  4.11551641e-16  1.55662430e-08  1.27395495e-11\n",
      "  -4.49826359e-15]]\n",
      "[-7.81976176e-16]\n",
      "\n",
      " Accuracy\n",
      "Rape    0   1\n",
      "row_0        \n",
      "1      62  87\n",
      "\n",
      " Percentage accuracy\n",
      "58.38926174496645%\n"
     ]
    }
   ],
   "source": [
    "# Declare a logistic regression classifier, using penalty 'l2' to indicate ridge\n",
    "lr_ridge = LogisticRegression(penalty='l2')\n",
    "Y = va_crime['Rape']\n",
    "X = va_crime_features\n",
    "\n",
    "# Fit the model.\n",
    "fit = lr_ridge.fit(X, Y)\n",
    "\n",
    "# Display.\n",
    "print('Coefficients')\n",
    "print(fit.coef_)\n",
    "print(fit.intercept_)\n",
    "pred_y_sklearn_ridge = lr_ridge.predict(X)\n",
    "\n",
    "print('\\n Accuracy')\n",
    "print(pd.crosstab(pred_y_sklearn_ridge, Y))\n",
    "\n",
    "print('\\n Percentage accuracy')\n",
    "print(str(lr_ridge.score(X, Y)*100) + '%')"
   ]
  },
  {
   "cell_type": "code",
   "execution_count": 143,
   "metadata": {},
   "outputs": [
    {
     "data": {
      "text/plain": [
       "array([0.5625    , 0.5625    , 0.6       , 0.6       , 0.6       ,\n",
       "       0.6       , 0.6       , 0.57142857, 0.57142857, 0.57142857])"
      ]
     },
     "metadata": {},
     "output_type": "display_data"
    }
   ],
   "source": [
    "#Cross-Validation\n",
    "\n",
    "display(cross_val_score(lr_ridge, va_crime_features, va_crime['Rape'], cv=10))"
   ]
  },
  {
   "cell_type": "markdown",
   "metadata": {},
   "source": [
    "### Now that we've run several versions of the model, let's try using recursive feature selection on our original logistic regression model and try to improve based off those results"
   ]
  },
  {
   "cell_type": "code",
   "execution_count": 145,
   "metadata": {},
   "outputs": [],
   "source": [
    "# Pass logistic regression model to the RFE constructor\n",
    "from sklearn.feature_selection import RFE\n",
    "\n",
    "selector = RFE(lr)\n",
    "selector = selector.fit(va_crime_features, va_crime['Rape'])"
   ]
  },
  {
   "cell_type": "code",
   "execution_count": 146,
   "metadata": {},
   "outputs": [
    {
     "name": "stdout",
     "output_type": "stream",
     "text": [
      "[1 1 8 6 3 1 2 1 5 7 1 1 4]\n"
     ]
    }
   ],
   "source": [
    "print(selector.ranking_)"
   ]
  },
  {
   "cell_type": "code",
   "execution_count": 147,
   "metadata": {},
   "outputs": [
    {
     "data": {
      "text/html": [
       "<div>\n",
       "<style scoped>\n",
       "    .dataframe tbody tr th:only-of-type {\n",
       "        vertical-align: middle;\n",
       "    }\n",
       "\n",
       "    .dataframe tbody tr th {\n",
       "        vertical-align: top;\n",
       "    }\n",
       "\n",
       "    .dataframe thead th {\n",
       "        text-align: right;\n",
       "    }\n",
       "</style>\n",
       "<table border=\"1\" class=\"dataframe\">\n",
       "  <thead>\n",
       "    <tr style=\"text-align: right;\">\n",
       "      <th></th>\n",
       "      <th>Features</th>\n",
       "      <th>Ranking</th>\n",
       "    </tr>\n",
       "  </thead>\n",
       "  <tbody>\n",
       "    <tr>\n",
       "      <th>0</th>\n",
       "      <td>Population</td>\n",
       "      <td>1</td>\n",
       "    </tr>\n",
       "    <tr>\n",
       "      <th>1</th>\n",
       "      <td>Violent_Crime</td>\n",
       "      <td>1</td>\n",
       "    </tr>\n",
       "    <tr>\n",
       "      <th>5</th>\n",
       "      <td>Property_Crime</td>\n",
       "      <td>1</td>\n",
       "    </tr>\n",
       "    <tr>\n",
       "      <th>7</th>\n",
       "      <td>Larceny_Theft</td>\n",
       "      <td>1</td>\n",
       "    </tr>\n",
       "    <tr>\n",
       "      <th>10</th>\n",
       "      <td>Population_Squared</td>\n",
       "      <td>1</td>\n",
       "    </tr>\n",
       "    <tr>\n",
       "      <th>11</th>\n",
       "      <td>General_Theft</td>\n",
       "      <td>1</td>\n",
       "    </tr>\n",
       "    <tr>\n",
       "      <th>6</th>\n",
       "      <td>Burglary</td>\n",
       "      <td>2</td>\n",
       "    </tr>\n",
       "    <tr>\n",
       "      <th>4</th>\n",
       "      <td>Aggravated_Assault</td>\n",
       "      <td>3</td>\n",
       "    </tr>\n",
       "    <tr>\n",
       "      <th>12</th>\n",
       "      <td>Population_Log</td>\n",
       "      <td>4</td>\n",
       "    </tr>\n",
       "    <tr>\n",
       "      <th>8</th>\n",
       "      <td>Motor_Vehicle_Theft</td>\n",
       "      <td>5</td>\n",
       "    </tr>\n",
       "    <tr>\n",
       "      <th>3</th>\n",
       "      <td>Robbery</td>\n",
       "      <td>6</td>\n",
       "    </tr>\n",
       "    <tr>\n",
       "      <th>9</th>\n",
       "      <td>Arson</td>\n",
       "      <td>7</td>\n",
       "    </tr>\n",
       "    <tr>\n",
       "      <th>2</th>\n",
       "      <td>Murder</td>\n",
       "      <td>8</td>\n",
       "    </tr>\n",
       "  </tbody>\n",
       "</table>\n",
       "</div>"
      ],
      "text/plain": [
       "               Features  Ranking\n",
       "0            Population        1\n",
       "1         Violent_Crime        1\n",
       "5        Property_Crime        1\n",
       "7         Larceny_Theft        1\n",
       "10   Population_Squared        1\n",
       "11        General_Theft        1\n",
       "6              Burglary        2\n",
       "4    Aggravated_Assault        3\n",
       "12       Population_Log        4\n",
       "8   Motor_Vehicle_Theft        5\n",
       "3               Robbery        6\n",
       "9                 Arson        7\n",
       "2                Murder        8"
      ]
     },
     "execution_count": 147,
     "metadata": {},
     "output_type": "execute_result"
    }
   ],
   "source": [
    "#Now turn into a dataframe so you can sort by rank\n",
    "\n",
    "rankings = pd.DataFrame({'Features': va_crime_features.columns, 'Ranking' : selector.ranking_})\n",
    "rankings.sort_values('Ranking')"
   ]
  },
  {
   "cell_type": "markdown",
   "metadata": {},
   "source": [
    "**Next Steps:** Based on this information, let's remove some of these features (greater than ranking of 3) and run our models again."
   ]
  },
  {
   "cell_type": "code",
   "execution_count": 171,
   "metadata": {},
   "outputs": [],
   "source": [
    "#Redo our feature set, removing Murder and Arson\n",
    "va_crime_features_revised = va_crime_features.drop(['Murder','Arson', 'Robbery', 'Motor_Vehicle_Theft', 'Population_Log'], 1)"
   ]
  },
  {
   "cell_type": "markdown",
   "metadata": {},
   "source": [
    "**Regular Logistic Regression Model**"
   ]
  },
  {
   "cell_type": "code",
   "execution_count": 172,
   "metadata": {},
   "outputs": [
    {
     "name": "stdout",
     "output_type": "stream",
     "text": [
      "Coefficients\n",
      "[[1.43931676e-12 1.36713605e-14 7.06201725e-15 1.05936608e-13\n",
      "  1.18467259e-14 9.05329733e-14 1.55662430e-08 1.27395495e-11]]\n",
      "[-7.81976176e-16]\n",
      "\n",
      " Accuracy\n",
      "Rape    0   1\n",
      "row_0        \n",
      "1      62  87\n",
      "\n",
      " Percentage accuracy\n",
      "58.38926174496645%\n"
     ]
    }
   ],
   "source": [
    "lr2 = LogisticRegression()\n",
    "Y = va_crime['Rape']\n",
    "X = va_crime_features_revised\n",
    "\n",
    "# Fit the model.\n",
    "fit = lr2.fit(X, Y)\n",
    "\n",
    "# Display.\n",
    "print('Coefficients')\n",
    "print(fit.coef_)\n",
    "print(fit.intercept_)\n",
    "pred_y_sklearn2 = lr2.predict(X)\n",
    "\n",
    "print('\\n Accuracy')\n",
    "print(pd.crosstab(pred_y_sklearn2, Y))\n",
    "\n",
    "print('\\n Percentage accuracy')\n",
    "print(str(lr2.score(X, Y)*100) + '%')"
   ]
  },
  {
   "cell_type": "markdown",
   "metadata": {},
   "source": [
    "**Lasso Logistic Regression Model**"
   ]
  },
  {
   "cell_type": "code",
   "execution_count": 174,
   "metadata": {},
   "outputs": [
    {
     "name": "stdout",
     "output_type": "stream",
     "text": [
      "Coefficients\n",
      "[[ 3.19667171e-05  2.48820423e-01 -3.84128627e-02  1.96567539e-03\n",
      "  -9.44310533e-04  2.26372038e-03 -1.49420717e-09  6.69236300e-08]]\n",
      "[-1.53189483]\n",
      "\n",
      " Accuracy\n",
      "Rape    0   1\n",
      "row_0        \n",
      "0      57  18\n",
      "1       5  69\n",
      "\n",
      " Percentage accuracy\n",
      "84.56375838926175%\n"
     ]
    }
   ],
   "source": [
    "lr_lasso2 = LogisticRegression(penalty='l1')\n",
    "Y = va_crime['Rape']\n",
    "X = va_crime_features_revised\n",
    "\n",
    "# Fit the model.\n",
    "fit = lr_lasso2.fit(X, Y)\n",
    "\n",
    "# Display.\n",
    "print('Coefficients')\n",
    "print(fit.coef_)\n",
    "print(fit.intercept_)\n",
    "pred_y_sklearn_lasso2 = lr_lasso2.predict(X)\n",
    "\n",
    "print('\\n Accuracy')\n",
    "print(pd.crosstab(pred_y_sklearn_lasso2, Y))\n",
    "\n",
    "print('\\n Percentage accuracy')\n",
    "print(str(lr_lasso2.score(X, Y)*100) + '%')"
   ]
  },
  {
   "cell_type": "code",
   "execution_count": 185,
   "metadata": {},
   "outputs": [
    {
     "data": {
      "text/plain": [
       "0.8664285714285714"
      ]
     },
     "execution_count": 185,
     "metadata": {},
     "output_type": "execute_result"
    }
   ],
   "source": [
    "#Cross validation for our second lasso model\n",
    "\n",
    "lasso_score2 = cross_val_score(lr_lasso2, va_crime_features_revised, va_crime['Rape'], cv=10)\n",
    "lasso_score2.mean()"
   ]
  },
  {
   "cell_type": "markdown",
   "metadata": {},
   "source": [
    "**Ridge Logistic Regression Model**"
   ]
  },
  {
   "cell_type": "code",
   "execution_count": 175,
   "metadata": {},
   "outputs": [
    {
     "name": "stdout",
     "output_type": "stream",
     "text": [
      "Coefficients\n",
      "[[1.43931676e-12 1.36713605e-14 7.06201725e-15 1.05936608e-13\n",
      "  1.18467259e-14 9.05329733e-14 1.55662430e-08 1.27395495e-11]]\n",
      "[-7.81976176e-16]\n",
      "\n",
      " Accuracy\n",
      "Rape    0   1\n",
      "row_0        \n",
      "1      62  87\n",
      "\n",
      " Percentage accuracy\n",
      "58.38926174496645%\n"
     ]
    }
   ],
   "source": [
    "# Declare a logistic regression classifier, using penalty 'l2' to indicate ridge\n",
    "lr_ridge2 = LogisticRegression(penalty='l2')\n",
    "Y = va_crime['Rape']\n",
    "X = va_crime_features_revised\n",
    "\n",
    "# Fit the model.\n",
    "fit = lr_ridge2.fit(X, Y)\n",
    "\n",
    "# Display.\n",
    "print('Coefficients')\n",
    "print(fit.coef_)\n",
    "print(fit.intercept_)\n",
    "pred_y_sklearn_ridge2 = lr_ridge2.predict(X)\n",
    "\n",
    "print('\\n Accuracy')\n",
    "print(pd.crosstab(pred_y_sklearn_ridge2, Y))\n",
    "\n",
    "print('\\n Percentage accuracy')\n",
    "print(str(lr_ridge2.score(X, Y)*100) + '%')"
   ]
  },
  {
   "cell_type": "markdown",
   "metadata": {},
   "source": [
    "## Evaluation of All Three Models"
   ]
  },
  {
   "cell_type": "markdown",
   "metadata": {},
   "source": [
    "The first time through I used all features on all 3 models. They performed at the following success rates:\n",
    "    Logistic - 58.39%\n",
    "    Lasso  - 97.98%\n",
    "    Ridge  - 58.39%\n",
    "\n",
    "The second time through, I redid the models based on recursive feature selection findings. These were the results the second time:\n",
    "    Logistic - 58.39%\n",
    "    Lasso  - 84.56%\n",
    "    Ridge  - 58.39%\n",
    "\n",
    "That being said, by far the most successful model was the original lasso logistic regression model I created. I did see fluctuation during cross-validation so I am not sure the original 97.98% accuracy is trustworthy. During cross-validation, the mean score was 91.27%, which seems more legitimate. I am interested to learn why the logistic and ridge model versions performed right at the baseline accuracy for both iterations."
   ]
  }
 ],
 "metadata": {
  "kernelspec": {
   "display_name": "Python 3",
   "language": "python",
   "name": "python3"
  },
  "language_info": {
   "codemirror_mode": {
    "name": "ipython",
    "version": 3
   },
   "file_extension": ".py",
   "mimetype": "text/x-python",
   "name": "python",
   "nbconvert_exporter": "python",
   "pygments_lexer": "ipython3",
   "version": "3.6.4"
  }
 },
 "nbformat": 4,
 "nbformat_minor": 2
}
