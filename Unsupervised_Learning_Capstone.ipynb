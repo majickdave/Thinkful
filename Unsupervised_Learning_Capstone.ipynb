{
 "cells": [
  {
   "cell_type": "markdown",
   "metadata": {},
   "source": [
    "# Dataset Overview\n",
    "I will be looking at several differents texts, all from different authors. The goal is classification by author using a variety of different methods, including supervised/unsupervised learning techniques and NLP feature engineering."
   ]
  },
  {
   "cell_type": "code",
   "execution_count": 159,
   "metadata": {},
   "outputs": [],
   "source": [
    "%matplotlib inline\n",
    "import numpy as np\n",
    "import pandas as pd\n",
    "import scipy\n",
    "import sklearn\n",
    "import spacy\n",
    "import matplotlib.pyplot as plt\n",
    "import seaborn as sns\n",
    "import re\n",
    "import nltk\n",
    "from nltk.corpus import gutenberg, stopwords\n",
    "from collections import Counter\n",
    "from sklearn import ensemble\n",
    "from sklearn.model_selection import train_test_split\n",
    "from sklearn.linear_model import LogisticRegression\n",
    "from sklearn.svm import SVC\n",
    "from sklearn.feature_extraction.text import TfidfVectorizer\n",
    "from sklearn.model_selection import cross_val_score\n",
    "from sklearn.preprocessing import normalize\n",
    "from sklearn.cluster import KMeans\n",
    "from sklearn.cluster import MeanShift, estimate_bandwidth\n",
    "from sklearn.cluster import SpectralClustering\n",
    "from sklearn.cluster import AffinityPropagation\n",
    "from sklearn import metrics\n",
    "from itertools import cycle\n",
    "from sklearn.decomposition import PCA\n",
    "from sklearn import metrics\n",
    "from sklearn.metrics import pairwise_distances\n",
    "from sklearn.decomposition import TruncatedSVD\n",
    "from sklearn.pipeline import make_pipeline\n",
    "from sklearn.preprocessing import Normalizer"
   ]
  },
  {
   "cell_type": "markdown",
   "metadata": {},
   "source": [
    "# Cleaning, Processing and Parsing"
   ]
  },
  {
   "cell_type": "code",
   "execution_count": 56,
   "metadata": {},
   "outputs": [
    {
     "name": "stdout",
     "output_type": "stream",
     "text": [
      "['austen-emma.txt', 'austen-persuasion.txt', 'austen-sense.txt', 'bible-kjv.txt', 'blake-poems.txt', 'bryant-stories.txt', 'burgess-busterbrown.txt', 'carroll-alice.txt', 'chesterton-ball.txt', 'chesterton-brown.txt', 'chesterton-thursday.txt', 'edgeworth-parents.txt', 'melville-moby_dick.txt', 'milton-paradise.txt', 'shakespeare-caesar.txt', 'shakespeare-hamlet.txt', 'shakespeare-macbeth.txt', 'whitman-leaves.txt']\n"
     ]
    }
   ],
   "source": [
    "print(gutenberg.fileids())"
   ]
  },
  {
   "cell_type": "code",
   "execution_count": 63,
   "metadata": {},
   "outputs": [],
   "source": [
    "#Load the raw text\n",
    "austen = gutenberg.raw('austen-emma.txt')\n",
    "blake = gutenberg.raw('blake-poems.txt')\n",
    "bryant = gutenberg.raw('bryant-stories.txt')\n",
    "burgess = gutenberg.raw('burgess-busterbrown.txt')\n",
    "carroll = gutenberg.raw('carroll-alice.txt')\n",
    "chesterton = gutenberg.raw('chesterton-brown.txt')\n",
    "edgeworth = gutenberg.raw('edgeworth-parents.txt')\n",
    "melville = gutenberg.raw('melville-moby_dick.txt')\n",
    "milton = gutenberg.raw('milton-paradise.txt')\n",
    "whitman = gutenberg.raw('whitman-leaves.txt')\n",
    "\n",
    "#Create list of texts\n",
    "texts = [austen, blake, bryant, burgess, carroll, chesterton, edgeworth, melville, milton, whitman]"
   ]
  },
  {
   "cell_type": "markdown",
   "metadata": {},
   "source": [
    "**Inspect Raw Files**"
   ]
  },
  {
   "cell_type": "code",
   "execution_count": 64,
   "metadata": {},
   "outputs": [
    {
     "name": "stdout",
     "output_type": "stream",
     "text": [
      "[Emma by Jane Austen 1816]\n",
      "\n",
      "VOLUME I\n",
      "\n",
      "CHAPTER I\n",
      "\n",
      "\n",
      "Emma Woodhouse, handsome, clever, and rich, with a comfortable home\n",
      "and happy disposition, seemed to unite some of the best blessings\n",
      "of existence; an\n",
      "[Poems by William Blake 1789]\n",
      "\n",
      " \n",
      "SONGS OF INNOCENCE AND OF EXPERIENCE\n",
      "and THE BOOK of THEL\n",
      "\n",
      "\n",
      " SONGS OF INNOCENCE\n",
      " \n",
      " \n",
      " INTRODUCTION\n",
      " \n",
      " Piping down the valleys wild,\n",
      "   Piping songs of pleasant glee,\n",
      " O\n",
      "[Stories to Tell to Children by Sara Cone Bryant 1918] \n",
      "\n",
      "\n",
      "TWO LITTLE RIDDLES IN RHYME\n",
      "\n",
      "\n",
      "     There's a garden that I ken,\n",
      "     Full of little gentlemen;\n",
      "     Little caps of blue they wear,\n",
      "  \n",
      "[The Adventures of Buster Bear by Thornton W. Burgess 1920]\n",
      "\n",
      "I\n",
      "\n",
      "BUSTER BEAR GOES FISHING\n",
      "\n",
      "\n",
      "Buster Bear yawned as he lay on his comfortable bed of leaves and\n",
      "watched the first early morning sun\n",
      "[Alice's Adventures in Wonderland by Lewis Carroll 1865]\n",
      "\n",
      "CHAPTER I. Down the Rabbit-Hole\n",
      "\n",
      "Alice was beginning to get very tired of sitting by her sister on the\n",
      "bank, and of having nothing to do: once\n",
      "[The Wisdom of Father Brown by G. K. Chesterton 1914]\n",
      "\n",
      "\n",
      "I. The Absence of Mr Glass\n",
      "\n",
      "\n",
      "THE consulting-rooms of Dr Orion Hood, the eminent criminologist\n",
      "and specialist in certain moral disorders, lay alo\n",
      "[The Parent's Assistant, by Maria Edgeworth]\n",
      "\n",
      "\n",
      "THE ORPHANS.\n",
      "\n",
      "Near the ruins of the castle of Rossmore, in Ireland, is a small cabin,\n",
      "in which there once lived a widow and her four children.  As \n",
      "[Moby Dick by Herman Melville 1851]\n",
      "\n",
      "\n",
      "ETYMOLOGY.\n",
      "\n",
      "(Supplied by a Late Consumptive Usher to a Grammar School)\n",
      "\n",
      "The pale Usher--threadbare in coat, heart, body, and brain; I see him\n",
      "now.  He was\n",
      "[Paradise Lost by John Milton 1667] \n",
      " \n",
      " \n",
      "Book I \n",
      " \n",
      " \n",
      "Of Man's first disobedience, and the fruit \n",
      "Of that forbidden tree whose mortal taste \n",
      "Brought death into the World, and all our woe, \n",
      "With loss of\n",
      "[Leaves of Grass by Walt Whitman 1855]\n",
      "\n",
      "\n",
      "Come, said my soul,\n",
      "Such verses for my Body let us write, (for we are one,)\n",
      "That should I after return,\n",
      "Or, long, long hence, in other spheres,\n",
      "There to some g\n"
     ]
    }
   ],
   "source": [
    "for i in texts:\n",
    "    print(i[0:200])"
   ]
  },
  {
   "cell_type": "markdown",
   "metadata": {},
   "source": [
    "** Clean and Process the Texts **"
   ]
  },
  {
   "cell_type": "code",
   "execution_count": 67,
   "metadata": {
    "collapsed": false,
    "deletable": true,
    "editable": true,
    "run_control": {
     "frozen": false,
     "read_only": false
    },
    "scrolled": true
   },
   "outputs": [],
   "source": [
    "# Utility function for standard text cleaning.\n",
    "def text_cleaner(text):\n",
    "    text = re.sub(r'--',' ',text)\n",
    "    text = re.sub(\"[\\[].*?[\\]]\", \"\", text)\n",
    "    text = re.sub(\"\\d+\", \"\", text)\n",
    "    text = re.sub(r'Chapter \\d+', '', text)\n",
    "    text = re.sub(r'VOLUME \\w+', '', text)\n",
    "    text = re.sub(r'CHAPTER \\w+', '', text)\n",
    "    text = re.sub(r'BOOK \\w+', '', text)\n",
    "    text = ' '.join(text.split())\n",
    "    return text"
   ]
  },
  {
   "cell_type": "code",
   "execution_count": 80,
   "metadata": {},
   "outputs": [],
   "source": [
    "#Clean each text\n",
    "austen = text_cleaner(austen)\n",
    "blake = text_cleaner(blake)\n",
    "bryant = text_cleaner(bryant)\n",
    "burgess = text_cleaner(burgess)\n",
    "carroll = text_cleaner(carroll)\n",
    "chesterton = text_cleaner(chesterton)\n",
    "edgeworth = text_cleaner(edgeworth)\n",
    "melville = text_cleaner(melville)\n",
    "milton = text_cleaner(milton)\n",
    "whitman = text_cleaner(whitman)"
   ]
  },
  {
   "cell_type": "markdown",
   "metadata": {},
   "source": [
    "** Parse the Texts **"
   ]
  },
  {
   "cell_type": "code",
   "execution_count": 91,
   "metadata": {},
   "outputs": [
    {
     "name": "stdout",
     "output_type": "stream",
     "text": [
      "887071\n",
      "38153\n",
      "249439\n",
      "84663\n",
      "144395\n",
      "406629\n",
      "935158\n",
      "1242990\n",
      "468220\n",
      "711215\n"
     ]
    }
   ],
   "source": [
    "for i in texts:\n",
    "    print(len(i))"
   ]
  },
  {
   "cell_type": "code",
   "execution_count": 86,
   "metadata": {},
   "outputs": [],
   "source": [
    "#Parse the cleaned texts\n",
    "nlp = spacy.load('en')\n",
    "\n",
    "#Due to memory limitations, reduce size to less than 1 mil\n",
    "melville = melville[0:999999]"
   ]
  },
  {
   "cell_type": "code",
   "execution_count": 101,
   "metadata": {},
   "outputs": [],
   "source": [
    "#Run NLP on each text\n",
    "austen_doc = nlp(austen)\n",
    "blake_doc = nlp(blake)\n",
    "bryant_doc = nlp(bryant)\n",
    "burgess_doc = nlp(burgess)\n",
    "carroll_doc = nlp(carroll)\n",
    "chesterton_doc = nlp(chesterton)\n",
    "edgeworth_doc = nlp(edgeworth)\n",
    "melville_doc = nlp(melville)\n",
    "milton_doc = nlp(milton)\n",
    "whitman_doc = nlp(whitman)"
   ]
  },
  {
   "cell_type": "code",
   "execution_count": 102,
   "metadata": {
    "collapsed": false,
    "deletable": true,
    "editable": true
   },
   "outputs": [
    {
     "name": "stdout",
     "output_type": "stream",
     "text": [
      "8905\n",
      "497\n",
      "2779\n",
      "1013\n",
      "1678\n",
      "3716\n",
      "10208\n",
      "8027\n",
      "2765\n",
      "5531\n"
     ]
    }
   ],
   "source": [
    "# Group into sentences.\n",
    "austen_sents = [[sent, \"Austen\"] for sent in austen_doc.sents]\n",
    "blake_sents = [[sent, \"Blake\"] for sent in blake_doc.sents]\n",
    "bryant_sents = [[sent, \"Bryant\"] for sent in bryant_doc.sents]\n",
    "burgess_sents = [[sent, \"Burgess\"] for sent in burgess_doc.sents]\n",
    "carroll_sents = [[sent, \"Carroll\"] for sent in carroll_doc.sents]\n",
    "chesterton_sents = [[sent, \"Chesterton\"] for sent in chesterton_doc.sents]\n",
    "edgeworth_sents = [[sent, \"Edgeworth\"] for sent in edgeworth_doc.sents]\n",
    "melville_sents = [[sent, \"Melville\"] for sent in melville_doc.sents]\n",
    "milton_sents = [[sent, \"Milton\"] for sent in milton_doc.sents]\n",
    "whitman_sents = [[sent, \"Whitman\"] for sent in whitman_doc.sents]\n",
    "\n",
    "print(len(austen_sents))\n",
    "print(len(blake_sents))\n",
    "print(len(bryant_sents))\n",
    "print(len(burgess_sents))\n",
    "print(len(carroll_sents))\n",
    "print(len(chesterton_sents))\n",
    "print(len(edgeworth_sents))\n",
    "print(len(melville_sents))\n",
    "print(len(milton_sents))\n",
    "print(len(whitman_sents))"
   ]
  },
  {
   "cell_type": "code",
   "execution_count": 104,
   "metadata": {},
   "outputs": [
    {
     "name": "stdout",
     "output_type": "stream",
     "text": [
      "200\n",
      "200\n",
      "200\n",
      "200\n",
      "200\n",
      "200\n",
      "200\n",
      "200\n",
      "200\n",
      "200\n"
     ]
    }
   ],
   "source": [
    "#For computational purposes, reduce length of each set of sentences to 500\n",
    "austen_sents = austen_sents[0:200]\n",
    "blake_sents = blake_sents[0:200]\n",
    "bryant_sents = bryant_sents[0:200]\n",
    "burgess_sents = burgess_sents[0:200]\n",
    "carroll_sents = carroll_sents[0:200]\n",
    "chesterton_sents = chesterton_sents[0:200]\n",
    "edgeworth_sents = edgeworth_sents[0:200]\n",
    "melville_sents = melville_sents[0:200]\n",
    "milton_sents = milton_sents[0:200]\n",
    "whitman_sents = whitman_sents[0:200]\n",
    "\n",
    "print(len(austen_sents))\n",
    "print(len(blake_sents))\n",
    "print(len(bryant_sents))\n",
    "print(len(burgess_sents))\n",
    "print(len(carroll_sents))\n",
    "print(len(chesterton_sents))\n",
    "print(len(edgeworth_sents))\n",
    "print(len(melville_sents))\n",
    "print(len(milton_sents))\n",
    "print(len(whitman_sents))"
   ]
  },
  {
   "cell_type": "code",
   "execution_count": 105,
   "metadata": {},
   "outputs": [
    {
     "data": {
      "text/html": [
       "<div>\n",
       "<style scoped>\n",
       "    .dataframe tbody tr th:only-of-type {\n",
       "        vertical-align: middle;\n",
       "    }\n",
       "\n",
       "    .dataframe tbody tr th {\n",
       "        vertical-align: top;\n",
       "    }\n",
       "\n",
       "    .dataframe thead th {\n",
       "        text-align: right;\n",
       "    }\n",
       "</style>\n",
       "<table border=\"1\" class=\"dataframe\">\n",
       "  <thead>\n",
       "    <tr style=\"text-align: right;\">\n",
       "      <th></th>\n",
       "      <th>0</th>\n",
       "      <th>1</th>\n",
       "    </tr>\n",
       "  </thead>\n",
       "  <tbody>\n",
       "    <tr>\n",
       "      <th>0</th>\n",
       "      <td>(Emma, Woodhouse, ,, handsome, ,, clever, ,, a...</td>\n",
       "      <td>Austen</td>\n",
       "    </tr>\n",
       "    <tr>\n",
       "      <th>1</th>\n",
       "      <td>(She, was, the, youngest, of, the, two, daught...</td>\n",
       "      <td>Austen</td>\n",
       "    </tr>\n",
       "    <tr>\n",
       "      <th>2</th>\n",
       "      <td>(Her, mother, had, died, too, long, ago, for, ...</td>\n",
       "      <td>Austen</td>\n",
       "    </tr>\n",
       "    <tr>\n",
       "      <th>3</th>\n",
       "      <td>(Sixteen, years, had, Miss, Taylor, been, in, ...</td>\n",
       "      <td>Austen</td>\n",
       "    </tr>\n",
       "    <tr>\n",
       "      <th>4</th>\n",
       "      <td>(Between, _, them)</td>\n",
       "      <td>Austen</td>\n",
       "    </tr>\n",
       "  </tbody>\n",
       "</table>\n",
       "</div>"
      ],
      "text/plain": [
       "                                                   0       1\n",
       "0  (Emma, Woodhouse, ,, handsome, ,, clever, ,, a...  Austen\n",
       "1  (She, was, the, youngest, of, the, two, daught...  Austen\n",
       "2  (Her, mother, had, died, too, long, ago, for, ...  Austen\n",
       "3  (Sixteen, years, had, Miss, Taylor, been, in, ...  Austen\n",
       "4                                 (Between, _, them)  Austen"
      ]
     },
     "metadata": {},
     "output_type": "display_data"
    },
    {
     "name": "stdout",
     "output_type": "stream",
     "text": [
      "['Austen' 'Blake' 'Bryant' 'Burgess' 'Carroll' 'Chesterton' 'Edgeworth'\n",
      " 'Melville' 'Milton' 'Whitman']\n"
     ]
    }
   ],
   "source": [
    "# Combine the sentences from the four texts into one data frame.\n",
    "sentences = pd.DataFrame(austen_sents + blake_sents + bryant_sents + burgess_sents + carroll_sents + chesterton_sents + edgeworth_sents + melville_sents + milton_sents + whitman_sents)\n",
    "\n",
    "#Confirm this worked\n",
    "display(sentences.head(5))\n",
    "\n",
    "#Confirm we only have ten authors\n",
    "print(sentences.iloc[:, 1].unique())"
   ]
  },
  {
   "cell_type": "markdown",
   "metadata": {},
   "source": [
    "# Engineer Features for Clustering"
   ]
  },
  {
   "cell_type": "code",
   "execution_count": 106,
   "metadata": {},
   "outputs": [],
   "source": [
    "# Utility function to create a list of the 1000 most common words\n",
    "\n",
    "def bag_of_words(text):\n",
    "    # Filter out punctuation and stop words.\n",
    "    allwords = [token.lemma_\n",
    "                for token in text\n",
    "                if not token.is_punct\n",
    "                and not token.is_stop]\n",
    "        \n",
    "    # Return the most common words.\n",
    "    return [item[0] for item in Counter(allwords).most_common(1000)]"
   ]
  },
  {
   "cell_type": "code",
   "execution_count": 107,
   "metadata": {},
   "outputs": [],
   "source": [
    "# Creates a data frame with features for each word in our common word set.\n",
    "# Each value is the count of the times the word appears in each sentence.\n",
    "\n",
    "def bow_features(sentences, common_words):\n",
    "    \n",
    "    # Create column headers for sentence text and source (author) and initialize to 0\n",
    "    df = pd.DataFrame(columns=common_words)\n",
    "    df['text_sentence'] = sentences[0]\n",
    "    df['text_source'] = sentences[1]\n",
    "    df.loc[:, common_words] = 0\n",
    "    \n",
    "    # Process each row, counting the occurrence of words in each sentence.\n",
    "    for i, sentence in enumerate(df['text_sentence']):\n",
    "        \n",
    "        # Convert the sentence to lemmas, then filter out punctuation,\n",
    "        # stop words, and uncommon words.\n",
    "        words = [token.lemma_\n",
    "                 for token in sentence\n",
    "                 if (\n",
    "                     not token.is_punct\n",
    "                     and not token.is_stop\n",
    "                     and token.lemma_ in common_words\n",
    "                 )]\n",
    "        \n",
    "        # Populate the row with word counts.\n",
    "        for word in words:\n",
    "            df.loc[i, word] += 1\n",
    "        \n",
    "        # This counter is just to make sure the kernel didn't hang.\n",
    "        if i % 500 == 0:\n",
    "            print(\"Processing row {}\".format(i))\n",
    "            \n",
    "    return df"
   ]
  },
  {
   "cell_type": "code",
   "execution_count": 108,
   "metadata": {},
   "outputs": [],
   "source": [
    "# Set up the bags for each text\n",
    "austenwords = bag_of_words(austen_doc)\n",
    "blakewords = bag_of_words(blake_doc)\n",
    "bryantwords = bag_of_words(bryant_doc)\n",
    "burgesswords = bag_of_words(burgess_doc)\n",
    "carrollwords = bag_of_words(carroll_doc)\n",
    "chestertonwords = bag_of_words(chesterton_doc)\n",
    "edgeworthwords = bag_of_words(edgeworth_doc)\n",
    "melvillewords = bag_of_words(melville_doc)\n",
    "miltonwords = bag_of_words(milton_doc)\n",
    "whitmanwords = bag_of_words(whitman_doc)\n",
    "\n",
    "# Combine bags to create a set of unique words.\n",
    "common_words = set(austenwords + blakewords + bryantwords + burgesswords + carrollwords + chestertonwords + edgeworthwords + melvillewords + miltonwords + whitmanwords)"
   ]
  },
  {
   "cell_type": "markdown",
   "metadata": {},
   "source": [
    "**Create BoW Features**"
   ]
  },
  {
   "cell_type": "code",
   "execution_count": 109,
   "metadata": {},
   "outputs": [
    {
     "name": "stdout",
     "output_type": "stream",
     "text": [
      "Processing row 0\n",
      "Processing row 500\n",
      "Processing row 1000\n",
      "Processing row 1500\n"
     ]
    },
    {
     "data": {
      "text/html": [
       "<div>\n",
       "<style scoped>\n",
       "    .dataframe tbody tr th:only-of-type {\n",
       "        vertical-align: middle;\n",
       "    }\n",
       "\n",
       "    .dataframe tbody tr th {\n",
       "        vertical-align: top;\n",
       "    }\n",
       "\n",
       "    .dataframe thead th {\n",
       "        text-align: right;\n",
       "    }\n",
       "</style>\n",
       "<table border=\"1\" class=\"dataframe\">\n",
       "  <thead>\n",
       "    <tr style=\"text-align: right;\">\n",
       "      <th></th>\n",
       "      <th>champion</th>\n",
       "      <th>fountain</th>\n",
       "      <th>edwin</th>\n",
       "      <th>gold</th>\n",
       "      <th>laura</th>\n",
       "      <th>pour</th>\n",
       "      <th>illustration</th>\n",
       "      <th>attachment</th>\n",
       "      <th>gobble</th>\n",
       "      <th>hoary</th>\n",
       "      <th>...</th>\n",
       "      <th>healthy</th>\n",
       "      <th>claw</th>\n",
       "      <th>mandarin</th>\n",
       "      <th>proposal</th>\n",
       "      <th>warrior</th>\n",
       "      <th>sea</th>\n",
       "      <th>canst</th>\n",
       "      <th>frowning</th>\n",
       "      <th>text_sentence</th>\n",
       "      <th>text_source</th>\n",
       "    </tr>\n",
       "  </thead>\n",
       "  <tbody>\n",
       "    <tr>\n",
       "      <th>0</th>\n",
       "      <td>0</td>\n",
       "      <td>0</td>\n",
       "      <td>0</td>\n",
       "      <td>0</td>\n",
       "      <td>0</td>\n",
       "      <td>0</td>\n",
       "      <td>0</td>\n",
       "      <td>0</td>\n",
       "      <td>0</td>\n",
       "      <td>0</td>\n",
       "      <td>...</td>\n",
       "      <td>0</td>\n",
       "      <td>0</td>\n",
       "      <td>0</td>\n",
       "      <td>0</td>\n",
       "      <td>0</td>\n",
       "      <td>0</td>\n",
       "      <td>0</td>\n",
       "      <td>0</td>\n",
       "      <td>(Emma, Woodhouse, ,, handsome, ,, clever, ,, a...</td>\n",
       "      <td>Austen</td>\n",
       "    </tr>\n",
       "    <tr>\n",
       "      <th>1</th>\n",
       "      <td>0</td>\n",
       "      <td>0</td>\n",
       "      <td>0</td>\n",
       "      <td>0</td>\n",
       "      <td>0</td>\n",
       "      <td>0</td>\n",
       "      <td>0</td>\n",
       "      <td>0</td>\n",
       "      <td>0</td>\n",
       "      <td>0</td>\n",
       "      <td>...</td>\n",
       "      <td>0</td>\n",
       "      <td>0</td>\n",
       "      <td>0</td>\n",
       "      <td>0</td>\n",
       "      <td>0</td>\n",
       "      <td>0</td>\n",
       "      <td>0</td>\n",
       "      <td>0</td>\n",
       "      <td>(She, was, the, youngest, of, the, two, daught...</td>\n",
       "      <td>Austen</td>\n",
       "    </tr>\n",
       "    <tr>\n",
       "      <th>2</th>\n",
       "      <td>0</td>\n",
       "      <td>0</td>\n",
       "      <td>0</td>\n",
       "      <td>0</td>\n",
       "      <td>0</td>\n",
       "      <td>0</td>\n",
       "      <td>0</td>\n",
       "      <td>0</td>\n",
       "      <td>0</td>\n",
       "      <td>0</td>\n",
       "      <td>...</td>\n",
       "      <td>0</td>\n",
       "      <td>0</td>\n",
       "      <td>0</td>\n",
       "      <td>0</td>\n",
       "      <td>0</td>\n",
       "      <td>0</td>\n",
       "      <td>0</td>\n",
       "      <td>0</td>\n",
       "      <td>(Her, mother, had, died, too, long, ago, for, ...</td>\n",
       "      <td>Austen</td>\n",
       "    </tr>\n",
       "    <tr>\n",
       "      <th>3</th>\n",
       "      <td>0</td>\n",
       "      <td>0</td>\n",
       "      <td>0</td>\n",
       "      <td>0</td>\n",
       "      <td>0</td>\n",
       "      <td>0</td>\n",
       "      <td>0</td>\n",
       "      <td>0</td>\n",
       "      <td>0</td>\n",
       "      <td>0</td>\n",
       "      <td>...</td>\n",
       "      <td>0</td>\n",
       "      <td>0</td>\n",
       "      <td>0</td>\n",
       "      <td>0</td>\n",
       "      <td>0</td>\n",
       "      <td>0</td>\n",
       "      <td>0</td>\n",
       "      <td>0</td>\n",
       "      <td>(Sixteen, years, had, Miss, Taylor, been, in, ...</td>\n",
       "      <td>Austen</td>\n",
       "    </tr>\n",
       "    <tr>\n",
       "      <th>4</th>\n",
       "      <td>0</td>\n",
       "      <td>0</td>\n",
       "      <td>0</td>\n",
       "      <td>0</td>\n",
       "      <td>0</td>\n",
       "      <td>0</td>\n",
       "      <td>0</td>\n",
       "      <td>0</td>\n",
       "      <td>0</td>\n",
       "      <td>0</td>\n",
       "      <td>...</td>\n",
       "      <td>0</td>\n",
       "      <td>0</td>\n",
       "      <td>0</td>\n",
       "      <td>0</td>\n",
       "      <td>0</td>\n",
       "      <td>0</td>\n",
       "      <td>0</td>\n",
       "      <td>0</td>\n",
       "      <td>(Between, _, them)</td>\n",
       "      <td>Austen</td>\n",
       "    </tr>\n",
       "    <tr>\n",
       "      <th>5</th>\n",
       "      <td>0</td>\n",
       "      <td>0</td>\n",
       "      <td>0</td>\n",
       "      <td>0</td>\n",
       "      <td>0</td>\n",
       "      <td>0</td>\n",
       "      <td>0</td>\n",
       "      <td>0</td>\n",
       "      <td>0</td>\n",
       "      <td>0</td>\n",
       "      <td>...</td>\n",
       "      <td>0</td>\n",
       "      <td>0</td>\n",
       "      <td>0</td>\n",
       "      <td>0</td>\n",
       "      <td>0</td>\n",
       "      <td>0</td>\n",
       "      <td>0</td>\n",
       "      <td>0</td>\n",
       "      <td>(_)</td>\n",
       "      <td>Austen</td>\n",
       "    </tr>\n",
       "    <tr>\n",
       "      <th>6</th>\n",
       "      <td>0</td>\n",
       "      <td>0</td>\n",
       "      <td>0</td>\n",
       "      <td>0</td>\n",
       "      <td>0</td>\n",
       "      <td>0</td>\n",
       "      <td>0</td>\n",
       "      <td>0</td>\n",
       "      <td>0</td>\n",
       "      <td>0</td>\n",
       "      <td>...</td>\n",
       "      <td>0</td>\n",
       "      <td>0</td>\n",
       "      <td>0</td>\n",
       "      <td>0</td>\n",
       "      <td>0</td>\n",
       "      <td>0</td>\n",
       "      <td>0</td>\n",
       "      <td>0</td>\n",
       "      <td>(it, was, more, the, intimacy, of, sisters, .)</td>\n",
       "      <td>Austen</td>\n",
       "    </tr>\n",
       "    <tr>\n",
       "      <th>7</th>\n",
       "      <td>0</td>\n",
       "      <td>0</td>\n",
       "      <td>0</td>\n",
       "      <td>0</td>\n",
       "      <td>0</td>\n",
       "      <td>0</td>\n",
       "      <td>0</td>\n",
       "      <td>0</td>\n",
       "      <td>0</td>\n",
       "      <td>0</td>\n",
       "      <td>...</td>\n",
       "      <td>0</td>\n",
       "      <td>0</td>\n",
       "      <td>0</td>\n",
       "      <td>0</td>\n",
       "      <td>0</td>\n",
       "      <td>0</td>\n",
       "      <td>0</td>\n",
       "      <td>0</td>\n",
       "      <td>(Even, before, Miss, Taylor, had, ceased, to, ...</td>\n",
       "      <td>Austen</td>\n",
       "    </tr>\n",
       "    <tr>\n",
       "      <th>8</th>\n",
       "      <td>0</td>\n",
       "      <td>0</td>\n",
       "      <td>0</td>\n",
       "      <td>0</td>\n",
       "      <td>0</td>\n",
       "      <td>0</td>\n",
       "      <td>0</td>\n",
       "      <td>0</td>\n",
       "      <td>0</td>\n",
       "      <td>0</td>\n",
       "      <td>...</td>\n",
       "      <td>0</td>\n",
       "      <td>0</td>\n",
       "      <td>0</td>\n",
       "      <td>0</td>\n",
       "      <td>0</td>\n",
       "      <td>0</td>\n",
       "      <td>0</td>\n",
       "      <td>0</td>\n",
       "      <td>(The, real, evils, ,, indeed, ,, of, Emma, 's,...</td>\n",
       "      <td>Austen</td>\n",
       "    </tr>\n",
       "    <tr>\n",
       "      <th>9</th>\n",
       "      <td>0</td>\n",
       "      <td>0</td>\n",
       "      <td>0</td>\n",
       "      <td>0</td>\n",
       "      <td>0</td>\n",
       "      <td>0</td>\n",
       "      <td>0</td>\n",
       "      <td>0</td>\n",
       "      <td>0</td>\n",
       "      <td>0</td>\n",
       "      <td>...</td>\n",
       "      <td>0</td>\n",
       "      <td>0</td>\n",
       "      <td>0</td>\n",
       "      <td>0</td>\n",
       "      <td>0</td>\n",
       "      <td>0</td>\n",
       "      <td>0</td>\n",
       "      <td>0</td>\n",
       "      <td>(The, danger, ,, however, ,, was, at, present,...</td>\n",
       "      <td>Austen</td>\n",
       "    </tr>\n",
       "  </tbody>\n",
       "</table>\n",
       "<p>10 rows × 3909 columns</p>\n",
       "</div>"
      ],
      "text/plain": [
       "  champion fountain edwin gold laura pour illustration attachment gobble  \\\n",
       "0        0        0     0    0     0    0            0          0      0   \n",
       "1        0        0     0    0     0    0            0          0      0   \n",
       "2        0        0     0    0     0    0            0          0      0   \n",
       "3        0        0     0    0     0    0            0          0      0   \n",
       "4        0        0     0    0     0    0            0          0      0   \n",
       "5        0        0     0    0     0    0            0          0      0   \n",
       "6        0        0     0    0     0    0            0          0      0   \n",
       "7        0        0     0    0     0    0            0          0      0   \n",
       "8        0        0     0    0     0    0            0          0      0   \n",
       "9        0        0     0    0     0    0            0          0      0   \n",
       "\n",
       "  hoary     ...     healthy claw mandarin proposal warrior sea canst frowning  \\\n",
       "0     0     ...           0    0        0        0       0   0     0        0   \n",
       "1     0     ...           0    0        0        0       0   0     0        0   \n",
       "2     0     ...           0    0        0        0       0   0     0        0   \n",
       "3     0     ...           0    0        0        0       0   0     0        0   \n",
       "4     0     ...           0    0        0        0       0   0     0        0   \n",
       "5     0     ...           0    0        0        0       0   0     0        0   \n",
       "6     0     ...           0    0        0        0       0   0     0        0   \n",
       "7     0     ...           0    0        0        0       0   0     0        0   \n",
       "8     0     ...           0    0        0        0       0   0     0        0   \n",
       "9     0     ...           0    0        0        0       0   0     0        0   \n",
       "\n",
       "                                       text_sentence text_source  \n",
       "0  (Emma, Woodhouse, ,, handsome, ,, clever, ,, a...      Austen  \n",
       "1  (She, was, the, youngest, of, the, two, daught...      Austen  \n",
       "2  (Her, mother, had, died, too, long, ago, for, ...      Austen  \n",
       "3  (Sixteen, years, had, Miss, Taylor, been, in, ...      Austen  \n",
       "4                                 (Between, _, them)      Austen  \n",
       "5                                                (_)      Austen  \n",
       "6     (it, was, more, the, intimacy, of, sisters, .)      Austen  \n",
       "7  (Even, before, Miss, Taylor, had, ceased, to, ...      Austen  \n",
       "8  (The, real, evils, ,, indeed, ,, of, Emma, 's,...      Austen  \n",
       "9  (The, danger, ,, however, ,, was, at, present,...      Austen  \n",
       "\n",
       "[10 rows x 3909 columns]"
      ]
     },
     "execution_count": 109,
     "metadata": {},
     "output_type": "execute_result"
    }
   ],
   "source": [
    "# Create our data frame with features\n",
    "word_counts = bow_features(sentences, common_words)\n",
    "word_counts.head(10)"
   ]
  },
  {
   "cell_type": "code",
   "execution_count": 111,
   "metadata": {},
   "outputs": [
    {
     "data": {
      "text/plain": [
       "Burgess       200\n",
       "Austen        200\n",
       "Carroll       200\n",
       "Bryant        200\n",
       "Whitman       200\n",
       "Melville      200\n",
       "Blake         200\n",
       "Chesterton    200\n",
       "Edgeworth     200\n",
       "Milton        200\n",
       "Name: text_source, dtype: int64"
      ]
     },
     "metadata": {},
     "output_type": "display_data"
    },
    {
     "name": "stdout",
     "output_type": "stream",
     "text": [
      "\n",
      "\n",
      "Baseline of our dataset is 10%\n"
     ]
    }
   ],
   "source": [
    "#Determine Baseline\n",
    "display(word_counts.text_source.value_counts())\n",
    "print('\\n\\nBaseline of our dataset is 10%')"
   ]
  },
  {
   "cell_type": "code",
   "execution_count": 197,
   "metadata": {},
   "outputs": [],
   "source": [
    "#First, establish X and Y\n",
    "Y = word_counts['text_source']\n",
    "X = word_counts.drop(['text_sentence','text_source'], 1)\n",
    "\n",
    "X_train, X_test, y_train, y_test = train_test_split(X, \n",
    "                                                    Y,\n",
    "                                                    test_size=0.25,\n",
    "                                                    random_state=0)"
   ]
  },
  {
   "cell_type": "markdown",
   "metadata": {},
   "source": [
    "# Utilize Various Clustering Techniques"
   ]
  },
  {
   "cell_type": "code",
   "execution_count": 198,
   "metadata": {},
   "outputs": [
    {
     "name": "stdout",
     "output_type": "stream",
     "text": [
      "Comparing K-Means Clusters to Authors:\n",
      "col_0         0    1  2  3   4   5   6  7  8   9\n",
      "text_source                                     \n",
      "Austen        3   69  0  0   1  14   9  5  1  46\n",
      "Blake        11   91  0  4   0   9   2  0  0  29\n",
      "Bryant       35   58  0  0  15  14  10  2  0  11\n",
      "Burgess      39   45  0  0  21   4   3  5  0  35\n",
      "Carroll      15   80  1  0   5  19   6  5  0  24\n",
      "Chesterton    5   79  0  2   3   7   3  4  0  49\n",
      "Edgeworth     8   99  0  0   1   2   8  2  0  30\n",
      "Melville      0  124  0  0   2   2   1  0  0  17\n",
      "Milton        0  102  0  2   6   2   2  0  0  39\n",
      "Whitman       1   78  0  0   3  26   3  3  0  39\n"
     ]
    }
   ],
   "source": [
    "#Declare and fit the model using 10 clusters for our 10 authors\n",
    "kmeans_pred = KMeans(n_clusters=10, random_state=42).fit_predict(X_train)\n",
    "\n",
    "#Print cross tab of data vs prediction\n",
    "print('Comparing K-Means Clusters to Authors:')\n",
    "print(pd.crosstab(y_train, kmeans_pred))"
   ]
  },
  {
   "cell_type": "code",
   "execution_count": 200,
   "metadata": {},
   "outputs": [
    {
     "data": {
      "image/png": "[encoded data removed]",
      "text/plain": [
       "<matplotlib.figure.Figure at 0x1a8cc49d30>"
      ]
     },
     "metadata": {},
     "output_type": "display_data"
    }
   ],
   "source": [
    "#Show authors categorized by cluster\n",
    "prediction = pd.crosstab(kmeans_pred, y_train)\n",
    "prediction.plot(kind='bar', stacked=False, figsize=[20,5])\n",
    "plt.title('Authors Categorized by Mean Shift Clusters')\n",
    "plt.xlabel('Cluster')\n",
    "plt.ylabel('Count')\n",
    "plt.show()"
   ]
  },
  {
   "cell_type": "code",
   "execution_count": 132,
   "metadata": {},
   "outputs": [
    {
     "name": "stdout",
     "output_type": "stream",
     "text": [
      "Comparing Mean Shift Clusters to Authors:\n",
      "col_0         0   1   2   3   4   5   6   7   8   9   10  11  12  13  14\n",
      "text_source                                                             \n",
      "Austen       148   0   0   0   0   0   0   0   0   0   0   0   0   0   0\n",
      "Blake        145   0   0   0   0   0   0   0   0   0   0   1   0   0   0\n",
      "Bryant       140   0   0   0   3   0   0   0   2   0   0   0   0   0   0\n",
      "Burgess      148   0   0   0   0   3   0   0   0   0   0   1   0   0   0\n",
      "Carroll      152   0   0   0   0   0   0   0   0   0   0   2   1   0   0\n",
      "Chesterton   150   0   0   1   0   0   1   0   0   0   0   0   0   0   0\n",
      "Edgeworth    148   0   0   0   0   0   0   1   0   0   0   1   0   0   0\n",
      "Melville     146   0   0   0   0   0   0   0   0   0   0   0   0   0   0\n",
      "Milton       153   0   0   0   0   0   0   0   0   0   0   0   0   0   0\n",
      "Whitman      142   2   1   0   0   0   0   0   0   1   2   3   0   1   1\n"
     ]
    }
   ],
   "source": [
    "#Declare and fit the model\n",
    "bandwidth = estimate_bandwidth(X_train, quantile=0.3)\n",
    "meanshift_pred = MeanShift(bandwidth=bandwidth, bin_seeding=True).fit_predict(X_train)\n",
    "\n",
    "#Print cross tab of data vs prediction\n",
    "print('Comparing Mean Shift Clusters to Authors:')\n",
    "print(pd.crosstab(y_train, meanshift_pred))"
   ]
  },
  {
   "cell_type": "code",
   "execution_count": 201,
   "metadata": {},
   "outputs": [
    {
     "data": {
      "image/png": "[encoded data removed]",
      "text/plain": [
       "<matplotlib.figure.Figure at 0x1a310bab00>"
      ]
     },
     "metadata": {},
     "output_type": "display_data"
    }
   ],
   "source": [
    "#Show authors categorized by cluster\n",
    "prediction = pd.crosstab(meanshift_pred, y_train)\n",
    "prediction.plot(kind='bar', stacked=False, figsize=[20,5])\n",
    "plt.title('Authors Categorized by Mean Shift Clusters')\n",
    "plt.xlabel('Cluster')\n",
    "plt.ylabel('Count')\n",
    "plt.show()"
   ]
  },
  {
   "cell_type": "code",
   "execution_count": 133,
   "metadata": {},
   "outputs": [
    {
     "name": "stdout",
     "output_type": "stream",
     "text": [
      "Comparing Spectral Clusters to Authors:\n",
      "col_0         0   1   2  3    4  5  6  7   8  9\n",
      "text_source                                    \n",
      "Austen       18   1   2  0  114  0  0  0  13  0\n",
      "Blake        13   2   6  0  116  2  0  0   7  0\n",
      "Bryant       24   4   8  4   95  0  4  2   2  2\n",
      "Burgess      18   0   4  0  126  0  0  0   4  0\n",
      "Carroll      12   8   3  0  121  0  0  0  11  0\n",
      "Chesterton    8   2   2  0  134  0  0  0   6  0\n",
      "Edgeworth     7   5   1  0  132  0  0  0   5  0\n",
      "Melville      6  25  21  0   82  0  0  0  12  0\n",
      "Milton       10   1   5  0  131  0  0  0   6  0\n",
      "Whitman      13   5   9  0  113  0  0  0  13  0\n"
     ]
    }
   ],
   "source": [
    "#Declare and fit the model.\n",
    "spectral_pred = SpectralClustering(n_clusters=10).fit_predict(X_train)\n",
    "\n",
    "#Print cross tab of data vs prediction\n",
    "print('Comparing Spectral Clusters to Authors:')\n",
    "print(pd.crosstab(y_train, spectral_pred))"
   ]
  },
  {
   "cell_type": "code",
   "execution_count": 202,
   "metadata": {},
   "outputs": [
    {
     "data": {
      "image/png": "[encoded data removed]",
      "text/plain": [
       "<matplotlib.figure.Figure at 0x1a310e5860>"
      ]
     },
     "metadata": {},
     "output_type": "display_data"
    }
   ],
   "source": [
    "#Show authors categorized by cluster\n",
    "prediction = pd.crosstab(spectral_pred, y_train)\n",
    "prediction.plot(kind='bar', stacked=False, figsize=[20,5])\n",
    "plt.title('Authors Categorized by Spectral Clusters')\n",
    "plt.xlabel('Cluster')\n",
    "plt.ylabel('Count')\n",
    "plt.show()"
   ]
  },
  {
   "cell_type": "code",
   "execution_count": 134,
   "metadata": {},
   "outputs": [
    {
     "name": "stdout",
     "output_type": "stream",
     "text": [
      "Comparing Affinity Propagation Clusters to Authors:\n",
      "col_0        0    1    2    3    4    5    6    7    8    9   ...   275  276  \\\n",
      "text_source                                                   ...              \n",
      "Austen         0    0    1    0    0    0    2    0    0    1 ...     0    0   \n",
      "Blake          3    0    2    0    0    2    4    0    0    0 ...     0    0   \n",
      "Bryant         0    1    3    1    5    0    0    0    0    0 ...     0    0   \n",
      "Burgess        0    0    3    0    0    1    1    0    1    0 ...     0    0   \n",
      "Carroll        5    0    0    0    0    3    6    0    0    0 ...     0    1   \n",
      "Chesterton     2    0    3    0    0    4    4    1    0    0 ...     0    0   \n",
      "Edgeworth      1    0    2    0    0    2    2    0    0    0 ...     0    0   \n",
      "Melville       3    0    2    0    0    0    0    0    0    0 ...     0    0   \n",
      "Milton         2    0    1    0    0    0    2    0    0    0 ...     1    0   \n",
      "Whitman        2    0    1    0    0    1    1    0    0    0 ...     0    0   \n",
      "\n",
      "col_0        277  278  279  280  281  282  283  284  \n",
      "text_source                                          \n",
      "Austen         0    0    0    0    0    0    0    0  \n",
      "Blake          0    1    2    0    0    0    0    0  \n",
      "Bryant         5    0    0    0    0    0    0    1  \n",
      "Burgess        0    0    1    1    0    0    0    0  \n",
      "Carroll        0    0    0    0    0    0    0    0  \n",
      "Chesterton     0    0    0    0    0    0    0    0  \n",
      "Edgeworth      0    0    0    0    0    0    0    0  \n",
      "Melville       0    0    1    0    0    0    0    0  \n",
      "Milton         0    0    0    0    1    1    1    0  \n",
      "Whitman        0    0    0    0    0    0    0    0  \n",
      "\n",
      "[10 rows x 285 columns]\n"
     ]
    }
   ],
   "source": [
    "#Declare and fit the model.\n",
    "affinity_pred = AffinityPropagation().fit_predict(X_train)\n",
    "\n",
    "#Print cross tab of data vs prediction\n",
    "print('Comparing Affinity Propagation Clusters to Authors:')\n",
    "print(pd.crosstab(y_train, affinity_pred))"
   ]
  },
  {
   "cell_type": "markdown",
   "metadata": {},
   "source": [
    "After attempting several different clustering techniques (KMeans, Mean Shift, Spectral and Affinity) the best performing method was KMeans, although no method was very effective in classifying by author."
   ]
  },
  {
   "cell_type": "markdown",
   "metadata": {},
   "source": [
    "# Now, undergo unsupervised feature engineering then run feature set through supervised algorithms"
   ]
  },
  {
   "cell_type": "code",
   "execution_count": 135,
   "metadata": {},
   "outputs": [
    {
     "name": "stdout",
     "output_type": "stream",
     "text": [
      "<class 'pandas.core.series.Series'>\n",
      "<class 'scipy.sparse.csr.csr_matrix'>\n"
     ]
    }
   ],
   "source": [
    "#Create vectorizer model in order to get tf-idf for each sentence\n",
    "\n",
    "vectorizer = TfidfVectorizer(max_df=0.5, # drop words that occur in more than half the paragraphs\n",
    "                             min_df=2, # only use words that appear at least twice\n",
    "                             stop_words='english', \n",
    "                             lowercase=False, #convert everything to lower case (since Alice in Wonderland has the HABIT of CAPITALIZING WORDS for EMPHASIS)\n",
    "                             use_idf=True,#we definitely want to use inverse document frequencies in our weighting\n",
    "                             norm=u'l2', #Applies a correction factor so that longer paragraphs and shorter paragraphs get treated equally\n",
    "                             smooth_idf=True #Adds 1 to all document frequencies, as if an extra document existed that used every word once.  Prevents divide-by-zero errors\n",
    "                            )\n",
    "\n",
    "#Take pandas series (text_sentence), convert from spacy object to string\n",
    "sentence_list = word_counts['text_sentence'].astype(str)\n",
    "print(type(sentence_list))\n",
    "\n",
    "#Pass pandas series to our vectorizer model\n",
    "text_tfidf = vectorizer.fit_transform(sentence_list)\n",
    "print(type(text_tfidf))"
   ]
  },
  {
   "cell_type": "code",
   "execution_count": 136,
   "metadata": {},
   "outputs": [
    {
     "data": {
      "text/plain": [
       "{'Emma': 0.2645973182373566,\n",
       " 'Miss': 0.2430755193420512,\n",
       " 'Mr': 0.2015094491250963,\n",
       " 'Taylor': 0.2602655909020008,\n",
       " 'Woodhouse': 0.2999255303562577,\n",
       " 'daughters': 0.34355578238251283,\n",
       " 'family': 0.29124407675640623,\n",
       " 'fond': 0.31055077084293076,\n",
       " 'friend': 0.28061883626973316,\n",
       " 'governess': 0.34355578238251283,\n",
       " 'particularly': 0.33293054189583976,\n",
       " 'years': 0.2562952783300025}"
      ]
     },
     "metadata": {},
     "output_type": "display_data"
    },
    {
     "name": "stdout",
     "output_type": "stream",
     "text": [
      "<class 'list'>\n"
     ]
    }
   ],
   "source": [
    "#List of features\n",
    "terms = vectorizer.get_feature_names()\n",
    "\n",
    "#Shape\n",
    "n = text_tfidf.shape[0]\n",
    "\n",
    "#A list of dictionaries, one per paragraph\n",
    "tfidf_bysent = [{} for _ in range(0,n)]\n",
    "\n",
    "#for each sentence, lists the feature words and their tf-idf scores\n",
    "for i, j in zip(*text_tfidf.nonzero()):\n",
    "    tfidf_bysent[i][terms[j]] = text_tfidf[i, j]\n",
    "\n",
    "#Show first dictionary\n",
    "display(tfidf_bysent[3])\n",
    "print(type(tfidf_bysent))"
   ]
  },
  {
   "cell_type": "code",
   "execution_count": 137,
   "metadata": {},
   "outputs": [],
   "source": [
    "#Create dataframe for this feature set\n",
    "tfidf_df = pd.DataFrame(columns=terms)\n",
    "tfidf_df['text_sentence'] = word_counts['text_sentence']\n",
    "tfidf_df['text_source'] = word_counts['text_source']\n",
    "tfidf_df.loc[:, terms] = 0"
   ]
  },
  {
   "cell_type": "code",
   "execution_count": 138,
   "metadata": {},
   "outputs": [],
   "source": [
    "counter = 0\n",
    "for i in tfidf_bysent:\n",
    "    for k, v in i.items():\n",
    "        tfidf_df.loc[counter, k] = v\n",
    "    counter = counter + 1"
   ]
  },
  {
   "cell_type": "code",
   "execution_count": 219,
   "metadata": {},
   "outputs": [],
   "source": [
    "#First, establish X and Y\n",
    "Y = tfidf_df['text_source']\n",
    "X = tfidf_df.drop(['text_sentence','text_source'], 1)\n",
    "\n",
    "X_train, X_test, y_train, y_test = train_test_split(X, \n",
    "                                                    Y,\n",
    "                                                    test_size=0.25,\n",
    "                                                    random_state=0)"
   ]
  },
  {
   "cell_type": "code",
   "execution_count": 142,
   "metadata": {},
   "outputs": [],
   "source": [
    "#Find the right parameters for our supervised models\n",
    "\n",
    "def tuned_params(model):\n",
    "    \n",
    "    if model == 'Random Forest':\n",
    "                random_forest = np.arange(100, 500, 100)\n",
    "                random_forest_df = pd.DataFrame()\n",
    "                for i in random_forest:\n",
    "                    rfc = ensemble.RandomForestClassifier(n_estimators=i)\n",
    "                    rfc.fit(X, Y)\n",
    "                    positive_pred = rfc.predict(X)\n",
    "                    cross_val = cross_val_score(rfc, X, Y, cv=5).mean()*100\n",
    "                    score = rfc.score(X, Y)*100\n",
    "                    random_forest_df_temp = pd.DataFrame({'estimators': i, 'training': score, 'test': cross_val}, index=[0])\n",
    "                    random_forest_df = random_forest_df.append(random_forest_df_temp)\n",
    "                plt.plot(random_forest_df['estimators'], random_forest_df['training'], color = 'r', linewidth = 3, label='Training')\n",
    "                plt.plot(random_forest_df['estimators'], random_forest_df['test'], color = 'b', linewidth = 3, label='Test')\n",
    "                plt.xlabel('Estimators Parameter', fontsize=20)\n",
    "                plt.title('Random Forest - Training vs. Test')\n",
    "                plt.show()\n",
    "        \n",
    "    elif model == 'Lasso':\n",
    "                lasso = np.arange(0.2, 1.0, 0.2)\n",
    "                lasso_df = pd.DataFrame()\n",
    "                for i in lasso:\n",
    "                    lr_lasso = LogisticRegression(penalty='l1', C=i)\n",
    "                    lr_lasso.fit(X, Y)\n",
    "                    positive_pred = lr_lasso.predict(X)\n",
    "                    cross_val = cross_val_score(lr_lasso, X, Y, cv=5).mean()*100\n",
    "                    score = lr_lasso.score(X, Y)*100\n",
    "                    lasso_df_temp = pd.DataFrame({'C': i, 'training': score, 'test': cross_val}, index=[0])\n",
    "                    lasso_df = lasso_df.append(lasso_df_temp)\n",
    "                plt.plot(lasso_df['C'], lasso_df['training'], color = 'r', linewidth = 3, label='Training')\n",
    "                plt.plot(lasso_df['C'], lasso_df['test'], color = 'b', linewidth = 3, label='Test')\n",
    "                plt.xlabel('C Parameter', fontsize=20)\n",
    "                plt.title('Lasso - Training vs. Test')\n",
    "                plt.show()\n",
    "            \n",
    "    elif model == 'Ridge':\n",
    "                ridge = np.arange(1, 5001, 1000)\n",
    "                ridge_df = pd.DataFrame()\n",
    "                for i in ridge:\n",
    "                    lr_ridge = LogisticRegression(C=i)\n",
    "                    lr_ridge.fit(X, Y)\n",
    "                    positive_pred = lr_ridge.predict(X)\n",
    "                    cross_val = cross_val_score(lr_ridge, X, Y, cv=5).mean()*100\n",
    "                    score = lr_ridge.score(X, Y)*100\n",
    "                    ridge_df_temp = pd.DataFrame({'C': i, 'training': score, 'test': cross_val}, index=[0])\n",
    "                    ridge_df = ridge_df.append(ridge_df_temp)\n",
    "                plt.plot(ridge_df['C'], ridge_df['training'], color = 'r', linewidth = 3, label='Training')\n",
    "                plt.plot(ridge_df['C'], ridge_df['test'], color = 'b', linewidth = 3, label='Test')\n",
    "                plt.xlabel('C Parameter', fontsize=20)\n",
    "                plt.title('Ridge - Training vs. Test')\n",
    "                plt.show()\n",
    "                \n",
    "    else:\n",
    "                svc = np.arange(0.2, 1.0, 0.2)\n",
    "                svc_df = pd.DataFrame()\n",
    "                for i in svc:\n",
    "                    svm = SVC(C=i)\n",
    "                    svm.fit(X, Y)\n",
    "                    positive_pred = svm.predict(X)\n",
    "                    cross_val = cross_val_score(svm, X, Y, cv=5).mean()*100\n",
    "                    score = svm.score(X, Y)*100\n",
    "                    svc_df_temp = pd.DataFrame({'C': i, 'training': score, 'test': cross_val}, index=[0])\n",
    "                    svc_df = svc_df.append(svc_df_temp)\n",
    "                plt.plot(svc_df['C'], svc_df['training'], color = 'r', linewidth = 3, label='Training')\n",
    "                plt.plot(svc_df['C'], svc_df['test'], color = 'b', linewidth = 3, label='Test')\n",
    "                plt.xlabel('C Parameter', fontsize=20)\n",
    "                plt.title('SVC - Training vs. Test', fontsize=30)\n",
    "                plt.show()"
   ]
  },
  {
   "cell_type": "markdown",
   "metadata": {},
   "source": [
    "** Regular Logistic Regression **"
   ]
  },
  {
   "cell_type": "code",
   "execution_count": 207,
   "metadata": {},
   "outputs": [
    {
     "name": "stdout",
     "output_type": "stream",
     "text": [
      "Training set score: 0.9706666666666667\n",
      "\n",
      "Test set score: 0.668\n",
      "\n",
      "Cross-Validation: [0.615  0.5975 0.6075 0.64   0.535 ]\n"
     ]
    }
   ],
   "source": [
    "#Instantiate and fit\n",
    "lr = LogisticRegression(penalty='l2', C=1e9)\n",
    "train = lr.fit(X_train, y_train)\n",
    "\n",
    "#Scoring\n",
    "print('Training set score:', lr.score(X_train, y_train))\n",
    "print('\\nTest set score:', lr.score(X_test, y_test))\n",
    "\n",
    "cross_val = cross_val_score(lr, X, Y, cv=5)\n",
    "print('\\nCross-Validation:', cross_val)"
   ]
  },
  {
   "cell_type": "markdown",
   "metadata": {},
   "source": [
    "** Lasso Logistic Regression **"
   ]
  },
  {
   "cell_type": "code",
   "execution_count": 208,
   "metadata": {},
   "outputs": [
    {
     "data": {
      "image/png": "[encoded data removed]",
      "text/plain": [
       "<matplotlib.figure.Figure at 0x1a32189c50>"
      ]
     },
     "metadata": {},
     "output_type": "display_data"
    }
   ],
   "source": [
    "tuned_params('Lasso')"
   ]
  },
  {
   "cell_type": "code",
   "execution_count": 209,
   "metadata": {},
   "outputs": [
    {
     "name": "stdout",
     "output_type": "stream",
     "text": [
      "Training set score: 0.7073333333333334\n",
      "\n",
      "Test set score: 0.548\n",
      "\n",
      "Cross-Validation: [0.5    0.4925 0.5425 0.575  0.495 ]\n"
     ]
    }
   ],
   "source": [
    "#Instantiate and fit\n",
    "lr_lasso = LogisticRegression(penalty='l1')\n",
    "train = lr_lasso.fit(X_train, y_train)\n",
    "\n",
    "#Scoring\n",
    "print('Training set score:', lr_lasso.score(X_train, y_train))\n",
    "print('\\nTest set score:', lr_lasso.score(X_test, y_test))\n",
    "\n",
    "cross_val = cross_val_score(lr_lasso, X, Y, cv=5)\n",
    "print('\\nCross-Validation:', cross_val)"
   ]
  },
  {
   "cell_type": "markdown",
   "metadata": {},
   "source": [
    "** Ridge Logistic Regression **"
   ]
  },
  {
   "cell_type": "code",
   "execution_count": 210,
   "metadata": {},
   "outputs": [
    {
     "data": {
      "image/png": "[encoded data removed]",
      "text/plain": [
       "<matplotlib.figure.Figure at 0x1a32190390>"
      ]
     },
     "metadata": {},
     "output_type": "display_data"
    }
   ],
   "source": [
    "tuned_params('Ridge')"
   ]
  },
  {
   "cell_type": "code",
   "execution_count": 211,
   "metadata": {},
   "outputs": [
    {
     "name": "stdout",
     "output_type": "stream",
     "text": [
      "Training set score: 0.902\n",
      "\n",
      "Test set score: 0.71\n",
      "\n",
      "Cross-Validation: [0.6225 0.6275 0.6525 0.6775 0.58  ]\n"
     ]
    }
   ],
   "source": [
    "#Instantiate and fit\n",
    "lr_ridge = LogisticRegression(penalty='l2', C=0.5)\n",
    "train = lr_ridge.fit(X_train, y_train)\n",
    "\n",
    "#Scoring\n",
    "print('Training set score:', lr_ridge.score(X_train, y_train))\n",
    "print('\\nTest set score:', lr_ridge.score(X_test, y_test))\n",
    "\n",
    "cross_val = cross_val_score(lr_ridge, X, Y, cv=5)\n",
    "print('\\nCross-Validation:', cross_val)"
   ]
  },
  {
   "cell_type": "markdown",
   "metadata": {},
   "source": [
    "** Support Vector Classifier **"
   ]
  },
  {
   "cell_type": "code",
   "execution_count": 212,
   "metadata": {},
   "outputs": [
    {
     "data": {
      "image/png": "[encoded data removed]",
      "text/plain": [
       "<matplotlib.figure.Figure at 0x1a8f9b8550>"
      ]
     },
     "metadata": {},
     "output_type": "display_data"
    }
   ],
   "source": [
    "tuned_params('SVM')"
   ]
  },
  {
   "cell_type": "code",
   "execution_count": 149,
   "metadata": {},
   "outputs": [
    {
     "name": "stdout",
     "output_type": "stream",
     "text": [
      "Training set score: 0.10333333333333333\n",
      "\n",
      "Test set score: 0.09\n",
      "\n",
      "Cross-Validation: [0.4375 0.375  0.46   0.5425 0.4925]\n"
     ]
    }
   ],
   "source": [
    "#Instantiate and fit\n",
    "svc = SVC()\n",
    "train = svc.fit(X_train, y_train)\n",
    "\n",
    "#Scoring\n",
    "print('Training set score:', svc.score(X_train, y_train))\n",
    "print('\\nTest set score:', svc.score(X_test, y_test))\n",
    "\n",
    "cross_val = cross_val_score(svc, X, Y, cv=5)\n",
    "print('\\nCross-Validation:', cross_val)"
   ]
  },
  {
   "cell_type": "markdown",
   "metadata": {},
   "source": [
    "** Random Forest Classifier **"
   ]
  },
  {
   "cell_type": "code",
   "execution_count": 213,
   "metadata": {},
   "outputs": [
    {
     "data": {
      "image/png": "[encoded data removed]",
      "text/plain": [
       "<matplotlib.figure.Figure at 0x1a8e4d8630>"
      ]
     },
     "metadata": {},
     "output_type": "display_data"
    }
   ],
   "source": [
    "tuned_params('Random Forest')"
   ]
  },
  {
   "cell_type": "code",
   "execution_count": 214,
   "metadata": {},
   "outputs": [
    {
     "name": "stdout",
     "output_type": "stream",
     "text": [
      "Training set score: 0.9706666666666667\n",
      "\n",
      "Test set score: 0.634\n",
      "\n",
      "Cross-Validation: [0.565  0.55   0.5575 0.63   0.52  ]\n"
     ]
    }
   ],
   "source": [
    "#Instantiate and fit\n",
    "rfc = ensemble.RandomForestClassifier(n_estimators=200)\n",
    "train = rfc.fit(X_train, y_train)\n",
    "\n",
    "#Scoring\n",
    "print('Training set score:', rfc.score(X_train, y_train))\n",
    "print('\\nTest set score:', rfc.score(X_test, y_test))\n",
    "\n",
    "cross_val = cross_val_score(rfc, X, Y, cv=5)\n",
    "print('\\nCross-Validation:', cross_val)"
   ]
  },
  {
   "cell_type": "markdown",
   "metadata": {},
   "source": [
    "# Return to Hold Out Group and Cluster based on Unsupervised Features"
   ]
  },
  {
   "cell_type": "code",
   "execution_count": 220,
   "metadata": {},
   "outputs": [
    {
     "name": "stdout",
     "output_type": "stream",
     "text": [
      "Comparing K-Means Clusters to Authors:\n",
      "col_0         0  1  2   3   4   5  6   7  8  9\n",
      "text_source                                   \n",
      "Austen       19  4  0   3   3   5  2  12  2  2\n",
      "Blake        21  2  4   2   0   4  2  17  0  2\n",
      "Bryant       13  0  3  18   1   3  5  10  0  2\n",
      "Burgess      18  1  0   4   2  13  0   6  3  1\n",
      "Carroll      10  1  0   7  11   3  2   8  0  3\n",
      "Chesterton   28  1  0   2   1   0  2   6  8  0\n",
      "Edgeworth    17  7  1   8   3   7  0   7  0  0\n",
      "Melville     27  2  4   1   1   1  0  18  0  0\n",
      "Milton       24  2  0   0   1   2  2  15  0  1\n",
      "Whitman      19  2  0   0   0   5  4  17  0  0\n"
     ]
    }
   ],
   "source": [
    "#Declare and fit the model using 10 clusters for our 10 authors\n",
    "kmeans_pred = KMeans(n_clusters=10, random_state=42).fit_predict(X_test)\n",
    "\n",
    "#Print cross tab of data vs prediction\n",
    "print('Comparing K-Means Clusters to Authors:')\n",
    "print(pd.crosstab(y_test, kmeans_pred))"
   ]
  },
  {
   "cell_type": "code",
   "execution_count": 221,
   "metadata": {},
   "outputs": [
    {
     "data": {
      "image/png": "[encoded data removed]",
      "text/plain": [
       "<matplotlib.figure.Figure at 0x1a8e63db38>"
      ]
     },
     "metadata": {},
     "output_type": "display_data"
    }
   ],
   "source": [
    "#Show authors categorized by cluster\n",
    "prediction = pd.crosstab(kmeans_pred, y_test)\n",
    "prediction.plot(kind='bar', stacked=False, figsize=[20,5])\n",
    "plt.title('Authors Categorized by KMeans Clusters')\n",
    "plt.xlabel('Cluster')\n",
    "plt.ylabel('Count')\n",
    "plt.show()"
   ]
  },
  {
   "cell_type": "markdown",
   "metadata": {},
   "source": [
    "**Let's use some dimension reduction in order to improve our models (SVD)**"
   ]
  },
  {
   "cell_type": "code",
   "execution_count": 222,
   "metadata": {},
   "outputs": [],
   "source": [
    "#First, establish X and Y\n",
    "Y = tfidf_df['text_source']\n",
    "X = tfidf_df.drop(['text_sentence','text_source'], 1)\n",
    "\n",
    "X_train, X_test, y_train, y_test = train_test_split(X, \n",
    "                                                    Y,\n",
    "                                                    test_size=0.25,\n",
    "                                                    random_state=0)"
   ]
  },
  {
   "cell_type": "code",
   "execution_count": 223,
   "metadata": {},
   "outputs": [
    {
     "name": "stdout",
     "output_type": "stream",
     "text": [
      "Percent variance captured by 100 components: 29.934426057662456\n",
      "Percent variance captured by 200 components: 45.862676656142185\n",
      "Percent variance captured by 300 components: 57.66703426490386\n",
      "Percent variance captured by 400 components: 67.054548531374\n",
      "Percent variance captured by 500 components: 74.74036147192965\n",
      "Percent variance captured by 600 components: 81.12082249358788\n",
      "Percent variance captured by 700 components: 86.32470420316693\n",
      "Percent variance captured by 800 components: 90.5059454719052\n",
      "Percent variance captured by 900 components: 93.77616622780985\n",
      "Percent variance captured by 1000 components: 96.25794377788448\n",
      "Percent variance captured by 1100 components: 98.03804855636902\n",
      "Percent variance captured by 1200 components: 99.20493650835395\n",
      "Percent variance captured by 1300 components: 99.83302711116006\n",
      "Percent variance captured by 1400 components: 99.99999999999997\n",
      "Percent variance captured by 1500 components: 100.00000000000003\n",
      "Percent variance captured by 1600 components: 100.0\n",
      "Percent variance captured by 1700 components: 99.99999999999999\n",
      "Percent variance captured by 1800 components: 99.99999999999999\n",
      "Percent variance captured by 1900 components: 100.00000000000003\n",
      "Percent variance captured by 2000 components: 100.00000000000003\n",
      "Percent variance captured by 2100 components: 99.99999999999997\n",
      "Percent variance captured by 2200 components: 99.99999999999997\n",
      "Percent variance captured by 2300 components: 99.99999999999997\n"
     ]
    }
   ],
   "source": [
    "for i in range(100, 2400, 100):\n",
    "    svd = TruncatedSVD(i)\n",
    "    lsa = make_pipeline(svd, Normalizer(copy=False))\n",
    "    X_train_lsa = lsa.fit_transform(X_train)\n",
    "    variance_explained = svd.explained_variance_ratio_\n",
    "    total_variance = variance_explained.sum()\n",
    "    print(\"Percent variance captured by {} components: {}\".format(i, total_variance*100))"
   ]
  },
  {
   "cell_type": "markdown",
   "metadata": {},
   "source": [
    "**Based on the above, let's change our feature space to 500 (75% explained variance) and see if that impacts our clusters**"
   ]
  },
  {
   "cell_type": "code",
   "execution_count": 224,
   "metadata": {},
   "outputs": [],
   "source": [
    "svd = TruncatedSVD(500)\n",
    "lsa = make_pipeline(svd, Normalizer(copy=False))\n",
    "X_train_lsa = lsa.fit_transform(X_train)\n",
    "X_test_lsa = lsa.fit_transform(X_test)"
   ]
  },
  {
   "cell_type": "code",
   "execution_count": 225,
   "metadata": {},
   "outputs": [
    {
     "name": "stdout",
     "output_type": "stream",
     "text": [
      "Comparing K-Means Clusters to Authors:\n",
      "col_0        0   1  2   3   4  5  6  7   8   9\n",
      "text_source                                   \n",
      "Austen       3   1  1   4   5  0  2  2  20  14\n",
      "Blake        3   0  2  12   1  4  3  2  26   1\n",
      "Bryant       4   1  1   4  17  3  7  2  15   1\n",
      "Burgess      4  15  0   2   2  0  4  1  19   1\n",
      "Carroll      5   1  0   3   6  0  3  3  18   6\n",
      "Chesterton   6   0  2   2   3  0  1  0  23  11\n",
      "Edgeworth    5   4  0   4  13  1  2  0  14   7\n",
      "Melville     6   0  0   7   1  4  3  0  28   5\n",
      "Milton       6   0  2  11   2  0  2  1  23   0\n",
      "Whitman      5   1  3  12   1  0  3  0  20   2\n"
     ]
    }
   ],
   "source": [
    "#Declare and fit the model using 10 clusters for our 10 authors\n",
    "kmeans_pred = KMeans(n_clusters=10, random_state=42).fit_predict(X_test_lsa)\n",
    "\n",
    "#Print cross tab of data vs prediction\n",
    "print('Comparing K-Means Clusters to Authors:')\n",
    "\n",
    "prediction = pd.crosstab(y_test, kmeans_pred)\n",
    "print(prediction)"
   ]
  },
  {
   "cell_type": "code",
   "execution_count": 226,
   "metadata": {},
   "outputs": [
    {
     "data": {
      "image/png": "[encoded data removed]",
      "text/plain": [
       "<matplotlib.figure.Figure at 0x1a57089048>"
      ]
     },
     "metadata": {},
     "output_type": "display_data"
    }
   ],
   "source": [
    "#Show authors categorized by cluster\n",
    "prediction = pd.crosstab(kmeans_pred, y_test)\n",
    "prediction.plot(kind='bar', stacked=False, figsize=[20,5])\n",
    "plt.title('Authors Categorized by KMeans Clusters')\n",
    "plt.xlabel('Cluster')\n",
    "plt.ylabel('Count')\n",
    "plt.show()"
   ]
  },
  {
   "cell_type": "markdown",
   "metadata": {},
   "source": [
    "# Conclusion - Clustering vs. Supervised Models"
   ]
  },
  {
   "cell_type": "markdown",
   "metadata": {},
   "source": [
    "Overall, it seems that the supervised models were much better at classifying authors than the clustering methods. In particular, the Ridge Logistic Regression model performed consistently near 60% at a baseline of 10%. The best cluster I achieved was after using SVD to reduce demensionality. "
   ]
  }
 ],
 "metadata": {
  "kernelspec": {
   "display_name": "Python 3",
   "language": "python",
   "name": "python3"
  },
  "language_info": {
   "codemirror_mode": {
    "name": "ipython",
    "version": 3
   },
   "file_extension": ".py",
   "mimetype": "text/x-python",
   "name": "python",
   "nbconvert_exporter": "python",
   "pygments_lexer": "ipython3",
   "version": "3.6.4"
  }
 },
 "nbformat": 4,
 "nbformat_minor": 2
}
