{
 "cells": [
  {
   "cell_type": "markdown",
   "metadata": {},
   "source": [
    "# Using Scrapy to Scrape for Historical Baseball Statistics"
   ]
  },
  {
   "cell_type": "code",
   "execution_count": 1,
   "metadata": {},
   "outputs": [
    {
     "name": "stdout",
     "output_type": "stream",
     "text": [
      "Success!\n"
     ]
    }
   ],
   "source": [
    "import scrapy\n",
    "import re\n",
    "from scrapy.crawler import CrawlerProcess\n",
    "\n",
    "class BattingAvgSpider(scrapy.Spider):\n",
    "    # Naming the spider is important if you are running more than one spider of\n",
    "    # this class simultaneously.\n",
    "    name = \"batting_avg\"\n",
    "    \n",
    "    # URL(s) to start with.\n",
    "    start_urls = [\n",
    "        'http://www.espn.com/mlb/history/leaders',\n",
    "    ]\n",
    "\n",
    "    # Use XPath to parse the response we get.\n",
    "    def parse(self, response):\n",
    "        \n",
    "        # Iterate over every <article> element on the page.\n",
    "        for player_entry in response.xpath('//tr'):\n",
    "            \n",
    "            # Yield a dictionary with the values we want.\n",
    "            yield {\n",
    "                'name': player_entry.xpath('//td[2]/a/text()').extract_first(),\n",
    "                'years': player_entry.xpath('//td[3]/text()').extract_first(),\n",
    "                'games': player_entry.xpath('//td[4]/text()').extract_first(),\n",
    "                'at_bats': player_entry.xpath('//td[5]/text()').extract_first(),\n",
    "                'hits': player_entry.xpath('//td[7]/text()').extract_first(),\n",
    "                'rbi': player_entry.xpath('//td[11]/text()').extract_first()\n",
    "            }\n",
    "        # Get the URL of the previous page.\n",
    "        single_season = response.xpath('//*[@id=\"content\"]/div[2]/div/div/div[1]/text()[3]').extract_first()\n",
    "        \n",
    "        # Recursively call the spider to run on the next page, if it exists.\n",
    "        if single_season is not None:\n",
    "            single_season = response.urljoin(single_season)\n",
    "            # Request the next page and recursively parse it the same way we did above\n",
    "            yield scrapy.Request(single_season, callback=self.parse)\n",
    "\n",
    "# Tell the script how to run the crawler by passing in settings.\n",
    "# The new settings have to do with scraping etiquette.          \n",
    "process = CrawlerProcess({\n",
    "    'FEED_FORMAT': 'json',         # Store data in JSON format.\n",
    "    'FEED_URI': 'batting_avg.json',       # Name our storage file.\n",
    "    'LOG_ENABLED': False,          # Turn off logging for now.\n",
    "    'ROBOTSTXT_OBEY': True,\n",
    "    'USER_AGENT': 'ThinkfulDataScienceBootcampCrawler (thinkful.com)',\n",
    "    'AUTOTHROTTLE_ENABLED': True,\n",
    "    'HTTPCACHE_ENABLED': True\n",
    "})\n",
    "\n",
    "# Start the crawler with our spider.\n",
    "process.crawl(BattingAvgSpider)\n",
    "process.start()\n",
    "print('Success!')"
   ]
  },
  {
   "cell_type": "code",
   "execution_count": 2,
   "metadata": {},
   "outputs": [],
   "source": [
    "import pandas as pd\n",
    "batting_avg_df = pd.read_json('batting_avg.json', orient='records')"
   ]
  },
  {
   "cell_type": "code",
   "execution_count": 3,
   "metadata": {},
   "outputs": [
    {
     "data": {
      "text/html": [
       "<div>\n",
       "<style scoped>\n",
       "    .dataframe tbody tr th:only-of-type {\n",
       "        vertical-align: middle;\n",
       "    }\n",
       "\n",
       "    .dataframe tbody tr th {\n",
       "        vertical-align: top;\n",
       "    }\n",
       "\n",
       "    .dataframe thead th {\n",
       "        text-align: right;\n",
       "    }\n",
       "</style>\n",
       "<table border=\"1\" class=\"dataframe\">\n",
       "  <thead>\n",
       "    <tr style=\"text-align: right;\">\n",
       "      <th></th>\n",
       "      <th>at_bats</th>\n",
       "      <th>games</th>\n",
       "      <th>hits</th>\n",
       "      <th>name</th>\n",
       "      <th>rank</th>\n",
       "      <th>rbi</th>\n",
       "      <th>years</th>\n",
       "    </tr>\n",
       "  </thead>\n",
       "  <tbody>\n",
       "    <tr>\n",
       "      <th>0</th>\n",
       "      <td>11434</td>\n",
       "      <td>3035</td>\n",
       "      <td>4189</td>\n",
       "      <td>Ty Cobb</td>\n",
       "      <td>MLB Career Batting Leaders - Batting Average</td>\n",
       "      <td>726</td>\n",
       "      <td>YRS</td>\n",
       "    </tr>\n",
       "    <tr>\n",
       "      <th>1</th>\n",
       "      <td>11434</td>\n",
       "      <td>3035</td>\n",
       "      <td>4189</td>\n",
       "      <td>Ty Cobb</td>\n",
       "      <td>MLB Career Batting Leaders - Batting Average</td>\n",
       "      <td>726</td>\n",
       "      <td>YRS</td>\n",
       "    </tr>\n",
       "    <tr>\n",
       "      <th>2</th>\n",
       "      <td>11434</td>\n",
       "      <td>3035</td>\n",
       "      <td>4189</td>\n",
       "      <td>Ty Cobb</td>\n",
       "      <td>MLB Career Batting Leaders - Batting Average</td>\n",
       "      <td>726</td>\n",
       "      <td>YRS</td>\n",
       "    </tr>\n",
       "    <tr>\n",
       "      <th>3</th>\n",
       "      <td>11434</td>\n",
       "      <td>3035</td>\n",
       "      <td>4189</td>\n",
       "      <td>Ty Cobb</td>\n",
       "      <td>MLB Career Batting Leaders - Batting Average</td>\n",
       "      <td>726</td>\n",
       "      <td>YRS</td>\n",
       "    </tr>\n",
       "    <tr>\n",
       "      <th>4</th>\n",
       "      <td>11434</td>\n",
       "      <td>3035</td>\n",
       "      <td>4189</td>\n",
       "      <td>Ty Cobb</td>\n",
       "      <td>MLB Career Batting Leaders - Batting Average</td>\n",
       "      <td>726</td>\n",
       "      <td>YRS</td>\n",
       "    </tr>\n",
       "  </tbody>\n",
       "</table>\n",
       "</div>"
      ],
      "text/plain": [
       "   at_bats  games  hits     name  \\\n",
       "0    11434   3035  4189  Ty Cobb   \n",
       "1    11434   3035  4189  Ty Cobb   \n",
       "2    11434   3035  4189  Ty Cobb   \n",
       "3    11434   3035  4189  Ty Cobb   \n",
       "4    11434   3035  4189  Ty Cobb   \n",
       "\n",
       "                                           rank  rbi years  \n",
       "0  MLB Career Batting Leaders - Batting Average  726   YRS  \n",
       "1  MLB Career Batting Leaders - Batting Average  726   YRS  \n",
       "2  MLB Career Batting Leaders - Batting Average  726   YRS  \n",
       "3  MLB Career Batting Leaders - Batting Average  726   YRS  \n",
       "4  MLB Career Batting Leaders - Batting Average  726   YRS  "
      ]
     },
     "execution_count": 3,
     "metadata": {},
     "output_type": "execute_result"
    }
   ],
   "source": [
    "batting_avg_df.head(5)"
   ]
  },
  {
   "cell_type": "code",
   "execution_count": null,
   "metadata": {},
   "outputs": [],
   "source": []
  }
 ],
 "metadata": {
  "kernelspec": {
   "display_name": "Python 3",
   "language": "python",
   "name": "python3"
  },
  "language_info": {
   "codemirror_mode": {
    "name": "ipython",
    "version": 3
   },
   "file_extension": ".py",
   "mimetype": "text/x-python",
   "name": "python",
   "nbconvert_exporter": "python",
   "pygments_lexer": "ipython3",
   "version": "3.6.4"
  }
 },
 "nbformat": 4,
 "nbformat_minor": 2
}
