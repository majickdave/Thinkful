{
 "cells": [
  {
   "cell_type": "code",
   "execution_count": 691,
   "metadata": {},
   "outputs": [],
   "source": [
    "import math\n",
    "import warnings\n",
    "\n",
    "from IPython.display import display\n",
    "from matplotlib import pyplot as plt\n",
    "import numpy as np\n",
    "import pandas as pd\n",
    "import seaborn as sns\n",
    "from sklearn import linear_model\n",
    "import statsmodels.formula.api as smf\n",
    "from statsmodels.sandbox.regression.predstd import wls_prediction_std\n",
    "\n",
    "# Display preferences.\n",
    "%matplotlib inline\n",
    "pd.options.display.float_format = '{:.3f}'.format\n",
    "\n",
    "# Suppress annoying harmless error.\n",
    "warnings.filterwarnings(\n",
    "    action=\"ignore\",\n",
    "    module=\"scipy\",\n",
    "    message=\"^internal gelsd\")"
   ]
  },
  {
   "cell_type": "code",
   "execution_count": 692,
   "metadata": {},
   "outputs": [],
   "source": [
    "nyc_crime_raw = pd.read_csv('https://raw.githubusercontent.com/Thinkful-Ed/data-201-resources/master/New_York_offenses/NEW_YORK-Offenses_Known_to_Law_Enforcement_by_City_2013%20-%2013tbl8ny.csv')"
   ]
  },
  {
   "cell_type": "code",
   "execution_count": 693,
   "metadata": {},
   "outputs": [
    {
     "data": {
      "text/html": [
       "<div>\n",
       "<style scoped>\n",
       "    .dataframe tbody tr th:only-of-type {\n",
       "        vertical-align: middle;\n",
       "    }\n",
       "\n",
       "    .dataframe tbody tr th {\n",
       "        vertical-align: top;\n",
       "    }\n",
       "\n",
       "    .dataframe thead th {\n",
       "        text-align: right;\n",
       "    }\n",
       "</style>\n",
       "<table border=\"1\" class=\"dataframe\">\n",
       "  <thead>\n",
       "    <tr style=\"text-align: right;\">\n",
       "      <th></th>\n",
       "      <th>Table 8</th>\n",
       "      <th>Unnamed: 1</th>\n",
       "      <th>Unnamed: 2</th>\n",
       "      <th>Unnamed: 3</th>\n",
       "      <th>Unnamed: 4</th>\n",
       "      <th>Unnamed: 5</th>\n",
       "      <th>Unnamed: 6</th>\n",
       "      <th>Unnamed: 7</th>\n",
       "      <th>Unnamed: 8</th>\n",
       "      <th>Unnamed: 9</th>\n",
       "      <th>Unnamed: 10</th>\n",
       "      <th>Unnamed: 11</th>\n",
       "      <th>Unnamed: 12</th>\n",
       "    </tr>\n",
       "  </thead>\n",
       "  <tbody>\n",
       "    <tr>\n",
       "      <th>0</th>\n",
       "      <td>NEW YORK</td>\n",
       "      <td>NaN</td>\n",
       "      <td>NaN</td>\n",
       "      <td>NaN</td>\n",
       "      <td>NaN</td>\n",
       "      <td>NaN</td>\n",
       "      <td>NaN</td>\n",
       "      <td>NaN</td>\n",
       "      <td>NaN</td>\n",
       "      <td>NaN</td>\n",
       "      <td>NaN</td>\n",
       "      <td>NaN</td>\n",
       "      <td>NaN</td>\n",
       "    </tr>\n",
       "    <tr>\n",
       "      <th>1</th>\n",
       "      <td>Offenses Known to Law Enforcement</td>\n",
       "      <td>NaN</td>\n",
       "      <td>NaN</td>\n",
       "      <td>NaN</td>\n",
       "      <td>NaN</td>\n",
       "      <td></td>\n",
       "      <td>NaN</td>\n",
       "      <td>NaN</td>\n",
       "      <td>NaN</td>\n",
       "      <td>NaN</td>\n",
       "      <td>NaN</td>\n",
       "      <td>NaN</td>\n",
       "      <td>NaN</td>\n",
       "    </tr>\n",
       "    <tr>\n",
       "      <th>2</th>\n",
       "      <td>by City, 2013</td>\n",
       "      <td>NaN</td>\n",
       "      <td>NaN</td>\n",
       "      <td>NaN</td>\n",
       "      <td>NaN</td>\n",
       "      <td>NaN</td>\n",
       "      <td>NaN</td>\n",
       "      <td>NaN</td>\n",
       "      <td>NaN</td>\n",
       "      <td>NaN</td>\n",
       "      <td>NaN</td>\n",
       "      <td>NaN</td>\n",
       "      <td>NaN</td>\n",
       "    </tr>\n",
       "    <tr>\n",
       "      <th>3</th>\n",
       "      <td>City</td>\n",
       "      <td>Population</td>\n",
       "      <td>Violent\\ncrime</td>\n",
       "      <td>Murder and\\nnonnegligent\\nmanslaughter</td>\n",
       "      <td>Rape\\n(revised\\ndefinition)1</td>\n",
       "      <td>Rape\\n(legacy\\ndefinition)2</td>\n",
       "      <td>Robbery</td>\n",
       "      <td>Aggravated\\nassault</td>\n",
       "      <td>Property\\ncrime</td>\n",
       "      <td>Burglary</td>\n",
       "      <td>Larceny-\\ntheft</td>\n",
       "      <td>Motor\\nvehicle\\ntheft</td>\n",
       "      <td>Arson3</td>\n",
       "    </tr>\n",
       "    <tr>\n",
       "      <th>4</th>\n",
       "      <td>Adams Village</td>\n",
       "      <td>1,861</td>\n",
       "      <td>0</td>\n",
       "      <td>0</td>\n",
       "      <td>NaN</td>\n",
       "      <td>0</td>\n",
       "      <td>0</td>\n",
       "      <td>0</td>\n",
       "      <td>12</td>\n",
       "      <td>2</td>\n",
       "      <td>10</td>\n",
       "      <td>0</td>\n",
       "      <td>0</td>\n",
       "    </tr>\n",
       "  </tbody>\n",
       "</table>\n",
       "</div>"
      ],
      "text/plain": [
       "                             Table 8  Unnamed: 1      Unnamed: 2  \\\n",
       "0                           NEW YORK         NaN             NaN   \n",
       "1  Offenses Known to Law Enforcement         NaN             NaN   \n",
       "2                      by City, 2013         NaN             NaN   \n",
       "3                               City  Population  Violent\\ncrime   \n",
       "4                      Adams Village       1,861               0   \n",
       "\n",
       "                               Unnamed: 3                    Unnamed: 4  \\\n",
       "0                                     NaN                           NaN   \n",
       "1                                     NaN                           NaN   \n",
       "2                                     NaN                           NaN   \n",
       "3  Murder and\\nnonnegligent\\nmanslaughter  Rape\\n(revised\\ndefinition)1   \n",
       "4                                       0                           NaN   \n",
       "\n",
       "                    Unnamed: 5 Unnamed: 6           Unnamed: 7  \\\n",
       "0                          NaN        NaN                  NaN   \n",
       "1                                     NaN                  NaN   \n",
       "2                          NaN        NaN                  NaN   \n",
       "3  Rape\\n(legacy\\ndefinition)2    Robbery  Aggravated\\nassault   \n",
       "4                            0          0                    0   \n",
       "\n",
       "        Unnamed: 8 Unnamed: 9      Unnamed: 10            Unnamed: 11  \\\n",
       "0              NaN        NaN              NaN                    NaN   \n",
       "1              NaN        NaN              NaN                    NaN   \n",
       "2              NaN        NaN              NaN                    NaN   \n",
       "3  Property\\ncrime   Burglary  Larceny-\\ntheft  Motor\\nvehicle\\ntheft   \n",
       "4               12          2               10                      0   \n",
       "\n",
       "  Unnamed: 12  \n",
       "0         NaN  \n",
       "1         NaN  \n",
       "2         NaN  \n",
       "3      Arson3  \n",
       "4           0  "
      ]
     },
     "execution_count": 693,
     "metadata": {},
     "output_type": "execute_result"
    }
   ],
   "source": [
    "nyc_crime_raw.head(5)"
   ]
  },
  {
   "cell_type": "code",
   "execution_count": 694,
   "metadata": {},
   "outputs": [],
   "source": [
    "#Looks like there was descriptive text at the top of the file and the actual columns are seen in row 3 above.\n",
    "#First rename the columns\n",
    "\n",
    "nyc_crime_raw.columns = ['City', 'Population', 'ViolentCrime', 'Murder', 'Rape1', 'Rape2', 'Robbery', \n",
    "                     'AggravatedAssault', 'PropertyCrime', 'Burglary', 'LarcenyTheft', 'MotorVehicleTheft',\n",
    "                    'Arson']"
   ]
  },
  {
   "cell_type": "code",
   "execution_count": 695,
   "metadata": {},
   "outputs": [
    {
     "data": {
      "text/html": [
       "<div>\n",
       "<style scoped>\n",
       "    .dataframe tbody tr th:only-of-type {\n",
       "        vertical-align: middle;\n",
       "    }\n",
       "\n",
       "    .dataframe tbody tr th {\n",
       "        vertical-align: top;\n",
       "    }\n",
       "\n",
       "    .dataframe thead th {\n",
       "        text-align: right;\n",
       "    }\n",
       "</style>\n",
       "<table border=\"1\" class=\"dataframe\">\n",
       "  <thead>\n",
       "    <tr style=\"text-align: right;\">\n",
       "      <th></th>\n",
       "      <th>City</th>\n",
       "      <th>Population</th>\n",
       "      <th>ViolentCrime</th>\n",
       "      <th>Murder</th>\n",
       "      <th>Rape1</th>\n",
       "      <th>Rape2</th>\n",
       "      <th>Robbery</th>\n",
       "      <th>AggravatedAssault</th>\n",
       "      <th>PropertyCrime</th>\n",
       "      <th>Burglary</th>\n",
       "      <th>LarcenyTheft</th>\n",
       "      <th>MotorVehicleTheft</th>\n",
       "      <th>Arson</th>\n",
       "    </tr>\n",
       "  </thead>\n",
       "  <tbody>\n",
       "    <tr>\n",
       "      <th>0</th>\n",
       "      <td>NEW YORK</td>\n",
       "      <td>NaN</td>\n",
       "      <td>NaN</td>\n",
       "      <td>NaN</td>\n",
       "      <td>NaN</td>\n",
       "      <td>NaN</td>\n",
       "      <td>NaN</td>\n",
       "      <td>NaN</td>\n",
       "      <td>NaN</td>\n",
       "      <td>NaN</td>\n",
       "      <td>NaN</td>\n",
       "      <td>NaN</td>\n",
       "      <td>NaN</td>\n",
       "    </tr>\n",
       "    <tr>\n",
       "      <th>1</th>\n",
       "      <td>Offenses Known to Law Enforcement</td>\n",
       "      <td>NaN</td>\n",
       "      <td>NaN</td>\n",
       "      <td>NaN</td>\n",
       "      <td>NaN</td>\n",
       "      <td></td>\n",
       "      <td>NaN</td>\n",
       "      <td>NaN</td>\n",
       "      <td>NaN</td>\n",
       "      <td>NaN</td>\n",
       "      <td>NaN</td>\n",
       "      <td>NaN</td>\n",
       "      <td>NaN</td>\n",
       "    </tr>\n",
       "    <tr>\n",
       "      <th>2</th>\n",
       "      <td>by City, 2013</td>\n",
       "      <td>NaN</td>\n",
       "      <td>NaN</td>\n",
       "      <td>NaN</td>\n",
       "      <td>NaN</td>\n",
       "      <td>NaN</td>\n",
       "      <td>NaN</td>\n",
       "      <td>NaN</td>\n",
       "      <td>NaN</td>\n",
       "      <td>NaN</td>\n",
       "      <td>NaN</td>\n",
       "      <td>NaN</td>\n",
       "      <td>NaN</td>\n",
       "    </tr>\n",
       "    <tr>\n",
       "      <th>3</th>\n",
       "      <td>City</td>\n",
       "      <td>Population</td>\n",
       "      <td>Violent\\ncrime</td>\n",
       "      <td>Murder and\\nnonnegligent\\nmanslaughter</td>\n",
       "      <td>Rape\\n(revised\\ndefinition)1</td>\n",
       "      <td>Rape\\n(legacy\\ndefinition)2</td>\n",
       "      <td>Robbery</td>\n",
       "      <td>Aggravated\\nassault</td>\n",
       "      <td>Property\\ncrime</td>\n",
       "      <td>Burglary</td>\n",
       "      <td>Larceny-\\ntheft</td>\n",
       "      <td>Motor\\nvehicle\\ntheft</td>\n",
       "      <td>Arson3</td>\n",
       "    </tr>\n",
       "    <tr>\n",
       "      <th>4</th>\n",
       "      <td>Adams Village</td>\n",
       "      <td>1,861</td>\n",
       "      <td>0</td>\n",
       "      <td>0</td>\n",
       "      <td>NaN</td>\n",
       "      <td>0</td>\n",
       "      <td>0</td>\n",
       "      <td>0</td>\n",
       "      <td>12</td>\n",
       "      <td>2</td>\n",
       "      <td>10</td>\n",
       "      <td>0</td>\n",
       "      <td>0</td>\n",
       "    </tr>\n",
       "  </tbody>\n",
       "</table>\n",
       "</div>"
      ],
      "text/plain": [
       "                                City  Population    ViolentCrime  \\\n",
       "0                           NEW YORK         NaN             NaN   \n",
       "1  Offenses Known to Law Enforcement         NaN             NaN   \n",
       "2                      by City, 2013         NaN             NaN   \n",
       "3                               City  Population  Violent\\ncrime   \n",
       "4                      Adams Village       1,861               0   \n",
       "\n",
       "                                   Murder                         Rape1  \\\n",
       "0                                     NaN                           NaN   \n",
       "1                                     NaN                           NaN   \n",
       "2                                     NaN                           NaN   \n",
       "3  Murder and\\nnonnegligent\\nmanslaughter  Rape\\n(revised\\ndefinition)1   \n",
       "4                                       0                           NaN   \n",
       "\n",
       "                         Rape2  Robbery    AggravatedAssault    PropertyCrime  \\\n",
       "0                          NaN      NaN                  NaN              NaN   \n",
       "1                                   NaN                  NaN              NaN   \n",
       "2                          NaN      NaN                  NaN              NaN   \n",
       "3  Rape\\n(legacy\\ndefinition)2  Robbery  Aggravated\\nassault  Property\\ncrime   \n",
       "4                            0        0                    0               12   \n",
       "\n",
       "   Burglary     LarcenyTheft      MotorVehicleTheft   Arson  \n",
       "0       NaN              NaN                    NaN     NaN  \n",
       "1       NaN              NaN                    NaN     NaN  \n",
       "2       NaN              NaN                    NaN     NaN  \n",
       "3  Burglary  Larceny-\\ntheft  Motor\\nvehicle\\ntheft  Arson3  \n",
       "4         2               10                      0       0  "
      ]
     },
     "execution_count": 695,
     "metadata": {},
     "output_type": "execute_result"
    }
   ],
   "source": [
    "#Confirm the new columns are persisted\n",
    "\n",
    "nyc_crime_raw.head(5)"
   ]
  },
  {
   "cell_type": "code",
   "execution_count": 696,
   "metadata": {},
   "outputs": [],
   "source": [
    "#Now drop superfluous rows\n",
    "\n",
    "nyc_crime = nyc_crime_raw.iloc[4:]\n",
    "\n",
    "#Create a copy for later\n",
    "nyc_crime_original = nyc_crime_raw.iloc[4:]"
   ]
  },
  {
   "cell_type": "code",
   "execution_count": 697,
   "metadata": {},
   "outputs": [
    {
     "data": {
      "text/html": [
       "<div>\n",
       "<style scoped>\n",
       "    .dataframe tbody tr th:only-of-type {\n",
       "        vertical-align: middle;\n",
       "    }\n",
       "\n",
       "    .dataframe tbody tr th {\n",
       "        vertical-align: top;\n",
       "    }\n",
       "\n",
       "    .dataframe thead th {\n",
       "        text-align: right;\n",
       "    }\n",
       "</style>\n",
       "<table border=\"1\" class=\"dataframe\">\n",
       "  <thead>\n",
       "    <tr style=\"text-align: right;\">\n",
       "      <th></th>\n",
       "      <th>City</th>\n",
       "      <th>Population</th>\n",
       "      <th>ViolentCrime</th>\n",
       "      <th>Murder</th>\n",
       "      <th>Rape1</th>\n",
       "      <th>Rape2</th>\n",
       "      <th>Robbery</th>\n",
       "      <th>AggravatedAssault</th>\n",
       "      <th>PropertyCrime</th>\n",
       "      <th>Burglary</th>\n",
       "      <th>LarcenyTheft</th>\n",
       "      <th>MotorVehicleTheft</th>\n",
       "      <th>Arson</th>\n",
       "    </tr>\n",
       "  </thead>\n",
       "  <tbody>\n",
       "    <tr>\n",
       "      <th>4</th>\n",
       "      <td>Adams Village</td>\n",
       "      <td>1,861</td>\n",
       "      <td>0</td>\n",
       "      <td>0</td>\n",
       "      <td>NaN</td>\n",
       "      <td>0</td>\n",
       "      <td>0</td>\n",
       "      <td>0</td>\n",
       "      <td>12</td>\n",
       "      <td>2</td>\n",
       "      <td>10</td>\n",
       "      <td>0</td>\n",
       "      <td>0</td>\n",
       "    </tr>\n",
       "    <tr>\n",
       "      <th>5</th>\n",
       "      <td>Addison Town and Village</td>\n",
       "      <td>2,577</td>\n",
       "      <td>3</td>\n",
       "      <td>0</td>\n",
       "      <td>NaN</td>\n",
       "      <td>0</td>\n",
       "      <td>0</td>\n",
       "      <td>3</td>\n",
       "      <td>24</td>\n",
       "      <td>3</td>\n",
       "      <td>20</td>\n",
       "      <td>1</td>\n",
       "      <td>0</td>\n",
       "    </tr>\n",
       "    <tr>\n",
       "      <th>6</th>\n",
       "      <td>Akron Village</td>\n",
       "      <td>2,846</td>\n",
       "      <td>3</td>\n",
       "      <td>0</td>\n",
       "      <td>NaN</td>\n",
       "      <td>0</td>\n",
       "      <td>0</td>\n",
       "      <td>3</td>\n",
       "      <td>16</td>\n",
       "      <td>1</td>\n",
       "      <td>15</td>\n",
       "      <td>0</td>\n",
       "      <td>0</td>\n",
       "    </tr>\n",
       "    <tr>\n",
       "      <th>7</th>\n",
       "      <td>Albany</td>\n",
       "      <td>97,956</td>\n",
       "      <td>791</td>\n",
       "      <td>8</td>\n",
       "      <td>NaN</td>\n",
       "      <td>30</td>\n",
       "      <td>227</td>\n",
       "      <td>526</td>\n",
       "      <td>4,090</td>\n",
       "      <td>705</td>\n",
       "      <td>3,243</td>\n",
       "      <td>142</td>\n",
       "      <td>NaN</td>\n",
       "    </tr>\n",
       "    <tr>\n",
       "      <th>8</th>\n",
       "      <td>Albion Village</td>\n",
       "      <td>6,388</td>\n",
       "      <td>23</td>\n",
       "      <td>0</td>\n",
       "      <td>NaN</td>\n",
       "      <td>3</td>\n",
       "      <td>4</td>\n",
       "      <td>16</td>\n",
       "      <td>223</td>\n",
       "      <td>53</td>\n",
       "      <td>165</td>\n",
       "      <td>5</td>\n",
       "      <td>NaN</td>\n",
       "    </tr>\n",
       "  </tbody>\n",
       "</table>\n",
       "</div>"
      ],
      "text/plain": [
       "                       City Population ViolentCrime Murder Rape1 Rape2  \\\n",
       "4             Adams Village      1,861            0      0   NaN     0   \n",
       "5  Addison Town and Village      2,577            3      0   NaN     0   \n",
       "6             Akron Village      2,846            3      0   NaN     0   \n",
       "7                    Albany     97,956          791      8   NaN    30   \n",
       "8            Albion Village      6,388           23      0   NaN     3   \n",
       "\n",
       "  Robbery AggravatedAssault PropertyCrime Burglary LarcenyTheft  \\\n",
       "4       0                 0            12        2           10   \n",
       "5       0                 3            24        3           20   \n",
       "6       0                 3            16        1           15   \n",
       "7     227               526         4,090      705        3,243   \n",
       "8       4                16           223       53          165   \n",
       "\n",
       "  MotorVehicleTheft Arson  \n",
       "4                 0     0  \n",
       "5                 1     0  \n",
       "6                 0     0  \n",
       "7               142   NaN  \n",
       "8                 5   NaN  "
      ]
     },
     "execution_count": 697,
     "metadata": {},
     "output_type": "execute_result"
    }
   ],
   "source": [
    "#Confirm row drop worked\n",
    "\n",
    "nyc_crime.head(5)"
   ]
  },
  {
   "cell_type": "code",
   "execution_count": 698,
   "metadata": {},
   "outputs": [
    {
     "data": {
      "text/html": [
       "<div>\n",
       "<style scoped>\n",
       "    .dataframe tbody tr th:only-of-type {\n",
       "        vertical-align: middle;\n",
       "    }\n",
       "\n",
       "    .dataframe tbody tr th {\n",
       "        vertical-align: top;\n",
       "    }\n",
       "\n",
       "    .dataframe thead th {\n",
       "        text-align: right;\n",
       "    }\n",
       "</style>\n",
       "<table border=\"1\" class=\"dataframe\">\n",
       "  <thead>\n",
       "    <tr style=\"text-align: right;\">\n",
       "      <th></th>\n",
       "      <th>City</th>\n",
       "      <th>Population</th>\n",
       "      <th>ViolentCrime</th>\n",
       "      <th>Murder</th>\n",
       "      <th>Rape1</th>\n",
       "      <th>Rape2</th>\n",
       "      <th>Robbery</th>\n",
       "      <th>AggravatedAssault</th>\n",
       "      <th>PropertyCrime</th>\n",
       "      <th>Burglary</th>\n",
       "      <th>LarcenyTheft</th>\n",
       "      <th>MotorVehicleTheft</th>\n",
       "      <th>Arson</th>\n",
       "    </tr>\n",
       "  </thead>\n",
       "  <tbody>\n",
       "    <tr>\n",
       "      <th>count</th>\n",
       "      <td>351</td>\n",
       "      <td>348</td>\n",
       "      <td>348</td>\n",
       "      <td>348</td>\n",
       "      <td>0.000</td>\n",
       "      <td>348</td>\n",
       "      <td>348</td>\n",
       "      <td>348</td>\n",
       "      <td>348</td>\n",
       "      <td>348</td>\n",
       "      <td>348</td>\n",
       "      <td>348</td>\n",
       "      <td>187</td>\n",
       "    </tr>\n",
       "    <tr>\n",
       "      <th>unique</th>\n",
       "      <td>351</td>\n",
       "      <td>347</td>\n",
       "      <td>82</td>\n",
       "      <td>14</td>\n",
       "      <td>0.000</td>\n",
       "      <td>26</td>\n",
       "      <td>51</td>\n",
       "      <td>69</td>\n",
       "      <td>239</td>\n",
       "      <td>124</td>\n",
       "      <td>232</td>\n",
       "      <td>51</td>\n",
       "      <td>13</td>\n",
       "    </tr>\n",
       "    <tr>\n",
       "      <th>top</th>\n",
       "      <td>Guilderland Town</td>\n",
       "      <td>9,517</td>\n",
       "      <td>0</td>\n",
       "      <td>0</td>\n",
       "      <td>nan</td>\n",
       "      <td>0</td>\n",
       "      <td>0</td>\n",
       "      <td>0</td>\n",
       "      <td>0</td>\n",
       "      <td>0</td>\n",
       "      <td>0</td>\n",
       "      <td>0</td>\n",
       "      <td>0</td>\n",
       "    </tr>\n",
       "    <tr>\n",
       "      <th>freq</th>\n",
       "      <td>1</td>\n",
       "      <td>2</td>\n",
       "      <td>51</td>\n",
       "      <td>299</td>\n",
       "      <td>nan</td>\n",
       "      <td>204</td>\n",
       "      <td>139</td>\n",
       "      <td>66</td>\n",
       "      <td>6</td>\n",
       "      <td>21</td>\n",
       "      <td>7</td>\n",
       "      <td>93</td>\n",
       "      <td>133</td>\n",
       "    </tr>\n",
       "  </tbody>\n",
       "</table>\n",
       "</div>"
      ],
      "text/plain": [
       "                    City Population ViolentCrime Murder  Rape1 Rape2 Robbery  \\\n",
       "count                351        348          348    348  0.000   348     348   \n",
       "unique               351        347           82     14  0.000    26      51   \n",
       "top     Guilderland Town      9,517            0      0    nan     0       0   \n",
       "freq                   1          2           51    299    nan   204     139   \n",
       "\n",
       "       AggravatedAssault PropertyCrime Burglary LarcenyTheft  \\\n",
       "count                348           348      348          348   \n",
       "unique                69           239      124          232   \n",
       "top                    0             0        0            0   \n",
       "freq                  66             6       21            7   \n",
       "\n",
       "       MotorVehicleTheft Arson  \n",
       "count                348   187  \n",
       "unique                51    13  \n",
       "top                    0     0  \n",
       "freq                  93   133  "
      ]
     },
     "execution_count": 698,
     "metadata": {},
     "output_type": "execute_result"
    }
   ],
   "source": [
    "#Describe the DataFrame\n",
    "\n",
    "nyc_crime.describe()"
   ]
  },
  {
   "cell_type": "code",
   "execution_count": 699,
   "metadata": {},
   "outputs": [
    {
     "data": {
      "text/plain": [
       "(351, 13)"
      ]
     },
     "execution_count": 699,
     "metadata": {},
     "output_type": "execute_result"
    }
   ],
   "source": [
    "nyc_crime.shape"
   ]
  },
  {
   "cell_type": "code",
   "execution_count": 700,
   "metadata": {},
   "outputs": [
    {
     "name": "stdout",
     "output_type": "stream",
     "text": [
      "City                   0\n",
      "Population             3\n",
      "ViolentCrime           3\n",
      "Murder                 3\n",
      "Rape1                351\n",
      "Rape2                  3\n",
      "Robbery                3\n",
      "AggravatedAssault      3\n",
      "PropertyCrime          3\n",
      "Burglary               3\n",
      "LarcenyTheft           3\n",
      "MotorVehicleTheft      3\n",
      "Arson                164\n",
      "dtype: int64\n"
     ]
    }
   ],
   "source": [
    "#Now that we know we have 351 observations across 13 columns, let's Find NaN's by column\n",
    "\n",
    "missing_values_count = nyc_crime.isnull().sum()\n",
    "print(missing_values_count)"
   ]
  },
  {
   "cell_type": "code",
   "execution_count": 701,
   "metadata": {},
   "outputs": [],
   "source": [
    "#Drop NaN's in the columns we care most about\n",
    "\n",
    "nyc_crime = nyc_crime.dropna(subset=['Population', 'Murder', 'Robbery', 'PropertyCrime'])"
   ]
  },
  {
   "cell_type": "code",
   "execution_count": 702,
   "metadata": {},
   "outputs": [],
   "source": [
    "#Rename 'Rape2' to just 'Rape'\n",
    "\n",
    "#Disable warning when making changes on a slice of original dataframe\n",
    "pd.options.mode.chained_assignment = None\n",
    "\n",
    "nyc_crime.rename(columns={'Rape2': 'Rape'}, inplace=True)"
   ]
  },
  {
   "cell_type": "code",
   "execution_count": 703,
   "metadata": {},
   "outputs": [],
   "source": [
    "#Drop Rape1 since it contains no data\n",
    "\n",
    "nyc_crime.drop(columns=['Rape1'], inplace=True)"
   ]
  },
  {
   "cell_type": "markdown",
   "metadata": {},
   "source": [
    "### Now that data is clean, begin creating/converting features for Population Squared, Murder and Robbery"
   ]
  },
  {
   "cell_type": "code",
   "execution_count": 704,
   "metadata": {},
   "outputs": [],
   "source": [
    "#To create population squared feature, first remove commas from amounts\n",
    "nyc_crime['Population'] = nyc_crime['Population'].str.replace(',', '')"
   ]
  },
  {
   "cell_type": "code",
   "execution_count": 705,
   "metadata": {},
   "outputs": [],
   "source": [
    "#Next, convert column from string to int\n",
    "\n",
    "nyc_crime['Population'] = nyc_crime['Population'].astype(int)"
   ]
  },
  {
   "cell_type": "code",
   "execution_count": 706,
   "metadata": {},
   "outputs": [],
   "source": [
    "#Now we can create our new feature!\n",
    "\n",
    "nyc_crime['PopulationSquared'] = nyc_crime['Population']**2"
   ]
  },
  {
   "cell_type": "code",
   "execution_count": 707,
   "metadata": {},
   "outputs": [
    {
     "data": {
      "text/html": [
       "<div>\n",
       "<style scoped>\n",
       "    .dataframe tbody tr th:only-of-type {\n",
       "        vertical-align: middle;\n",
       "    }\n",
       "\n",
       "    .dataframe tbody tr th {\n",
       "        vertical-align: top;\n",
       "    }\n",
       "\n",
       "    .dataframe thead th {\n",
       "        text-align: right;\n",
       "    }\n",
       "</style>\n",
       "<table border=\"1\" class=\"dataframe\">\n",
       "  <thead>\n",
       "    <tr style=\"text-align: right;\">\n",
       "      <th></th>\n",
       "      <th>Population</th>\n",
       "      <th>PopulationSquared</th>\n",
       "    </tr>\n",
       "  </thead>\n",
       "  <tbody>\n",
       "    <tr>\n",
       "      <th>4</th>\n",
       "      <td>1861</td>\n",
       "      <td>3463321</td>\n",
       "    </tr>\n",
       "    <tr>\n",
       "      <th>5</th>\n",
       "      <td>2577</td>\n",
       "      <td>6640929</td>\n",
       "    </tr>\n",
       "    <tr>\n",
       "      <th>6</th>\n",
       "      <td>2846</td>\n",
       "      <td>8099716</td>\n",
       "    </tr>\n",
       "    <tr>\n",
       "      <th>7</th>\n",
       "      <td>97956</td>\n",
       "      <td>9595377936</td>\n",
       "    </tr>\n",
       "    <tr>\n",
       "      <th>8</th>\n",
       "      <td>6388</td>\n",
       "      <td>40806544</td>\n",
       "    </tr>\n",
       "  </tbody>\n",
       "</table>\n",
       "</div>"
      ],
      "text/plain": [
       "   Population  PopulationSquared\n",
       "4        1861            3463321\n",
       "5        2577            6640929\n",
       "6        2846            8099716\n",
       "7       97956         9595377936\n",
       "8        6388           40806544"
      ]
     },
     "execution_count": 707,
     "metadata": {},
     "output_type": "execute_result"
    }
   ],
   "source": [
    "#Confirm this worked\n",
    "\n",
    "nyc_crime[['Population', 'PopulationSquared']].head(5)"
   ]
  },
  {
   "cell_type": "code",
   "execution_count": 708,
   "metadata": {},
   "outputs": [],
   "source": [
    "#To convert 'Murder' column, first need to convert from string to int\n",
    "\n",
    "nyc_crime['Murder'] = nyc_crime['Murder'].astype(int)"
   ]
  },
  {
   "cell_type": "code",
   "execution_count": 709,
   "metadata": {},
   "outputs": [],
   "source": [
    "#Now lets change our 'Murder' column to categorical (0 or 1)\n",
    "\n",
    "# nyc_crime['Murder'] = np.where((nyc_crime['Murder'] > 0), 1, 0)"
   ]
  },
  {
   "cell_type": "code",
   "execution_count": 710,
   "metadata": {},
   "outputs": [],
   "source": [
    "#To create converted 'Robbery' column, need to remove commas first\n",
    "\n",
    "nyc_crime['Robbery'] = nyc_crime['Robbery'].str.replace(',', '')"
   ]
  },
  {
   "cell_type": "code",
   "execution_count": 711,
   "metadata": {},
   "outputs": [],
   "source": [
    "#Similarly to population and murder, to convert 'Robbery' column, first need to convert from string to int\n",
    "\n",
    "nyc_crime['Robbery'] = nyc_crime['Robbery'].astype(int)"
   ]
  },
  {
   "cell_type": "code",
   "execution_count": 712,
   "metadata": {},
   "outputs": [],
   "source": [
    "#Now lets change our 'Robbery' column to categorical (0 or 1)\n",
    "\n",
    "# nyc_crime['Robbery'] = np.where((nyc_crime['Robbery'] > 0), 1, 0)"
   ]
  },
  {
   "cell_type": "code",
   "execution_count": 713,
   "metadata": {},
   "outputs": [],
   "source": [
    "#Finally, remove commas in property crime\n",
    "\n",
    "nyc_crime['PropertyCrime'] = nyc_crime['PropertyCrime'].str.replace(',', '')"
   ]
  },
  {
   "cell_type": "code",
   "execution_count": 714,
   "metadata": {},
   "outputs": [],
   "source": [
    "#Change property crime from string to int\n",
    "nyc_crime['PropertyCrime'] = nyc_crime['PropertyCrime'].astype(int)"
   ]
  },
  {
   "cell_type": "markdown",
   "metadata": {},
   "source": [
    "### Now that features are prepared, let's create our regression model\n",
    "\n",
    "$$ Property crime = \\alpha + Population + Population^2 + Murder + Robbery$$"
   ]
  },
  {
   "cell_type": "code",
   "execution_count": 715,
   "metadata": {},
   "outputs": [
    {
     "name": "stdout",
     "output_type": "stream",
     "text": [
      "count      348.000\n",
      "mean       792.606\n",
      "std       7659.725\n",
      "min          0.000\n",
      "25%         40.500\n",
      "50%        112.500\n",
      "75%        341.000\n",
      "max     141971.000\n",
      "Name: PropertyCrime, dtype: float64\n",
      "count       348.000\n",
      "mean      40037.632\n",
      "std      450037.368\n",
      "min         526.000\n",
      "25%        3003.000\n",
      "50%        7233.500\n",
      "75%       18427.500\n",
      "max     8396126.000\n",
      "Name: Population, dtype: float64\n",
      "count              348.000\n",
      "mean      203554650960.236\n",
      "std      3778875542708.130\n",
      "min             276676.000\n",
      "25%            9018117.000\n",
      "50%           52325684.500\n",
      "75%          339753567.000\n",
      "max     70494931807876.000\n",
      "Name: PopulationSquared, dtype: float64\n"
     ]
    }
   ],
   "source": [
    "#First, let's describe our columns of interest to see if we need to remove outliers\n",
    "\n",
    "print(nyc_crime['PropertyCrime'].describe())\n",
    "print(nyc_crime['Population'].describe())\n",
    "print(nyc_crime['PopulationSquared'].describe())"
   ]
  },
  {
   "cell_type": "markdown",
   "metadata": {},
   "source": [
    "### Based on the describe method above, let's eliminate outliers/skewness from our independent variables"
   ]
  },
  {
   "cell_type": "markdown",
   "metadata": {},
   "source": [
    "**Start with Property Crime**"
   ]
  },
  {
   "cell_type": "code",
   "execution_count": 716,
   "metadata": {},
   "outputs": [],
   "source": [
    "#Beginning with Property Crime, remove all data less than 25th percentile\n",
    "\n",
    "nyc_crime = nyc_crime[nyc_crime['PropertyCrime'] > 40.5]"
   ]
  },
  {
   "cell_type": "code",
   "execution_count": 717,
   "metadata": {},
   "outputs": [
    {
     "data": {
      "text/plain": [
       "1990.0"
      ]
     },
     "execution_count": 717,
     "metadata": {},
     "output_type": "execute_result"
    }
   ],
   "source": [
    "#Property Crime has a max of 141,971 which is an outlier. Let's see this column at 0.95\n",
    "\n",
    "nyc_crime['PropertyCrime'].quantile(0.95)"
   ]
  },
  {
   "cell_type": "code",
   "execution_count": 718,
   "metadata": {},
   "outputs": [
    {
     "data": {
      "text/plain": [
       "count    247.000\n",
       "mean     312.680\n",
       "std      335.846\n",
       "min       41.000\n",
       "25%       87.500\n",
       "50%      180.000\n",
       "75%      400.000\n",
       "max     1985.000\n",
       "Name: PropertyCrime, dtype: float64"
      ]
     },
     "execution_count": 718,
     "metadata": {},
     "output_type": "execute_result"
    }
   ],
   "source": [
    "#Adjust our dataframe again, this time taking everything under 1990\n",
    "\n",
    "nyc_crime = nyc_crime[nyc_crime['PropertyCrime'] < 1990]\n",
    "\n",
    "#Confirm these changes worked\n",
    "nyc_crime['PropertyCrime'].describe()"
   ]
  },
  {
   "cell_type": "markdown",
   "metadata": {},
   "source": [
    "**Now Population**"
   ]
  },
  {
   "cell_type": "code",
   "execution_count": 719,
   "metadata": {},
   "outputs": [],
   "source": [
    "#Remove all data less than 25th percentile\n",
    "\n",
    "nyc_crime = nyc_crime[nyc_crime['Population'] > 3003]"
   ]
  },
  {
   "cell_type": "code",
   "execution_count": 720,
   "metadata": {},
   "outputs": [
    {
     "data": {
      "text/plain": [
       "44856.69999999998"
      ]
     },
     "execution_count": 720,
     "metadata": {},
     "output_type": "execute_result"
    }
   ],
   "source": [
    "#Population has a max of 8,396,126 which is an outlier. Let's see this column at 0.95\n",
    "\n",
    "nyc_crime['Population'].quantile(0.95)"
   ]
  },
  {
   "cell_type": "code",
   "execution_count": 721,
   "metadata": {},
   "outputs": [
    {
     "data": {
      "text/plain": [
       "count     216.000\n",
       "mean    15800.958\n",
       "std     12282.260\n",
       "min      3012.000\n",
       "25%      6558.250\n",
       "50%     11079.500\n",
       "75%     22221.750\n",
       "max     58082.000\n",
       "Name: Population, dtype: float64"
      ]
     },
     "execution_count": 721,
     "metadata": {},
     "output_type": "execute_result"
    }
   ],
   "source": [
    "#Adjust our dataframe again, this time taking everything under 1990\n",
    "\n",
    "nyc_crime = nyc_crime[nyc_crime['Population'] < 68071]\n",
    "\n",
    "#Confirm these changes worked\n",
    "nyc_crime['Population'].describe()"
   ]
  },
  {
   "cell_type": "markdown",
   "metadata": {},
   "source": [
    "**Finally, Population Squared**"
   ]
  },
  {
   "cell_type": "code",
   "execution_count": 722,
   "metadata": {},
   "outputs": [],
   "source": [
    "#Overwrite current column based on changes to Population\n",
    "\n",
    "nyc_crime['PopulationSquared'] = nyc_crime['Population']**2"
   ]
  },
  {
   "cell_type": "code",
   "execution_count": 723,
   "metadata": {},
   "outputs": [
    {
     "name": "stdout",
     "output_type": "stream",
     "text": [
      "\n",
      "Coefficients: \n",
      " [ 1.60137295e-02  1.86238356e-09 -8.18071984e+01  6.95894348e+00]\n",
      "\n",
      "Intercept: \n",
      " 36.18132041499911\n",
      "\n",
      "R-squared:\n",
      "0.6757255341002044\n"
     ]
    }
   ],
   "source": [
    "# Instantiate and fit our model.\n",
    "regression = linear_model.LinearRegression()\n",
    "Y = nyc_crime['PropertyCrime']\n",
    "X = nyc_crime[['Population', 'PopulationSquared', 'Murder', 'Robbery']]\n",
    "regression.fit(X, Y)\n",
    "\n",
    "# Inspect the results.\n",
    "print('\\nCoefficients: \\n', regression.coef_)\n",
    "print('\\nIntercept: \\n', regression.intercept_)\n",
    "print('\\nR-squared:')\n",
    "print(regression.score(X, Y))"
   ]
  },
  {
   "cell_type": "markdown",
   "metadata": {},
   "source": [
    "### Working through assumptions"
   ]
  },
  {
   "cell_type": "markdown",
   "metadata": {},
   "source": [
    "**Assumption One:** Linear Relationship with all variables"
   ]
  },
  {
   "cell_type": "code",
   "execution_count": 724,
   "metadata": {},
   "outputs": [
    {
     "data": {
      "image/png": "[encoded data removed]",
      "text/plain": [
       "<matplotlib.figure.Figure at 0x1a1629dc50>"
      ]
     },
     "metadata": {},
     "output_type": "display_data"
    }
   ],
   "source": [
    "#Now test if Population is linear\n",
    "\n",
    "sns.regplot(x='PropertyCrime', y='Population', data=nyc_crime)\n",
    "plt.title('Property Crime vs. Population')\n",
    "plt.show()"
   ]
  },
  {
   "cell_type": "code",
   "execution_count": 725,
   "metadata": {},
   "outputs": [
    {
     "data": {
      "image/png": "[encoded data removed]",
      "text/plain": [
       "<matplotlib.figure.Figure at 0x1a1628b400>"
      ]
     },
     "metadata": {},
     "output_type": "display_data"
    }
   ],
   "source": [
    "#Test if Population Squared is linear\n",
    "\n",
    "sns.regplot(x='PropertyCrime', y='PopulationSquared', data=nyc_crime)\n",
    "plt.title('Property Crime vs. Population Squared')\n",
    "plt.show()"
   ]
  },
  {
   "cell_type": "markdown",
   "metadata": {},
   "source": [
    "**Assumption Two:** Multivariate Normality"
   ]
  },
  {
   "cell_type": "code",
   "execution_count": 726,
   "metadata": {},
   "outputs": [
    {
     "data": {
      "image/png": "[encoded data removed]",
      "text/plain": [
       "<matplotlib.figure.Figure at 0x1a1634fb38>"
      ]
     },
     "metadata": {},
     "output_type": "display_data"
    }
   ],
   "source": [
    "# Extract predicted values.\n",
    "predicted = regression.predict(X).ravel()\n",
    "actual = nyc_crime['PropertyCrime']\n",
    "\n",
    "# Calculate the error, also called the residual.\n",
    "residual = actual - predicted\n",
    "\n",
    "sns.distplot(residual)\n",
    "plt.title('Residual Counts')\n",
    "plt.show()"
   ]
  },
  {
   "cell_type": "markdown",
   "metadata": {},
   "source": [
    "**Assumption Three:** Homoscedasticity"
   ]
  },
  {
   "cell_type": "code",
   "execution_count": 727,
   "metadata": {},
   "outputs": [
    {
     "data": {
      "image/png": "[encoded data removed]",
      "text/plain": [
       "<matplotlib.figure.Figure at 0x1a1196ecc0>"
      ]
     },
     "metadata": {},
     "output_type": "display_data"
    }
   ],
   "source": [
    "#Plotting residual vs. predicted\n",
    "\n",
    "sns.regplot(x=predicted, y=residual, fit_reg=False)\n",
    "plt.xlabel('Predicted')\n",
    "plt.ylabel('Residual')\n",
    "plt.axhline(y=0)\n",
    "plt.title('Residual vs. Predicted')\n",
    "plt.show()"
   ]
  },
  {
   "cell_type": "code",
   "execution_count": 728,
   "metadata": {},
   "outputs": [
    {
     "name": "stdout",
     "output_type": "stream",
     "text": [
      "\n",
      "Coefficients: \n",
      " [ 9.05120508e-05 -9.22900865e-10 -9.79135131e-02  1.11845263e-02]\n",
      "\n",
      "Intercept: \n",
      " 4.25028787596924\n",
      "\n",
      "R-squared:\n",
      "0.5899518485980184\n"
     ]
    }
   ],
   "source": [
    "#Let's try to fix the heteroscedasticity seen above. First, we will take the log of Property Crime\n",
    "\n",
    "nyc_crime['PropertyCrime'] = np.log(nyc_crime['PropertyCrime'])\n",
    "\n",
    "# Instantiate and fit our model.\n",
    "regression = linear_model.LinearRegression()\n",
    "Y = nyc_crime['PropertyCrime']\n",
    "X = nyc_crime[['Population', 'PopulationSquared', 'Murder', 'Robbery']]\n",
    "regression.fit(X, Y)\n",
    "\n",
    "# Inspect the results.\n",
    "print('\\nCoefficients: \\n', regression.coef_)\n",
    "print('\\nIntercept: \\n', regression.intercept_)\n",
    "print('\\nR-squared:')\n",
    "print(regression.score(X, Y))\n",
    "\n",
    "# Extract predicted values.\n",
    "predicted = regression.predict(X).ravel()\n",
    "actual = nyc_crime['PropertyCrime']\n",
    "\n",
    "# Calculate the error, also called the residual.\n",
    "residual = actual - predicted"
   ]
  },
  {
   "cell_type": "code",
   "execution_count": 729,
   "metadata": {},
   "outputs": [
    {
     "data": {
      "image/png": "[encoded data removed]",
      "text/plain": [
       "<matplotlib.figure.Figure at 0x110925a20>"
      ]
     },
     "metadata": {},
     "output_type": "display_data"
    }
   ],
   "source": [
    "#Test for Homoscedasticity again\n",
    "\n",
    "#Plotting residual vs. predicted\n",
    "\n",
    "sns.regplot(x=predicted, y=residual, fit_reg=False)\n",
    "plt.xlabel('Predicted')\n",
    "plt.ylabel('Residual')\n",
    "plt.axhline(y=0)\n",
    "plt.title('Residual vs. Predicted')\n",
    "plt.show()"
   ]
  },
  {
   "cell_type": "markdown",
   "metadata": {},
   "source": [
    "**Assumption Four:** Low Multicollinearity"
   ]
  },
  {
   "cell_type": "code",
   "execution_count": 730,
   "metadata": {},
   "outputs": [
    {
     "data": {
      "text/html": [
       "<div>\n",
       "<style scoped>\n",
       "    .dataframe tbody tr th:only-of-type {\n",
       "        vertical-align: middle;\n",
       "    }\n",
       "\n",
       "    .dataframe tbody tr th {\n",
       "        vertical-align: top;\n",
       "    }\n",
       "\n",
       "    .dataframe thead th {\n",
       "        text-align: right;\n",
       "    }\n",
       "</style>\n",
       "<table border=\"1\" class=\"dataframe\">\n",
       "  <thead>\n",
       "    <tr style=\"text-align: right;\">\n",
       "      <th></th>\n",
       "      <th>Population</th>\n",
       "      <th>PopulationSquared</th>\n",
       "      <th>Murder</th>\n",
       "      <th>Robbery</th>\n",
       "    </tr>\n",
       "  </thead>\n",
       "  <tbody>\n",
       "    <tr>\n",
       "      <th>Population</th>\n",
       "      <td>1.000</td>\n",
       "      <td>0.953</td>\n",
       "      <td>0.380</td>\n",
       "      <td>0.518</td>\n",
       "    </tr>\n",
       "    <tr>\n",
       "      <th>PopulationSquared</th>\n",
       "      <td>0.953</td>\n",
       "      <td>1.000</td>\n",
       "      <td>0.410</td>\n",
       "      <td>0.554</td>\n",
       "    </tr>\n",
       "    <tr>\n",
       "      <th>Murder</th>\n",
       "      <td>0.380</td>\n",
       "      <td>0.410</td>\n",
       "      <td>1.000</td>\n",
       "      <td>0.782</td>\n",
       "    </tr>\n",
       "    <tr>\n",
       "      <th>Robbery</th>\n",
       "      <td>0.518</td>\n",
       "      <td>0.554</td>\n",
       "      <td>0.782</td>\n",
       "      <td>1.000</td>\n",
       "    </tr>\n",
       "  </tbody>\n",
       "</table>\n",
       "</div>"
      ],
      "text/plain": [
       "                   Population  PopulationSquared  Murder  Robbery\n",
       "Population              1.000              0.953   0.380    0.518\n",
       "PopulationSquared       0.953              1.000   0.410    0.554\n",
       "Murder                  0.380              0.410   1.000    0.782\n",
       "Robbery                 0.518              0.554   0.782    1.000"
      ]
     },
     "metadata": {},
     "output_type": "display_data"
    }
   ],
   "source": [
    "#Correlation matrix\n",
    "\n",
    "correlation_matrix = X.corr()\n",
    "display(correlation_matrix)"
   ]
  },
  {
   "cell_type": "markdown",
   "metadata": {},
   "source": [
    "### Try Evaluating parameters using statsmodels"
   ]
  },
  {
   "cell_type": "code",
   "execution_count": 731,
   "metadata": {},
   "outputs": [],
   "source": [
    "# Write out the model formula.\n",
    "# Your dependent variable on the left, independent variables on the right\n",
    "# Use a ~ to represent an '=' from the functional form\n",
    "\n",
    "linear_formula = 'PropertyCrime ~ Population+PopulationSquared+Murder+Robbery'\n",
    "\n",
    "# Fit the model to our data using the formula.\n",
    "lm = smf.ols(formula=linear_formula, data=nyc_crime).fit()"
   ]
  },
  {
   "cell_type": "code",
   "execution_count": 732,
   "metadata": {},
   "outputs": [
    {
     "data": {
      "text/plain": [
       "0.5899518485980184"
      ]
     },
     "execution_count": 732,
     "metadata": {},
     "output_type": "execute_result"
    }
   ],
   "source": [
    "#Get R^2\n",
    "lm.rsquared"
   ]
  },
  {
   "cell_type": "code",
   "execution_count": 733,
   "metadata": {},
   "outputs": [
    {
     "data": {
      "text/plain": [
       "Intercept            4.250\n",
       "Population           0.000\n",
       "PopulationSquared   -0.000\n",
       "Murder              -0.098\n",
       "Robbery              0.011\n",
       "dtype: float64"
      ]
     },
     "execution_count": 733,
     "metadata": {},
     "output_type": "execute_result"
    }
   ],
   "source": [
    "#Get coefficients\n",
    "lm.params"
   ]
  },
  {
   "cell_type": "code",
   "execution_count": 734,
   "metadata": {},
   "outputs": [
    {
     "data": {
      "text/plain": [
       "Intercept           0.000\n",
       "Population          0.000\n",
       "PopulationSquared   0.000\n",
       "Murder              0.131\n",
       "Robbery             0.001\n",
       "dtype: float64"
      ]
     },
     "execution_count": 734,
     "metadata": {},
     "output_type": "execute_result"
    }
   ],
   "source": [
    "#Get p-values\n",
    "lm.pvalues"
   ]
  },
  {
   "cell_type": "code",
   "execution_count": 735,
   "metadata": {},
   "outputs": [
    {
     "data": {
      "text/html": [
       "<div>\n",
       "<style scoped>\n",
       "    .dataframe tbody tr th:only-of-type {\n",
       "        vertical-align: middle;\n",
       "    }\n",
       "\n",
       "    .dataframe tbody tr th {\n",
       "        vertical-align: top;\n",
       "    }\n",
       "\n",
       "    .dataframe thead th {\n",
       "        text-align: right;\n",
       "    }\n",
       "</style>\n",
       "<table border=\"1\" class=\"dataframe\">\n",
       "  <thead>\n",
       "    <tr style=\"text-align: right;\">\n",
       "      <th></th>\n",
       "      <th>0</th>\n",
       "      <th>1</th>\n",
       "    </tr>\n",
       "  </thead>\n",
       "  <tbody>\n",
       "    <tr>\n",
       "      <th>Intercept</th>\n",
       "      <td>4.054</td>\n",
       "      <td>4.447</td>\n",
       "    </tr>\n",
       "    <tr>\n",
       "      <th>Population</th>\n",
       "      <td>0.000</td>\n",
       "      <td>0.000</td>\n",
       "    </tr>\n",
       "    <tr>\n",
       "      <th>PopulationSquared</th>\n",
       "      <td>-0.000</td>\n",
       "      <td>-0.000</td>\n",
       "    </tr>\n",
       "    <tr>\n",
       "      <th>Murder</th>\n",
       "      <td>-0.225</td>\n",
       "      <td>0.030</td>\n",
       "    </tr>\n",
       "    <tr>\n",
       "      <th>Robbery</th>\n",
       "      <td>0.005</td>\n",
       "      <td>0.017</td>\n",
       "    </tr>\n",
       "  </tbody>\n",
       "</table>\n",
       "</div>"
      ],
      "text/plain": [
       "                       0      1\n",
       "Intercept          4.054  4.447\n",
       "Population         0.000  0.000\n",
       "PopulationSquared -0.000 -0.000\n",
       "Murder            -0.225  0.030\n",
       "Robbery            0.005  0.017"
      ]
     },
     "execution_count": 735,
     "metadata": {},
     "output_type": "execute_result"
    }
   ],
   "source": [
    "#Get confidence intervals\n",
    "lm.conf_int()"
   ]
  },
  {
   "cell_type": "markdown",
   "metadata": {},
   "source": [
    "### Let's try a revised model with the original Murdery and Robbery columns"
   ]
  },
  {
   "cell_type": "markdown",
   "metadata": {},
   "source": [
    "**First clean the data**"
   ]
  },
  {
   "cell_type": "code",
   "execution_count": 736,
   "metadata": {},
   "outputs": [],
   "source": [
    "nyc_crime_original = nyc_crime_original.dropna(subset=['Population', 'Murder', 'Robbery', 'PropertyCrime'])"
   ]
  },
  {
   "cell_type": "code",
   "execution_count": 737,
   "metadata": {},
   "outputs": [],
   "source": [
    "#To create population squared feature, first remove commas from amounts\n",
    "nyc_crime_original['Population'] = nyc_crime_original['Population'].str.replace(',', '')"
   ]
  },
  {
   "cell_type": "code",
   "execution_count": 738,
   "metadata": {},
   "outputs": [],
   "source": [
    "#Next, convert column from string to int\n",
    "\n",
    "nyc_crime_original['Population'] = nyc_crime_original['Population'].astype(int)"
   ]
  },
  {
   "cell_type": "code",
   "execution_count": 739,
   "metadata": {},
   "outputs": [],
   "source": [
    "#Now we can create our new feature!\n",
    "\n",
    "nyc_crime_original['PopulationSquared'] = nyc_crime_original['Population']**2"
   ]
  },
  {
   "cell_type": "code",
   "execution_count": 740,
   "metadata": {},
   "outputs": [],
   "source": [
    "#To convert 'Murder' column, first need to convert from string to int\n",
    "\n",
    "nyc_crime_original['Murder'] = nyc_crime_original['Murder'].astype(int)"
   ]
  },
  {
   "cell_type": "code",
   "execution_count": 741,
   "metadata": {},
   "outputs": [],
   "source": [
    "#To create converted 'Robbery' column, need to remove commas first\n",
    "\n",
    "nyc_crime_original['Robbery'] = nyc_crime_original['Robbery'].str.replace(',', '')"
   ]
  },
  {
   "cell_type": "code",
   "execution_count": 742,
   "metadata": {},
   "outputs": [],
   "source": [
    "#Similarly to population and murder, to convert 'Robbery' column, first need to convert from string to int\n",
    "\n",
    "nyc_crime_original['Robbery'] = nyc_crime_original['Robbery'].astype(int)"
   ]
  },
  {
   "cell_type": "code",
   "execution_count": 743,
   "metadata": {},
   "outputs": [],
   "source": [
    "#Finally, remove commas in property crime\n",
    "\n",
    "nyc_crime_original['PropertyCrime'] = nyc_crime_original['PropertyCrime'].str.replace(',', '')"
   ]
  },
  {
   "cell_type": "code",
   "execution_count": 744,
   "metadata": {},
   "outputs": [],
   "source": [
    "#Change property crime from string to int\n",
    "nyc_crime_original['PropertyCrime'] = nyc_crime_original['PropertyCrime'].astype(int)"
   ]
  },
  {
   "cell_type": "code",
   "execution_count": 745,
   "metadata": {},
   "outputs": [],
   "source": [
    "#Remove commas from Burglary\n",
    "nyc_crime_original['Burglary'] = nyc_crime_original['Burglary'].str.replace(',', '')"
   ]
  },
  {
   "cell_type": "code",
   "execution_count": 746,
   "metadata": {},
   "outputs": [],
   "source": [
    "#Convert burglary to int\n",
    "nyc_crime_original['Burglary'] = nyc_crime_original['Burglary'].astype(int)"
   ]
  },
  {
   "cell_type": "code",
   "execution_count": 747,
   "metadata": {},
   "outputs": [],
   "source": [
    "#Remove commmas from LarcenyTheft\n",
    "nyc_crime_original['LarcenyTheft'] = nyc_crime_original['LarcenyTheft'].str.replace(',', '')"
   ]
  },
  {
   "cell_type": "code",
   "execution_count": 748,
   "metadata": {},
   "outputs": [],
   "source": [
    "#Convert LarcenyTheft to int\n",
    "nyc_crime_original['LarcenyTheft'] = nyc_crime_original['LarcenyTheft'].astype(int)"
   ]
  },
  {
   "cell_type": "markdown",
   "metadata": {},
   "source": [
    "**Now look for outliers/skewness**"
   ]
  },
  {
   "cell_type": "code",
   "execution_count": 749,
   "metadata": {},
   "outputs": [
    {
     "name": "stdout",
     "output_type": "stream",
     "text": [
      "count      348.000\n",
      "mean       792.606\n",
      "std       7659.725\n",
      "min          0.000\n",
      "25%         40.500\n",
      "50%        112.500\n",
      "75%        341.000\n",
      "max     141971.000\n",
      "Name: PropertyCrime, dtype: float64\n",
      "count       348.000\n",
      "mean      40037.632\n",
      "std      450037.368\n",
      "min         526.000\n",
      "25%        3003.000\n",
      "50%        7233.500\n",
      "75%       18427.500\n",
      "max     8396126.000\n",
      "Name: Population, dtype: float64\n",
      "count              348.000\n",
      "mean      203554650960.236\n",
      "std      3778875542708.130\n",
      "min             276676.000\n",
      "25%            9018117.000\n",
      "50%           52325684.500\n",
      "75%          339753567.000\n",
      "max     70494931807876.000\n",
      "Name: PopulationSquared, dtype: float64\n",
      "count   348.000\n",
      "mean      1.566\n",
      "std      18.304\n",
      "min       0.000\n",
      "25%       0.000\n",
      "50%       0.000\n",
      "75%       0.000\n",
      "max     335.000\n",
      "Name: Murder, dtype: float64\n",
      "count     348.000\n",
      "mean       72.902\n",
      "std      1031.033\n",
      "min         0.000\n",
      "25%         0.000\n",
      "50%         1.000\n",
      "75%         5.000\n",
      "max     19170.000\n",
      "Name: Robbery, dtype: float64\n",
      "count     348.000\n",
      "mean      119.684\n",
      "std       924.949\n",
      "min         0.000\n",
      "25%         6.000\n",
      "50%        17.500\n",
      "75%        51.250\n",
      "max     16606.000\n",
      "Name: Burglary, dtype: float64\n",
      "count      348.000\n",
      "mean       637.017\n",
      "std       6346.054\n",
      "min          0.000\n",
      "25%         31.000\n",
      "50%         94.000\n",
      "75%        287.250\n",
      "max     117931.000\n",
      "Name: LarcenyTheft, dtype: float64\n"
     ]
    }
   ],
   "source": [
    "print(nyc_crime_original['PropertyCrime'].describe())\n",
    "print(nyc_crime_original['Population'].describe())\n",
    "print(nyc_crime_original['PopulationSquared'].describe())\n",
    "print(nyc_crime_original['Murder'].describe())\n",
    "print(nyc_crime_original['Robbery'].describe())\n",
    "print(nyc_crime_original['Burglary'].describe())\n",
    "print(nyc_crime_original['LarcenyTheft'].describe())"
   ]
  },
  {
   "cell_type": "markdown",
   "metadata": {},
   "source": [
    "**Transform independent variables one by one**"
   ]
  },
  {
   "cell_type": "markdown",
   "metadata": {},
   "source": [
    "First, PropertyCrime"
   ]
  },
  {
   "cell_type": "code",
   "execution_count": 676,
   "metadata": {},
   "outputs": [],
   "source": [
    "nyc_crime_original = nyc_crime_original[nyc_crime_original['PropertyCrime'] > 40.5]"
   ]
  },
  {
   "cell_type": "code",
   "execution_count": 677,
   "metadata": {},
   "outputs": [
    {
     "data": {
      "text/plain": [
       "1990.0"
      ]
     },
     "execution_count": 677,
     "metadata": {},
     "output_type": "execute_result"
    }
   ],
   "source": [
    "nyc_crime_original['PropertyCrime'].quantile(0.95)"
   ]
  },
  {
   "cell_type": "code",
   "execution_count": 678,
   "metadata": {},
   "outputs": [],
   "source": [
    "nyc_crime_original = nyc_crime_original[nyc_crime_original['PropertyCrime'] < 1990]"
   ]
  },
  {
   "cell_type": "markdown",
   "metadata": {},
   "source": [
    "Now Population"
   ]
  },
  {
   "cell_type": "code",
   "execution_count": 679,
   "metadata": {},
   "outputs": [],
   "source": [
    "nyc_crime_original = nyc_crime_original[nyc_crime_original['Population'] > 3003]"
   ]
  },
  {
   "cell_type": "code",
   "execution_count": 680,
   "metadata": {},
   "outputs": [
    {
     "data": {
      "text/plain": [
       "44856.69999999998"
      ]
     },
     "execution_count": 680,
     "metadata": {},
     "output_type": "execute_result"
    }
   ],
   "source": [
    "nyc_crime_original['Population'].quantile(0.95)"
   ]
  },
  {
   "cell_type": "code",
   "execution_count": 681,
   "metadata": {},
   "outputs": [],
   "source": [
    "nyc_crime_original = nyc_crime_original[nyc_crime_original['Population'] < 78266]"
   ]
  },
  {
   "cell_type": "markdown",
   "metadata": {},
   "source": [
    "Next Population Squared"
   ]
  },
  {
   "cell_type": "code",
   "execution_count": 682,
   "metadata": {},
   "outputs": [],
   "source": [
    "nyc_crime_original['PopulationSquared'] = nyc_crime_original['Population']**2"
   ]
  },
  {
   "cell_type": "markdown",
   "metadata": {},
   "source": [
    "Next Murder"
   ]
  },
  {
   "cell_type": "code",
   "execution_count": 683,
   "metadata": {},
   "outputs": [],
   "source": [
    "nyc_crime_original = nyc_crime_original[nyc_crime_original['Murder'] > 0]"
   ]
  },
  {
   "cell_type": "code",
   "execution_count": 685,
   "metadata": {},
   "outputs": [
    {
     "data": {
      "text/plain": [
       "5.3999999999999915"
      ]
     },
     "execution_count": 685,
     "metadata": {},
     "output_type": "execute_result"
    }
   ],
   "source": [
    "nyc_crime_original['Murder'].quantile(0.95)"
   ]
  },
  {
   "cell_type": "code",
   "execution_count": 686,
   "metadata": {},
   "outputs": [],
   "source": [
    "nyc_crime_original = nyc_crime_original[nyc_crime_original['Murder'] < 5]"
   ]
  },
  {
   "cell_type": "markdown",
   "metadata": {},
   "source": [
    "Next Robbery"
   ]
  },
  {
   "cell_type": "code",
   "execution_count": 687,
   "metadata": {},
   "outputs": [],
   "source": [
    "nyc_crime_original = nyc_crime_original[nyc_crime_original['Robbery'] > 0]"
   ]
  },
  {
   "cell_type": "code",
   "execution_count": 689,
   "metadata": {},
   "outputs": [
    {
     "data": {
      "text/plain": [
       "148.31999999999994"
      ]
     },
     "execution_count": 689,
     "metadata": {},
     "output_type": "execute_result"
    }
   ],
   "source": [
    "nyc_crime_original['Robbery'].quantile(0.97)"
   ]
  },
  {
   "cell_type": "code",
   "execution_count": 690,
   "metadata": {},
   "outputs": [],
   "source": [
    "nyc_crime_original = nyc_crime_original[nyc_crime_original['Robbery'] < 148]"
   ]
  },
  {
   "cell_type": "markdown",
   "metadata": {},
   "source": [
    "Next Burglary"
   ]
  },
  {
   "cell_type": "code",
   "execution_count": 750,
   "metadata": {},
   "outputs": [],
   "source": [
    "nyc_crime_original = nyc_crime_original[nyc_crime_original['Burglary'] > 31]"
   ]
  },
  {
   "cell_type": "code",
   "execution_count": 754,
   "metadata": {},
   "outputs": [
    {
     "data": {
      "text/plain": [
       "699.3999999999987"
      ]
     },
     "execution_count": 754,
     "metadata": {},
     "output_type": "execute_result"
    }
   ],
   "source": [
    "nyc_crime_original['Burglary'].quantile(0.95)"
   ]
  },
  {
   "cell_type": "code",
   "execution_count": 755,
   "metadata": {},
   "outputs": [],
   "source": [
    "nyc_crime_original = nyc_crime_original[nyc_crime_original['Burglary'] < 700]"
   ]
  },
  {
   "cell_type": "markdown",
   "metadata": {},
   "source": [
    "Finally LarcenyTheft"
   ]
  },
  {
   "cell_type": "code",
   "execution_count": 612,
   "metadata": {},
   "outputs": [],
   "source": [
    "nyc_crime_original = nyc_crime_original[nyc_crime_original['LarcenyTheft'] > 31]"
   ]
  },
  {
   "cell_type": "code",
   "execution_count": 613,
   "metadata": {},
   "outputs": [
    {
     "data": {
      "text/plain": [
       "702.0999999999999"
      ]
     },
     "execution_count": 613,
     "metadata": {},
     "output_type": "execute_result"
    }
   ],
   "source": [
    "nyc_crime_original['LarcenyTheft'].quantile(0.95)"
   ]
  },
  {
   "cell_type": "code",
   "execution_count": 756,
   "metadata": {},
   "outputs": [],
   "source": [
    "nyc_crime_original = nyc_crime_original[nyc_crime_original['LarcenyTheft'] < 703]"
   ]
  },
  {
   "cell_type": "code",
   "execution_count": 757,
   "metadata": {},
   "outputs": [
    {
     "name": "stdout",
     "output_type": "stream",
     "text": [
      "\n",
      "Coefficients: \n",
      " [ 1.46441653e-02 -1.30282800e-07 -6.94730073e+00  3.33988035e+00]\n",
      "\n",
      "Intercept: \n",
      " 161.14782556599351\n",
      "\n",
      "R-squared:\n",
      "0.5673359843502567\n"
     ]
    }
   ],
   "source": [
    "# Instantiate and fit our model.\n",
    "regression = linear_model.LinearRegression()\n",
    "Y = nyc_crime_original['PropertyCrime']\n",
    "X = nyc_crime_original[['Population', 'PopulationSquared', 'Murder', 'Robbery']]\n",
    "regression.fit(X, Y)\n",
    "\n",
    "# Inspect the results.\n",
    "print('\\nCoefficients: \\n', regression.coef_)\n",
    "print('\\nIntercept: \\n', regression.intercept_)\n",
    "print('\\nR-squared:')\n",
    "print(regression.score(X, Y))"
   ]
  },
  {
   "cell_type": "code",
   "execution_count": 758,
   "metadata": {},
   "outputs": [
    {
     "data": {
      "image/png": "[encoded data removed]",
      "text/plain": [
       "<matplotlib.figure.Figure at 0x1a16d8cef0>"
      ]
     },
     "metadata": {},
     "output_type": "display_data"
    }
   ],
   "source": [
    "sns.regplot(x='PropertyCrime', y='Murder', data=nyc_crime_original)\n",
    "plt.title('Property Crime vs. Murder')\n",
    "plt.show()"
   ]
  },
  {
   "cell_type": "code",
   "execution_count": 759,
   "metadata": {},
   "outputs": [
    {
     "data": {
      "image/png": "[encoded data removed]",
      "text/plain": [
       "<matplotlib.figure.Figure at 0x1a16c5eda0>"
      ]
     },
     "metadata": {},
     "output_type": "display_data"
    }
   ],
   "source": [
    "sns.regplot(x='PropertyCrime', y='Robbery', data=nyc_crime_original)\n",
    "plt.title('Property Crime vs. Robbery')\n",
    "plt.show()"
   ]
  },
  {
   "cell_type": "code",
   "execution_count": 761,
   "metadata": {},
   "outputs": [],
   "source": [
    "#Let's evaluate using statsmodels to see if we can build a final version of the model that best explains variance\n",
    "\n",
    "linear_formula = 'PropertyCrime ~ Population+PopulationSquared+Murder+Robbery'\n",
    "\n",
    "# Fit the model to our data using the formula.\n",
    "lm = smf.ols(formula=linear_formula, data=nyc_crime_original).fit()"
   ]
  },
  {
   "cell_type": "code",
   "execution_count": 762,
   "metadata": {},
   "outputs": [
    {
     "data": {
      "text/plain": [
       "Intercept           0.000\n",
       "Population          0.000\n",
       "PopulationSquared   0.002\n",
       "Murder              0.742\n",
       "Robbery             0.002\n",
       "dtype: float64"
      ]
     },
     "execution_count": 762,
     "metadata": {},
     "output_type": "execute_result"
    }
   ],
   "source": [
    "lm.pvalues"
   ]
  },
  {
   "cell_type": "code",
   "execution_count": 763,
   "metadata": {},
   "outputs": [
    {
     "data": {
      "text/plain": [
       "Intercept           161.148\n",
       "Population            0.015\n",
       "PopulationSquared    -0.000\n",
       "Murder               -6.947\n",
       "Robbery               3.340\n",
       "dtype: float64"
      ]
     },
     "execution_count": 763,
     "metadata": {},
     "output_type": "execute_result"
    }
   ],
   "source": [
    "lm.params"
   ]
  },
  {
   "cell_type": "markdown",
   "metadata": {},
   "source": [
    "**Takeaway:** By adding in the real values for Murder and Robbery, we did not achieve a higher accuracy with our model. In fact, it looks like these features aren't strong at all, aside from robbery."
   ]
  },
  {
   "cell_type": "markdown",
   "metadata": {},
   "source": [
    "### Finally, Let's add Burglary to the model and see what impact that might have"
   ]
  },
  {
   "cell_type": "code",
   "execution_count": 768,
   "metadata": {},
   "outputs": [
    {
     "name": "stdout",
     "output_type": "stream",
     "text": [
      "\n",
      "Coefficients: \n",
      " [ 1.18804316e-02 -9.96717763e-08 -3.42796295e-01 -1.05470922e+01\n",
      "  3.40961683e+00]\n",
      "\n",
      "Intercept: \n",
      " 4.770298203396067\n",
      "\n",
      "R-squared:\n",
      "0.7562682584700686\n"
     ]
    }
   ],
   "source": [
    "# Instantiate and fit our model.\n",
    "regression = linear_model.LinearRegression()\n",
    "Y = nyc_crime_original['PropertyCrime']\n",
    "X = nyc_crime_original[['Population', 'PopulationSquared', 'Robbery', 'Murder', 'Burglary']]\n",
    "regression.fit(X, Y)\n",
    "\n",
    "# Inspect the results.\n",
    "print('\\nCoefficients: \\n', regression.coef_)\n",
    "print('\\nIntercept: \\n', regression.intercept_)\n",
    "print('\\nR-squared:')\n",
    "print(regression.score(X, Y))"
   ]
  },
  {
   "cell_type": "markdown",
   "metadata": {},
   "source": [
    "**Now, this looks a bit more promising. Let's go through our assumptions**"
   ]
  },
  {
   "cell_type": "markdown",
   "metadata": {},
   "source": [
    "**Assumption One:** Linear Relationship with all variables"
   ]
  },
  {
   "cell_type": "code",
   "execution_count": 769,
   "metadata": {},
   "outputs": [
    {
     "data": {
      "image/png": "[encoded data removed]",
      "text/plain": [
       "<matplotlib.figure.Figure at 0x1a15c49128>"
      ]
     },
     "metadata": {},
     "output_type": "display_data"
    }
   ],
   "source": [
    "#Let's look at Burglary since we've looked at the others already\n",
    "\n",
    "sns.regplot(x='PropertyCrime', y='Burglary', data=nyc_crime_original)\n",
    "plt.title('Property Crime vs. Burglary')\n",
    "plt.show()"
   ]
  },
  {
   "cell_type": "markdown",
   "metadata": {},
   "source": [
    "**Assumption Two:** Multivariate Normality"
   ]
  },
  {
   "cell_type": "code",
   "execution_count": 770,
   "metadata": {},
   "outputs": [
    {
     "data": {
      "image/png": "[encoded data removed]",
      "text/plain": [
       "<matplotlib.figure.Figure at 0x1a16922470>"
      ]
     },
     "metadata": {},
     "output_type": "display_data"
    }
   ],
   "source": [
    "# Extract predicted values.\n",
    "predicted = regression.predict(X).ravel()\n",
    "actual = nyc_crime_original['PropertyCrime']\n",
    "\n",
    "# Calculate the error, also called the residual.\n",
    "residual = actual - predicted\n",
    "\n",
    "sns.distplot(residual)\n",
    "plt.title('Residual Counts')\n",
    "plt.show()"
   ]
  },
  {
   "cell_type": "markdown",
   "metadata": {},
   "source": [
    "**Assumption Three:** Homoscedasticity"
   ]
  },
  {
   "cell_type": "code",
   "execution_count": 771,
   "metadata": {},
   "outputs": [
    {
     "data": {
      "image/png": "[encoded data removed]",
      "text/plain": [
       "<matplotlib.figure.Figure at 0x1a15c17908>"
      ]
     },
     "metadata": {},
     "output_type": "display_data"
    }
   ],
   "source": [
    "#Plotting residual vs. predicted\n",
    "\n",
    "sns.regplot(x=predicted, y=residual, fit_reg=False)\n",
    "plt.xlabel('Predicted')\n",
    "plt.ylabel('Residual')\n",
    "plt.axhline(y=0)\n",
    "plt.title('Residual vs. Predicted')\n",
    "plt.show()"
   ]
  },
  {
   "cell_type": "markdown",
   "metadata": {},
   "source": [
    "**Assumption Four:** Low Multicollinearity"
   ]
  },
  {
   "cell_type": "code",
   "execution_count": 772,
   "metadata": {},
   "outputs": [
    {
     "data": {
      "text/html": [
       "<div>\n",
       "<style scoped>\n",
       "    .dataframe tbody tr th:only-of-type {\n",
       "        vertical-align: middle;\n",
       "    }\n",
       "\n",
       "    .dataframe tbody tr th {\n",
       "        vertical-align: top;\n",
       "    }\n",
       "\n",
       "    .dataframe thead th {\n",
       "        text-align: right;\n",
       "    }\n",
       "</style>\n",
       "<table border=\"1\" class=\"dataframe\">\n",
       "  <thead>\n",
       "    <tr style=\"text-align: right;\">\n",
       "      <th></th>\n",
       "      <th>Population</th>\n",
       "      <th>PopulationSquared</th>\n",
       "      <th>Robbery</th>\n",
       "      <th>Murder</th>\n",
       "      <th>Burglary</th>\n",
       "    </tr>\n",
       "  </thead>\n",
       "  <tbody>\n",
       "    <tr>\n",
       "      <th>Population</th>\n",
       "      <td>1.000</td>\n",
       "      <td>0.909</td>\n",
       "      <td>0.393</td>\n",
       "      <td>0.410</td>\n",
       "      <td>0.372</td>\n",
       "    </tr>\n",
       "    <tr>\n",
       "      <th>PopulationSquared</th>\n",
       "      <td>0.909</td>\n",
       "      <td>1.000</td>\n",
       "      <td>0.316</td>\n",
       "      <td>0.378</td>\n",
       "      <td>0.276</td>\n",
       "    </tr>\n",
       "    <tr>\n",
       "      <th>Robbery</th>\n",
       "      <td>0.393</td>\n",
       "      <td>0.316</td>\n",
       "      <td>1.000</td>\n",
       "      <td>0.866</td>\n",
       "      <td>0.786</td>\n",
       "    </tr>\n",
       "    <tr>\n",
       "      <th>Murder</th>\n",
       "      <td>0.410</td>\n",
       "      <td>0.378</td>\n",
       "      <td>0.866</td>\n",
       "      <td>1.000</td>\n",
       "      <td>0.687</td>\n",
       "    </tr>\n",
       "    <tr>\n",
       "      <th>Burglary</th>\n",
       "      <td>0.372</td>\n",
       "      <td>0.276</td>\n",
       "      <td>0.786</td>\n",
       "      <td>0.687</td>\n",
       "      <td>1.000</td>\n",
       "    </tr>\n",
       "  </tbody>\n",
       "</table>\n",
       "</div>"
      ],
      "text/plain": [
       "                   Population  PopulationSquared  Robbery  Murder  Burglary\n",
       "Population              1.000              0.909    0.393   0.410     0.372\n",
       "PopulationSquared       0.909              1.000    0.316   0.378     0.276\n",
       "Robbery                 0.393              0.316    1.000   0.866     0.786\n",
       "Murder                  0.410              0.378    0.866   1.000     0.687\n",
       "Burglary                0.372              0.276    0.786   0.687     1.000"
      ]
     },
     "metadata": {},
     "output_type": "display_data"
    }
   ],
   "source": [
    "#Correlation matrix\n",
    "\n",
    "correlation_matrix = X.corr()\n",
    "display(correlation_matrix)"
   ]
  },
  {
   "cell_type": "code",
   "execution_count": null,
   "metadata": {},
   "outputs": [],
   "source": []
  }
 ],
 "metadata": {
  "kernelspec": {
   "display_name": "Python 3",
   "language": "python",
   "name": "python3"
  },
  "language_info": {
   "codemirror_mode": {
    "name": "ipython",
    "version": 3
   },
   "file_extension": ".py",
   "mimetype": "text/x-python",
   "name": "python",
   "nbconvert_exporter": "python",
   "pygments_lexer": "ipython3",
   "version": "3.6.4"
  }
 },
 "nbformat": 4,
 "nbformat_minor": 2
}
