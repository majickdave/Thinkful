{
 "cells": [
  {
   "cell_type": "markdown",
   "metadata": {},
   "source": [
    "\n",
    "1 You work at an e-commerce company that sells three goods: widgets, doodads, and fizzbangs. The head of advertising asks you which they should feature in their new advertising campaign. You have data on individual visitors' sessions (activity on a website, pageviews, and purchases), as well as whether or not those users converted from an advertisement for that session. You also have the cost and price information for the goods.\n",
    "\n",
    "A. In my opinion, there are two different paths to take. The first being centering the campaign around the highest conversion rate amongst the products. Essentially trying to further capitalize on the product that is selling well, regardless of the price comparison. The second being looking at the highest counts of activity (highest occurring queries) and pageviews, if different than the highest conversion rate, and attempting to push that campaign based on proven popularity.\n",
    "\n",
    "2 You work at a web design company that offers to build websites for clients. Signups have slowed, and you are tasked with finding out why. The onboarding funnel has three steps: email and password signup, plan choice, and payment. On a user level you have information on what steps they have completed as well as timestamps for all of those events for the past 3 years. You also have information on marketing spend on a weekly level.\n",
    "\n",
    "A. One way to go about determining why signups have slowed is to dissect the onboarding process. You could conduct a trend analysis, looking at the duration of each step in the onbarding process. This would allow you to see which parts of this process are taking the longest and thus need to be altered in some way. Further, another approach might be to conduct a similar trend analysis on the duration between each onboarding step.\n",
    "\n",
    "3 You work at a hotel website and currently the website ranks search results by price. For simplicity's sake, let's say it's a website for one city with 100 hotels. You are tasked with proposing a better ranking system. You have session information, price information for the hotels, and whether each hotel is currently available.\n",
    "\n",
    "A.  With the session information, you could see what the most popular preferences are and create a recommender system that way. For example, if users typically search for hotels that include breakfast or have valet parking, you could rank hotels in that way. \n",
    "\n",
    "4 You work at a social network, and the management is worried about churn (users stopping using the product). You are tasked with finding out if their churn is atypical. You have three years of data for users with an entry for every time they've logged in, including the timestamp and length of session.\n",
    "\n",
    "A. It is important to establish a baseline of what is typical and atypical. You could conduct a trend analysis of the duration of each session and duration between sessions for each user over the 3 year period.\n"
   ]
  }
 ],
 "metadata": {
  "kernelspec": {
   "display_name": "Python 3",
   "language": "python",
   "name": "python3"
  },
  "language_info": {
   "codemirror_mode": {
    "name": "ipython",
    "version": 3
   },
   "file_extension": ".py",
   "mimetype": "text/x-python",
   "name": "python",
   "nbconvert_exporter": "python",
   "pygments_lexer": "ipython3",
   "version": "3.6.4"
  }
 },
 "nbformat": 4,
 "nbformat_minor": 2
}
