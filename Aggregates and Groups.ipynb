{
 "cells": [
  {
   "cell_type": "markdown",
   "metadata": {},
   "source": [
    "1. What was the hottest day in our dataset? When was that?\n",
    "\n",
    "SELECT  \n",
    "    MAX(MaxTemperatureF),\n",
    "    Date\n",
    "FROM \n",
    "    weather\n",
    "\n",
    "\n",
    "2 How many trips started at each station?\n",
    "\n",
    "SELECT \n",
    "    start_station,\n",
    "    COUNT(*)\n",
    "FROM \n",
    "    trips\n",
    "GROUP BY start_station\n",
    "ORDER BY COUNT(*) DESC\n",
    "\n",
    "\n",
    "3 What's the shortest trip that happened?\n",
    "\n",
    "SELECT \n",
    "    MIN(duration) shortest\n",
    "FROM \n",
    "    trips\n",
    "\n",
    "\n",
    "4 What is the average trip duration, by end station?\n",
    "\n",
    "SELECT \n",
    "    end_station,\n",
    "    AVG(duration) duration\n",
    "FROM \n",
    "    trips\n",
    "GROUP BY end_station\n",
    "\n"
   ]
  }
 ],
 "metadata": {
  "kernelspec": {
   "display_name": "Python 3",
   "language": "python",
   "name": "python3"
  },
  "language_info": {
   "codemirror_mode": {
    "name": "ipython",
    "version": 3
   },
   "file_extension": ".py",
   "mimetype": "text/x-python",
   "name": "python",
   "nbconvert_exporter": "python",
   "pygments_lexer": "ipython3",
   "version": "3.6.4"
  }
 },
 "nbformat": 4,
 "nbformat_minor": 2
}
