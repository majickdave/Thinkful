{
 "cells": [
  {
   "cell_type": "code",
   "execution_count": null,
   "metadata": {},
   "outputs": [],
   "source": [
    "Evaluating Data Sources\n",
    "\n",
    "#Amsterdam availability data scraped from AirBnB on December 24th. \n",
    "#Question: What are the popular neighborhoods in Amsterdam?\n",
    "\n",
    "This data would be skewed due to exceptional circumstance. The fact that this is right before\n",
    "Christmas may play into which neighborhoods were booked most frequently. It would be difficult\n",
    "to accurately measure vacationers vs. those simply staying local for the holidays. \n",
    "Simply choosing a neutral date would provide better results.\n",
    "\n",
    "#Mental health services use on September 12, 2001 in San Francisco, CA and New York City, NY.\n",
    "#Question: How do patterns of mental health service use vary between cities?\n",
    "\n",
    "This is another example of exceptional circumstance in that due to the 9/11 terrorist attack,\n",
    "which greatly impacted New York City, the use of mental health services would be far greater\n",
    "in New York City than in San Francisco. Similarly to above, simply choosing a neutral data would\n",
    "provide better results.\n",
    "\n",
    "#Armenian Pub Survey. \n",
    "#Question: What are the most common reasons Armenians visit local pubs?\n",
    "\n",
    "In this Armenian Pub Survey, the large majority of respondents are university students. If the\n",
    "question were framed that way, then the primary reason for visiting pubs would actually be more\n",
    "representative of that population.\n",
    "\n",
    "\n"
   ]
  }
 ],
 "metadata": {
  "kernelspec": {
   "display_name": "Python 3",
   "language": "python",
   "name": "python3"
  },
  "language_info": {
   "codemirror_mode": {
    "name": "ipython",
    "version": 3
   },
   "file_extension": ".py",
   "mimetype": "text/x-python",
   "name": "python",
   "nbconvert_exporter": "python",
   "pygments_lexer": "ipython3",
   "version": "3.6.4"
  }
 },
 "nbformat": 4,
 "nbformat_minor": 2
}
