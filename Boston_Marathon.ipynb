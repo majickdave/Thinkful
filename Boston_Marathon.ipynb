{
 "cells": [
  {
   "cell_type": "markdown",
   "metadata": {},
   "source": [
    "# Dataset Overview\n",
    "\n",
    "This dataset represents boston marathon results from 2014. Contains approximately 32000 observations across 21 columns."
   ]
  },
  {
   "cell_type": "code",
   "execution_count": 239,
   "metadata": {},
   "outputs": [],
   "source": [
    "import numpy as np\n",
    "import pandas as pd\n",
    "import scipy\n",
    "import matplotlib.pyplot as plt\n",
    "import seaborn as sns\n",
    "from sklearn.model_selection import train_test_split\n",
    "from sklearn.preprocessing import normalize\n",
    "from sklearn.cluster import KMeans\n",
    "from sklearn.cluster import MeanShift, estimate_bandwidth\n",
    "from sklearn.cluster import SpectralClustering\n",
    "from sklearn.cluster import AffinityPropagation\n",
    "from sklearn import metrics\n",
    "from itertools import cycle\n",
    "from sklearn.decomposition import PCA\n",
    "from sklearn import metrics\n",
    "import re\n",
    "\n",
    "%matplotlib inline"
   ]
  },
  {
   "cell_type": "markdown",
   "metadata": {},
   "source": [
    "# Read Data In"
   ]
  },
  {
   "cell_type": "code",
   "execution_count": 240,
   "metadata": {},
   "outputs": [],
   "source": [
    "boston = pd.read_csv('https://raw.githubusercontent.com/llimllib/bostonmarathon/master/results/2014/results.csv')"
   ]
  },
  {
   "cell_type": "code",
   "execution_count": 241,
   "metadata": {},
   "outputs": [
    {
     "data": {
      "text/plain": [
       "(31984, 21)"
      ]
     },
     "execution_count": 241,
     "metadata": {},
     "output_type": "execute_result"
    }
   ],
   "source": [
    "boston.shape"
   ]
  },
  {
   "cell_type": "code",
   "execution_count": 256,
   "metadata": {},
   "outputs": [
    {
     "data": {
      "text/html": [
       "<div>\n",
       "<style scoped>\n",
       "    .dataframe tbody tr th:only-of-type {\n",
       "        vertical-align: middle;\n",
       "    }\n",
       "\n",
       "    .dataframe tbody tr th {\n",
       "        vertical-align: top;\n",
       "    }\n",
       "\n",
       "    .dataframe thead th {\n",
       "        text-align: right;\n",
       "    }\n",
       "</style>\n",
       "<table border=\"1\" class=\"dataframe\">\n",
       "  <thead>\n",
       "    <tr style=\"text-align: right;\">\n",
       "      <th></th>\n",
       "      <th>10k</th>\n",
       "      <th>name</th>\n",
       "      <th>division</th>\n",
       "      <th>25k</th>\n",
       "      <th>gender</th>\n",
       "      <th>age</th>\n",
       "      <th>official</th>\n",
       "      <th>bib</th>\n",
       "      <th>genderdiv</th>\n",
       "      <th>ctz</th>\n",
       "      <th>...</th>\n",
       "      <th>overall</th>\n",
       "      <th>pace</th>\n",
       "      <th>state</th>\n",
       "      <th>30k</th>\n",
       "      <th>5k</th>\n",
       "      <th>half</th>\n",
       "      <th>20k</th>\n",
       "      <th>country</th>\n",
       "      <th>city</th>\n",
       "      <th>40k</th>\n",
       "    </tr>\n",
       "  </thead>\n",
       "  <tbody>\n",
       "    <tr>\n",
       "      <th>27</th>\n",
       "      <td>18.78</td>\n",
       "      <td>Kim, Gyu Dae</td>\n",
       "      <td>15</td>\n",
       "      <td>50.33</td>\n",
       "      <td>M</td>\n",
       "      <td>30</td>\n",
       "      <td>89.52</td>\n",
       "      <td>W14</td>\n",
       "      <td>15</td>\n",
       "      <td>KOR</td>\n",
       "      <td>...</td>\n",
       "      <td>15</td>\n",
       "      <td>3.42</td>\n",
       "      <td>IL</td>\n",
       "      <td>62.72</td>\n",
       "      <td>8.98</td>\n",
       "      <td>41.82</td>\n",
       "      <td>39.65</td>\n",
       "      <td>USA</td>\n",
       "      <td>Champaign</td>\n",
       "      <td>84.75</td>\n",
       "    </tr>\n",
       "    <tr>\n",
       "      <th>36</th>\n",
       "      <td>19.37</td>\n",
       "      <td>Gordian, Aaron</td>\n",
       "      <td>17</td>\n",
       "      <td>54.20</td>\n",
       "      <td>M</td>\n",
       "      <td>49</td>\n",
       "      <td>95.28</td>\n",
       "      <td>W17</td>\n",
       "      <td>17</td>\n",
       "      <td>MEX</td>\n",
       "      <td>...</td>\n",
       "      <td>18</td>\n",
       "      <td>3.65</td>\n",
       "      <td>AZ</td>\n",
       "      <td>66.62</td>\n",
       "      <td>8.93</td>\n",
       "      <td>44.82</td>\n",
       "      <td>42.47</td>\n",
       "      <td>USA</td>\n",
       "      <td>Phoenix</td>\n",
       "      <td>90.07</td>\n",
       "    </tr>\n",
       "    <tr>\n",
       "      <th>59</th>\n",
       "      <td>21.47</td>\n",
       "      <td>Pulido, Jose Sr.</td>\n",
       "      <td>28</td>\n",
       "      <td>58.30</td>\n",
       "      <td>M</td>\n",
       "      <td>33</td>\n",
       "      <td>104.08</td>\n",
       "      <td>W27</td>\n",
       "      <td>28</td>\n",
       "      <td>MEX</td>\n",
       "      <td>...</td>\n",
       "      <td>34</td>\n",
       "      <td>3.98</td>\n",
       "      <td>GA</td>\n",
       "      <td>72.97</td>\n",
       "      <td>10.08</td>\n",
       "      <td>48.77</td>\n",
       "      <td>46.33</td>\n",
       "      <td>USA</td>\n",
       "      <td>Clarkesville</td>\n",
       "      <td>98.48</td>\n",
       "    </tr>\n",
       "    <tr>\n",
       "      <th>101</th>\n",
       "      <td>30.82</td>\n",
       "      <td>Jami, Segundo O. Sr.</td>\n",
       "      <td>24</td>\n",
       "      <td>78.88</td>\n",
       "      <td>M</td>\n",
       "      <td>27</td>\n",
       "      <td>140.87</td>\n",
       "      <td>45</td>\n",
       "      <td>26</td>\n",
       "      <td>ECU</td>\n",
       "      <td>...</td>\n",
       "      <td>30</td>\n",
       "      <td>5.38</td>\n",
       "      <td>CO</td>\n",
       "      <td>95.97</td>\n",
       "      <td>15.23</td>\n",
       "      <td>66.28</td>\n",
       "      <td>62.78</td>\n",
       "      <td>USA</td>\n",
       "      <td>Boulder</td>\n",
       "      <td>132.67</td>\n",
       "    </tr>\n",
       "    <tr>\n",
       "      <th>110</th>\n",
       "      <td>32.53</td>\n",
       "      <td>Sanca, Ruben</td>\n",
       "      <td>21</td>\n",
       "      <td>81.02</td>\n",
       "      <td>M</td>\n",
       "      <td>27</td>\n",
       "      <td>139.08</td>\n",
       "      <td>50</td>\n",
       "      <td>21</td>\n",
       "      <td>CPV</td>\n",
       "      <td>...</td>\n",
       "      <td>22</td>\n",
       "      <td>5.32</td>\n",
       "      <td>MA</td>\n",
       "      <td>97.65</td>\n",
       "      <td>16.23</td>\n",
       "      <td>68.42</td>\n",
       "      <td>64.95</td>\n",
       "      <td>USA</td>\n",
       "      <td>Lowell</td>\n",
       "      <td>131.40</td>\n",
       "    </tr>\n",
       "  </tbody>\n",
       "</table>\n",
       "<p>5 rows × 21 columns</p>\n",
       "</div>"
      ],
      "text/plain": [
       "       10k                  name  division    25k gender  age  official  bib  \\\n",
       "27   18.78          Kim, Gyu Dae        15  50.33      M   30     89.52  W14   \n",
       "36   19.37        Gordian, Aaron        17  54.20      M   49     95.28  W17   \n",
       "59   21.47      Pulido, Jose Sr.        28  58.30      M   33    104.08  W27   \n",
       "101  30.82  Jami, Segundo O. Sr.        24  78.88      M   27    140.87   45   \n",
       "110  32.53          Sanca, Ruben        21  81.02      M   27    139.08   50   \n",
       "\n",
       "     genderdiv  ctz   ...    overall  pace  state    30k     5k   half    20k  \\\n",
       "27          15  KOR   ...         15  3.42     IL  62.72   8.98  41.82  39.65   \n",
       "36          17  MEX   ...         18  3.65     AZ  66.62   8.93  44.82  42.47   \n",
       "59          28  MEX   ...         34  3.98     GA  72.97  10.08  48.77  46.33   \n",
       "101         26  ECU   ...         30  5.38     CO  95.97  15.23  66.28  62.78   \n",
       "110         21  CPV   ...         22  5.32     MA  97.65  16.23  68.42  64.95   \n",
       "\n",
       "     country          city     40k  \n",
       "27       USA     Champaign   84.75  \n",
       "36       USA       Phoenix   90.07  \n",
       "59       USA  Clarkesville   98.48  \n",
       "101      USA       Boulder  132.67  \n",
       "110      USA        Lowell  131.40  \n",
       "\n",
       "[5 rows x 21 columns]"
      ]
     },
     "execution_count": 256,
     "metadata": {},
     "output_type": "execute_result"
    }
   ],
   "source": [
    "boston.head(5)"
   ]
  },
  {
   "cell_type": "code",
   "execution_count": 243,
   "metadata": {},
   "outputs": [
    {
     "data": {
      "text/plain": [
       "['10k',\n",
       " 'name',\n",
       " 'division',\n",
       " '25k',\n",
       " 'gender',\n",
       " 'age',\n",
       " 'official',\n",
       " 'bib',\n",
       " 'genderdiv',\n",
       " 'ctz',\n",
       " '35k',\n",
       " 'overall',\n",
       " 'pace',\n",
       " 'state',\n",
       " '30k',\n",
       " '5k',\n",
       " 'half',\n",
       " '20k',\n",
       " 'country',\n",
       " 'city',\n",
       " '40k']"
      ]
     },
     "execution_count": 243,
     "metadata": {},
     "output_type": "execute_result"
    }
   ],
   "source": [
    "list(boston.columns)"
   ]
  },
  {
   "cell_type": "code",
   "execution_count": 244,
   "metadata": {},
   "outputs": [
    {
     "data": {
      "text/plain": [
       "10k           object\n",
       "name          object\n",
       "division       int64\n",
       "25k           object\n",
       "gender        object\n",
       "age            int64\n",
       "official     float64\n",
       "bib           object\n",
       "genderdiv      int64\n",
       "ctz           object\n",
       "35k           object\n",
       "overall        int64\n",
       "pace         float64\n",
       "state         object\n",
       "30k           object\n",
       "5k            object\n",
       "half          object\n",
       "20k           object\n",
       "country       object\n",
       "city          object\n",
       "40k           object\n",
       "dtype: object"
      ]
     },
     "execution_count": 244,
     "metadata": {},
     "output_type": "execute_result"
    }
   ],
   "source": [
    "boston.dtypes"
   ]
  },
  {
   "cell_type": "code",
   "execution_count": 245,
   "metadata": {},
   "outputs": [
    {
     "data": {
      "text/html": [
       "<div>\n",
       "<style scoped>\n",
       "    .dataframe tbody tr th:only-of-type {\n",
       "        vertical-align: middle;\n",
       "    }\n",
       "\n",
       "    .dataframe tbody tr th {\n",
       "        vertical-align: top;\n",
       "    }\n",
       "\n",
       "    .dataframe thead th {\n",
       "        text-align: right;\n",
       "    }\n",
       "</style>\n",
       "<table border=\"1\" class=\"dataframe\">\n",
       "  <thead>\n",
       "    <tr style=\"text-align: right;\">\n",
       "      <th></th>\n",
       "      <th>division</th>\n",
       "      <th>age</th>\n",
       "      <th>official</th>\n",
       "      <th>genderdiv</th>\n",
       "      <th>overall</th>\n",
       "      <th>pace</th>\n",
       "    </tr>\n",
       "  </thead>\n",
       "  <tbody>\n",
       "    <tr>\n",
       "      <th>count</th>\n",
       "      <td>31984.000000</td>\n",
       "      <td>31984.000000</td>\n",
       "      <td>31984.000000</td>\n",
       "      <td>31984.000000</td>\n",
       "      <td>31984.000000</td>\n",
       "      <td>31984.000000</td>\n",
       "    </tr>\n",
       "    <tr>\n",
       "      <th>mean</th>\n",
       "      <td>1932.563032</td>\n",
       "      <td>42.407079</td>\n",
       "      <td>242.997314</td>\n",
       "      <td>8051.044741</td>\n",
       "      <td>15939.587825</td>\n",
       "      <td>9.275658</td>\n",
       "    </tr>\n",
       "    <tr>\n",
       "      <th>std</th>\n",
       "      <td>1715.228694</td>\n",
       "      <td>11.316496</td>\n",
       "      <td>52.300431</td>\n",
       "      <td>4754.005626</td>\n",
       "      <td>9232.978224</td>\n",
       "      <td>1.992486</td>\n",
       "    </tr>\n",
       "    <tr>\n",
       "      <th>min</th>\n",
       "      <td>1.000000</td>\n",
       "      <td>18.000000</td>\n",
       "      <td>80.600000</td>\n",
       "      <td>1.000000</td>\n",
       "      <td>1.000000</td>\n",
       "      <td>3.080000</td>\n",
       "    </tr>\n",
       "    <tr>\n",
       "      <th>25%</th>\n",
       "      <td>610.000000</td>\n",
       "      <td>33.000000</td>\n",
       "      <td>205.527500</td>\n",
       "      <td>3972.000000</td>\n",
       "      <td>7943.750000</td>\n",
       "      <td>7.850000</td>\n",
       "    </tr>\n",
       "    <tr>\n",
       "      <th>50%</th>\n",
       "      <td>1425.000000</td>\n",
       "      <td>42.000000</td>\n",
       "      <td>232.370000</td>\n",
       "      <td>7970.000000</td>\n",
       "      <td>15939.500000</td>\n",
       "      <td>8.870000</td>\n",
       "    </tr>\n",
       "    <tr>\n",
       "      <th>75%</th>\n",
       "      <td>2611.000000</td>\n",
       "      <td>50.000000</td>\n",
       "      <td>273.235000</td>\n",
       "      <td>11968.000000</td>\n",
       "      <td>23935.250000</td>\n",
       "      <td>10.430000</td>\n",
       "    </tr>\n",
       "    <tr>\n",
       "      <th>max</th>\n",
       "      <td>6979.000000</td>\n",
       "      <td>81.000000</td>\n",
       "      <td>538.880000</td>\n",
       "      <td>17575.000000</td>\n",
       "      <td>31931.000000</td>\n",
       "      <td>20.570000</td>\n",
       "    </tr>\n",
       "  </tbody>\n",
       "</table>\n",
       "</div>"
      ],
      "text/plain": [
       "           division           age      official     genderdiv       overall  \\\n",
       "count  31984.000000  31984.000000  31984.000000  31984.000000  31984.000000   \n",
       "mean    1932.563032     42.407079    242.997314   8051.044741  15939.587825   \n",
       "std     1715.228694     11.316496     52.300431   4754.005626   9232.978224   \n",
       "min        1.000000     18.000000     80.600000      1.000000      1.000000   \n",
       "25%      610.000000     33.000000    205.527500   3972.000000   7943.750000   \n",
       "50%     1425.000000     42.000000    232.370000   7970.000000  15939.500000   \n",
       "75%     2611.000000     50.000000    273.235000  11968.000000  23935.250000   \n",
       "max     6979.000000     81.000000    538.880000  17575.000000  31931.000000   \n",
       "\n",
       "               pace  \n",
       "count  31984.000000  \n",
       "mean       9.275658  \n",
       "std        1.992486  \n",
       "min        3.080000  \n",
       "25%        7.850000  \n",
       "50%        8.870000  \n",
       "75%       10.430000  \n",
       "max       20.570000  "
      ]
     },
     "execution_count": 245,
     "metadata": {},
     "output_type": "execute_result"
    }
   ],
   "source": [
    "boston.describe()"
   ]
  },
  {
   "cell_type": "markdown",
   "metadata": {},
   "source": [
    "# Exploratory Analysis"
   ]
  },
  {
   "cell_type": "code",
   "execution_count": 248,
   "metadata": {},
   "outputs": [
    {
     "data": {
      "text/html": [
       "<div>\n",
       "<style scoped>\n",
       "    .dataframe tbody tr th:only-of-type {\n",
       "        vertical-align: middle;\n",
       "    }\n",
       "\n",
       "    .dataframe tbody tr th {\n",
       "        vertical-align: top;\n",
       "    }\n",
       "\n",
       "    .dataframe thead th {\n",
       "        text-align: right;\n",
       "    }\n",
       "</style>\n",
       "<table border=\"1\" class=\"dataframe\">\n",
       "  <thead>\n",
       "    <tr style=\"text-align: right;\">\n",
       "      <th></th>\n",
       "      <th>10k</th>\n",
       "      <th>name</th>\n",
       "      <th>division</th>\n",
       "      <th>25k</th>\n",
       "      <th>gender</th>\n",
       "      <th>age</th>\n",
       "      <th>official</th>\n",
       "      <th>bib</th>\n",
       "      <th>genderdiv</th>\n",
       "      <th>ctz</th>\n",
       "      <th>...</th>\n",
       "      <th>overall</th>\n",
       "      <th>pace</th>\n",
       "      <th>state</th>\n",
       "      <th>30k</th>\n",
       "      <th>5k</th>\n",
       "      <th>half</th>\n",
       "      <th>20k</th>\n",
       "      <th>country</th>\n",
       "      <th>city</th>\n",
       "      <th>40k</th>\n",
       "    </tr>\n",
       "  </thead>\n",
       "  <tbody>\n",
       "    <tr>\n",
       "      <th>0</th>\n",
       "      <td>17.37</td>\n",
       "      <td>Yamamoto, Hiroyuki</td>\n",
       "      <td>8</td>\n",
       "      <td>47.67</td>\n",
       "      <td>M</td>\n",
       "      <td>47</td>\n",
       "      <td>85.25</td>\n",
       "      <td>W1</td>\n",
       "      <td>8</td>\n",
       "      <td>NaN</td>\n",
       "      <td>...</td>\n",
       "      <td>8</td>\n",
       "      <td>3.27</td>\n",
       "      <td>NaN</td>\n",
       "      <td>59.18</td>\n",
       "      <td>8.02</td>\n",
       "      <td>39.72</td>\n",
       "      <td>37.65</td>\n",
       "      <td>JPN</td>\n",
       "      <td>Fukuoka</td>\n",
       "      <td>80.43</td>\n",
       "    </tr>\n",
       "    <tr>\n",
       "      <th>1</th>\n",
       "      <td>32.58</td>\n",
       "      <td>Jeptoo, Rita</td>\n",
       "      <td>1</td>\n",
       "      <td>82.43</td>\n",
       "      <td>F</td>\n",
       "      <td>33</td>\n",
       "      <td>138.95</td>\n",
       "      <td>F1</td>\n",
       "      <td>1</td>\n",
       "      <td>NaN</td>\n",
       "      <td>...</td>\n",
       "      <td>21</td>\n",
       "      <td>5.30</td>\n",
       "      <td>NaN</td>\n",
       "      <td>99.33</td>\n",
       "      <td>16.22</td>\n",
       "      <td>69.47</td>\n",
       "      <td>65.83</td>\n",
       "      <td>KEN</td>\n",
       "      <td>Eldoret</td>\n",
       "      <td>132.10</td>\n",
       "    </tr>\n",
       "    <tr>\n",
       "      <th>2</th>\n",
       "      <td>16.62</td>\n",
       "      <td>Van Dyk, Ernst F.</td>\n",
       "      <td>1</td>\n",
       "      <td>45.80</td>\n",
       "      <td>M</td>\n",
       "      <td>41</td>\n",
       "      <td>80.60</td>\n",
       "      <td>W2</td>\n",
       "      <td>1</td>\n",
       "      <td>NaN</td>\n",
       "      <td>...</td>\n",
       "      <td>1</td>\n",
       "      <td>3.08</td>\n",
       "      <td>NaN</td>\n",
       "      <td>56.45</td>\n",
       "      <td>7.75</td>\n",
       "      <td>38.03</td>\n",
       "      <td>36.10</td>\n",
       "      <td>RSA</td>\n",
       "      <td>Paarl</td>\n",
       "      <td>76.10</td>\n",
       "    </tr>\n",
       "    <tr>\n",
       "      <th>3</th>\n",
       "      <td>32.57</td>\n",
       "      <td>Dibaba, Mare</td>\n",
       "      <td>3</td>\n",
       "      <td>82.43</td>\n",
       "      <td>F</td>\n",
       "      <td>24</td>\n",
       "      <td>140.58</td>\n",
       "      <td>F2</td>\n",
       "      <td>3</td>\n",
       "      <td>NaN</td>\n",
       "      <td>...</td>\n",
       "      <td>27</td>\n",
       "      <td>5.37</td>\n",
       "      <td>NaN</td>\n",
       "      <td>99.33</td>\n",
       "      <td>16.20</td>\n",
       "      <td>69.47</td>\n",
       "      <td>65.83</td>\n",
       "      <td>ETH</td>\n",
       "      <td>Shoa</td>\n",
       "      <td>132.95</td>\n",
       "    </tr>\n",
       "    <tr>\n",
       "      <th>4</th>\n",
       "      <td>17.12</td>\n",
       "      <td>Hokinoue, Kota</td>\n",
       "      <td>2</td>\n",
       "      <td>46.37</td>\n",
       "      <td>M</td>\n",
       "      <td>40</td>\n",
       "      <td>81.23</td>\n",
       "      <td>W3</td>\n",
       "      <td>2</td>\n",
       "      <td>NaN</td>\n",
       "      <td>...</td>\n",
       "      <td>2</td>\n",
       "      <td>3.10</td>\n",
       "      <td>NaN</td>\n",
       "      <td>57.03</td>\n",
       "      <td>8.02</td>\n",
       "      <td>38.60</td>\n",
       "      <td>36.58</td>\n",
       "      <td>JPN</td>\n",
       "      <td>Nogata Fukuoka</td>\n",
       "      <td>76.72</td>\n",
       "    </tr>\n",
       "  </tbody>\n",
       "</table>\n",
       "<p>5 rows × 21 columns</p>\n",
       "</div>"
      ],
      "text/plain": [
       "     10k                name  division    25k gender  age  official bib  \\\n",
       "0  17.37  Yamamoto, Hiroyuki         8  47.67      M   47     85.25  W1   \n",
       "1  32.58        Jeptoo, Rita         1  82.43      F   33    138.95  F1   \n",
       "2  16.62   Van Dyk, Ernst F.         1  45.80      M   41     80.60  W2   \n",
       "3  32.57        Dibaba, Mare         3  82.43      F   24    140.58  F2   \n",
       "4  17.12      Hokinoue, Kota         2  46.37      M   40     81.23  W3   \n",
       "\n",
       "   genderdiv  ctz   ...    overall  pace  state    30k     5k   half    20k  \\\n",
       "0          8  NaN   ...          8  3.27    NaN  59.18   8.02  39.72  37.65   \n",
       "1          1  NaN   ...         21  5.30    NaN  99.33  16.22  69.47  65.83   \n",
       "2          1  NaN   ...          1  3.08    NaN  56.45   7.75  38.03  36.10   \n",
       "3          3  NaN   ...         27  5.37    NaN  99.33  16.20  69.47  65.83   \n",
       "4          2  NaN   ...          2  3.10    NaN  57.03   8.02  38.60  36.58   \n",
       "\n",
       "   country            city     40k  \n",
       "0      JPN         Fukuoka   80.43  \n",
       "1      KEN         Eldoret  132.10  \n",
       "2      RSA           Paarl   76.10  \n",
       "3      ETH            Shoa  132.95  \n",
       "4      JPN  Nogata Fukuoka   76.72  \n",
       "\n",
       "[5 rows x 21 columns]"
      ]
     },
     "metadata": {},
     "output_type": "display_data"
    }
   ],
   "source": [
    "# # First remove '-' from all columns\n",
    "\n",
    "def non_decimal(x):\n",
    "    x = str(x)\n",
    "    if x.find('-') != -1:\n",
    "        return np.nan\n",
    "    else:\n",
    "        return float(x)\n",
    "\n",
    "boston['5k'] = boston['5k'].apply(non_decimal)    \n",
    "boston['10k'] = boston['10k'].apply(non_decimal)\n",
    "boston['20k'] = boston['20k'].apply(non_decimal)\n",
    "boston['25k'] = boston['25k'].apply(non_decimal)\n",
    "boston['half'] = boston['half'].apply(non_decimal)\n",
    "boston['30k'] = boston['30k'].apply(non_decimal)\n",
    "boston['35k'] = boston['35k'].apply(non_decimal)\n",
    "boston['40k'] = boston['40k'].apply(non_decimal)\n",
    "boston['official'] = boston['official'].apply(non_decimal)\n",
    "\n",
    "display(boston.head(5))"
   ]
  },
  {
   "cell_type": "code",
   "execution_count": 255,
   "metadata": {},
   "outputs": [
    {
     "data": {
      "image/png": "[encoded data removed]",
      "text/plain": [
       "<matplotlib.figure.Figure at 0x1a3203a128>"
      ]
     },
     "metadata": {},
     "output_type": "display_data"
    },
    {
     "data": {
      "image/png": "[encoded data removed]",
      "text/plain": [
       "<matplotlib.figure.Figure at 0x1a2fb92898>"
      ]
     },
     "metadata": {},
     "output_type": "display_data"
    },
    {
     "data": {
      "image/png": "[encoded data removed]",
      "text/plain": [
       "<matplotlib.figure.Figure at 0x1a31f50780>"
      ]
     },
     "metadata": {},
     "output_type": "display_data"
    },
    {
     "data": {
      "image/png": "[encoded data removed]",
      "text/plain": [
       "<matplotlib.figure.Figure at 0x1a32b7be10>"
      ]
     },
     "metadata": {},
     "output_type": "display_data"
    },
    {
     "data": {
      "image/png": "[encoded data removed]",
      "text/plain": [
       "<matplotlib.figure.Figure at 0x1a32c5ce48>"
      ]
     },
     "metadata": {},
     "output_type": "display_data"
    },
    {
     "data": {
      "image/png": "[encoded data removed]",
      "text/plain": [
       "<matplotlib.figure.Figure at 0x1a32d37550>"
      ]
     },
     "metadata": {},
     "output_type": "display_data"
    },
    {
     "data": {
      "image/png": "[encoded data removed]",
      "text/plain": [
       "<matplotlib.figure.Figure at 0x1a32d72588>"
      ]
     },
     "metadata": {},
     "output_type": "display_data"
    },
    {
     "data": {
      "image/png": "[encoded data removed]",
      "text/plain": [
       "<matplotlib.figure.Figure at 0x1a32f04898>"
      ]
     },
     "metadata": {},
     "output_type": "display_data"
    },
    {
     "data": {
      "image/png": "[encoded data removed]",
      "text/plain": [
       "<matplotlib.figure.Figure at 0x1a32ef3358>"
      ]
     },
     "metadata": {},
     "output_type": "display_data"
    },
    {
     "data": {
      "image/png": "[encoded data removed]",
      "text/plain": [
       "<matplotlib.figure.Figure at 0x1a330d3be0>"
      ]
     },
     "metadata": {},
     "output_type": "display_data"
    }
   ],
   "source": [
    "# Plot histograms for all continuous data\n",
    "for col in boston.dtypes[boston.dtypes == 'float64'].index:\n",
    "    boston[col].hist()\n",
    "    plt.title(col + \" Distribution\")\n",
    "    plt.xlabel(col + \" Values\")\n",
    "    plt.ylabel(\"Count\")\n",
    "    plt.show()"
   ]
  },
  {
   "cell_type": "code",
   "execution_count": null,
   "metadata": {},
   "outputs": [],
   "source": [
    "#Age vs. Overall"
   ]
  },
  {
   "cell_type": "code",
   "execution_count": null,
   "metadata": {},
   "outputs": [],
   "source": [
    "#Age/Gender vs. Pace"
   ]
  },
  {
   "cell_type": "code",
   "execution_count": null,
   "metadata": {},
   "outputs": [],
   "source": [
    "#Countplot of country with gender"
   ]
  },
  {
   "cell_type": "markdown",
   "metadata": {},
   "source": [
    "# Data Cleaning"
   ]
  },
  {
   "cell_type": "code",
   "execution_count": 251,
   "metadata": {},
   "outputs": [
    {
     "name": "stdout",
     "output_type": "stream",
     "text": [
      "10k             50\n",
      "name             0\n",
      "division         0\n",
      "25k            216\n",
      "gender           0\n",
      "age              0\n",
      "official         0\n",
      "bib              0\n",
      "genderdiv        0\n",
      "ctz          30740\n",
      "35k             34\n",
      "overall          0\n",
      "pace             0\n",
      "state         2576\n",
      "30k             40\n",
      "5k              52\n",
      "half            72\n",
      "20k             51\n",
      "country          0\n",
      "city             1\n",
      "40k             39\n",
      "dtype: int64\n"
     ]
    }
   ],
   "source": [
    "#Determine missing values across dataframe\n",
    "\n",
    "missing_values_count = boston.isnull().sum()\n",
    "print(missing_values_count)"
   ]
  },
  {
   "cell_type": "code",
   "execution_count": 252,
   "metadata": {},
   "outputs": [],
   "source": [
    "#Drop null values\n",
    "boston = boston.dropna()"
   ]
  },
  {
   "cell_type": "code",
   "execution_count": 253,
   "metadata": {},
   "outputs": [
    {
     "name": "stdout",
     "output_type": "stream",
     "text": [
      "name\n",
      "957\n",
      "gender\n",
      "2\n",
      "bib\n",
      "957\n",
      "ctz\n",
      "81\n",
      "state\n",
      "50\n",
      "country\n",
      "2\n",
      "city\n",
      "472\n"
     ]
    }
   ],
   "source": [
    "categorical = boston.select_dtypes(include=['object'])\n",
    "for i in categorical:\n",
    "    column = categorical[i]\n",
    "    print(i)\n",
    "    print(column.nunique())"
   ]
  },
  {
   "cell_type": "code",
   "execution_count": null,
   "metadata": {},
   "outputs": [],
   "source": [
    "#Remove columns with many unique values, for perfomance purposes - name, bib, ctz, city\n",
    "#Drop features\n",
    "\n",
    "boston = boston.drop(['name'], 1)\n",
    "boston = boston.drop(['bib'], 1)\n",
    "boston = boston.drop(['ctz'], 1)\n",
    "boston = boston.drop(['city'], 1)"
   ]
  },
  {
   "cell_type": "markdown",
   "metadata": {},
   "source": [
    "# Use K Means to Estimate Clusters"
   ]
  },
  {
   "cell_type": "code",
   "execution_count": 235,
   "metadata": {},
   "outputs": [
    {
     "ename": "ValueError",
     "evalue": "could not convert string to float: '-'",
     "output_type": "error",
     "traceback": [
      "\u001b[0;31m---------------------------------------------------------------------------\u001b[0m",
      "\u001b[0;31mValueError\u001b[0m                                Traceback (most recent call last)",
      "\u001b[0;32m<ipython-input-235-d935316478ac>\u001b[0m in \u001b[0;36m<module>\u001b[0;34m()\u001b[0m\n\u001b[1;32m      2\u001b[0m \u001b[0;34m\u001b[0m\u001b[0m\n\u001b[1;32m      3\u001b[0m \u001b[0mX\u001b[0m \u001b[0;34m=\u001b[0m \u001b[0mboston\u001b[0m\u001b[0;34m.\u001b[0m\u001b[0mloc\u001b[0m\u001b[0;34m[\u001b[0m\u001b[0;34m:\u001b[0m\u001b[0;34m,\u001b[0m \u001b[0;34m~\u001b[0m\u001b[0;34m(\u001b[0m\u001b[0mboston\u001b[0m\u001b[0;34m.\u001b[0m\u001b[0mcolumns\u001b[0m\u001b[0;34m)\u001b[0m\u001b[0;34m.\u001b[0m\u001b[0misin\u001b[0m\u001b[0;34m(\u001b[0m\u001b[0;34m[\u001b[0m\u001b[0;34m'name'\u001b[0m\u001b[0;34m,\u001b[0m \u001b[0;34m'division'\u001b[0m\u001b[0;34m,\u001b[0m \u001b[0;34m'gender'\u001b[0m\u001b[0;34m,\u001b[0m \u001b[0;34m'bib'\u001b[0m\u001b[0;34m,\u001b[0m \u001b[0;34m'genderdiv'\u001b[0m\u001b[0;34m,\u001b[0m \u001b[0;34m'ctz'\u001b[0m\u001b[0;34m,\u001b[0m \u001b[0;34m'overall'\u001b[0m\u001b[0;34m,\u001b[0m \u001b[0;34m'state'\u001b[0m\u001b[0;34m,\u001b[0m \u001b[0;34m'country'\u001b[0m\u001b[0;34m,\u001b[0m \u001b[0;34m'city'\u001b[0m\u001b[0;34m]\u001b[0m\u001b[0;34m)\u001b[0m\u001b[0;34m]\u001b[0m\u001b[0;34m\u001b[0m\u001b[0m\n\u001b[0;32m----> 4\u001b[0;31m \u001b[0mX\u001b[0m \u001b[0;34m=\u001b[0m \u001b[0mnormalize\u001b[0m\u001b[0;34m(\u001b[0m\u001b[0mX\u001b[0m\u001b[0;34m)\u001b[0m\u001b[0;34m\u001b[0m\u001b[0m\n\u001b[0m\u001b[1;32m      5\u001b[0m X_train, X_test = train_test_split(\n\u001b[1;32m      6\u001b[0m     \u001b[0mX\u001b[0m\u001b[0;34m,\u001b[0m\u001b[0;34m\u001b[0m\u001b[0m\n",
      "\u001b[0;32m~/anaconda3/lib/python3.6/site-packages/sklearn/preprocessing/data.py\u001b[0m in \u001b[0;36mnormalize\u001b[0;34m(X, norm, axis, copy, return_norm)\u001b[0m\n\u001b[1;32m   1410\u001b[0m \u001b[0;34m\u001b[0m\u001b[0m\n\u001b[1;32m   1411\u001b[0m     X = check_array(X, sparse_format, copy=copy,\n\u001b[0;32m-> 1412\u001b[0;31m                     estimator='the normalize function', dtype=FLOAT_DTYPES)\n\u001b[0m\u001b[1;32m   1413\u001b[0m     \u001b[0;32mif\u001b[0m \u001b[0maxis\u001b[0m \u001b[0;34m==\u001b[0m \u001b[0;36m0\u001b[0m\u001b[0;34m:\u001b[0m\u001b[0;34m\u001b[0m\u001b[0m\n\u001b[1;32m   1414\u001b[0m         \u001b[0mX\u001b[0m \u001b[0;34m=\u001b[0m \u001b[0mX\u001b[0m\u001b[0;34m.\u001b[0m\u001b[0mT\u001b[0m\u001b[0;34m\u001b[0m\u001b[0m\n",
      "\u001b[0;32m~/anaconda3/lib/python3.6/site-packages/sklearn/utils/validation.py\u001b[0m in \u001b[0;36mcheck_array\u001b[0;34m(array, accept_sparse, dtype, order, copy, force_all_finite, ensure_2d, allow_nd, ensure_min_samples, ensure_min_features, warn_on_dtype, estimator)\u001b[0m\n\u001b[1;32m    431\u001b[0m                                       force_all_finite)\n\u001b[1;32m    432\u001b[0m     \u001b[0;32melse\u001b[0m\u001b[0;34m:\u001b[0m\u001b[0;34m\u001b[0m\u001b[0m\n\u001b[0;32m--> 433\u001b[0;31m         \u001b[0marray\u001b[0m \u001b[0;34m=\u001b[0m \u001b[0mnp\u001b[0m\u001b[0;34m.\u001b[0m\u001b[0marray\u001b[0m\u001b[0;34m(\u001b[0m\u001b[0marray\u001b[0m\u001b[0;34m,\u001b[0m \u001b[0mdtype\u001b[0m\u001b[0;34m=\u001b[0m\u001b[0mdtype\u001b[0m\u001b[0;34m,\u001b[0m \u001b[0morder\u001b[0m\u001b[0;34m=\u001b[0m\u001b[0morder\u001b[0m\u001b[0;34m,\u001b[0m \u001b[0mcopy\u001b[0m\u001b[0;34m=\u001b[0m\u001b[0mcopy\u001b[0m\u001b[0;34m)\u001b[0m\u001b[0;34m\u001b[0m\u001b[0m\n\u001b[0m\u001b[1;32m    434\u001b[0m \u001b[0;34m\u001b[0m\u001b[0m\n\u001b[1;32m    435\u001b[0m         \u001b[0;32mif\u001b[0m \u001b[0mensure_2d\u001b[0m\u001b[0;34m:\u001b[0m\u001b[0;34m\u001b[0m\u001b[0m\n",
      "\u001b[0;31mValueError\u001b[0m: could not convert string to float: '-'"
     ]
    }
   ],
   "source": [
    "#Establish training/test sets\n",
    "\n",
    "#Use get dummies for categoricals. Also need to only normalize float/int features. Maybe create a df and append?\n",
    "\n",
    "X = boston.loc[:, ~(boston.columns).isin(['division', 'gender', 'genderdiv', 'overall', 'state', 'country'])]\n",
    "X = normalize(X)\n",
    "X_train, X_test = train_test_split(\n",
    "    X,\n",
    "    test_size=0.9,\n",
    "    random_state=42)\n",
    "\n",
    "#Declare and fit the model.\n",
    "kmeans = KMeans(n_clusters=3, random_state=42)\n",
    "kmeans.fit(X_train)\n",
    "\n",
    "#Extract cluster assignments for each data point.\n",
    "labels = pd.Series(kmeans.labels_)\n",
    "boston['labels'] = boston.append(labels, ignore_index=True)\n",
    "\n",
    "#boston['labels'] = kmeans.predict(X_train)\n",
    "#boston['labels'] = kmeans.labels_\n",
    "\n",
    "#Plot our clusters.\n",
    "plt.scatter(X_train[:, 0], X_train[:, 1], c=labels)\n",
    "plt.show()"
   ]
  },
  {
   "cell_type": "code",
   "execution_count": null,
   "metadata": {},
   "outputs": [],
   "source": []
  }
 ],
 "metadata": {
  "kernelspec": {
   "display_name": "Python 3",
   "language": "python",
   "name": "python3"
  },
  "language_info": {
   "codemirror_mode": {
    "name": "ipython",
    "version": 3
   },
   "file_extension": ".py",
   "mimetype": "text/x-python",
   "name": "python",
   "nbconvert_exporter": "python",
   "pygments_lexer": "ipython3",
   "version": "3.6.4"
  }
 },
 "nbformat": 4,
 "nbformat_minor": 2
}
